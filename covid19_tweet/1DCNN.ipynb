{
  "nbformat": 4,
  "nbformat_minor": 0,
  "metadata": {
    "colab": {
      "name": "Untitled40.ipynb",
      "provenance": [],
      "authorship_tag": "ABX9TyNCunHyDZNEALgzq/XDsVRr",
      "include_colab_link": true
    },
    "kernelspec": {
      "name": "python3",
      "display_name": "Python 3"
    },
    "language_info": {
      "name": "python"
    }
  },
  "cells": [
    {
      "cell_type": "markdown",
      "metadata": {
        "id": "view-in-github",
        "colab_type": "text"
      },
      "source": [
        "<a href=\"https://colab.research.google.com/github/Vaycold/statistics_seminar/blob/main/covid19_tweet/1DCNN.ipynb\" target=\"_parent\"><img src=\"https://colab.research.google.com/assets/colab-badge.svg\" alt=\"Open In Colab\"/></a>"
      ]
    },
    {
      "cell_type": "code",
      "metadata": {
        "colab": {
          "base_uri": "https://localhost:8080/"
        },
        "id": "xMZqGwLal7Tq",
        "outputId": "c28e25b6-56f9-4d34-ce6b-d10639f01bb1"
      },
      "source": [
        "import os\n",
        "\n",
        "import numpy as np\n",
        "import pandas as pd\n",
        "import matplotlib.pyplot as plt\n",
        "import warnings \n",
        "import re\n",
        "\n",
        "import nltk\n",
        "from nltk.corpus import stopwords\n",
        "from nltk.tokenize import word_tokenize\n",
        "from nltk.stem import WordNetLemmatizer\n",
        "\n",
        "import tensorflow as tf\n",
        "from tensorflow import keras\n",
        "from keras.preprocessing.sequence import pad_sequences\n",
        "from keras.preprocessing.text import Tokenizer    \n",
        "from google.colab import files\n",
        "\n",
        "from sklearn.feature_extraction.text import TfidfVectorizer\n",
        "from sklearn.model_selection import StratifiedKFold\n",
        "from sklearn.metrics import f1_score, accuracy_score\n",
        "from sklearn.model_selection import train_test_split\n",
        "\n",
        "from keras.models import Sequential, Model\n",
        "from keras.layers.core import Activation, Dropout, Dense\n",
        "from keras.layers import Flatten, LSTM, GlobalAveragePooling1D, Input\n",
        "from keras.layers.embeddings import Embedding\n",
        "from keras.layers.merge import Concatenate\n",
        "\n",
        "\n",
        "warnings.filterwarnings('ignore')\n",
        "\n",
        "os.environ['KAGGLE_USERNAME'] = 'kimgodbang'\n",
        "os.environ['KAGGLE_KEY'] = '1c0e1716b23829d4381dcbced37ba49b'\n",
        "\n",
        "!rm *.*\n",
        "!kaggle competitions download -c sentiment-analysis-of-covid-19-related-tweets\n",
        "\n",
        "train_df = pd.read_csv('training.csv')\n",
        "test_df = pd.read_csv('validation.csv')\n",
        "\n",
        "for module in ['stopwords', 'punkt', 'wordnet'] :\n",
        "    nltk.download(module)"
      ],
      "execution_count": 1,
      "outputs": [
        {
          "output_type": "stream",
          "text": [
            "rm: cannot remove '*.*': No such file or directory\n",
            "Warning: Looks like you're using an outdated API Version, please consider updating (server 1.5.12 / client 1.5.4)\n",
            "Downloading training.csv to /content\n",
            "  0% 0.00/518k [00:00<?, ?B/s]\n",
            "100% 518k/518k [00:00<00:00, 34.1MB/s]\n",
            "Downloading validation.csv to /content\n",
            "  0% 0.00/254k [00:00<?, ?B/s]\n",
            "100% 254k/254k [00:00<00:00, 83.9MB/s]\n",
            "[nltk_data] Downloading package stopwords to /root/nltk_data...\n",
            "[nltk_data]   Unzipping corpora/stopwords.zip.\n",
            "[nltk_data] Downloading package punkt to /root/nltk_data...\n",
            "[nltk_data]   Unzipping tokenizers/punkt.zip.\n",
            "[nltk_data] Downloading package wordnet to /root/nltk_data...\n",
            "[nltk_data]   Unzipping corpora/wordnet.zip.\n"
          ],
          "name": "stdout"
        }
      ]
    },
    {
      "cell_type": "code",
      "metadata": {
        "id": "dZE4g20Smd13"
      },
      "source": [
        "def labelsplit(labels) :\n",
        "    \n",
        "    label = labels.replace(' ',',').split(',')\n",
        "    for idx, lab in enumerate(label) :\n",
        "        label[idx] = int(lab)\n",
        "    return label"
      ],
      "execution_count": 2,
      "outputs": []
    },
    {
      "cell_type": "code",
      "metadata": {
        "id": "WDV_duLnTTZI"
      },
      "source": [
        "train_df['label']  = train_df['Labels'].apply(lambda x :  labelsplit(x))"
      ],
      "execution_count": 3,
      "outputs": []
    },
    {
      "cell_type": "code",
      "metadata": {
        "id": "G1k6WG7kTV7V"
      },
      "source": [
        "onehot = np.zeros((5000,11))\n",
        "for i in range(5000) : # 0~5000 row\n",
        "    for j in train_df.label[i] : # j = value   \n",
        "        onehot[i,j]  = 1\n",
        "cols_target = ['0','1','2','3','4','5','6','7','8','9','10']\n",
        "onehot = pd.DataFrame(onehot, columns=cols_target)"
      ],
      "execution_count": 4,
      "outputs": []
    },
    {
      "cell_type": "code",
      "metadata": {
        "id": "TFikCUrtTYoQ"
      },
      "source": [
        "train_df = pd.concat(\n",
        "    [train_df, onehot], axis=1\n",
        ").drop(['ID','Labels', 'label'],axis=1)"
      ],
      "execution_count": 5,
      "outputs": []
    },
    {
      "cell_type": "markdown",
      "metadata": {
        "id": "X9iY7aUraIcU"
      },
      "source": [
        "## EDA"
      ]
    },
    {
      "cell_type": "code",
      "metadata": {
        "colab": {
          "base_uri": "https://localhost:8080/",
          "height": 375
        },
        "id": "_-V9ztmOaIB1",
        "outputId": "ecf2a4bb-d2c1-417f-e498-24549f2d32d0"
      },
      "source": [
        "# 단어의 갯수\n",
        "\n",
        "word_count = train_df['Tweet'].apply(lambda x : len(x.split(' ')))\n",
        "print(f' Tweet 중 단어가 가장 많은 tweet의 단어 수 : {np.max(word_count)}')\n",
        "print(f' Tweet 중 단어가 가장 적은 tweet의 단어 수 : {np.min(word_count)}')\n",
        "print(f' 평균 tweet 의 길이 : {np.mean(word_count)}')\n",
        "print(f' tweet 의 길이의 중간값 : {np.median(word_count)}')\n",
        "print('\\n')\n",
        "plt.hist(word_count, bins=30)\n",
        "plt.show()"
      ],
      "execution_count": 6,
      "outputs": [
        {
          "output_type": "stream",
          "text": [
            " Tweet 중 단어가 가장 많은 tweet의 단어 수 : 30\n",
            " Tweet 중 단어가 가장 적은 tweet의 단어 수 : 1\n",
            " 평균 tweet 의 길이 : 16.9214\n",
            " tweet 의 길이의 중간값 : 17.0\n",
            "\n",
            "\n"
          ],
          "name": "stdout"
        },
        {
          "output_type": "display_data",
          "data": {
            "image/png": "[encoded data removed]",
            "text/plain": [
              "<Figure size 432x288 with 1 Axes>"
            ]
          },
          "metadata": {
            "tags": [],
            "needs_background": "light"
          }
        }
      ]
    },
    {
      "cell_type": "markdown",
      "metadata": {
        "id": "Ibwp-5vmPNpW"
      },
      "source": [
        "## 텍스트 클렌징"
      ]
    },
    {
      "cell_type": "code",
      "metadata": {
        "id": "DJMeOtejPOwi"
      },
      "source": [
        "stop = stopwords.words('english')\n",
        "def word_lemmatizer(text):\n",
        "    lem_text = [WordNetLemmatizer().lemmatize(i) for i in text]\n",
        "    return lem_text\n",
        "def  clean_text(df, text_field='Tweet', new_text_field_name='clean_tweet'):\n",
        "    df[new_text_field_name] = df[text_field].str.lower()\n",
        "    df[new_text_field_name] = df[new_text_field_name].apply(lambda x : x.lower())\n",
        "    df[new_text_field_name] = df[new_text_field_name].apply(lambda x : x.replace('corona','covid'))\n",
        "    df[new_text_field_name] = df[new_text_field_name].apply(lambda x : x.replace('coronavirus','virus'))\n",
        "    df[new_text_field_name] = df[new_text_field_name].apply(lambda elem: re.sub(r\"(@[A-Za-z0-9]+)|([^0-9A-Za-z \\t])|(\\w+:\\/\\/\\S+)|^rt|http.+?\", \"\", elem))  \n",
        "    df[new_text_field_name] = df[new_text_field_name].apply(lambda elem: re.sub(r\"\\d+\", \"\", elem))\n",
        "    df[new_text_field_name] = df[new_text_field_name].apply(lambda x: ' '.join([word for word in x.split() if word not in (stop)]))\n",
        "    df[new_text_field_name] = df[new_text_field_name].apply(lambda x: word_tokenize(x))\n",
        "    df[new_text_field_name] = df[new_text_field_name].apply(lambda x: word_lemmatizer(x))\n",
        "    df[new_text_field_name] = df[new_text_field_name].apply(lambda x: ' '.join(x))\n",
        "    return df"
      ],
      "execution_count": 7,
      "outputs": []
    },
    {
      "cell_type": "code",
      "metadata": {
        "id": "QwAkp68dQTq-"
      },
      "source": [
        "def clean_df(df) :\n",
        "    DF = clean_text(df, 'Tweet', 'clean_tweet')\n",
        "    try :\n",
        "        DF = DF[['clean_tweet','0', '1', '2', '3', '4', '5', '6', '7', '8', '9', '10']]\n",
        "        DF.columns = ['Tweet','0', '1', '2', '3', '4', '5', '6', '7', '8', '9', '10']\n",
        "    except :\n",
        "        DF = DF[['ID','clean_tweet']]\n",
        "        DF.columns = ['ID','Tweet']\n",
        "    \n",
        "    return DF\n",
        "    \n",
        "def one(x) :\n",
        "    if x > 2 :\n",
        "        return 1\n",
        "    else :\n",
        "        return 0"
      ],
      "execution_count": 8,
      "outputs": []
    },
    {
      "cell_type": "code",
      "metadata": {
        "id": "gn7c1-luTde4"
      },
      "source": [
        "train_df = clean_df(train_df)\n",
        "test_df = clean_df(test_df)"
      ],
      "execution_count": 9,
      "outputs": []
    },
    {
      "cell_type": "code",
      "metadata": {
        "colab": {
          "base_uri": "https://localhost:8080/",
          "height": 110
        },
        "id": "FxESk9JaSVpE",
        "outputId": "4f819212-c40f-4063-f5fa-31b01786f373"
      },
      "source": [
        "train_df.head(2)"
      ],
      "execution_count": 10,
      "outputs": [
        {
          "output_type": "execute_result",
          "data": {
            "text/html": [
              "<div>\n",
              "<style scoped>\n",
              "    .dataframe tbody tr th:only-of-type {\n",
              "        vertical-align: middle;\n",
              "    }\n",
              "\n",
              "    .dataframe tbody tr th {\n",
              "        vertical-align: top;\n",
              "    }\n",
              "\n",
              "    .dataframe thead th {\n",
              "        text-align: right;\n",
              "    }\n",
              "</style>\n",
              "<table border=\"1\" class=\"dataframe\">\n",
              "  <thead>\n",
              "    <tr style=\"text-align: right;\">\n",
              "      <th></th>\n",
              "      <th>Tweet</th>\n",
              "      <th>0</th>\n",
              "      <th>1</th>\n",
              "      <th>2</th>\n",
              "      <th>3</th>\n",
              "      <th>4</th>\n",
              "      <th>5</th>\n",
              "      <th>6</th>\n",
              "      <th>7</th>\n",
              "      <th>8</th>\n",
              "      <th>9</th>\n",
              "      <th>10</th>\n",
              "    </tr>\n",
              "  </thead>\n",
              "  <tbody>\n",
              "    <tr>\n",
              "      <th>0</th>\n",
              "      <td>joke hop plane rn well covid lol</td>\n",
              "      <td>1.0</td>\n",
              "      <td>0.0</td>\n",
              "      <td>0.0</td>\n",
              "      <td>0.0</td>\n",
              "      <td>0.0</td>\n",
              "      <td>0.0</td>\n",
              "      <td>0.0</td>\n",
              "      <td>0.0</td>\n",
              "      <td>0.0</td>\n",
              "      <td>0.0</td>\n",
              "      <td>1.0</td>\n",
              "    </tr>\n",
              "    <tr>\n",
              "      <th>1</th>\n",
              "      <td>banmediahouse whose responsible spreading fake...</td>\n",
              "      <td>0.0</td>\n",
              "      <td>0.0</td>\n",
              "      <td>0.0</td>\n",
              "      <td>0.0</td>\n",
              "      <td>0.0</td>\n",
              "      <td>0.0</td>\n",
              "      <td>1.0</td>\n",
              "      <td>0.0</td>\n",
              "      <td>0.0</td>\n",
              "      <td>0.0</td>\n",
              "      <td>0.0</td>\n",
              "    </tr>\n",
              "  </tbody>\n",
              "</table>\n",
              "</div>"
            ],
            "text/plain": [
              "                                               Tweet    0    1  ...    8    9   10\n",
              "0                   joke hop plane rn well covid lol  1.0  0.0  ...  0.0  0.0  1.0\n",
              "1  banmediahouse whose responsible spreading fake...  0.0  0.0  ...  0.0  0.0  0.0\n",
              "\n",
              "[2 rows x 12 columns]"
            ]
          },
          "metadata": {
            "tags": []
          },
          "execution_count": 10
        }
      ]
    },
    {
      "cell_type": "code",
      "metadata": {
        "colab": {
          "base_uri": "https://localhost:8080/",
          "height": 110
        },
        "id": "HzKoXr0DSXmk",
        "outputId": "1897ebc7-6126-4feb-ce7d-f0ec2e0bcdb3"
      },
      "source": [
        "test_df.head(2)"
      ],
      "execution_count": 11,
      "outputs": [
        {
          "output_type": "execute_result",
          "data": {
            "text/html": [
              "<div>\n",
              "<style scoped>\n",
              "    .dataframe tbody tr th:only-of-type {\n",
              "        vertical-align: middle;\n",
              "    }\n",
              "\n",
              "    .dataframe tbody tr th {\n",
              "        vertical-align: top;\n",
              "    }\n",
              "\n",
              "    .dataframe thead th {\n",
              "        text-align: right;\n",
              "    }\n",
              "</style>\n",
              "<table border=\"1\" class=\"dataframe\">\n",
              "  <thead>\n",
              "    <tr style=\"text-align: right;\">\n",
              "      <th></th>\n",
              "      <th>ID</th>\n",
              "      <th>Tweet</th>\n",
              "    </tr>\n",
              "  </thead>\n",
              "  <tbody>\n",
              "    <tr>\n",
              "      <th>0</th>\n",
              "      <td>5001</td>\n",
              "      <td>forgot math test failing teacher opening back ...</td>\n",
              "    </tr>\n",
              "    <tr>\n",
              "      <th>1</th>\n",
              "      <td>5002</td>\n",
              "      <td>covid effected came delhi bihar lakhisarai dis...</td>\n",
              "    </tr>\n",
              "  </tbody>\n",
              "</table>\n",
              "</div>"
            ],
            "text/plain": [
              "     ID                                              Tweet\n",
              "0  5001  forgot math test failing teacher opening back ...\n",
              "1  5002  covid effected came delhi bihar lakhisarai dis..."
            ]
          },
          "metadata": {
            "tags": []
          },
          "execution_count": 11
        }
      ]
    },
    {
      "cell_type": "code",
      "metadata": {
        "id": "sxR_mDz7o_UW",
        "colab": {
          "base_uri": "https://localhost:8080/",
          "height": 192
        },
        "outputId": "3a50da7b-2b19-4b02-fe5b-7d0408ed26e9"
      },
      "source": [
        "# 단어수 \n",
        "print(len(set([word for words in train_tweet for word in words.split()])))"
      ],
      "execution_count": 12,
      "outputs": [
        {
          "output_type": "error",
          "ename": "NameError",
          "evalue": "ignored",
          "traceback": [
            "\u001b[0;31m---------------------------------------------------------------------------\u001b[0m",
            "\u001b[0;31mNameError\u001b[0m                                 Traceback (most recent call last)",
            "\u001b[0;32m<ipython-input-12-b190f48de9da>\u001b[0m in \u001b[0;36m<module>\u001b[0;34m()\u001b[0m\n\u001b[1;32m      1\u001b[0m \u001b[0;31m# 단어수\u001b[0m\u001b[0;34m\u001b[0m\u001b[0;34m\u001b[0m\u001b[0;34m\u001b[0m\u001b[0m\n\u001b[0;32m----> 2\u001b[0;31m \u001b[0mprint\u001b[0m\u001b[0;34m(\u001b[0m\u001b[0mlen\u001b[0m\u001b[0;34m(\u001b[0m\u001b[0mset\u001b[0m\u001b[0;34m(\u001b[0m\u001b[0;34m[\u001b[0m\u001b[0mword\u001b[0m \u001b[0;32mfor\u001b[0m \u001b[0mwords\u001b[0m \u001b[0;32min\u001b[0m \u001b[0mtrain_tweet\u001b[0m \u001b[0;32mfor\u001b[0m \u001b[0mword\u001b[0m \u001b[0;32min\u001b[0m \u001b[0mwords\u001b[0m\u001b[0;34m.\u001b[0m\u001b[0msplit\u001b[0m\u001b[0;34m(\u001b[0m\u001b[0;34m)\u001b[0m\u001b[0;34m]\u001b[0m\u001b[0;34m)\u001b[0m\u001b[0;34m)\u001b[0m\u001b[0;34m)\u001b[0m\u001b[0;34m\u001b[0m\u001b[0;34m\u001b[0m\u001b[0m\n\u001b[0m",
            "\u001b[0;31mNameError\u001b[0m: name 'train_tweet' is not defined"
          ]
        }
      ]
    },
    {
      "cell_type": "code",
      "metadata": {
        "id": "4Cw84A7IdKdO",
        "outputId": "9d96a918-2ef1-434b-bf08-49407f31d77a",
        "colab": {
          "base_uri": "https://localhost:8080/",
          "height": 375
        }
      },
      "source": [
        "word_count = train_df['Tweet'].apply(lambda x : len(x.split(' ')))\n",
        "print(f' Tweet 중 단어가 가장 많은 tweet의 단어 수 : {np.max(word_count)}')\n",
        "print(f' Tweet 중 단어가 가장 적은 tweet의 단어 수 : {np.min(word_count)}')\n",
        "print(f' 평균 tweet 의 길이 : {np.mean(word_count)}')\n",
        "print(f' tweet 의 길이의 중간값 : {np.median(word_count)}')\n",
        "print('\\n')\n",
        "plt.hist(word_count, bins=20)\n",
        "plt.show()"
      ],
      "execution_count": 13,
      "outputs": [
        {
          "output_type": "stream",
          "text": [
            " Tweet 중 단어가 가장 많은 tweet의 단어 수 : 21\n",
            " Tweet 중 단어가 가장 적은 tweet의 단어 수 : 1\n",
            " 평균 tweet 의 길이 : 10.1706\n",
            " tweet 의 길이의 중간값 : 10.0\n",
            "\n",
            "\n"
          ],
          "name": "stdout"
        },
        {
          "output_type": "display_data",
          "data": {
            "image/png": "[encoded data removed]",
            "text/plain": [
              "<Figure size 432x288 with 1 Axes>"
            ]
          },
          "metadata": {
            "tags": [],
            "needs_background": "light"
          }
        }
      ]
    },
    {
      "cell_type": "code",
      "metadata": {
        "colab": {
          "base_uri": "https://localhost:8080/"
        },
        "id": "-qLuMqwTeXTl",
        "outputId": "76d7e0c9-1335-4c02-ea87-89164f91e489"
      },
      "source": [
        "np.quantile(word_count, 0.025)"
      ],
      "execution_count": 14,
      "outputs": [
        {
          "output_type": "execute_result",
          "data": {
            "text/plain": [
              "6.0"
            ]
          },
          "metadata": {
            "tags": []
          },
          "execution_count": 14
        }
      ]
    },
    {
      "cell_type": "code",
      "metadata": {
        "id": "nT_Nn8ObsALP",
        "colab": {
          "base_uri": "https://localhost:8080/",
          "height": 375
        },
        "outputId": "0561fda6-68b6-4ea7-d7fe-a91b8b774b75"
      },
      "source": [
        "word_count = test_df['Tweet'].apply(lambda x : len(x.split(' ')))\n",
        "print(f' Tweet 중 단어가 가장 많은 tweet의 단어 수 : {np.max(word_count)}')\n",
        "print(f' Tweet 중 단어가 가장 적은 tweet의 단어 수 : {np.min(word_count)}')\n",
        "print(f' 평균 tweet 의 길이 : {np.mean(word_count)}')\n",
        "print(f' tweet 의 길이의 중간값 : {np.median(word_count)}')\n",
        "print('\\n')\n",
        "plt.hist(word_count, bins=20)\n",
        "plt.show()"
      ],
      "execution_count": 15,
      "outputs": [
        {
          "output_type": "stream",
          "text": [
            " Tweet 중 단어가 가장 많은 tweet의 단어 수 : 20\n",
            " Tweet 중 단어가 가장 적은 tweet의 단어 수 : 1\n",
            " 평균 tweet 의 길이 : 10.1968\n",
            " tweet 의 길이의 중간값 : 10.0\n",
            "\n",
            "\n"
          ],
          "name": "stdout"
        },
        {
          "output_type": "display_data",
          "data": {
            "image/png": "[encoded data removed]",
            "text/plain": [
              "<Figure size 432x288 with 1 Axes>"
            ]
          },
          "metadata": {
            "tags": [],
            "needs_background": "light"
          }
        }
      ]
    },
    {
      "cell_type": "code",
      "metadata": {
        "id": "rEZIVET498IX",
        "colab": {
          "base_uri": "https://localhost:8080/",
          "height": 489
        },
        "outputId": "65e5d02c-30ea-40ff-a47b-e63cf8b1b382"
      },
      "source": [
        "train_df_sentiment = train_df[cols_target]\n",
        "fig_size = plt.rcParams[\"figure.figsize\"]\n",
        "fig_size[0] = 10\n",
        "fig_size[1] = 8\n",
        "plt.rcParams[\"figure.figsize\"] = fig_size\n",
        "\n",
        "train_df_sentiment.sum(axis=0).plot.bar()\n",
        "plt.xticks(rotation = 45)\n",
        "plt.show()"
      ],
      "execution_count": 16,
      "outputs": [
        {
          "output_type": "display_data",
          "data": {
            "image/png": "[encoded data removed]",
            "text/plain": [
              "<Figure size 720x576 with 1 Axes>"
            ]
          },
          "metadata": {
            "tags": [],
            "needs_background": "light"
          }
        }
      ]
    },
    {
      "cell_type": "markdown",
      "metadata": {
        "id": "7QSy5IaiVJHg"
      },
      "source": [
        "## 토큰화 및 패딩"
      ]
    },
    {
      "cell_type": "code",
      "metadata": {
        "id": "lsxgF4IWe3qD"
      },
      "source": [
        "train_tweet = train_df['Tweet'].values\n",
        "test_tweet = test_df['Tweet'].values"
      ],
      "execution_count": 22,
      "outputs": []
    },
    {
      "cell_type": "code",
      "metadata": {
        "colab": {
          "base_uri": "https://localhost:8080/"
        },
        "id": "PqRWJK3lVyVX",
        "outputId": "881eb2ce-57f7-4c54-98ba-d26aa6dadd2d"
      },
      "source": [
        "train_tweet[:2]"
      ],
      "execution_count": 23,
      "outputs": [
        {
          "output_type": "execute_result",
          "data": {
            "text/plain": [
              "array(['joke hop plane rn well covid lol',\n",
              "       'banmediahouse whose responsible spreading fake communal story pandemic covid situation'],\n",
              "      dtype=object)"
            ]
          },
          "metadata": {
            "tags": []
          },
          "execution_count": 23
        }
      ]
    },
    {
      "cell_type": "code",
      "metadata": {
        "colab": {
          "base_uri": "https://localhost:8080/"
        },
        "id": "ILyIIMMkV1O7",
        "outputId": "19efc640-60b3-4def-a931-292b7046cdce"
      },
      "source": [
        "tokenizer = Tokenizer()\n",
        "tokenizer.fit_on_texts(train_tweet)\n",
        "\n",
        "train_token = tokenizer.texts_to_sequences(train_tweet)\n",
        "train_token[0]"
      ],
      "execution_count": 24,
      "outputs": [
        {
          "output_type": "execute_result",
          "data": {
            "text/plain": [
              "[8, 1838, 2382, 357, 96, 1, 133]"
            ]
          },
          "metadata": {
            "tags": []
          },
          "execution_count": 24
        }
      ]
    },
    {
      "cell_type": "code",
      "metadata": {
        "colab": {
          "base_uri": "https://localhost:8080/"
        },
        "id": "uLXXTXGzfbFe",
        "outputId": "636c0d0e-784e-487a-b229-212c98f770a4"
      },
      "source": [
        "print(train_tweet[0])\n",
        "print(train_token[0])"
      ],
      "execution_count": 25,
      "outputs": [
        {
          "output_type": "stream",
          "text": [
            "joke hop plane rn well covid lol\n",
            "[8, 1838, 2382, 357, 96, 1, 133]\n"
          ],
          "name": "stdout"
        }
      ]
    },
    {
      "cell_type": "code",
      "metadata": {
        "id": "5-AL-elvfKpe"
      },
      "source": [
        "word_vocab = tokenizer.word_index\n",
        "#print(word_vocab)"
      ],
      "execution_count": 26,
      "outputs": []
    },
    {
      "cell_type": "code",
      "metadata": {
        "colab": {
          "base_uri": "https://localhost:8080/"
        },
        "id": "B-iJjY8xfp_o",
        "outputId": "e8360c0a-b2c2-4fc6-e281-245cce942a47"
      },
      "source": [
        "print(f'단어 전체의 갯수 {len(word_vocab)}')"
      ],
      "execution_count": 27,
      "outputs": [
        {
          "output_type": "stream",
          "text": [
            "단어 전체의 갯수 8517\n"
          ],
          "name": "stdout"
        }
      ]
    },
    {
      "cell_type": "code",
      "metadata": {
        "colab": {
          "base_uri": "https://localhost:8080/"
        },
        "id": "lPK1C7GVgn-6",
        "outputId": "41517e46-3c27-4a34-b5de-20e7c98fe717"
      },
      "source": [
        "maxlen = 21 # 전처리 후 최댓값\n",
        "train_pad = pad_sequences(train_token, maxlen = maxlen, padding = 'pre')\n",
        "print(train_tweet[0])\n",
        "print(train_token[0])\n",
        "print(train_pad[0])"
      ],
      "execution_count": 28,
      "outputs": [
        {
          "output_type": "stream",
          "text": [
            "joke hop plane rn well covid lol\n",
            "[8, 1838, 2382, 357, 96, 1, 133]\n",
            "[   0    0    0    0    0    0    0    0    0    0    0    0    0    0\n",
            "    8 1838 2382  357   96    1  133]\n"
          ],
          "name": "stdout"
        }
      ]
    },
    {
      "cell_type": "code",
      "metadata": {
        "colab": {
          "base_uri": "https://localhost:8080/"
        },
        "id": "SwYnKqaNjP4S",
        "outputId": "984e3bed-a460-4d82-f7f8-fee1060946f5"
      },
      "source": [
        "print(type(train_pad))\n",
        "print(train_pad.shape)\n",
        "print(train_pad[0].shape)"
      ],
      "execution_count": 29,
      "outputs": [
        {
          "output_type": "stream",
          "text": [
            "<class 'numpy.ndarray'>\n",
            "(5000, 21)\n",
            "(21,)\n"
          ],
          "name": "stdout"
        }
      ]
    },
    {
      "cell_type": "code",
      "metadata": {
        "id": "ZdBPDtI08TbP"
      },
      "source": [
        ""
      ],
      "execution_count": 29,
      "outputs": []
    },
    {
      "cell_type": "markdown",
      "metadata": {
        "id": "mi5YQmUDl4yY"
      },
      "source": [
        "## 벡터화\n"
      ]
    },
    {
      "cell_type": "markdown",
      "metadata": {
        "id": "PQbIaO8Ua_tx"
      },
      "source": [
        "### SENTENCEPIECE"
      ]
    },
    {
      "cell_type": "code",
      "metadata": {
        "id": "6SR80m7FiEUx",
        "colab": {
          "base_uri": "https://localhost:8080/"
        },
        "outputId": "7a041788-a028-4251-8be3-8c1a1379e22a"
      },
      "source": [
        "!pip install sentencepiece\n",
        "import sentencepiece as spm"
      ],
      "execution_count": 30,
      "outputs": [
        {
          "output_type": "stream",
          "text": [
            "Requirement already satisfied: sentencepiece in /usr/local/lib/python3.7/dist-packages (0.1.95)\n"
          ],
          "name": "stdout"
        }
      ]
    },
    {
      "cell_type": "code",
      "metadata": {
        "id": "ioKYc6Gyn-Y2",
        "colab": {
          "base_uri": "https://localhost:8080/"
        },
        "outputId": "c3180416-1aae-47ac-c2d1-b5ab370103eb"
      },
      "source": [
        "train_tweet.shape"
      ],
      "execution_count": 31,
      "outputs": [
        {
          "output_type": "execute_result",
          "data": {
            "text/plain": [
              "(5000,)"
            ]
          },
          "metadata": {
            "tags": []
          },
          "execution_count": 31
        }
      ]
    },
    {
      "cell_type": "code",
      "metadata": {
        "id": "ggvBUHV5n-Wn"
      },
      "source": [
        "with open('./full_tweet.txt', 'w', encoding='utf-8') as f:\n",
        "    for line in train_tweet :\n",
        "        if len(str(line).strip()) == 0 : continue\n",
        "        try : \n",
        "            f.write(line + '\\n')\n",
        "        except : continue"
      ],
      "execution_count": 32,
      "outputs": []
    },
    {
      "cell_type": "code",
      "metadata": {
        "id": "gn73Ce5Ln-UA",
        "colab": {
          "base_uri": "https://localhost:8080/"
        },
        "outputId": "7dc61e21-02a0-4909-e5fe-d336a923aa1e"
      },
      "source": [
        "!cat full_tweet.txt | head -n2"
      ],
      "execution_count": 33,
      "outputs": [
        {
          "output_type": "stream",
          "text": [
            "joke hop plane rn well covid lol\n",
            "banmediahouse whose responsible spreading fake communal story pandemic covid situation\n"
          ],
          "name": "stdout"
        }
      ]
    },
    {
      "cell_type": "code",
      "metadata": {
        "id": "fZcdrecLouCP"
      },
      "source": [
        "spm.SentencePieceTrainer.train('--input=full_tweet.txt --model_prefix=m --vocab_size=5000')"
      ],
      "execution_count": 34,
      "outputs": []
    },
    {
      "cell_type": "code",
      "metadata": {
        "id": "19LuFXvkpbFX",
        "colab": {
          "base_uri": "https://localhost:8080/"
        },
        "outputId": "e057d299-4be3-4a31-b2dc-57e4b98136f6"
      },
      "source": [
        "sp = spm.SentencePieceProcessor()\n",
        "sp.load('m.model')"
      ],
      "execution_count": 35,
      "outputs": [
        {
          "output_type": "execute_result",
          "data": {
            "text/plain": [
              "True"
            ]
          },
          "metadata": {
            "tags": []
          },
          "execution_count": 35
        }
      ]
    },
    {
      "cell_type": "code",
      "metadata": {
        "id": "_ofl7UH9peYQ"
      },
      "source": [
        "train_df['bow'] = train_df['Tweet'].apply(lambda x : sp.encode_as_ids(str(x)))\n",
        "test_df['bow'] = test_df['Tweet'].apply(lambda x : sp.encode_as_ids(str(x)))"
      ],
      "execution_count": 36,
      "outputs": []
    },
    {
      "cell_type": "code",
      "metadata": {
        "id": "L-uhd-KFpeWK",
        "colab": {
          "base_uri": "https://localhost:8080/",
          "height": 110
        },
        "outputId": "1e9c341c-f6d4-42ad-d9f2-093205a9d852"
      },
      "source": [
        "train_df.head(2)"
      ],
      "execution_count": 37,
      "outputs": [
        {
          "output_type": "execute_result",
          "data": {
            "text/html": [
              "<div>\n",
              "<style scoped>\n",
              "    .dataframe tbody tr th:only-of-type {\n",
              "        vertical-align: middle;\n",
              "    }\n",
              "\n",
              "    .dataframe tbody tr th {\n",
              "        vertical-align: top;\n",
              "    }\n",
              "\n",
              "    .dataframe thead th {\n",
              "        text-align: right;\n",
              "    }\n",
              "</style>\n",
              "<table border=\"1\" class=\"dataframe\">\n",
              "  <thead>\n",
              "    <tr style=\"text-align: right;\">\n",
              "      <th></th>\n",
              "      <th>Tweet</th>\n",
              "      <th>0</th>\n",
              "      <th>1</th>\n",
              "      <th>2</th>\n",
              "      <th>3</th>\n",
              "      <th>4</th>\n",
              "      <th>5</th>\n",
              "      <th>6</th>\n",
              "      <th>7</th>\n",
              "      <th>8</th>\n",
              "      <th>9</th>\n",
              "      <th>10</th>\n",
              "      <th>bow</th>\n",
              "    </tr>\n",
              "  </thead>\n",
              "  <tbody>\n",
              "    <tr>\n",
              "      <th>0</th>\n",
              "      <td>joke hop plane rn well covid lol</td>\n",
              "      <td>1.0</td>\n",
              "      <td>0.0</td>\n",
              "      <td>0.0</td>\n",
              "      <td>0.0</td>\n",
              "      <td>0.0</td>\n",
              "      <td>0.0</td>\n",
              "      <td>0.0</td>\n",
              "      <td>0.0</td>\n",
              "      <td>0.0</td>\n",
              "      <td>0.0</td>\n",
              "      <td>1.0</td>\n",
              "      <td>[22, 369, 2018, 542, 164, 3, 222]</td>\n",
              "    </tr>\n",
              "    <tr>\n",
              "      <th>1</th>\n",
              "      <td>banmediahouse whose responsible spreading fake...</td>\n",
              "      <td>0.0</td>\n",
              "      <td>0.0</td>\n",
              "      <td>0.0</td>\n",
              "      <td>0.0</td>\n",
              "      <td>0.0</td>\n",
              "      <td>0.0</td>\n",
              "      <td>1.0</td>\n",
              "      <td>0.0</td>\n",
              "      <td>0.0</td>\n",
              "      <td>0.0</td>\n",
              "      <td>0.0</td>\n",
              "      <td>[1055, 2401, 2059, 148, 458, 1402, 58, 98, 4, ...</td>\n",
              "    </tr>\n",
              "  </tbody>\n",
              "</table>\n",
              "</div>"
            ],
            "text/plain": [
              "                                               Tweet  ...                                                bow\n",
              "0                   joke hop plane rn well covid lol  ...                  [22, 369, 2018, 542, 164, 3, 222]\n",
              "1  banmediahouse whose responsible spreading fake...  ...  [1055, 2401, 2059, 148, 458, 1402, 58, 98, 4, ...\n",
              "\n",
              "[2 rows x 13 columns]"
            ]
          },
          "metadata": {
            "tags": []
          },
          "execution_count": 37
        }
      ]
    },
    {
      "cell_type": "code",
      "metadata": {
        "id": "MtyrlYnnpeRI",
        "colab": {
          "base_uri": "https://localhost:8080/",
          "height": 110
        },
        "outputId": "8c328738-bc78-49ba-b65c-a1bbe5d21cc2"
      },
      "source": [
        "test_df.head(2)"
      ],
      "execution_count": 38,
      "outputs": [
        {
          "output_type": "execute_result",
          "data": {
            "text/html": [
              "<div>\n",
              "<style scoped>\n",
              "    .dataframe tbody tr th:only-of-type {\n",
              "        vertical-align: middle;\n",
              "    }\n",
              "\n",
              "    .dataframe tbody tr th {\n",
              "        vertical-align: top;\n",
              "    }\n",
              "\n",
              "    .dataframe thead th {\n",
              "        text-align: right;\n",
              "    }\n",
              "</style>\n",
              "<table border=\"1\" class=\"dataframe\">\n",
              "  <thead>\n",
              "    <tr style=\"text-align: right;\">\n",
              "      <th></th>\n",
              "      <th>ID</th>\n",
              "      <th>Tweet</th>\n",
              "      <th>bow</th>\n",
              "    </tr>\n",
              "  </thead>\n",
              "  <tbody>\n",
              "    <tr>\n",
              "      <th>0</th>\n",
              "      <td>5001</td>\n",
              "      <td>forgot math test failing teacher opening back ...</td>\n",
              "      <td>[1465, 4023, 42, 828, 4, 5, 1353, 412, 4, 85, ...</td>\n",
              "    </tr>\n",
              "    <tr>\n",
              "      <th>1</th>\n",
              "      <td>5002</td>\n",
              "      <td>covid effected came delhi bihar lakhisarai dis...</td>\n",
              "      <td>[3, 2761, 7, 379, 718, 2801, 233, 1929, 1562, ...</td>\n",
              "    </tr>\n",
              "  </tbody>\n",
              "</table>\n",
              "</div>"
            ],
            "text/plain": [
              "     ID  ...                                                bow\n",
              "0  5001  ...  [1465, 4023, 42, 828, 4, 5, 1353, 412, 4, 85, ...\n",
              "1  5002  ...  [3, 2761, 7, 379, 718, 2801, 233, 1929, 1562, ...\n",
              "\n",
              "[2 rows x 3 columns]"
            ]
          },
          "metadata": {
            "tags": []
          },
          "execution_count": 38
        }
      ]
    },
    {
      "cell_type": "code",
      "metadata": {
        "id": "eYPgy4CcpeFu"
      },
      "source": [
        "train_pad = pad_sequences(train_df['bow'].values, maxlen=22)\n",
        "test_pad = pad_sequences(test_df['bow'].values, maxlen=22)"
      ],
      "execution_count": 39,
      "outputs": []
    },
    {
      "cell_type": "markdown",
      "metadata": {
        "id": "lSEFTgXE-QYf"
      },
      "source": [
        "## 여기부터 볼 것"
      ]
    },
    {
      "cell_type": "code",
      "metadata": {
        "id": "1cyY7ThEYZLk",
        "colab": {
          "base_uri": "https://localhost:8080/",
          "height": 203
        },
        "outputId": "b45f64fa-c0c7-4117-d89a-57ea15ed43fc"
      },
      "source": [
        "train_df.head()"
      ],
      "execution_count": 40,
      "outputs": [
        {
          "output_type": "execute_result",
          "data": {
            "text/html": [
              "<div>\n",
              "<style scoped>\n",
              "    .dataframe tbody tr th:only-of-type {\n",
              "        vertical-align: middle;\n",
              "    }\n",
              "\n",
              "    .dataframe tbody tr th {\n",
              "        vertical-align: top;\n",
              "    }\n",
              "\n",
              "    .dataframe thead th {\n",
              "        text-align: right;\n",
              "    }\n",
              "</style>\n",
              "<table border=\"1\" class=\"dataframe\">\n",
              "  <thead>\n",
              "    <tr style=\"text-align: right;\">\n",
              "      <th></th>\n",
              "      <th>Tweet</th>\n",
              "      <th>0</th>\n",
              "      <th>1</th>\n",
              "      <th>2</th>\n",
              "      <th>3</th>\n",
              "      <th>4</th>\n",
              "      <th>5</th>\n",
              "      <th>6</th>\n",
              "      <th>7</th>\n",
              "      <th>8</th>\n",
              "      <th>9</th>\n",
              "      <th>10</th>\n",
              "      <th>bow</th>\n",
              "    </tr>\n",
              "  </thead>\n",
              "  <tbody>\n",
              "    <tr>\n",
              "      <th>0</th>\n",
              "      <td>joke hop plane rn well covid lol</td>\n",
              "      <td>1.0</td>\n",
              "      <td>0.0</td>\n",
              "      <td>0.0</td>\n",
              "      <td>0.0</td>\n",
              "      <td>0.0</td>\n",
              "      <td>0.0</td>\n",
              "      <td>0.0</td>\n",
              "      <td>0.0</td>\n",
              "      <td>0.0</td>\n",
              "      <td>0.0</td>\n",
              "      <td>1.0</td>\n",
              "      <td>[22, 369, 2018, 542, 164, 3, 222]</td>\n",
              "    </tr>\n",
              "    <tr>\n",
              "      <th>1</th>\n",
              "      <td>banmediahouse whose responsible spreading fake...</td>\n",
              "      <td>0.0</td>\n",
              "      <td>0.0</td>\n",
              "      <td>0.0</td>\n",
              "      <td>0.0</td>\n",
              "      <td>0.0</td>\n",
              "      <td>0.0</td>\n",
              "      <td>1.0</td>\n",
              "      <td>0.0</td>\n",
              "      <td>0.0</td>\n",
              "      <td>0.0</td>\n",
              "      <td>0.0</td>\n",
              "      <td>[1055, 2401, 2059, 148, 458, 1402, 58, 98, 4, ...</td>\n",
              "    </tr>\n",
              "    <tr>\n",
              "      <th>2</th>\n",
              "      <td>im waiting someone say covid thing april fool ...</td>\n",
              "      <td>0.0</td>\n",
              "      <td>0.0</td>\n",
              "      <td>0.0</td>\n",
              "      <td>1.0</td>\n",
              "      <td>1.0</td>\n",
              "      <td>0.0</td>\n",
              "      <td>0.0</td>\n",
              "      <td>0.0</td>\n",
              "      <td>0.0</td>\n",
              "      <td>0.0</td>\n",
              "      <td>0.0</td>\n",
              "      <td>[19, 92, 4, 61, 39, 26, 3, 63, 14, 15, 22]</td>\n",
              "    </tr>\n",
              "    <tr>\n",
              "      <th>3</th>\n",
              "      <td>liar proven day night time lie truth covid</td>\n",
              "      <td>0.0</td>\n",
              "      <td>0.0</td>\n",
              "      <td>0.0</td>\n",
              "      <td>0.0</td>\n",
              "      <td>0.0</td>\n",
              "      <td>0.0</td>\n",
              "      <td>1.0</td>\n",
              "      <td>0.0</td>\n",
              "      <td>0.0</td>\n",
              "      <td>0.0</td>\n",
              "      <td>0.0</td>\n",
              "      <td>[970, 233, 1347, 31, 29, 377, 41, 464, 1244, 3]</td>\n",
              "    </tr>\n",
              "    <tr>\n",
              "      <th>4</th>\n",
              "      <td>new u covidvirus death toll reach nearly new d...</td>\n",
              "      <td>0.0</td>\n",
              "      <td>0.0</td>\n",
              "      <td>0.0</td>\n",
              "      <td>0.0</td>\n",
              "      <td>0.0</td>\n",
              "      <td>0.0</td>\n",
              "      <td>0.0</td>\n",
              "      <td>0.0</td>\n",
              "      <td>1.0</td>\n",
              "      <td>0.0</td>\n",
              "      <td>0.0</td>\n",
              "      <td>[33, 17, 6, 34, 219, 79, 450, 1476, 12, 33, 34...</td>\n",
              "    </tr>\n",
              "  </tbody>\n",
              "</table>\n",
              "</div>"
            ],
            "text/plain": [
              "                                               Tweet  ...                                                bow\n",
              "0                   joke hop plane rn well covid lol  ...                  [22, 369, 2018, 542, 164, 3, 222]\n",
              "1  banmediahouse whose responsible spreading fake...  ...  [1055, 2401, 2059, 148, 458, 1402, 58, 98, 4, ...\n",
              "2  im waiting someone say covid thing april fool ...  ...         [19, 92, 4, 61, 39, 26, 3, 63, 14, 15, 22]\n",
              "3         liar proven day night time lie truth covid  ...    [970, 233, 1347, 31, 29, 377, 41, 464, 1244, 3]\n",
              "4  new u covidvirus death toll reach nearly new d...  ...  [33, 17, 6, 34, 219, 79, 450, 1476, 12, 33, 34...\n",
              "\n",
              "[5 rows x 13 columns]"
            ]
          },
          "metadata": {
            "tags": []
          },
          "execution_count": 40
        }
      ]
    },
    {
      "cell_type": "code",
      "metadata": {
        "id": "Q1JXAVbzYag4",
        "colab": {
          "base_uri": "https://localhost:8080/",
          "height": 203
        },
        "outputId": "3dc0bc27-8417-4127-d3d1-3937cc99e7b6"
      },
      "source": [
        "test_df.head()"
      ],
      "execution_count": 41,
      "outputs": [
        {
          "output_type": "execute_result",
          "data": {
            "text/html": [
              "<div>\n",
              "<style scoped>\n",
              "    .dataframe tbody tr th:only-of-type {\n",
              "        vertical-align: middle;\n",
              "    }\n",
              "\n",
              "    .dataframe tbody tr th {\n",
              "        vertical-align: top;\n",
              "    }\n",
              "\n",
              "    .dataframe thead th {\n",
              "        text-align: right;\n",
              "    }\n",
              "</style>\n",
              "<table border=\"1\" class=\"dataframe\">\n",
              "  <thead>\n",
              "    <tr style=\"text-align: right;\">\n",
              "      <th></th>\n",
              "      <th>ID</th>\n",
              "      <th>Tweet</th>\n",
              "      <th>bow</th>\n",
              "    </tr>\n",
              "  </thead>\n",
              "  <tbody>\n",
              "    <tr>\n",
              "      <th>0</th>\n",
              "      <td>5001</td>\n",
              "      <td>forgot math test failing teacher opening back ...</td>\n",
              "      <td>[1465, 4023, 42, 828, 4, 5, 1353, 412, 4, 85, ...</td>\n",
              "    </tr>\n",
              "    <tr>\n",
              "      <th>1</th>\n",
              "      <td>5002</td>\n",
              "      <td>covid effected came delhi bihar lakhisarai dis...</td>\n",
              "      <td>[3, 2761, 7, 379, 718, 2801, 233, 1929, 1562, ...</td>\n",
              "    </tr>\n",
              "    <tr>\n",
              "      <th>2</th>\n",
              "      <td>5003</td>\n",
              "      <td>make covid end na</td>\n",
              "      <td>[67, 3, 124, 27]</td>\n",
              "    </tr>\n",
              "    <tr>\n",
              "      <th>3</th>\n",
              "      <td>5004</td>\n",
              "      <td>imagine covidvirus pandemic big april fool jok...</td>\n",
              "      <td>[294, 176, 6, 96, 141, 14, 15, 22, 68, 36, 817...</td>\n",
              "    </tr>\n",
              "    <tr>\n",
              "      <th>4</th>\n",
              "      <td>5005</td>\n",
              "      <td>howdy ana get married covidvirus update gov</td>\n",
              "      <td>[2797, 135, 5, 566, 21, 2673, 7, 6, 261, 297]</td>\n",
              "    </tr>\n",
              "  </tbody>\n",
              "</table>\n",
              "</div>"
            ],
            "text/plain": [
              "     ID  ...                                                bow\n",
              "0  5001  ...  [1465, 4023, 42, 828, 4, 5, 1353, 412, 4, 85, ...\n",
              "1  5002  ...  [3, 2761, 7, 379, 718, 2801, 233, 1929, 1562, ...\n",
              "2  5003  ...                                   [67, 3, 124, 27]\n",
              "3  5004  ...  [294, 176, 6, 96, 141, 14, 15, 22, 68, 36, 817...\n",
              "4  5005  ...      [2797, 135, 5, 566, 21, 2673, 7, 6, 261, 297]\n",
              "\n",
              "[5 rows x 3 columns]"
            ]
          },
          "metadata": {
            "tags": []
          },
          "execution_count": 41
        }
      ]
    },
    {
      "cell_type": "code",
      "metadata": {
        "id": "3FbYVoi6Yae_"
      },
      "source": [
        "all_tweet = pd.concat(\n",
        "    [train_df['Tweet'], test_df['Tweet']] , axis=0\n",
        ")\n",
        "all_tweet = all_tweet.reset_index()['Tweet']"
      ],
      "execution_count": 42,
      "outputs": []
    },
    {
      "cell_type": "code",
      "metadata": {
        "id": "eIJb57YGZNQM",
        "colab": {
          "base_uri": "https://localhost:8080/"
        },
        "outputId": "6a7eea86-4068-4cff-b829-e0e76c1fd716"
      },
      "source": [
        "all_tweet.values.tolist()[:2]"
      ],
      "execution_count": 43,
      "outputs": [
        {
          "output_type": "execute_result",
          "data": {
            "text/plain": [
              "['joke hop plane rn well covid lol',\n",
              " 'banmediahouse whose responsible spreading fake communal story pandemic covid situation']"
            ]
          },
          "metadata": {
            "tags": []
          },
          "execution_count": 43
        }
      ]
    },
    {
      "cell_type": "code",
      "metadata": {
        "id": "tTfUMz-mYaaw"
      },
      "source": [
        "all_texts = all_tweet.values.tolist()"
      ],
      "execution_count": 44,
      "outputs": []
    },
    {
      "cell_type": "code",
      "metadata": {
        "id": "HSdwN5M6sG_m"
      },
      "source": [
        "x = train_df.Tweet.values.tolist()\n",
        "#y = train_df_sentiment.values"
      ],
      "execution_count": 45,
      "outputs": []
    },
    {
      "cell_type": "code",
      "metadata": {
        "id": "t9Mp7hYSZmU6",
        "colab": {
          "base_uri": "https://localhost:8080/"
        },
        "outputId": "f9e242da-df4f-45c7-ee92-698621168769"
      },
      "source": [
        "x[:2]"
      ],
      "execution_count": 46,
      "outputs": [
        {
          "output_type": "execute_result",
          "data": {
            "text/plain": [
              "['joke hop plane rn well covid lol',\n",
              " 'banmediahouse whose responsible spreading fake communal story pandemic covid situation']"
            ]
          },
          "metadata": {
            "tags": []
          },
          "execution_count": 46
        }
      ]
    },
    {
      "cell_type": "code",
      "metadata": {
        "id": "9HpY_RRAZnN-",
        "colab": {
          "base_uri": "https://localhost:8080/",
          "height": 174
        },
        "outputId": "6a4b9d3f-2556-4352-9eaa-a1f5a34ebd1c"
      },
      "source": [
        "y[:2]"
      ],
      "execution_count": 47,
      "outputs": [
        {
          "output_type": "error",
          "ename": "NameError",
          "evalue": "ignored",
          "traceback": [
            "\u001b[0;31m---------------------------------------------------------------------------\u001b[0m",
            "\u001b[0;31mNameError\u001b[0m                                 Traceback (most recent call last)",
            "\u001b[0;32m<ipython-input-47-dcaf8ff8aeb6>\u001b[0m in \u001b[0;36m<module>\u001b[0;34m()\u001b[0m\n\u001b[0;32m----> 1\u001b[0;31m \u001b[0my\u001b[0m\u001b[0;34m[\u001b[0m\u001b[0;34m:\u001b[0m\u001b[0;36m2\u001b[0m\u001b[0;34m]\u001b[0m\u001b[0;34m\u001b[0m\u001b[0;34m\u001b[0m\u001b[0m\n\u001b[0m",
            "\u001b[0;31mNameError\u001b[0m: name 'y' is not defined"
          ]
        }
      ]
    },
    {
      "cell_type": "code",
      "metadata": {
        "id": "EZX9AuAp9xea"
      },
      "source": [
        "#x_train, x_test, y_train, y_test = train_test_split(x,y,test_size = 0.2, random_state =42)\n",
        "tokenizer = Tokenizer(num_words = 10000)\n",
        "tokenizer.fit_on_texts(x)\n",
        "\n",
        "x_train = tokenizer.texts_to_sequences(x)\n",
        "vocab_size = len(tokenizer.word_index) + 1\n",
        "maxlen = 30\n",
        "x_train = pad_sequences(x_train, maxlen = maxlen)"
      ],
      "execution_count": 48,
      "outputs": []
    },
    {
      "cell_type": "code",
      "metadata": {
        "id": "qWh7NLf9aFTH",
        "colab": {
          "base_uri": "https://localhost:8080/"
        },
        "outputId": "e901a09e-4592-4ffa-f834-0b832043f108"
      },
      "source": [
        ""
      ],
      "execution_count": null,
      "outputs": [
        {
          "output_type": "execute_result",
          "data": {
            "text/plain": [
              "(5000, 30)"
            ]
          },
          "metadata": {
            "tags": []
          },
          "execution_count": 46
        }
      ]
    },
    {
      "cell_type": "code",
      "metadata": {
        "id": "cXkOUtsT_Jom",
        "colab": {
          "base_uri": "https://localhost:8080/"
        },
        "outputId": "0f9a84ac-5956-461a-a835-71997b34392f"
      },
      "source": [
        "#glove\n",
        "\n",
        "!wget http://nlp.stanford.edu/data/glove.6B.zip\n",
        "!unzip glove*.zip"
      ],
      "execution_count": 49,
      "outputs": [
        {
          "output_type": "stream",
          "text": [
            "--2021-06-10 14:22:49--  http://nlp.stanford.edu/data/glove.6B.zip\n",
            "Resolving nlp.stanford.edu (nlp.stanford.edu)... 171.64.67.140\n",
            "Connecting to nlp.stanford.edu (nlp.stanford.edu)|171.64.67.140|:80... connected.\n",
            "HTTP request sent, awaiting response... 302 Found\n",
            "Location: https://nlp.stanford.edu/data/glove.6B.zip [following]\n",
            "--2021-06-10 14:22:49--  https://nlp.stanford.edu/data/glove.6B.zip\n",
            "Connecting to nlp.stanford.edu (nlp.stanford.edu)|171.64.67.140|:443... connected.\n",
            "HTTP request sent, awaiting response... 301 Moved Permanently\n",
            "Location: http://downloads.cs.stanford.edu/nlp/data/glove.6B.zip [following]\n",
            "--2021-06-10 14:22:49--  http://downloads.cs.stanford.edu/nlp/data/glove.6B.zip\n",
            "Resolving downloads.cs.stanford.edu (downloads.cs.stanford.edu)... 171.64.64.22\n",
            "Connecting to downloads.cs.stanford.edu (downloads.cs.stanford.edu)|171.64.64.22|:80... connected.\n",
            "HTTP request sent, awaiting response... 200 OK\n",
            "Length: 862182613 (822M) [application/zip]\n",
            "Saving to: ‘glove.6B.zip’\n",
            "\n",
            "glove.6B.zip        100%[===================>] 822.24M  5.22MB/s    in 3m 11s  \n",
            "\n",
            "2021-06-10 14:26:01 (4.29 MB/s) - ‘glove.6B.zip’ saved [862182613/862182613]\n",
            "\n",
            "Archive:  glove.6B.zip\n",
            "  inflating: glove.6B.50d.txt        \n",
            "  inflating: glove.6B.100d.txt       \n",
            "  inflating: glove.6B.200d.txt       \n",
            "  inflating: glove.6B.300d.txt       \n"
          ],
          "name": "stdout"
        }
      ]
    },
    {
      "cell_type": "code",
      "metadata": {
        "id": "EDsf0t17_Vhs"
      },
      "source": [
        "f = open('glove.6B.100d.txt', encoding=\"utf8\")\n",
        "embeddings_dictionary = dict()\n",
        "for line in f:\n",
        "    records = line.split()\n",
        "    word = records[0]\n",
        "    vector_dimensions = np.asarray(records[1:], dtype='float32')\n",
        "    embeddings_dictionary[word] = vector_dimensions\n",
        "\n",
        "f.close()"
      ],
      "execution_count": 50,
      "outputs": []
    },
    {
      "cell_type": "code",
      "metadata": {
        "id": "Jb0JFtmbAPN5"
      },
      "source": [
        "embedding_matrix = np.zeros((vocab_size, 100))\n",
        "for word, index in tokenizer.word_index.items():\n",
        "    embedding_vector = embeddings_dictionary.get(word)\n",
        "    if embedding_vector is not None:\n",
        "        embedding_matrix[index] = embedding_vector"
      ],
      "execution_count": 51,
      "outputs": []
    },
    {
      "cell_type": "code",
      "metadata": {
        "id": "-Ro3EYRJA2Ar",
        "colab": {
          "base_uri": "https://localhost:8080/"
        },
        "outputId": "0dd37592-af69-48a7-9823-2cc03630337e"
      },
      "source": [
        "embedding_matrix.shape"
      ],
      "execution_count": 52,
      "outputs": [
        {
          "output_type": "execute_result",
          "data": {
            "text/plain": [
              "(8518, 100)"
            ]
          },
          "metadata": {
            "tags": []
          },
          "execution_count": 52
        }
      ]
    },
    {
      "cell_type": "code",
      "metadata": {
        "id": "vAM5tulzF7DP",
        "colab": {
          "base_uri": "https://localhost:8080/"
        },
        "outputId": "50e053f0-a43e-491b-af72-5b50ffa0c46d"
      },
      "source": [
        "x_train.shape"
      ],
      "execution_count": 53,
      "outputs": [
        {
          "output_type": "execute_result",
          "data": {
            "text/plain": [
              "(5000, 30)"
            ]
          },
          "metadata": {
            "tags": []
          },
          "execution_count": 53
        }
      ]
    },
    {
      "cell_type": "code",
      "metadata": {
        "id": "8n7zSAPnF77u"
      },
      "source": [
        "from keras import backend as K\n",
        "\n",
        "def f1(y_true, y_pred):\n",
        "    def recall(y_true, y_pred):\n",
        "        \"\"\"Recall metric.\n",
        "\n",
        "        Only computes a batch-wise average of recall.\n",
        "\n",
        "        Computes the recall, a metric for multi-label classification of\n",
        "        how many relevant items are selected.\n",
        "        \"\"\"\n",
        "        true_positives = K.sum(K.round(K.clip(y_true * y_pred, 0, 1)))\n",
        "        possible_positives = K.sum(K.round(K.clip(y_true, 0, 1)))\n",
        "        recall = true_positives / (possible_positives + K.epsilon())\n",
        "        return recall\n",
        "\n",
        "    def precision(y_true, y_pred):\n",
        "        \"\"\"Precision metric.\n",
        "\n",
        "        Only computes a batch-wise average of precision.\n",
        "\n",
        "        Computes the precision, a metric for multi-label classification of\n",
        "        how many selected items are relevant.\n",
        "        \"\"\"\n",
        "        true_positives = K.sum(K.round(K.clip(y_true * y_pred, 0, 1)))\n",
        "        predicted_positives = K.sum(K.round(K.clip(y_pred, 0, 1)))\n",
        "        precision = true_positives / (predicted_positives + K.epsilon())\n",
        "        return precision\n",
        "    precision = precision(y_true, y_pred)\n",
        "    recall = recall(y_true, y_pred)\n",
        "    return 2*((precision*recall)/(precision+recall+K.epsilon()))"
      ],
      "execution_count": 54,
      "outputs": []
    },
    {
      "cell_type": "code",
      "metadata": {
        "id": "uqtm3hwLBG5b",
        "outputId": "eb51eaba-892a-4e35-ab01-979cd6e0487a",
        "colab": {
          "base_uri": "https://localhost:8080/"
        }
      },
      "source": [
        "from keras.models import Sequential, Input, Model\n",
        "from keras.layers import Embedding, Dense, Conv1D, GlobalMaxPool1D, MaxPooling1D, Flatten\n",
        "from keras.optimizers import Adam\n",
        "\n",
        "inputs = Input(shape=(maxlen,))\n",
        "embedding = Embedding(vocab_size,100, weights=[embedding_matrix], trainable = False)(inputs)\n",
        "layer_ = Conv1D(32, 6, activation='relu')(embedding)\n",
        "layer_ = Conv1D(32, 6, activation='relu')(layer_)\n",
        "layer_ = MaxPooling1D(2)(layer_)\n",
        "layer_ = MaxPooling1D(2)(layer_)\n",
        "\n",
        "layer_ = Flatten()(layer_)\n",
        "layer_ = Dense(11, activation='sigmoid')(layer_)\n",
        "\n",
        "model = Model(inputs, layer_)\n",
        "model.compile(loss = 'binary_crossentropy', optimizer='rmsprop', metrics=[f1])\n",
        "model.summary()\n",
        "\n"
      ],
      "execution_count": 127,
      "outputs": [
        {
          "output_type": "stream",
          "text": [
            "Model: \"model_33\"\n",
            "_________________________________________________________________\n",
            "Layer (type)                 Output Shape              Param #   \n",
            "=================================================================\n",
            "input_42 (InputLayer)        [(None, 30)]              0         \n",
            "_________________________________________________________________\n",
            "embedding_42 (Embedding)     (None, 30, 100)           851800    \n",
            "_________________________________________________________________\n",
            "conv1d_102 (Conv1D)          (None, 25, 32)            19232     \n",
            "_________________________________________________________________\n",
            "conv1d_103 (Conv1D)          (None, 20, 32)            6176      \n",
            "_________________________________________________________________\n",
            "max_pooling1d_45 (MaxPooling (None, 10, 32)            0         \n",
            "_________________________________________________________________\n",
            "max_pooling1d_46 (MaxPooling (None, 5, 32)             0         \n",
            "_________________________________________________________________\n",
            "flatten_14 (Flatten)         (None, 160)               0         \n",
            "_________________________________________________________________\n",
            "dense_19 (Dense)             (None, 11)                1771      \n",
            "=================================================================\n",
            "Total params: 878,979\n",
            "Trainable params: 27,179\n",
            "Non-trainable params: 851,800\n",
            "_________________________________________________________________\n"
          ],
          "name": "stdout"
        }
      ]
    },
    {
      "cell_type": "code",
      "metadata": {
        "id": "qxEQyg8RGHBv",
        "colab": {
          "base_uri": "https://localhost:8080/"
        },
        "outputId": "fc1d2287-85cd-4d1c-8816-3baf997cf3e5"
      },
      "source": [
        "model.summary()"
      ],
      "execution_count": 125,
      "outputs": [
        {
          "output_type": "stream",
          "text": [
            "Model: \"model_32\"\n",
            "_________________________________________________________________\n",
            "Layer (type)                 Output Shape              Param #   \n",
            "=================================================================\n",
            "input_41 (InputLayer)        [(None, 30)]              0         \n",
            "_________________________________________________________________\n",
            "embedding_41 (Embedding)     (None, 30, 100)           851800    \n",
            "_________________________________________________________________\n",
            "conv1d_100 (Conv1D)          (None, 25, 32)            19232     \n",
            "_________________________________________________________________\n",
            "conv1d_101 (Conv1D)          (None, 20, 32)            6176      \n",
            "_________________________________________________________________\n",
            "max_pooling1d_44 (MaxPooling (None, 10, 32)            0         \n",
            "_________________________________________________________________\n",
            "flatten_13 (Flatten)         (None, 320)               0         \n",
            "_________________________________________________________________\n",
            "dense_18 (Dense)             (None, 11)                3531      \n",
            "=================================================================\n",
            "Total params: 880,739\n",
            "Trainable params: 28,939\n",
            "Non-trainable params: 851,800\n",
            "_________________________________________________________________\n"
          ],
          "name": "stdout"
        }
      ]
    },
    {
      "cell_type": "code",
      "metadata": {
        "id": "X4kJU3h5bd_A"
      },
      "source": [
        "y_train = train_df[cols_target].values"
      ],
      "execution_count": 91,
      "outputs": []
    },
    {
      "cell_type": "code",
      "metadata": {
        "id": "IHZc19hwcWwv",
        "colab": {
          "base_uri": "https://localhost:8080/"
        },
        "outputId": "a7e9f9ac-b13e-4c2f-c9b4-587db961beec"
      },
      "source": [
        "x_train.shape, y_train.shape"
      ],
      "execution_count": 92,
      "outputs": [
        {
          "output_type": "execute_result",
          "data": {
            "text/plain": [
              "((5000, 30), (5000, 11))"
            ]
          },
          "metadata": {
            "tags": []
          },
          "execution_count": 92
        }
      ]
    },
    {
      "cell_type": "code",
      "metadata": {
        "id": "YjAMj3BFGG_n",
        "colab": {
          "base_uri": "https://localhost:8080/"
        },
        "outputId": "21c55953-d80c-485d-cdcc-b9623f38e745"
      },
      "source": [
        "model.fit(x_train, y_train, epochs=9, verbose = 1, validation_split = 0.2)"
      ],
      "execution_count": 128,
      "outputs": [
        {
          "output_type": "stream",
          "text": [
            "Epoch 1/9\n",
            "125/125 [==============================] - 2s 10ms/step - loss: 0.4594 - f1: 0.1960 - val_loss: 0.4030 - val_f1: 0.2312\n",
            "Epoch 2/9\n",
            "125/125 [==============================] - 1s 7ms/step - loss: 0.3926 - f1: 0.2742 - val_loss: 0.3934 - val_f1: 0.2678\n",
            "Epoch 3/9\n",
            "125/125 [==============================] - 1s 8ms/step - loss: 0.3730 - f1: 0.3352 - val_loss: 0.3870 - val_f1: 0.3420\n",
            "Epoch 4/9\n",
            "125/125 [==============================] - 1s 7ms/step - loss: 0.3568 - f1: 0.3762 - val_loss: 0.3837 - val_f1: 0.3240\n",
            "Epoch 5/9\n",
            "125/125 [==============================] - 1s 7ms/step - loss: 0.3461 - f1: 0.4096 - val_loss: 0.3821 - val_f1: 0.3706\n",
            "Epoch 6/9\n",
            "125/125 [==============================] - 1s 7ms/step - loss: 0.3320 - f1: 0.4547 - val_loss: 0.3851 - val_f1: 0.3719\n",
            "Epoch 7/9\n",
            "125/125 [==============================] - 1s 7ms/step - loss: 0.3246 - f1: 0.4722 - val_loss: 0.3853 - val_f1: 0.3546\n",
            "Epoch 8/9\n",
            "125/125 [==============================] - 1s 7ms/step - loss: 0.3121 - f1: 0.5144 - val_loss: 0.3889 - val_f1: 0.3774\n",
            "Epoch 9/9\n",
            "125/125 [==============================] - 1s 7ms/step - loss: 0.3012 - f1: 0.5309 - val_loss: 0.3969 - val_f1: 0.3730\n"
          ],
          "name": "stdout"
        },
        {
          "output_type": "execute_result",
          "data": {
            "text/plain": [
              "<keras.callbacks.History at 0x7f6ac5e32a50>"
            ]
          },
          "metadata": {
            "tags": []
          },
          "execution_count": 128
        }
      ]
    },
    {
      "cell_type": "code",
      "metadata": {
        "id": "BLEiPOYEGG9g",
        "colab": {
          "base_uri": "https://localhost:8080/"
        },
        "outputId": "926524db-fe6c-4682-def9-8947e2a00c1c"
      },
      "source": [
        "x_tweet = test_df.Tweet.values.tolist()\n",
        "x_test =tokenizer.texts_to_sequences(x_tweet)\n",
        "x_test = pad_sequences(x_test, maxlen= maxlen)\n",
        "x_test.shape"
      ],
      "execution_count": 129,
      "outputs": [
        {
          "output_type": "execute_result",
          "data": {
            "text/plain": [
              "(2500, 30)"
            ]
          },
          "metadata": {
            "tags": []
          },
          "execution_count": 129
        }
      ]
    },
    {
      "cell_type": "code",
      "metadata": {
        "id": "Uz7GxkJ1F3G7",
        "colab": {
          "base_uri": "https://localhost:8080/"
        },
        "outputId": "845ea3aa-19e4-409b-a06e-5665dc1fc0d2"
      },
      "source": [
        "res = model.predict(x_test)\n",
        "res.shape"
      ],
      "execution_count": 107,
      "outputs": [
        {
          "output_type": "execute_result",
          "data": {
            "text/plain": [
              "(2500, 11)"
            ]
          },
          "metadata": {
            "tags": []
          },
          "execution_count": 107
        }
      ]
    },
    {
      "cell_type": "code",
      "metadata": {
        "id": "YdZRzQXHq1MY",
        "colab": {
          "base_uri": "https://localhost:8080/",
          "height": 357
        },
        "outputId": "ff5a3131-8765-4959-bf80-1e9e64808537"
      },
      "source": [
        "for row in range(2500) :\n",
        "    \n",
        "    if max(res[row].tolist()) <= 0.5 :\n",
        "        idx = res[row].tolist().index(max(res[row].tolist()))\n",
        "        res[row][idx] = 1 # 결측값 = 확률가장높은 idx에 1 부여\n",
        "res = res > 0.5\n",
        "res = pd.DataFrame(res)\n",
        "res = res.applymap(lambda x : 1 if x else 0)\n",
        "res[:10]"
      ],
      "execution_count": 108,
      "outputs": [
        {
          "output_type": "execute_result",
          "data": {
            "text/html": [
              "<div>\n",
              "<style scoped>\n",
              "    .dataframe tbody tr th:only-of-type {\n",
              "        vertical-align: middle;\n",
              "    }\n",
              "\n",
              "    .dataframe tbody tr th {\n",
              "        vertical-align: top;\n",
              "    }\n",
              "\n",
              "    .dataframe thead th {\n",
              "        text-align: right;\n",
              "    }\n",
              "</style>\n",
              "<table border=\"1\" class=\"dataframe\">\n",
              "  <thead>\n",
              "    <tr style=\"text-align: right;\">\n",
              "      <th></th>\n",
              "      <th>0</th>\n",
              "      <th>1</th>\n",
              "      <th>2</th>\n",
              "      <th>3</th>\n",
              "      <th>4</th>\n",
              "      <th>5</th>\n",
              "      <th>6</th>\n",
              "      <th>7</th>\n",
              "      <th>8</th>\n",
              "      <th>9</th>\n",
              "      <th>10</th>\n",
              "    </tr>\n",
              "  </thead>\n",
              "  <tbody>\n",
              "    <tr>\n",
              "      <th>0</th>\n",
              "      <td>0</td>\n",
              "      <td>0</td>\n",
              "      <td>0</td>\n",
              "      <td>0</td>\n",
              "      <td>0</td>\n",
              "      <td>0</td>\n",
              "      <td>0</td>\n",
              "      <td>0</td>\n",
              "      <td>0</td>\n",
              "      <td>0</td>\n",
              "      <td>1</td>\n",
              "    </tr>\n",
              "    <tr>\n",
              "      <th>1</th>\n",
              "      <td>0</td>\n",
              "      <td>0</td>\n",
              "      <td>0</td>\n",
              "      <td>0</td>\n",
              "      <td>0</td>\n",
              "      <td>0</td>\n",
              "      <td>0</td>\n",
              "      <td>0</td>\n",
              "      <td>0</td>\n",
              "      <td>0</td>\n",
              "      <td>1</td>\n",
              "    </tr>\n",
              "    <tr>\n",
              "      <th>2</th>\n",
              "      <td>0</td>\n",
              "      <td>0</td>\n",
              "      <td>0</td>\n",
              "      <td>0</td>\n",
              "      <td>0</td>\n",
              "      <td>0</td>\n",
              "      <td>0</td>\n",
              "      <td>0</td>\n",
              "      <td>0</td>\n",
              "      <td>0</td>\n",
              "      <td>1</td>\n",
              "    </tr>\n",
              "    <tr>\n",
              "      <th>3</th>\n",
              "      <td>0</td>\n",
              "      <td>0</td>\n",
              "      <td>0</td>\n",
              "      <td>0</td>\n",
              "      <td>0</td>\n",
              "      <td>0</td>\n",
              "      <td>0</td>\n",
              "      <td>0</td>\n",
              "      <td>0</td>\n",
              "      <td>0</td>\n",
              "      <td>1</td>\n",
              "    </tr>\n",
              "    <tr>\n",
              "      <th>4</th>\n",
              "      <td>0</td>\n",
              "      <td>0</td>\n",
              "      <td>0</td>\n",
              "      <td>0</td>\n",
              "      <td>0</td>\n",
              "      <td>1</td>\n",
              "      <td>0</td>\n",
              "      <td>0</td>\n",
              "      <td>0</td>\n",
              "      <td>0</td>\n",
              "      <td>1</td>\n",
              "    </tr>\n",
              "    <tr>\n",
              "      <th>5</th>\n",
              "      <td>0</td>\n",
              "      <td>0</td>\n",
              "      <td>0</td>\n",
              "      <td>0</td>\n",
              "      <td>0</td>\n",
              "      <td>0</td>\n",
              "      <td>0</td>\n",
              "      <td>0</td>\n",
              "      <td>0</td>\n",
              "      <td>1</td>\n",
              "      <td>0</td>\n",
              "    </tr>\n",
              "    <tr>\n",
              "      <th>6</th>\n",
              "      <td>0</td>\n",
              "      <td>0</td>\n",
              "      <td>0</td>\n",
              "      <td>0</td>\n",
              "      <td>0</td>\n",
              "      <td>0</td>\n",
              "      <td>0</td>\n",
              "      <td>0</td>\n",
              "      <td>0</td>\n",
              "      <td>0</td>\n",
              "      <td>1</td>\n",
              "    </tr>\n",
              "    <tr>\n",
              "      <th>7</th>\n",
              "      <td>0</td>\n",
              "      <td>0</td>\n",
              "      <td>0</td>\n",
              "      <td>0</td>\n",
              "      <td>0</td>\n",
              "      <td>0</td>\n",
              "      <td>1</td>\n",
              "      <td>0</td>\n",
              "      <td>0</td>\n",
              "      <td>0</td>\n",
              "      <td>0</td>\n",
              "    </tr>\n",
              "    <tr>\n",
              "      <th>8</th>\n",
              "      <td>0</td>\n",
              "      <td>0</td>\n",
              "      <td>0</td>\n",
              "      <td>0</td>\n",
              "      <td>0</td>\n",
              "      <td>0</td>\n",
              "      <td>0</td>\n",
              "      <td>0</td>\n",
              "      <td>0</td>\n",
              "      <td>1</td>\n",
              "      <td>0</td>\n",
              "    </tr>\n",
              "    <tr>\n",
              "      <th>9</th>\n",
              "      <td>0</td>\n",
              "      <td>0</td>\n",
              "      <td>0</td>\n",
              "      <td>0</td>\n",
              "      <td>0</td>\n",
              "      <td>0</td>\n",
              "      <td>0</td>\n",
              "      <td>0</td>\n",
              "      <td>0</td>\n",
              "      <td>0</td>\n",
              "      <td>1</td>\n",
              "    </tr>\n",
              "  </tbody>\n",
              "</table>\n",
              "</div>"
            ],
            "text/plain": [
              "   0   1   2   3   4   5   6   7   8   9   10\n",
              "0   0   0   0   0   0   0   0   0   0   0   1\n",
              "1   0   0   0   0   0   0   0   0   0   0   1\n",
              "2   0   0   0   0   0   0   0   0   0   0   1\n",
              "3   0   0   0   0   0   0   0   0   0   0   1\n",
              "4   0   0   0   0   0   1   0   0   0   0   1\n",
              "5   0   0   0   0   0   0   0   0   0   1   0\n",
              "6   0   0   0   0   0   0   0   0   0   0   1\n",
              "7   0   0   0   0   0   0   1   0   0   0   0\n",
              "8   0   0   0   0   0   0   0   0   0   1   0\n",
              "9   0   0   0   0   0   0   0   0   0   0   1"
            ]
          },
          "metadata": {
            "tags": []
          },
          "execution_count": 108
        }
      ]
    },
    {
      "cell_type": "code",
      "metadata": {
        "id": "fvMHL95Ld3Xe",
        "colab": {
          "base_uri": "https://localhost:8080/",
          "height": 49
        },
        "outputId": "3cb0e501-b59d-4829-df81-6e4ac4fcd3d2"
      },
      "source": [
        "res[res.sum(axis=1) == 0]\n",
        "# 결측값 없음."
      ],
      "execution_count": 109,
      "outputs": [
        {
          "output_type": "execute_result",
          "data": {
            "text/html": [
              "<div>\n",
              "<style scoped>\n",
              "    .dataframe tbody tr th:only-of-type {\n",
              "        vertical-align: middle;\n",
              "    }\n",
              "\n",
              "    .dataframe tbody tr th {\n",
              "        vertical-align: top;\n",
              "    }\n",
              "\n",
              "    .dataframe thead th {\n",
              "        text-align: right;\n",
              "    }\n",
              "</style>\n",
              "<table border=\"1\" class=\"dataframe\">\n",
              "  <thead>\n",
              "    <tr style=\"text-align: right;\">\n",
              "      <th></th>\n",
              "      <th>0</th>\n",
              "      <th>1</th>\n",
              "      <th>2</th>\n",
              "      <th>3</th>\n",
              "      <th>4</th>\n",
              "      <th>5</th>\n",
              "      <th>6</th>\n",
              "      <th>7</th>\n",
              "      <th>8</th>\n",
              "      <th>9</th>\n",
              "      <th>10</th>\n",
              "    </tr>\n",
              "  </thead>\n",
              "  <tbody>\n",
              "  </tbody>\n",
              "</table>\n",
              "</div>"
            ],
            "text/plain": [
              "Empty DataFrame\n",
              "Columns: [0, 1, 2, 3, 4, 5, 6, 7, 8, 9, 10]\n",
              "Index: []"
            ]
          },
          "metadata": {
            "tags": []
          },
          "execution_count": 109
        }
      ]
    },
    {
      "cell_type": "code",
      "metadata": {
        "id": "xWN2tlIjeIFo",
        "colab": {
          "base_uri": "https://localhost:8080/"
        },
        "outputId": "7bdb226d-fb83-47be-c808-e97314720f11"
      },
      "source": [
        "res.sum(axis=0)"
      ],
      "execution_count": 110,
      "outputs": [
        {
          "output_type": "execute_result",
          "data": {
            "text/plain": [
              "0      312\n",
              "1       29\n",
              "2       18\n",
              "3        1\n",
              "4       53\n",
              "5      154\n",
              "6      327\n",
              "7        0\n",
              "8      275\n",
              "9      113\n",
              "10    1659\n",
              "dtype: int64"
            ]
          },
          "metadata": {
            "tags": []
          },
          "execution_count": 110
        }
      ]
    },
    {
      "cell_type": "code",
      "metadata": {
        "id": "UgLuFt_erm2H",
        "colab": {
          "base_uri": "https://localhost:8080/",
          "height": 203
        },
        "outputId": "3146142e-7b4e-4c7a-c230-371abb4dbce8"
      },
      "source": [
        "test_df.head()"
      ],
      "execution_count": 111,
      "outputs": [
        {
          "output_type": "execute_result",
          "data": {
            "text/html": [
              "<div>\n",
              "<style scoped>\n",
              "    .dataframe tbody tr th:only-of-type {\n",
              "        vertical-align: middle;\n",
              "    }\n",
              "\n",
              "    .dataframe tbody tr th {\n",
              "        vertical-align: top;\n",
              "    }\n",
              "\n",
              "    .dataframe thead th {\n",
              "        text-align: right;\n",
              "    }\n",
              "</style>\n",
              "<table border=\"1\" class=\"dataframe\">\n",
              "  <thead>\n",
              "    <tr style=\"text-align: right;\">\n",
              "      <th></th>\n",
              "      <th>ID</th>\n",
              "      <th>Tweet</th>\n",
              "      <th>bow</th>\n",
              "    </tr>\n",
              "  </thead>\n",
              "  <tbody>\n",
              "    <tr>\n",
              "      <th>0</th>\n",
              "      <td>5001</td>\n",
              "      <td>forgot math test failing teacher opening back ...</td>\n",
              "      <td>[1465, 4023, 42, 828, 4, 5, 1353, 412, 4, 85, ...</td>\n",
              "    </tr>\n",
              "    <tr>\n",
              "      <th>1</th>\n",
              "      <td>5002</td>\n",
              "      <td>covid effected came delhi bihar lakhisarai dis...</td>\n",
              "      <td>[3, 2761, 7, 379, 718, 2801, 233, 1929, 1562, ...</td>\n",
              "    </tr>\n",
              "    <tr>\n",
              "      <th>2</th>\n",
              "      <td>5003</td>\n",
              "      <td>make covid end na</td>\n",
              "      <td>[67, 3, 124, 27]</td>\n",
              "    </tr>\n",
              "    <tr>\n",
              "      <th>3</th>\n",
              "      <td>5004</td>\n",
              "      <td>imagine covidvirus pandemic big april fool jok...</td>\n",
              "      <td>[294, 176, 6, 96, 141, 14, 15, 22, 68, 36, 817...</td>\n",
              "    </tr>\n",
              "    <tr>\n",
              "      <th>4</th>\n",
              "      <td>5005</td>\n",
              "      <td>howdy ana get married covidvirus update gov</td>\n",
              "      <td>[2797, 135, 5, 566, 21, 2673, 7, 6, 261, 297]</td>\n",
              "    </tr>\n",
              "  </tbody>\n",
              "</table>\n",
              "</div>"
            ],
            "text/plain": [
              "     ID  ...                                                bow\n",
              "0  5001  ...  [1465, 4023, 42, 828, 4, 5, 1353, 412, 4, 85, ...\n",
              "1  5002  ...  [3, 2761, 7, 379, 718, 2801, 233, 1929, 1562, ...\n",
              "2  5003  ...                                   [67, 3, 124, 27]\n",
              "3  5004  ...  [294, 176, 6, 96, 141, 14, 15, 22, 68, 36, 817...\n",
              "4  5005  ...      [2797, 135, 5, 566, 21, 2673, 7, 6, 261, 297]\n",
              "\n",
              "[5 rows x 3 columns]"
            ]
          },
          "metadata": {
            "tags": []
          },
          "execution_count": 111
        }
      ]
    },
    {
      "cell_type": "code",
      "metadata": {
        "id": "cLJ1fQ3erodF",
        "colab": {
          "base_uri": "https://localhost:8080/",
          "height": 203
        },
        "outputId": "e90ff397-1f91-4723-d1f9-931bcd903a08"
      },
      "source": [
        "submission = test_df.drop(['Tweet'], axis=1)\n",
        "submission['Labels'] = None\n",
        "submission.head()"
      ],
      "execution_count": 112,
      "outputs": [
        {
          "output_type": "execute_result",
          "data": {
            "text/html": [
              "<div>\n",
              "<style scoped>\n",
              "    .dataframe tbody tr th:only-of-type {\n",
              "        vertical-align: middle;\n",
              "    }\n",
              "\n",
              "    .dataframe tbody tr th {\n",
              "        vertical-align: top;\n",
              "    }\n",
              "\n",
              "    .dataframe thead th {\n",
              "        text-align: right;\n",
              "    }\n",
              "</style>\n",
              "<table border=\"1\" class=\"dataframe\">\n",
              "  <thead>\n",
              "    <tr style=\"text-align: right;\">\n",
              "      <th></th>\n",
              "      <th>ID</th>\n",
              "      <th>bow</th>\n",
              "      <th>Labels</th>\n",
              "    </tr>\n",
              "  </thead>\n",
              "  <tbody>\n",
              "    <tr>\n",
              "      <th>0</th>\n",
              "      <td>5001</td>\n",
              "      <td>[1465, 4023, 42, 828, 4, 5, 1353, 412, 4, 85, ...</td>\n",
              "      <td>None</td>\n",
              "    </tr>\n",
              "    <tr>\n",
              "      <th>1</th>\n",
              "      <td>5002</td>\n",
              "      <td>[3, 2761, 7, 379, 718, 2801, 233, 1929, 1562, ...</td>\n",
              "      <td>None</td>\n",
              "    </tr>\n",
              "    <tr>\n",
              "      <th>2</th>\n",
              "      <td>5003</td>\n",
              "      <td>[67, 3, 124, 27]</td>\n",
              "      <td>None</td>\n",
              "    </tr>\n",
              "    <tr>\n",
              "      <th>3</th>\n",
              "      <td>5004</td>\n",
              "      <td>[294, 176, 6, 96, 141, 14, 15, 22, 68, 36, 817...</td>\n",
              "      <td>None</td>\n",
              "    </tr>\n",
              "    <tr>\n",
              "      <th>4</th>\n",
              "      <td>5005</td>\n",
              "      <td>[2797, 135, 5, 566, 21, 2673, 7, 6, 261, 297]</td>\n",
              "      <td>None</td>\n",
              "    </tr>\n",
              "  </tbody>\n",
              "</table>\n",
              "</div>"
            ],
            "text/plain": [
              "     ID                                                bow Labels\n",
              "0  5001  [1465, 4023, 42, 828, 4, 5, 1353, 412, 4, 85, ...   None\n",
              "1  5002  [3, 2761, 7, 379, 718, 2801, 233, 1929, 1562, ...   None\n",
              "2  5003                                   [67, 3, 124, 27]   None\n",
              "3  5004  [294, 176, 6, 96, 141, 14, 15, 22, 68, 36, 817...   None\n",
              "4  5005      [2797, 135, 5, 566, 21, 2673, 7, 6, 261, 297]   None"
            ]
          },
          "metadata": {
            "tags": []
          },
          "execution_count": 112
        }
      ]
    },
    {
      "cell_type": "code",
      "metadata": {
        "id": "j0uswMEgr-0Y",
        "colab": {
          "base_uri": "https://localhost:8080/"
        },
        "outputId": "936fe369-eaa3-4a99-b913-b822e12e0f37"
      },
      "source": [
        "Res = np.array(res)\n",
        "Res[0]"
      ],
      "execution_count": 113,
      "outputs": [
        {
          "output_type": "execute_result",
          "data": {
            "text/plain": [
              "array([0, 0, 0, 0, 0, 0, 0, 0, 0, 0, 1])"
            ]
          },
          "metadata": {
            "tags": []
          },
          "execution_count": 113
        }
      ]
    },
    {
      "cell_type": "code",
      "metadata": {
        "id": "VaOd8g9Er2zm"
      },
      "source": [
        "for i in range(2500) :\n",
        "        one_row = []\n",
        "        for cat in cols_target :\n",
        "            if int(res[i:i+1][int(cat)].values) == 1 :\n",
        "                one_row.append(str(cat))\n",
        "        submission['Labels'][i] = ' '.join(one_row)"
      ],
      "execution_count": 114,
      "outputs": []
    },
    {
      "cell_type": "code",
      "metadata": {
        "id": "eeAAnMXMsNz1",
        "colab": {
          "base_uri": "https://localhost:8080/",
          "height": 357
        },
        "outputId": "3ca90eb7-1bfb-41e6-eb94-af6b970d412c"
      },
      "source": [
        "submission[140:150]"
      ],
      "execution_count": 115,
      "outputs": [
        {
          "output_type": "execute_result",
          "data": {
            "text/html": [
              "<div>\n",
              "<style scoped>\n",
              "    .dataframe tbody tr th:only-of-type {\n",
              "        vertical-align: middle;\n",
              "    }\n",
              "\n",
              "    .dataframe tbody tr th {\n",
              "        vertical-align: top;\n",
              "    }\n",
              "\n",
              "    .dataframe thead th {\n",
              "        text-align: right;\n",
              "    }\n",
              "</style>\n",
              "<table border=\"1\" class=\"dataframe\">\n",
              "  <thead>\n",
              "    <tr style=\"text-align: right;\">\n",
              "      <th></th>\n",
              "      <th>ID</th>\n",
              "      <th>bow</th>\n",
              "      <th>Labels</th>\n",
              "    </tr>\n",
              "  </thead>\n",
              "  <tbody>\n",
              "    <tr>\n",
              "      <th>140</th>\n",
              "      <td>5141</td>\n",
              "      <td>[413, 129, 1648, 255, 1451, 4, 3, 11, 298, 8, ...</td>\n",
              "      <td>0 2</td>\n",
              "    </tr>\n",
              "    <tr>\n",
              "      <th>141</th>\n",
              "      <td>5142</td>\n",
              "      <td>[5, 78, 146, 7, 69, 55, 39, 1842, 1925, 1151, ...</td>\n",
              "      <td>10</td>\n",
              "    </tr>\n",
              "    <tr>\n",
              "      <th>142</th>\n",
              "      <td>5143</td>\n",
              "      <td>[2522, 6, 1242, 36, 99, 986, 445, 845, 4994, 5...</td>\n",
              "      <td>9</td>\n",
              "    </tr>\n",
              "    <tr>\n",
              "      <th>143</th>\n",
              "      <td>5144</td>\n",
              "      <td>[315, 9, 3, 141, 655, 24, 97, 680, 4, 415, 271...</td>\n",
              "      <td>10</td>\n",
              "    </tr>\n",
              "    <tr>\n",
              "      <th>144</th>\n",
              "      <td>5145</td>\n",
              "      <td>[2637, 748, 99, 742, 9, 33, 6, 28, 1792, 90, 6...</td>\n",
              "      <td>8</td>\n",
              "    </tr>\n",
              "    <tr>\n",
              "      <th>145</th>\n",
              "      <td>5146</td>\n",
              "      <td>[419, 4, 2195, 391, 1128, 2410, 5, 3324, 1856,...</td>\n",
              "      <td>10</td>\n",
              "    </tr>\n",
              "    <tr>\n",
              "      <th>146</th>\n",
              "      <td>5147</td>\n",
              "      <td>[1032, 31, 2521, 126, 10, 86, 733, 6, 14, 15, ...</td>\n",
              "      <td>6 10</td>\n",
              "    </tr>\n",
              "    <tr>\n",
              "      <th>147</th>\n",
              "      <td>5148</td>\n",
              "      <td>[66, 26, 3, 232, 9, 4132, 287, 63]</td>\n",
              "      <td>10</td>\n",
              "    </tr>\n",
              "    <tr>\n",
              "      <th>148</th>\n",
              "      <td>5149</td>\n",
              "      <td>[5, 2757, 97, 74, 16, 21, 6, 42, 1813, 208, 30...</td>\n",
              "      <td>10</td>\n",
              "    </tr>\n",
              "    <tr>\n",
              "      <th>149</th>\n",
              "      <td>5150</td>\n",
              "      <td>[19, 211, 4, 2329, 8, 3264, 5, 819, 415, 4, 32...</td>\n",
              "      <td>0</td>\n",
              "    </tr>\n",
              "  </tbody>\n",
              "</table>\n",
              "</div>"
            ],
            "text/plain": [
              "       ID                                                bow Labels\n",
              "140  5141  [413, 129, 1648, 255, 1451, 4, 3, 11, 298, 8, ...    0 2\n",
              "141  5142  [5, 78, 146, 7, 69, 55, 39, 1842, 1925, 1151, ...     10\n",
              "142  5143  [2522, 6, 1242, 36, 99, 986, 445, 845, 4994, 5...      9\n",
              "143  5144  [315, 9, 3, 141, 655, 24, 97, 680, 4, 415, 271...     10\n",
              "144  5145  [2637, 748, 99, 742, 9, 33, 6, 28, 1792, 90, 6...      8\n",
              "145  5146  [419, 4, 2195, 391, 1128, 2410, 5, 3324, 1856,...     10\n",
              "146  5147  [1032, 31, 2521, 126, 10, 86, 733, 6, 14, 15, ...   6 10\n",
              "147  5148                 [66, 26, 3, 232, 9, 4132, 287, 63]     10\n",
              "148  5149  [5, 2757, 97, 74, 16, 21, 6, 42, 1813, 208, 30...     10\n",
              "149  5150  [19, 211, 4, 2329, 8, 3264, 5, 819, 415, 4, 32...      0"
            ]
          },
          "metadata": {
            "tags": []
          },
          "execution_count": 115
        }
      ]
    },
    {
      "cell_type": "code",
      "metadata": {
        "id": "ozmp0Je9aQAz",
        "outputId": "794824fb-ac82-462d-aa80-b5523013ddfa",
        "colab": {
          "base_uri": "https://localhost:8080/",
          "height": 417
        }
      },
      "source": [
        "submission"
      ],
      "execution_count": 116,
      "outputs": [
        {
          "output_type": "execute_result",
          "data": {
            "text/html": [
              "<div>\n",
              "<style scoped>\n",
              "    .dataframe tbody tr th:only-of-type {\n",
              "        vertical-align: middle;\n",
              "    }\n",
              "\n",
              "    .dataframe tbody tr th {\n",
              "        vertical-align: top;\n",
              "    }\n",
              "\n",
              "    .dataframe thead th {\n",
              "        text-align: right;\n",
              "    }\n",
              "</style>\n",
              "<table border=\"1\" class=\"dataframe\">\n",
              "  <thead>\n",
              "    <tr style=\"text-align: right;\">\n",
              "      <th></th>\n",
              "      <th>ID</th>\n",
              "      <th>bow</th>\n",
              "      <th>Labels</th>\n",
              "    </tr>\n",
              "  </thead>\n",
              "  <tbody>\n",
              "    <tr>\n",
              "      <th>0</th>\n",
              "      <td>5001</td>\n",
              "      <td>[1465, 4023, 42, 828, 4, 5, 1353, 412, 4, 85, ...</td>\n",
              "      <td>10</td>\n",
              "    </tr>\n",
              "    <tr>\n",
              "      <th>1</th>\n",
              "      <td>5002</td>\n",
              "      <td>[3, 2761, 7, 379, 718, 2801, 233, 1929, 1562, ...</td>\n",
              "      <td>10</td>\n",
              "    </tr>\n",
              "    <tr>\n",
              "      <th>2</th>\n",
              "      <td>5003</td>\n",
              "      <td>[67, 3, 124, 27]</td>\n",
              "      <td>10</td>\n",
              "    </tr>\n",
              "    <tr>\n",
              "      <th>3</th>\n",
              "      <td>5004</td>\n",
              "      <td>[294, 176, 6, 96, 141, 14, 15, 22, 68, 36, 817...</td>\n",
              "      <td>10</td>\n",
              "    </tr>\n",
              "    <tr>\n",
              "      <th>4</th>\n",
              "      <td>5005</td>\n",
              "      <td>[2797, 135, 5, 566, 21, 2673, 7, 6, 261, 297]</td>\n",
              "      <td>5 10</td>\n",
              "    </tr>\n",
              "    <tr>\n",
              "      <th>...</th>\n",
              "      <td>...</td>\n",
              "      <td>...</td>\n",
              "      <td>...</td>\n",
              "    </tr>\n",
              "    <tr>\n",
              "      <th>2495</th>\n",
              "      <td>7496</td>\n",
              "      <td>[5, 792, 2116, 6, 112, 7, 1141, 12, 1513, 923,...</td>\n",
              "      <td>8</td>\n",
              "    </tr>\n",
              "    <tr>\n",
              "      <th>2496</th>\n",
              "      <td>7497</td>\n",
              "      <td>[362, 231, 17, 262, 20, 4, 1801, 743, 3, 950, ...</td>\n",
              "      <td>10</td>\n",
              "    </tr>\n",
              "    <tr>\n",
              "      <th>2497</th>\n",
              "      <td>7498</td>\n",
              "      <td>[129, 455, 3450, 1241, 336, 1030, 783, 3]</td>\n",
              "      <td>0 2</td>\n",
              "    </tr>\n",
              "    <tr>\n",
              "      <th>2498</th>\n",
              "      <td>7499</td>\n",
              "      <td>[230, 272, 596, 1019, 278, 7, 1741, 110, 1989,...</td>\n",
              "      <td>10</td>\n",
              "    </tr>\n",
              "    <tr>\n",
              "      <th>2499</th>\n",
              "      <td>7500</td>\n",
              "      <td>[1129, 160, 4, 6, 171, 327, 64, 1592, 29, 303]</td>\n",
              "      <td>10</td>\n",
              "    </tr>\n",
              "  </tbody>\n",
              "</table>\n",
              "<p>2500 rows × 3 columns</p>\n",
              "</div>"
            ],
            "text/plain": [
              "        ID                                                bow Labels\n",
              "0     5001  [1465, 4023, 42, 828, 4, 5, 1353, 412, 4, 85, ...     10\n",
              "1     5002  [3, 2761, 7, 379, 718, 2801, 233, 1929, 1562, ...     10\n",
              "2     5003                                   [67, 3, 124, 27]     10\n",
              "3     5004  [294, 176, 6, 96, 141, 14, 15, 22, 68, 36, 817...     10\n",
              "4     5005      [2797, 135, 5, 566, 21, 2673, 7, 6, 261, 297]   5 10\n",
              "...    ...                                                ...    ...\n",
              "2495  7496  [5, 792, 2116, 6, 112, 7, 1141, 12, 1513, 923,...      8\n",
              "2496  7497  [362, 231, 17, 262, 20, 4, 1801, 743, 3, 950, ...     10\n",
              "2497  7498          [129, 455, 3450, 1241, 336, 1030, 783, 3]    0 2\n",
              "2498  7499  [230, 272, 596, 1019, 278, 7, 1741, 110, 1989,...     10\n",
              "2499  7500     [1129, 160, 4, 6, 171, 327, 64, 1592, 29, 303]     10\n",
              "\n",
              "[2500 rows x 3 columns]"
            ]
          },
          "metadata": {
            "tags": []
          },
          "execution_count": 116
        }
      ]
    },
    {
      "cell_type": "code",
      "metadata": {
        "id": "BhvThv8qaRSk",
        "outputId": "59ef5d30-2250-41e3-fd32-a1a79863d62a",
        "colab": {
          "base_uri": "https://localhost:8080/",
          "height": 417
        }
      },
      "source": [
        "submission = submission.drop(['bow'], axis=1)\n",
        "submission"
      ],
      "execution_count": 118,
      "outputs": [
        {
          "output_type": "execute_result",
          "data": {
            "text/html": [
              "<div>\n",
              "<style scoped>\n",
              "    .dataframe tbody tr th:only-of-type {\n",
              "        vertical-align: middle;\n",
              "    }\n",
              "\n",
              "    .dataframe tbody tr th {\n",
              "        vertical-align: top;\n",
              "    }\n",
              "\n",
              "    .dataframe thead th {\n",
              "        text-align: right;\n",
              "    }\n",
              "</style>\n",
              "<table border=\"1\" class=\"dataframe\">\n",
              "  <thead>\n",
              "    <tr style=\"text-align: right;\">\n",
              "      <th></th>\n",
              "      <th>ID</th>\n",
              "      <th>Labels</th>\n",
              "    </tr>\n",
              "  </thead>\n",
              "  <tbody>\n",
              "    <tr>\n",
              "      <th>0</th>\n",
              "      <td>5001</td>\n",
              "      <td>10</td>\n",
              "    </tr>\n",
              "    <tr>\n",
              "      <th>1</th>\n",
              "      <td>5002</td>\n",
              "      <td>10</td>\n",
              "    </tr>\n",
              "    <tr>\n",
              "      <th>2</th>\n",
              "      <td>5003</td>\n",
              "      <td>10</td>\n",
              "    </tr>\n",
              "    <tr>\n",
              "      <th>3</th>\n",
              "      <td>5004</td>\n",
              "      <td>10</td>\n",
              "    </tr>\n",
              "    <tr>\n",
              "      <th>4</th>\n",
              "      <td>5005</td>\n",
              "      <td>5 10</td>\n",
              "    </tr>\n",
              "    <tr>\n",
              "      <th>...</th>\n",
              "      <td>...</td>\n",
              "      <td>...</td>\n",
              "    </tr>\n",
              "    <tr>\n",
              "      <th>2495</th>\n",
              "      <td>7496</td>\n",
              "      <td>8</td>\n",
              "    </tr>\n",
              "    <tr>\n",
              "      <th>2496</th>\n",
              "      <td>7497</td>\n",
              "      <td>10</td>\n",
              "    </tr>\n",
              "    <tr>\n",
              "      <th>2497</th>\n",
              "      <td>7498</td>\n",
              "      <td>0 2</td>\n",
              "    </tr>\n",
              "    <tr>\n",
              "      <th>2498</th>\n",
              "      <td>7499</td>\n",
              "      <td>10</td>\n",
              "    </tr>\n",
              "    <tr>\n",
              "      <th>2499</th>\n",
              "      <td>7500</td>\n",
              "      <td>10</td>\n",
              "    </tr>\n",
              "  </tbody>\n",
              "</table>\n",
              "<p>2500 rows × 2 columns</p>\n",
              "</div>"
            ],
            "text/plain": [
              "        ID Labels\n",
              "0     5001     10\n",
              "1     5002     10\n",
              "2     5003     10\n",
              "3     5004     10\n",
              "4     5005   5 10\n",
              "...    ...    ...\n",
              "2495  7496      8\n",
              "2496  7497     10\n",
              "2497  7498    0 2\n",
              "2498  7499     10\n",
              "2499  7500     10\n",
              "\n",
              "[2500 rows x 2 columns]"
            ]
          },
          "metadata": {
            "tags": []
          },
          "execution_count": 118
        }
      ]
    },
    {
      "cell_type": "code",
      "metadata": {
        "id": "wQDig-VcsbCd",
        "colab": {
          "base_uri": "https://localhost:8080/",
          "height": 17
        },
        "outputId": "c7a12d13-e09e-4418-82cb-6cbfac3856fe"
      },
      "source": [
        "submission.to_csv('1DCNN.csv', index=False)\n",
        "from google.colab import files\n",
        "files.download('1DCNN.csv')"
      ],
      "execution_count": 119,
      "outputs": [
        {
          "output_type": "display_data",
          "data": {
            "application/javascript": [
              "\n",
              "    async function download(id, filename, size) {\n",
              "      if (!google.colab.kernel.accessAllowed) {\n",
              "        return;\n",
              "      }\n",
              "      const div = document.createElement('div');\n",
              "      const label = document.createElement('label');\n",
              "      label.textContent = `Downloading \"${filename}\": `;\n",
              "      div.appendChild(label);\n",
              "      const progress = document.createElement('progress');\n",
              "      progress.max = size;\n",
              "      div.appendChild(progress);\n",
              "      document.body.appendChild(div);\n",
              "\n",
              "      const buffers = [];\n",
              "      let downloaded = 0;\n",
              "\n",
              "      const channel = await google.colab.kernel.comms.open(id);\n",
              "      // Send a message to notify the kernel that we're ready.\n",
              "      channel.send({})\n",
              "\n",
              "      for await (const message of channel.messages) {\n",
              "        // Send a message to notify the kernel that we're ready.\n",
              "        channel.send({})\n",
              "        if (message.buffers) {\n",
              "          for (const buffer of message.buffers) {\n",
              "            buffers.push(buffer);\n",
              "            downloaded += buffer.byteLength;\n",
              "            progress.value = downloaded;\n",
              "          }\n",
              "        }\n",
              "      }\n",
              "      const blob = new Blob(buffers, {type: 'application/binary'});\n",
              "      const a = document.createElement('a');\n",
              "      a.href = window.URL.createObjectURL(blob);\n",
              "      a.download = filename;\n",
              "      div.appendChild(a);\n",
              "      a.click();\n",
              "      div.remove();\n",
              "    }\n",
              "  "
            ],
            "text/plain": [
              "<IPython.core.display.Javascript object>"
            ]
          },
          "metadata": {
            "tags": []
          }
        },
        {
          "output_type": "display_data",
          "data": {
            "application/javascript": [
              "download(\"download_7d5c2bf3-2829-4bc2-a329-b92e2f0339f1\", \"1DCNN.csv\", 20051)"
            ],
            "text/plain": [
              "<IPython.core.display.Javascript object>"
            ]
          },
          "metadata": {
            "tags": []
          }
        }
      ]
    },
    {
      "cell_type": "code",
      "metadata": {
        "id": "mmQSNECxsz0Y"
      },
      "source": [
        ""
      ],
      "execution_count": null,
      "outputs": []
    }
  ]
}