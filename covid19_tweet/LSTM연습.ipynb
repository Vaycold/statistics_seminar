{
  "nbformat": 4,
  "nbformat_minor": 0,
  "metadata": {
    "colab": {
      "name": "Untitled40.ipynb",
      "provenance": [],
      "authorship_tag": "ABX9TyMuM0OuHVapHbVWIlI9ulJG",
      "include_colab_link": true
    },
    "kernelspec": {
      "name": "python3",
      "display_name": "Python 3"
    },
    "language_info": {
      "name": "python"
    }
  },
  "cells": [
    {
      "cell_type": "markdown",
      "metadata": {
        "id": "view-in-github",
        "colab_type": "text"
      },
      "source": [
        "<a href=\"https://colab.research.google.com/github/Vaycold/statistics_seminar/blob/main/covid19_tweet/LSTM%EC%97%B0%EC%8A%B5.ipynb\" target=\"_parent\"><img src=\"https://colab.research.google.com/assets/colab-badge.svg\" alt=\"Open In Colab\"/></a>"
      ]
    },
    {
      "cell_type": "code",
      "metadata": {
        "id": "7mnsV52y3ZHZ"
      },
      "source": [
        ""
      ],
      "execution_count": null,
      "outputs": []
    },
    {
      "cell_type": "code",
      "metadata": {
        "colab": {
          "base_uri": "https://localhost:8080/"
        },
        "id": "xMZqGwLal7Tq",
        "outputId": "747e6593-0f5d-4040-d59d-a8afa9db0383"
      },
      "source": [
        "import os\n",
        "\n",
        "import numpy as np\n",
        "import pandas as pd\n",
        "import matplotlib.pyplot as plt\n",
        "import warnings \n",
        "import re\n",
        "\n",
        "import nltk\n",
        "from nltk.corpus import stopwords\n",
        "from nltk.tokenize import word_tokenize\n",
        "from nltk.stem import WordNetLemmatizer\n",
        "\n",
        "import tensorflow as tf\n",
        "from tensorflow import keras\n",
        "from keras.preprocessing.sequence import pad_sequences\n",
        "from keras.preprocessing.text import Tokenizer    \n",
        "from google.colab import files\n",
        "\n",
        "from sklearn.feature_extraction.text import TfidfVectorizer\n",
        "from sklearn.model_selection import StratifiedKFold\n",
        "from sklearn.metrics import f1_score, accuracy_score\n",
        "from sklearn.model_selection import train_test_split\n",
        "\n",
        "\n",
        "warnings.filterwarnings('ignore')\n",
        "\n",
        "os.environ['KAGGLE_USERNAME'] = 'kimgodbang'\n",
        "os.environ['KAGGLE_KEY'] = '1c0e1716b23829d4381dcbced37ba49b'\n",
        "\n",
        "!rm *.*\n",
        "!kaggle competitions download -c sentiment-analysis-of-covid-19-related-tweets\n",
        "\n",
        "train_df = pd.read_csv('training.csv')\n",
        "test_df = pd.read_csv('validation.csv')\n",
        "\n",
        "for module in ['stopwords', 'punkt', 'wordnet'] :\n",
        "    nltk.download(module)"
      ],
      "execution_count": 280,
      "outputs": [
        {
          "output_type": "stream",
          "text": [
            "Warning: Looks like you're using an outdated API Version, please consider updating (server 1.5.12 / client 1.5.4)\n",
            "Downloading validation.csv to /content\n",
            "  0% 0.00/254k [00:00<?, ?B/s]\n",
            "100% 254k/254k [00:00<00:00, 37.4MB/s]\n",
            "Downloading training.csv to /content\n",
            "  0% 0.00/518k [00:00<?, ?B/s]\n",
            "100% 518k/518k [00:00<00:00, 72.2MB/s]\n",
            "[nltk_data] Downloading package stopwords to /root/nltk_data...\n",
            "[nltk_data]   Package stopwords is already up-to-date!\n",
            "[nltk_data] Downloading package punkt to /root/nltk_data...\n",
            "[nltk_data]   Package punkt is already up-to-date!\n",
            "[nltk_data] Downloading package wordnet to /root/nltk_data...\n",
            "[nltk_data]   Package wordnet is already up-to-date!\n"
          ],
          "name": "stdout"
        }
      ]
    },
    {
      "cell_type": "code",
      "metadata": {
        "id": "dZE4g20Smd13"
      },
      "source": [
        "def labelsplit(labels) :\n",
        "    \n",
        "    label = labels.replace(' ',',').split(',')\n",
        "    for idx, lab in enumerate(label) :\n",
        "        label[idx] = int(lab)\n",
        "    return label"
      ],
      "execution_count": 281,
      "outputs": []
    },
    {
      "cell_type": "code",
      "metadata": {
        "id": "WDV_duLnTTZI"
      },
      "source": [
        "train_df['label']  = train_df['Labels'].apply(lambda x :  labelsplit(x))"
      ],
      "execution_count": 282,
      "outputs": []
    },
    {
      "cell_type": "code",
      "metadata": {
        "id": "G1k6WG7kTV7V"
      },
      "source": [
        "onehot = np.zeros((5000,11))\n",
        "for i in range(5000) : # 0~5000 row\n",
        "    for j in train_df.label[i] : # j = value   \n",
        "        onehot[i,j]  = 1\n",
        "cols_target = ['0','1','2','3','4','5','6','7','8','9','10']\n",
        "onehot = pd.DataFrame(onehot, columns=cols_target)"
      ],
      "execution_count": 283,
      "outputs": []
    },
    {
      "cell_type": "code",
      "metadata": {
        "id": "TFikCUrtTYoQ"
      },
      "source": [
        "train_df = pd.concat(\n",
        "    [train_df, onehot], axis=1\n",
        ").drop(['ID','Labels', 'label'],axis=1)"
      ],
      "execution_count": 284,
      "outputs": []
    },
    {
      "cell_type": "markdown",
      "metadata": {
        "id": "X9iY7aUraIcU"
      },
      "source": [
        "## EDA"
      ]
    },
    {
      "cell_type": "code",
      "metadata": {
        "colab": {
          "base_uri": "https://localhost:8080/",
          "height": 375
        },
        "id": "_-V9ztmOaIB1",
        "outputId": "7b53fedb-103e-48af-a9b0-f61c5e5bb99f"
      },
      "source": [
        "# 단어의 갯수\n",
        "\n",
        "word_count = train_df['Tweet'].apply(lambda x : len(x.split(' ')))\n",
        "print(f' Tweet 중 단어가 가장 많은 tweet의 단어 수 : {np.max(word_count)}')\n",
        "print(f' Tweet 중 단어가 가장 적은 tweet의 단어 수 : {np.min(word_count)}')\n",
        "print(f' 평균 tweet 의 길이 : {np.mean(word_count)}')\n",
        "print(f' tweet 의 길이의 중간값 : {np.median(word_count)}')\n",
        "print('\\n')\n",
        "plt.hist(word_count, bins=30)\n",
        "plt.show()"
      ],
      "execution_count": 285,
      "outputs": [
        {
          "output_type": "stream",
          "text": [
            " Tweet 중 단어가 가장 많은 tweet의 단어 수 : 30\n",
            " Tweet 중 단어가 가장 적은 tweet의 단어 수 : 1\n",
            " 평균 tweet 의 길이 : 16.9214\n",
            " tweet 의 길이의 중간값 : 17.0\n",
            "\n",
            "\n"
          ],
          "name": "stdout"
        },
        {
          "output_type": "display_data",
          "data": {
            "image/png": "[encoded data removed]",
            "text/plain": [
              "<Figure size 432x288 with 1 Axes>"
            ]
          },
          "metadata": {
            "tags": [],
            "needs_background": "light"
          }
        }
      ]
    },
    {
      "cell_type": "markdown",
      "metadata": {
        "id": "Ibwp-5vmPNpW"
      },
      "source": [
        "## 텍스트 클렌징"
      ]
    },
    {
      "cell_type": "code",
      "metadata": {
        "id": "DJMeOtejPOwi"
      },
      "source": [
        "stop = stopwords.words('english')\n",
        "def word_lemmatizer(text):\n",
        "    lem_text = [WordNetLemmatizer().lemmatize(i) for i in text]\n",
        "    return lem_text\n",
        "def  clean_text(df, text_field='Tweet', new_text_field_name='clean_tweet'):\n",
        "    df[new_text_field_name] = df[text_field].str.lower()\n",
        "    df[new_text_field_name] = df[new_text_field_name].apply(lambda x : x.lower())\n",
        "    df[new_text_field_name] = df[new_text_field_name].apply(lambda x : x.replace('corona','covid'))\n",
        "    df[new_text_field_name] = df[new_text_field_name].apply(lambda x : x.replace('coronavirus','virus'))\n",
        "    df[new_text_field_name] = df[new_text_field_name].apply(lambda elem: re.sub(r\"(@[A-Za-z0-9]+)|([^0-9A-Za-z \\t])|(\\w+:\\/\\/\\S+)|^rt|http.+?\", \"\", elem))  \n",
        "    df[new_text_field_name] = df[new_text_field_name].apply(lambda elem: re.sub(r\"\\d+\", \"\", elem))\n",
        "    df[new_text_field_name] = df[new_text_field_name].apply(lambda x: ' '.join([word for word in x.split() if word not in (stop)]))\n",
        "    df[new_text_field_name] = df[new_text_field_name].apply(lambda x: word_tokenize(x))\n",
        "    df[new_text_field_name] = df[new_text_field_name].apply(lambda x: word_lemmatizer(x))\n",
        "    df[new_text_field_name] = df[new_text_field_name].apply(lambda x: ' '.join(x))\n",
        "    return df"
      ],
      "execution_count": 286,
      "outputs": []
    },
    {
      "cell_type": "code",
      "metadata": {
        "id": "QwAkp68dQTq-"
      },
      "source": [
        "def clean_df(df) :\n",
        "    DF = clean_text(df, 'Tweet', 'clean_tweet')\n",
        "    try :\n",
        "        DF = DF[['clean_tweet','0', '1', '2', '3', '4', '5', '6', '7', '8', '9', '10']]\n",
        "        DF.columns = ['Tweet','0', '1', '2', '3', '4', '5', '6', '7', '8', '9', '10']\n",
        "    except :\n",
        "        DF = DF[['ID','clean_tweet']]\n",
        "        DF.columns = ['ID','Tweet']\n",
        "    \n",
        "    return DF\n",
        "    \n",
        "def one(x) :\n",
        "    if x > 2 :\n",
        "        return 1\n",
        "    else :\n",
        "        return 0"
      ],
      "execution_count": 287,
      "outputs": []
    },
    {
      "cell_type": "code",
      "metadata": {
        "id": "gn7c1-luTde4"
      },
      "source": [
        "train_df = clean_df(train_df)\n",
        "test_df = clean_df(test_df)"
      ],
      "execution_count": 288,
      "outputs": []
    },
    {
      "cell_type": "code",
      "metadata": {
        "colab": {
          "base_uri": "https://localhost:8080/",
          "height": 110
        },
        "id": "FxESk9JaSVpE",
        "outputId": "7494517d-4ba7-4cf7-cb9e-381e638d7f3a"
      },
      "source": [
        "train_df.head(2)"
      ],
      "execution_count": 289,
      "outputs": [
        {
          "output_type": "execute_result",
          "data": {
            "text/html": [
              "<div>\n",
              "<style scoped>\n",
              "    .dataframe tbody tr th:only-of-type {\n",
              "        vertical-align: middle;\n",
              "    }\n",
              "\n",
              "    .dataframe tbody tr th {\n",
              "        vertical-align: top;\n",
              "    }\n",
              "\n",
              "    .dataframe thead th {\n",
              "        text-align: right;\n",
              "    }\n",
              "</style>\n",
              "<table border=\"1\" class=\"dataframe\">\n",
              "  <thead>\n",
              "    <tr style=\"text-align: right;\">\n",
              "      <th></th>\n",
              "      <th>Tweet</th>\n",
              "      <th>0</th>\n",
              "      <th>1</th>\n",
              "      <th>2</th>\n",
              "      <th>3</th>\n",
              "      <th>4</th>\n",
              "      <th>5</th>\n",
              "      <th>6</th>\n",
              "      <th>7</th>\n",
              "      <th>8</th>\n",
              "      <th>9</th>\n",
              "      <th>10</th>\n",
              "    </tr>\n",
              "  </thead>\n",
              "  <tbody>\n",
              "    <tr>\n",
              "      <th>0</th>\n",
              "      <td>joke hop plane rn well covid lol</td>\n",
              "      <td>1.0</td>\n",
              "      <td>0.0</td>\n",
              "      <td>0.0</td>\n",
              "      <td>0.0</td>\n",
              "      <td>0.0</td>\n",
              "      <td>0.0</td>\n",
              "      <td>0.0</td>\n",
              "      <td>0.0</td>\n",
              "      <td>0.0</td>\n",
              "      <td>0.0</td>\n",
              "      <td>1.0</td>\n",
              "    </tr>\n",
              "    <tr>\n",
              "      <th>1</th>\n",
              "      <td>banmediahouse whose responsible spreading fake...</td>\n",
              "      <td>0.0</td>\n",
              "      <td>0.0</td>\n",
              "      <td>0.0</td>\n",
              "      <td>0.0</td>\n",
              "      <td>0.0</td>\n",
              "      <td>0.0</td>\n",
              "      <td>1.0</td>\n",
              "      <td>0.0</td>\n",
              "      <td>0.0</td>\n",
              "      <td>0.0</td>\n",
              "      <td>0.0</td>\n",
              "    </tr>\n",
              "  </tbody>\n",
              "</table>\n",
              "</div>"
            ],
            "text/plain": [
              "                                               Tweet    0    1  ...    8    9   10\n",
              "0                   joke hop plane rn well covid lol  1.0  0.0  ...  0.0  0.0  1.0\n",
              "1  banmediahouse whose responsible spreading fake...  0.0  0.0  ...  0.0  0.0  0.0\n",
              "\n",
              "[2 rows x 12 columns]"
            ]
          },
          "metadata": {
            "tags": []
          },
          "execution_count": 289
        }
      ]
    },
    {
      "cell_type": "code",
      "metadata": {
        "colab": {
          "base_uri": "https://localhost:8080/",
          "height": 110
        },
        "id": "HzKoXr0DSXmk",
        "outputId": "71b036a3-e4b9-43fe-ce32-75da72c973e3"
      },
      "source": [
        "test_df.head(2)"
      ],
      "execution_count": 290,
      "outputs": [
        {
          "output_type": "execute_result",
          "data": {
            "text/html": [
              "<div>\n",
              "<style scoped>\n",
              "    .dataframe tbody tr th:only-of-type {\n",
              "        vertical-align: middle;\n",
              "    }\n",
              "\n",
              "    .dataframe tbody tr th {\n",
              "        vertical-align: top;\n",
              "    }\n",
              "\n",
              "    .dataframe thead th {\n",
              "        text-align: right;\n",
              "    }\n",
              "</style>\n",
              "<table border=\"1\" class=\"dataframe\">\n",
              "  <thead>\n",
              "    <tr style=\"text-align: right;\">\n",
              "      <th></th>\n",
              "      <th>ID</th>\n",
              "      <th>Tweet</th>\n",
              "    </tr>\n",
              "  </thead>\n",
              "  <tbody>\n",
              "    <tr>\n",
              "      <th>0</th>\n",
              "      <td>5001</td>\n",
              "      <td>forgot math test failing teacher opening back ...</td>\n",
              "    </tr>\n",
              "    <tr>\n",
              "      <th>1</th>\n",
              "      <td>5002</td>\n",
              "      <td>covid effected came delhi bihar lakhisarai dis...</td>\n",
              "    </tr>\n",
              "  </tbody>\n",
              "</table>\n",
              "</div>"
            ],
            "text/plain": [
              "     ID                                              Tweet\n",
              "0  5001  forgot math test failing teacher opening back ...\n",
              "1  5002  covid effected came delhi bihar lakhisarai dis..."
            ]
          },
          "metadata": {
            "tags": []
          },
          "execution_count": 290
        }
      ]
    },
    {
      "cell_type": "code",
      "metadata": {
        "id": "sxR_mDz7o_UW",
        "colab": {
          "base_uri": "https://localhost:8080/"
        },
        "outputId": "6359c467-74dc-4449-a854-4149a0cfa3bf"
      },
      "source": [
        "# 단어수 \n",
        "print(len(set([word for words in train_tweet for word in words.split()])))"
      ],
      "execution_count": 291,
      "outputs": [
        {
          "output_type": "stream",
          "text": [
            "8517\n"
          ],
          "name": "stdout"
        }
      ]
    },
    {
      "cell_type": "code",
      "metadata": {
        "colab": {
          "base_uri": "https://localhost:8080/",
          "height": 375
        },
        "id": "4Cw84A7IdKdO",
        "outputId": "03be0b5a-e85a-4774-e343-949da85e3ca1"
      },
      "source": [
        "word_count = train_df['Tweet'].apply(lambda x : len(x.split(' ')))\n",
        "print(f' Tweet 중 단어가 가장 많은 tweet의 단어 수 : {np.max(word_count)}')\n",
        "print(f' Tweet 중 단어가 가장 적은 tweet의 단어 수 : {np.min(word_count)}')\n",
        "print(f' 평균 tweet 의 길이 : {np.mean(word_count)}')\n",
        "print(f' tweet 의 길이의 중간값 : {np.median(word_count)}')\n",
        "print('\\n')\n",
        "plt.hist(word_count, bins=20)\n",
        "plt.show()"
      ],
      "execution_count": 292,
      "outputs": [
        {
          "output_type": "stream",
          "text": [
            " Tweet 중 단어가 가장 많은 tweet의 단어 수 : 21\n",
            " Tweet 중 단어가 가장 적은 tweet의 단어 수 : 1\n",
            " 평균 tweet 의 길이 : 10.1706\n",
            " tweet 의 길이의 중간값 : 10.0\n",
            "\n",
            "\n"
          ],
          "name": "stdout"
        },
        {
          "output_type": "display_data",
          "data": {
            "image/png": "[encoded data removed]",
            "text/plain": [
              "<Figure size 432x288 with 1 Axes>"
            ]
          },
          "metadata": {
            "tags": [],
            "needs_background": "light"
          }
        }
      ]
    },
    {
      "cell_type": "code",
      "metadata": {
        "colab": {
          "base_uri": "https://localhost:8080/"
        },
        "id": "-qLuMqwTeXTl",
        "outputId": "ba16becc-9483-42d4-f9f1-63026b1e4d6d"
      },
      "source": [
        "np.quantile(word_count, 0.025)"
      ],
      "execution_count": 293,
      "outputs": [
        {
          "output_type": "execute_result",
          "data": {
            "text/plain": [
              "6.0"
            ]
          },
          "metadata": {
            "tags": []
          },
          "execution_count": 293
        }
      ]
    },
    {
      "cell_type": "code",
      "metadata": {
        "id": "nT_Nn8ObsALP",
        "colab": {
          "base_uri": "https://localhost:8080/",
          "height": 375
        },
        "outputId": "45533b81-c11d-4667-99ae-f2875b1660d9"
      },
      "source": [
        "word_count = test_df['Tweet'].apply(lambda x : len(x.split(' ')))\n",
        "print(f' Tweet 중 단어가 가장 많은 tweet의 단어 수 : {np.max(word_count)}')\n",
        "print(f' Tweet 중 단어가 가장 적은 tweet의 단어 수 : {np.min(word_count)}')\n",
        "print(f' 평균 tweet 의 길이 : {np.mean(word_count)}')\n",
        "print(f' tweet 의 길이의 중간값 : {np.median(word_count)}')\n",
        "print('\\n')\n",
        "plt.hist(word_count, bins=20)\n",
        "plt.show()"
      ],
      "execution_count": 294,
      "outputs": [
        {
          "output_type": "stream",
          "text": [
            " Tweet 중 단어가 가장 많은 tweet의 단어 수 : 20\n",
            " Tweet 중 단어가 가장 적은 tweet의 단어 수 : 1\n",
            " 평균 tweet 의 길이 : 10.1968\n",
            " tweet 의 길이의 중간값 : 10.0\n",
            "\n",
            "\n"
          ],
          "name": "stdout"
        },
        {
          "output_type": "display_data",
          "data": {
            "image/png": "[encoded data removed]",
            "text/plain": [
              "<Figure size 432x288 with 1 Axes>"
            ]
          },
          "metadata": {
            "tags": [],
            "needs_background": "light"
          }
        }
      ]
    },
    {
      "cell_type": "code",
      "metadata": {
        "id": "rEZIVET498IX",
        "outputId": "88e15d9c-ab38-4657-810e-5621cc3b79ab",
        "colab": {
          "base_uri": "https://localhost:8080/",
          "height": 489
        }
      },
      "source": [
        "train_df_sentiment = train_df[cols_target]\n",
        "fig_size = plt.rcParams[\"figure.figsize\"]\n",
        "fig_size[0] = 10\n",
        "fig_size[1] = 8\n",
        "plt.rcParams[\"figure.figsize\"] = fig_size\n",
        "\n",
        "train_df_sentiment.sum(axis=0).plot.bar()\n",
        "plt.xticks(rotation = 45)\n",
        "plt.show()"
      ],
      "execution_count": 317,
      "outputs": [
        {
          "output_type": "display_data",
          "data": {
            "image/png": "[encoded data removed]",
            "text/plain": [
              "<Figure size 720x576 with 1 Axes>"
            ]
          },
          "metadata": {
            "tags": [],
            "needs_background": "light"
          }
        }
      ]
    },
    {
      "cell_type": "markdown",
      "metadata": {
        "id": "7QSy5IaiVJHg"
      },
      "source": [
        "## 토큰화 및 패딩"
      ]
    },
    {
      "cell_type": "code",
      "metadata": {
        "id": "lsxgF4IWe3qD"
      },
      "source": [
        "train_tweet = train_df['Tweet'].values\n",
        "test_tweet = test_df['Tweet'].values"
      ],
      "execution_count": 295,
      "outputs": []
    },
    {
      "cell_type": "code",
      "metadata": {
        "colab": {
          "base_uri": "https://localhost:8080/"
        },
        "id": "PqRWJK3lVyVX",
        "outputId": "cf78a9d1-8c50-45aa-b25c-209814ae9baa"
      },
      "source": [
        "train_tweet[:2]"
      ],
      "execution_count": 296,
      "outputs": [
        {
          "output_type": "execute_result",
          "data": {
            "text/plain": [
              "array(['joke hop plane rn well covid lol',\n",
              "       'banmediahouse whose responsible spreading fake communal story pandemic covid situation'],\n",
              "      dtype=object)"
            ]
          },
          "metadata": {
            "tags": []
          },
          "execution_count": 296
        }
      ]
    },
    {
      "cell_type": "code",
      "metadata": {
        "colab": {
          "base_uri": "https://localhost:8080/"
        },
        "id": "ILyIIMMkV1O7",
        "outputId": "c407208e-4869-49c5-eebd-aa179a1a14df"
      },
      "source": [
        "tokenizer = Tokenizer()\n",
        "tokenizer.fit_on_texts(train_tweet)\n",
        "\n",
        "train_token = tokenizer.texts_to_sequences(train_tweet)\n",
        "train_token[0]"
      ],
      "execution_count": 297,
      "outputs": [
        {
          "output_type": "execute_result",
          "data": {
            "text/plain": [
              "[8, 1838, 2382, 357, 96, 1, 133]"
            ]
          },
          "metadata": {
            "tags": []
          },
          "execution_count": 297
        }
      ]
    },
    {
      "cell_type": "code",
      "metadata": {
        "colab": {
          "base_uri": "https://localhost:8080/"
        },
        "id": "uLXXTXGzfbFe",
        "outputId": "1b2329d9-e022-412a-e113-e01dd7d42144"
      },
      "source": [
        "print(train_tweet[0])\n",
        "print(train_token[0])"
      ],
      "execution_count": 298,
      "outputs": [
        {
          "output_type": "stream",
          "text": [
            "joke hop plane rn well covid lol\n",
            "[8, 1838, 2382, 357, 96, 1, 133]\n"
          ],
          "name": "stdout"
        }
      ]
    },
    {
      "cell_type": "code",
      "metadata": {
        "id": "5-AL-elvfKpe"
      },
      "source": [
        "word_vocab = tokenizer.word_index\n",
        "#print(word_vocab)"
      ],
      "execution_count": 299,
      "outputs": []
    },
    {
      "cell_type": "code",
      "metadata": {
        "colab": {
          "base_uri": "https://localhost:8080/"
        },
        "id": "B-iJjY8xfp_o",
        "outputId": "74f3b421-599d-4613-9216-1553be2206db"
      },
      "source": [
        "print(f'단어 전체의 갯수 {len(word_vocab)}')"
      ],
      "execution_count": 300,
      "outputs": [
        {
          "output_type": "stream",
          "text": [
            "단어 전체의 갯수 8517\n"
          ],
          "name": "stdout"
        }
      ]
    },
    {
      "cell_type": "code",
      "metadata": {
        "colab": {
          "base_uri": "https://localhost:8080/"
        },
        "id": "lPK1C7GVgn-6",
        "outputId": "5dff260a-299f-46e1-dce2-d25747bcb3ad"
      },
      "source": [
        "maxlen = 21 # 전처리 후 최댓값\n",
        "train_pad = pad_sequences(train_token, maxlen = maxlen, padding = 'pre')\n",
        "print(train_tweet[0])\n",
        "print(train_token[0])\n",
        "print(train_pad[0])"
      ],
      "execution_count": 301,
      "outputs": [
        {
          "output_type": "stream",
          "text": [
            "joke hop plane rn well covid lol\n",
            "[8, 1838, 2382, 357, 96, 1, 133]\n",
            "[   0    0    0    0    0    0    0    0    0    0    0    0    0    0\n",
            "    8 1838 2382  357   96    1  133]\n"
          ],
          "name": "stdout"
        }
      ]
    },
    {
      "cell_type": "code",
      "metadata": {
        "colab": {
          "base_uri": "https://localhost:8080/"
        },
        "id": "SwYnKqaNjP4S",
        "outputId": "4e75b1ae-7b30-4420-ade0-f85beb9b3d6e"
      },
      "source": [
        "print(type(train_pad))\n",
        "print(train_pad.shape)\n",
        "print(train_pad[0].shape)"
      ],
      "execution_count": 302,
      "outputs": [
        {
          "output_type": "stream",
          "text": [
            "<class 'numpy.ndarray'>\n",
            "(5000, 21)\n",
            "(21,)\n"
          ],
          "name": "stdout"
        }
      ]
    },
    {
      "cell_type": "code",
      "metadata": {
        "id": "ZdBPDtI08TbP"
      },
      "source": [
        ""
      ],
      "execution_count": null,
      "outputs": []
    },
    {
      "cell_type": "markdown",
      "metadata": {
        "id": "mi5YQmUDl4yY"
      },
      "source": [
        "## 벡터화\n"
      ]
    },
    {
      "cell_type": "markdown",
      "metadata": {
        "id": "PQbIaO8Ua_tx"
      },
      "source": [
        "### SENTENCEPIECE"
      ]
    },
    {
      "cell_type": "code",
      "metadata": {
        "id": "6SR80m7FiEUx",
        "colab": {
          "base_uri": "https://localhost:8080/"
        },
        "outputId": "4de2a0dd-49b7-4e1e-b503-df499ad3befd"
      },
      "source": [
        "!pip install sentencepiece\n",
        "import sentencepiece as spm"
      ],
      "execution_count": null,
      "outputs": [
        {
          "output_type": "stream",
          "text": [
            "Collecting sentencepiece\n",
            "\u001b[?25l  Downloading https://files.pythonhosted.org/packages/f5/99/e0808cb947ba10f575839c43e8fafc9cc44e4a7a2c8f79c60db48220a577/sentencepiece-0.1.95-cp37-cp37m-manylinux2014_x86_64.whl (1.2MB)\n",
            "\u001b[K     |████████████████████████████████| 1.2MB 12.6MB/s \n",
            "\u001b[?25hInstalling collected packages: sentencepiece\n",
            "Successfully installed sentencepiece-0.1.95\n"
          ],
          "name": "stdout"
        }
      ]
    },
    {
      "cell_type": "code",
      "metadata": {
        "id": "ioKYc6Gyn-Y2",
        "colab": {
          "base_uri": "https://localhost:8080/"
        },
        "outputId": "8ffabb9c-ac07-4c51-c09d-32c340d7d1d5"
      },
      "source": [
        "train_tweet.shape"
      ],
      "execution_count": null,
      "outputs": [
        {
          "output_type": "execute_result",
          "data": {
            "text/plain": [
              "(5000,)"
            ]
          },
          "metadata": {
            "tags": []
          },
          "execution_count": 60
        }
      ]
    },
    {
      "cell_type": "code",
      "metadata": {
        "id": "ggvBUHV5n-Wn"
      },
      "source": [
        "with open('./full_tweet.txt', 'w', encoding='utf-8') as f:\n",
        "    for line in train_tweet :\n",
        "        if len(str(line).strip()) == 0 : continue\n",
        "        try : \n",
        "            f.write(line + '\\n')\n",
        "        except : continue"
      ],
      "execution_count": null,
      "outputs": []
    },
    {
      "cell_type": "code",
      "metadata": {
        "id": "gn73Ce5Ln-UA",
        "colab": {
          "base_uri": "https://localhost:8080/"
        },
        "outputId": "ee60f3fe-69d7-4e07-b13d-c001ba52e438"
      },
      "source": [
        "!cat full_tweet.txt | head -n2"
      ],
      "execution_count": null,
      "outputs": [
        {
          "output_type": "stream",
          "text": [
            "joke hop plane rn well covid lol\n",
            "banmediahouse whose responsible spreading fake communal story pandemic covid situation\n"
          ],
          "name": "stdout"
        }
      ]
    },
    {
      "cell_type": "code",
      "metadata": {
        "id": "fZcdrecLouCP"
      },
      "source": [
        "spm.SentencePieceTrainer.train('--input=full_tweet.txt --model_prefix=m --vocab_size=5000')"
      ],
      "execution_count": null,
      "outputs": []
    },
    {
      "cell_type": "code",
      "metadata": {
        "id": "19LuFXvkpbFX",
        "colab": {
          "base_uri": "https://localhost:8080/"
        },
        "outputId": "a40e9e0f-0f83-4438-8319-6cf8c450ad62"
      },
      "source": [
        "sp = spm.SentencePieceProcessor()\n",
        "sp.load('m.model')"
      ],
      "execution_count": null,
      "outputs": [
        {
          "output_type": "execute_result",
          "data": {
            "text/plain": [
              "True"
            ]
          },
          "metadata": {
            "tags": []
          },
          "execution_count": 72
        }
      ]
    },
    {
      "cell_type": "code",
      "metadata": {
        "id": "_ofl7UH9peYQ"
      },
      "source": [
        "train_df['bow'] = train_df['Tweet'].apply(lambda x : sp.encode_as_ids(str(x)))\n",
        "test_df['bow'] = test_df['Tweet'].apply(lambda x : sp.encode_as_ids(str(x)))"
      ],
      "execution_count": null,
      "outputs": []
    },
    {
      "cell_type": "code",
      "metadata": {
        "id": "L-uhd-KFpeWK",
        "colab": {
          "base_uri": "https://localhost:8080/",
          "height": 110
        },
        "outputId": "17ce75d1-af04-4d7b-aad5-516b16db00f7"
      },
      "source": [
        "train_df.head(2)"
      ],
      "execution_count": null,
      "outputs": [
        {
          "output_type": "execute_result",
          "data": {
            "text/html": [
              "<div>\n",
              "<style scoped>\n",
              "    .dataframe tbody tr th:only-of-type {\n",
              "        vertical-align: middle;\n",
              "    }\n",
              "\n",
              "    .dataframe tbody tr th {\n",
              "        vertical-align: top;\n",
              "    }\n",
              "\n",
              "    .dataframe thead th {\n",
              "        text-align: right;\n",
              "    }\n",
              "</style>\n",
              "<table border=\"1\" class=\"dataframe\">\n",
              "  <thead>\n",
              "    <tr style=\"text-align: right;\">\n",
              "      <th></th>\n",
              "      <th>Tweet</th>\n",
              "      <th>0</th>\n",
              "      <th>1</th>\n",
              "      <th>2</th>\n",
              "      <th>3</th>\n",
              "      <th>4</th>\n",
              "      <th>5</th>\n",
              "      <th>6</th>\n",
              "      <th>7</th>\n",
              "      <th>8</th>\n",
              "      <th>9</th>\n",
              "      <th>10</th>\n",
              "      <th>bow</th>\n",
              "    </tr>\n",
              "  </thead>\n",
              "  <tbody>\n",
              "    <tr>\n",
              "      <th>0</th>\n",
              "      <td>joke hop plane rn well covid lol</td>\n",
              "      <td>1.0</td>\n",
              "      <td>0.0</td>\n",
              "      <td>0.0</td>\n",
              "      <td>0.0</td>\n",
              "      <td>0.0</td>\n",
              "      <td>0.0</td>\n",
              "      <td>0.0</td>\n",
              "      <td>0.0</td>\n",
              "      <td>0.0</td>\n",
              "      <td>0.0</td>\n",
              "      <td>1.0</td>\n",
              "      <td>[22, 369, 2018, 542, 164, 3, 222]</td>\n",
              "    </tr>\n",
              "    <tr>\n",
              "      <th>1</th>\n",
              "      <td>banmediahouse whose responsible spreading fake...</td>\n",
              "      <td>0.0</td>\n",
              "      <td>0.0</td>\n",
              "      <td>0.0</td>\n",
              "      <td>0.0</td>\n",
              "      <td>0.0</td>\n",
              "      <td>0.0</td>\n",
              "      <td>1.0</td>\n",
              "      <td>0.0</td>\n",
              "      <td>0.0</td>\n",
              "      <td>0.0</td>\n",
              "      <td>0.0</td>\n",
              "      <td>[1055, 2401, 2059, 148, 458, 1402, 58, 98, 4, ...</td>\n",
              "    </tr>\n",
              "  </tbody>\n",
              "</table>\n",
              "</div>"
            ],
            "text/plain": [
              "                                               Tweet  ...                                                bow\n",
              "0                   joke hop plane rn well covid lol  ...                  [22, 369, 2018, 542, 164, 3, 222]\n",
              "1  banmediahouse whose responsible spreading fake...  ...  [1055, 2401, 2059, 148, 458, 1402, 58, 98, 4, ...\n",
              "\n",
              "[2 rows x 13 columns]"
            ]
          },
          "metadata": {
            "tags": []
          },
          "execution_count": 80
        }
      ]
    },
    {
      "cell_type": "code",
      "metadata": {
        "id": "MtyrlYnnpeRI",
        "colab": {
          "base_uri": "https://localhost:8080/",
          "height": 110
        },
        "outputId": "e0aef4bb-0be7-4c71-f111-e8f75bfdf580"
      },
      "source": [
        "test_df.head(2)"
      ],
      "execution_count": null,
      "outputs": [
        {
          "output_type": "execute_result",
          "data": {
            "text/html": [
              "<div>\n",
              "<style scoped>\n",
              "    .dataframe tbody tr th:only-of-type {\n",
              "        vertical-align: middle;\n",
              "    }\n",
              "\n",
              "    .dataframe tbody tr th {\n",
              "        vertical-align: top;\n",
              "    }\n",
              "\n",
              "    .dataframe thead th {\n",
              "        text-align: right;\n",
              "    }\n",
              "</style>\n",
              "<table border=\"1\" class=\"dataframe\">\n",
              "  <thead>\n",
              "    <tr style=\"text-align: right;\">\n",
              "      <th></th>\n",
              "      <th>ID</th>\n",
              "      <th>Tweet</th>\n",
              "      <th>bow</th>\n",
              "    </tr>\n",
              "  </thead>\n",
              "  <tbody>\n",
              "    <tr>\n",
              "      <th>0</th>\n",
              "      <td>5001</td>\n",
              "      <td>forgot math test failing teacher opening back ...</td>\n",
              "      <td>[1465, 4023, 42, 828, 4, 5, 1353, 412, 4, 85, ...</td>\n",
              "    </tr>\n",
              "    <tr>\n",
              "      <th>1</th>\n",
              "      <td>5002</td>\n",
              "      <td>covid effected came delhi bihar lakhisarai dis...</td>\n",
              "      <td>[3, 2761, 7, 379, 718, 2801, 233, 1929, 1562, ...</td>\n",
              "    </tr>\n",
              "  </tbody>\n",
              "</table>\n",
              "</div>"
            ],
            "text/plain": [
              "     ID  ...                                                bow\n",
              "0  5001  ...  [1465, 4023, 42, 828, 4, 5, 1353, 412, 4, 85, ...\n",
              "1  5002  ...  [3, 2761, 7, 379, 718, 2801, 233, 1929, 1562, ...\n",
              "\n",
              "[2 rows x 3 columns]"
            ]
          },
          "metadata": {
            "tags": []
          },
          "execution_count": 81
        }
      ]
    },
    {
      "cell_type": "code",
      "metadata": {
        "id": "eYPgy4CcpeFu"
      },
      "source": [
        "train_pad = pad_sequences(train_df['bow'].values, maxlen=22)\n",
        "test_pad = pad_sequences(test_df['bow'].values, maxlen=22)"
      ],
      "execution_count": null,
      "outputs": []
    },
    {
      "cell_type": "markdown",
      "metadata": {
        "id": "lSEFTgXE-QYf"
      },
      "source": [
        "## 여기부터 볼 것"
      ]
    },
    {
      "cell_type": "code",
      "metadata": {
        "id": "HSdwN5M6sG_m"
      },
      "source": [
        "x = train_df.Tweet.values.tolist()\n",
        "y = train_df_sentiment.values"
      ],
      "execution_count": 322,
      "outputs": []
    },
    {
      "cell_type": "code",
      "metadata": {
        "id": "EZX9AuAp9xea"
      },
      "source": [
        "x_train, x_test, y_train, y_test = train_test_split(x,y,test_size = 0.2, random_state =42)\n",
        "tokenizer = Tokenizer(num_words = 5000)\n",
        "tokenizer.fit_on_texts(x_train)\n",
        "\n",
        "x_train = tokenizer.texts_to_sequences(x_train)\n",
        "x_test = tokenizer.texts_to_sequences(x_test)\n",
        "\n",
        "vocab_size = len(tokenizer.word_index) + 1\n",
        "\n",
        "maxlen = 30\n",
        "\n",
        "x_train = pad_sequences(x_train, maxlen = maxlen)\n",
        "x_test = pad_sequences(x_test, maxlen = maxlen)"
      ],
      "execution_count": 325,
      "outputs": []
    },
    {
      "cell_type": "code",
      "metadata": {
        "id": "cXkOUtsT_Jom",
        "outputId": "6e76ce63-d5ec-4dcf-98dc-d7ac76b665d6",
        "colab": {
          "base_uri": "https://localhost:8080/"
        }
      },
      "source": [
        "#glove\n",
        "\n",
        "!wget http://nlp.stanford.edu/data/glove.6B.zip\n",
        "!unzip glove*.zip"
      ],
      "execution_count": 326,
      "outputs": [
        {
          "output_type": "stream",
          "text": [
            "--2021-06-07 05:41:19--  http://nlp.stanford.edu/data/glove.6B.zip\n",
            "Resolving nlp.stanford.edu (nlp.stanford.edu)... 171.64.67.140\n",
            "Connecting to nlp.stanford.edu (nlp.stanford.edu)|171.64.67.140|:80... connected.\n",
            "HTTP request sent, awaiting response... 302 Found\n",
            "Location: https://nlp.stanford.edu/data/glove.6B.zip [following]\n",
            "--2021-06-07 05:41:19--  https://nlp.stanford.edu/data/glove.6B.zip\n",
            "Connecting to nlp.stanford.edu (nlp.stanford.edu)|171.64.67.140|:443... connected.\n",
            "HTTP request sent, awaiting response... 301 Moved Permanently\n",
            "Location: http://downloads.cs.stanford.edu/nlp/data/glove.6B.zip [following]\n",
            "--2021-06-07 05:41:19--  http://downloads.cs.stanford.edu/nlp/data/glove.6B.zip\n",
            "Resolving downloads.cs.stanford.edu (downloads.cs.stanford.edu)... 171.64.64.22\n",
            "Connecting to downloads.cs.stanford.edu (downloads.cs.stanford.edu)|171.64.64.22|:80... connected.\n",
            "HTTP request sent, awaiting response... 200 OK\n",
            "Length: 862182613 (822M) [application/zip]\n",
            "Saving to: ‘glove.6B.zip’\n",
            "\n",
            "glove.6B.zip        100%[===================>] 822.24M  5.03MB/s    in 2m 40s  \n",
            "\n",
            "2021-06-07 05:43:59 (5.15 MB/s) - ‘glove.6B.zip’ saved [862182613/862182613]\n",
            "\n",
            "Archive:  glove.6B.zip\n",
            "  inflating: glove.6B.50d.txt        \n",
            "  inflating: glove.6B.100d.txt       \n",
            "  inflating: glove.6B.200d.txt       \n",
            "  inflating: glove.6B.300d.txt       \n"
          ],
          "name": "stdout"
        }
      ]
    },
    {
      "cell_type": "code",
      "metadata": {
        "id": "EDsf0t17_Vhs"
      },
      "source": [
        "f = open('glove.6B.100d.txt', encoding=\"utf8\")\n",
        "embeddings_dictionary = dict()\n",
        "for line in f:\n",
        "    records = line.split()\n",
        "    word = records[0]\n",
        "    vector_dimensions = np.asarray(records[1:], dtype='float32')\n",
        "    embeddings_dictionary[word] = vector_dimensions\n",
        "\n",
        "f.close()"
      ],
      "execution_count": 330,
      "outputs": []
    },
    {
      "cell_type": "code",
      "metadata": {
        "id": "Jb0JFtmbAPN5"
      },
      "source": [
        "embedding_matrix = np.zeros((vocab_size, 100))\n",
        "for word, index in tokenizer.word_index.items():\n",
        "    embedding_vector = embeddings_dictionary.get(word)\n",
        "    if embedding_vector is not None:\n",
        "        embedding_matrix[index] = embedding_vector"
      ],
      "execution_count": 334,
      "outputs": []
    },
    {
      "cell_type": "code",
      "metadata": {
        "id": "-Ro3EYRJA2Ar",
        "outputId": "45449335-1d54-433d-b181-6a2404570ea2",
        "colab": {
          "base_uri": "https://localhost:8080/"
        }
      },
      "source": [
        "embedding_matrix.shape"
      ],
      "execution_count": 335,
      "outputs": [
        {
          "output_type": "execute_result",
          "data": {
            "text/plain": [
              "(7509, 100)"
            ]
          },
          "metadata": {
            "tags": []
          },
          "execution_count": 335
        }
      ]
    },
    {
      "cell_type": "code",
      "metadata": {
        "id": "vAM5tulzF7DP",
        "outputId": "c4f55723-8b4e-447d-894c-b64b0acf42f2",
        "colab": {
          "base_uri": "https://localhost:8080/"
        }
      },
      "source": [
        "x_train.shape"
      ],
      "execution_count": 337,
      "outputs": [
        {
          "output_type": "execute_result",
          "data": {
            "text/plain": [
              "(4000, 30)"
            ]
          },
          "metadata": {
            "tags": []
          },
          "execution_count": 337
        }
      ]
    },
    {
      "cell_type": "code",
      "metadata": {
        "id": "8n7zSAPnF77u"
      },
      "source": [
        "from keras import backend as K\n",
        "\n",
        "def f1(y_true, y_pred):\n",
        "    def recall(y_true, y_pred):\n",
        "        \"\"\"Recall metric.\n",
        "\n",
        "        Only computes a batch-wise average of recall.\n",
        "\n",
        "        Computes the recall, a metric for multi-label classification of\n",
        "        how many relevant items are selected.\n",
        "        \"\"\"\n",
        "        true_positives = K.sum(K.round(K.clip(y_true * y_pred, 0, 1)))\n",
        "        possible_positives = K.sum(K.round(K.clip(y_true, 0, 1)))\n",
        "        recall = true_positives / (possible_positives + K.epsilon())\n",
        "        return recall\n",
        "\n",
        "    def precision(y_true, y_pred):\n",
        "        \"\"\"Precision metric.\n",
        "\n",
        "        Only computes a batch-wise average of precision.\n",
        "\n",
        "        Computes the precision, a metric for multi-label classification of\n",
        "        how many selected items are relevant.\n",
        "        \"\"\"\n",
        "        true_positives = K.sum(K.round(K.clip(y_true * y_pred, 0, 1)))\n",
        "        predicted_positives = K.sum(K.round(K.clip(y_pred, 0, 1)))\n",
        "        precision = true_positives / (predicted_positives + K.epsilon())\n",
        "        return precision\n",
        "    precision = precision(y_true, y_pred)\n",
        "    recall = recall(y_true, y_pred)\n",
        "    return 2*((precision*recall)/(precision+recall+K.epsilon()))"
      ],
      "execution_count": 350,
      "outputs": []
    },
    {
      "cell_type": "code",
      "metadata": {
        "id": "uqtm3hwLBG5b"
      },
      "source": [
        "from keras.models import Sequential\n",
        "from keras.layers.core import Activation, Dropout, Dense\n",
        "from keras.layers import Flatten, LSTM\n",
        "from keras.layers import GlobalMaxPooling1D\n",
        "from keras.models import Model\n",
        "from keras.layers.embeddings import Embedding\n",
        "from sklearn.model_selection import train_test_split\n",
        "from keras.preprocessing.text import Tokenizer\n",
        "from keras.layers import Input\n",
        "from keras.layers.merge import Concatenate\n",
        "\n",
        "inputs = Input(shape=(maxlen,))\n",
        "embedding = Embedding(vocab_size, 100, weights = [embedding_matrix], trainable=False)(inputs)\n",
        "input_x = LSTM(128)(embedding)\n",
        "outputs = Dense(11, activation = 'sigmoid')(input_x)\n",
        "\n",
        "model = Model(inputs, outputs)\n",
        "model.compile(loss = 'binary_crossentropy', optimizer='adam', metrics=[f1])"
      ],
      "execution_count": 360,
      "outputs": []
    },
    {
      "cell_type": "code",
      "metadata": {
        "id": "qxEQyg8RGHBv",
        "outputId": "ff2db940-37f6-49a2-f8cb-d6d11c7fc3dc",
        "colab": {
          "base_uri": "https://localhost:8080/"
        }
      },
      "source": [
        "model.summary()"
      ],
      "execution_count": 361,
      "outputs": [
        {
          "output_type": "stream",
          "text": [
            "Model: \"model_6\"\n",
            "_________________________________________________________________\n",
            "Layer (type)                 Output Shape              Param #   \n",
            "=================================================================\n",
            "input_8 (InputLayer)         [(None, 30)]              0         \n",
            "_________________________________________________________________\n",
            "embedding_7 (Embedding)      (None, 30, 100)           750900    \n",
            "_________________________________________________________________\n",
            "lstm_7 (LSTM)                (None, 128)               117248    \n",
            "_________________________________________________________________\n",
            "dense_7 (Dense)              (None, 11)                1419      \n",
            "=================================================================\n",
            "Total params: 869,567\n",
            "Trainable params: 118,667\n",
            "Non-trainable params: 750,900\n",
            "_________________________________________________________________\n"
          ],
          "name": "stdout"
        }
      ]
    },
    {
      "cell_type": "code",
      "metadata": {
        "id": "YjAMj3BFGG_n",
        "outputId": "5cd260f0-a7f7-42aa-888c-a5093f82af50",
        "colab": {
          "base_uri": "https://localhost:8080/"
        }
      },
      "source": [
        "model.fit(x_train, y_train, epochs=5, verbose = 1, validation_split = 0.2)"
      ],
      "execution_count": 362,
      "outputs": [
        {
          "output_type": "stream",
          "text": [
            "Epoch 1/5\n",
            "100/100 [==============================] - 6s 41ms/step - loss: 0.4761 - f1: 0.1477 - val_loss: 0.4109 - val_f1: 0.3079\n",
            "Epoch 2/5\n",
            "100/100 [==============================] - 3s 34ms/step - loss: 0.3903 - f1: 0.2878 - val_loss: 0.3932 - val_f1: 0.3132\n",
            "Epoch 3/5\n",
            "100/100 [==============================] - 4s 37ms/step - loss: 0.3719 - f1: 0.3868 - val_loss: 0.3910 - val_f1: 0.2645\n",
            "Epoch 4/5\n",
            "100/100 [==============================] - 3s 33ms/step - loss: 0.3629 - f1: 0.3816 - val_loss: 0.3822 - val_f1: 0.3259\n",
            "Epoch 5/5\n",
            "100/100 [==============================] - 3s 33ms/step - loss: 0.3464 - f1: 0.4238 - val_loss: 0.3793 - val_f1: 0.3468\n"
          ],
          "name": "stdout"
        },
        {
          "output_type": "execute_result",
          "data": {
            "text/plain": [
              "<keras.callbacks.History at 0x7fe0b1baff90>"
            ]
          },
          "metadata": {
            "tags": []
          },
          "execution_count": 362
        }
      ]
    },
    {
      "cell_type": "code",
      "metadata": {
        "id": "BLEiPOYEGG9g"
      },
      "source": [
        ""
      ],
      "execution_count": null,
      "outputs": []
    },
    {
      "cell_type": "code",
      "metadata": {
        "id": "Uz7GxkJ1F3G7"
      },
      "source": [
        "\n",
        "\n",
        "\n",
        "embedding_layer = Embedding(vocab_size, 100, weights=[embedding_matrix], trainable=False)(deep_inputs)\n",
        "LSTM_Layer_1 = LSTM(128)(embedding_layer)\n",
        "dense_layer_1 = Dense(6, activation='sigmoid')(LSTM_Layer_1)\n",
        "model = Model(inputs=deep_inputs, outputs=dense_layer_1)\n",
        "\n",
        "model.compile(loss='binary_crossentropy', optimizer='adam', metrics=['acc'])"
      ],
      "execution_count": null,
      "outputs": []
    }
  ]
}