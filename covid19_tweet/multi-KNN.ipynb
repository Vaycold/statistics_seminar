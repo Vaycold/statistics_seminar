{
  "nbformat": 4,
  "nbformat_minor": 0,
  "metadata": {
    "colab": {
      "name": "Untitled40.ipynb",
      "provenance": [],
      "authorship_tag": "ABX9TyOee1szLNosr3nV4rpMQ6qb",
      "include_colab_link": true
    },
    "kernelspec": {
      "name": "python3",
      "display_name": "Python 3"
    },
    "language_info": {
      "name": "python"
    }
  },
  "cells": [
    {
      "cell_type": "markdown",
      "metadata": {
        "id": "view-in-github",
        "colab_type": "text"
      },
      "source": [
        "<a href=\"https://colab.research.google.com/github/Vaycold/statistics_seminar/blob/main/covid19_tweet/multi-KNN.ipynb\" target=\"_parent\"><img src=\"https://colab.research.google.com/assets/colab-badge.svg\" alt=\"Open In Colab\"/></a>"
      ]
    },
    {
      "cell_type": "code",
      "metadata": {
        "id": "7mnsV52y3ZHZ"
      },
      "source": [
        ""
      ],
      "execution_count": null,
      "outputs": []
    },
    {
      "cell_type": "code",
      "metadata": {
        "colab": {
          "base_uri": "https://localhost:8080/"
        },
        "id": "xMZqGwLal7Tq",
        "outputId": "c4456631-3b94-4fc6-f440-d3ae7179660e"
      },
      "source": [
        "import os\n",
        "\n",
        "import numpy as np\n",
        "import pandas as pd\n",
        "import matplotlib.pyplot as plt\n",
        "import warnings \n",
        "import re\n",
        "\n",
        "import nltk\n",
        "from nltk.corpus import stopwords\n",
        "from nltk.tokenize import word_tokenize\n",
        "from nltk.stem import WordNetLemmatizer\n",
        "\n",
        "import tensorflow as tf\n",
        "from tensorflow import keras\n",
        "from keras.preprocessing.sequence import pad_sequences\n",
        "from keras.preprocessing.text import Tokenizer    \n",
        "from google.colab import files\n",
        "\n",
        "from sklearn.feature_extraction.text import TfidfVectorizer\n",
        "from sklearn.model_selection import StratifiedKFold\n",
        "from sklearn.metrics import f1_score, accuracy_score\n",
        "from sklearn.model_selection import train_test_split\n",
        "\n",
        "\n",
        "warnings.filterwarnings('ignore')\n",
        "\n",
        "os.environ['KAGGLE_USERNAME'] = 'kimgodbang'\n",
        "os.environ['KAGGLE_KEY'] = '1c0e1716b23829d4381dcbced37ba49b'\n",
        "\n",
        "!rm *.*\n",
        "!kaggle competitions download -c sentiment-analysis-of-covid-19-related-tweets\n",
        "\n",
        "train_df = pd.read_csv('training.csv')\n",
        "test_df = pd.read_csv('validation.csv')\n",
        "\n",
        "for module in ['stopwords', 'punkt', 'wordnet'] :\n",
        "    nltk.download(module)"
      ],
      "execution_count": 181,
      "outputs": [
        {
          "output_type": "stream",
          "text": [
            "Warning: Looks like you're using an outdated API Version, please consider updating (server 1.5.12 / client 1.5.4)\n",
            "Downloading validation.csv to /content\n",
            "  0% 0.00/254k [00:00<?, ?B/s]\n",
            "100% 254k/254k [00:00<00:00, 34.3MB/s]\n",
            "Downloading training.csv to /content\n",
            "  0% 0.00/518k [00:00<?, ?B/s]\n",
            "100% 518k/518k [00:00<00:00, 69.9MB/s]\n",
            "[nltk_data] Downloading package stopwords to /root/nltk_data...\n",
            "[nltk_data]   Package stopwords is already up-to-date!\n",
            "[nltk_data] Downloading package punkt to /root/nltk_data...\n",
            "[nltk_data]   Package punkt is already up-to-date!\n",
            "[nltk_data] Downloading package wordnet to /root/nltk_data...\n",
            "[nltk_data]   Package wordnet is already up-to-date!\n"
          ],
          "name": "stdout"
        }
      ]
    },
    {
      "cell_type": "code",
      "metadata": {
        "id": "dZE4g20Smd13"
      },
      "source": [
        "def labelsplit(labels) :\n",
        "    \n",
        "    label = labels.replace(' ',',').split(',')\n",
        "    for idx, lab in enumerate(label) :\n",
        "        label[idx] = int(lab)\n",
        "    return label"
      ],
      "execution_count": 182,
      "outputs": []
    },
    {
      "cell_type": "code",
      "metadata": {
        "id": "WDV_duLnTTZI"
      },
      "source": [
        "train_df['label']  = train_df['Labels'].apply(lambda x :  labelsplit(x))"
      ],
      "execution_count": 183,
      "outputs": []
    },
    {
      "cell_type": "code",
      "metadata": {
        "id": "G1k6WG7kTV7V"
      },
      "source": [
        "onehot = np.zeros((5000,11))\n",
        "for i in range(5000) : # 0~5000 row\n",
        "    for j in train_df.label[i] : # j = value   \n",
        "        onehot[i,j]  = 1\n",
        "cols_target = ['0','1','2','3','4','5','6','7','8','9','10']\n",
        "onehot = pd.DataFrame(onehot, columns=cols_target)"
      ],
      "execution_count": 184,
      "outputs": []
    },
    {
      "cell_type": "code",
      "metadata": {
        "id": "TFikCUrtTYoQ"
      },
      "source": [
        "train_df = pd.concat(\n",
        "    [train_df, onehot], axis=1\n",
        ").drop(['ID','Labels', 'label'],axis=1)"
      ],
      "execution_count": 185,
      "outputs": []
    },
    {
      "cell_type": "markdown",
      "metadata": {
        "id": "X9iY7aUraIcU"
      },
      "source": [
        "## EDA"
      ]
    },
    {
      "cell_type": "code",
      "metadata": {
        "colab": {
          "base_uri": "https://localhost:8080/",
          "height": 375
        },
        "id": "_-V9ztmOaIB1",
        "outputId": "0e39edf6-05b9-46df-90d3-3ae0e60486c4"
      },
      "source": [
        "# 단어의 갯수\n",
        "\n",
        "word_count = train_df['Tweet'].apply(lambda x : len(x.split(' ')))\n",
        "print(f' Tweet 중 단어가 가장 많은 tweet의 단어 수 : {np.max(word_count)}')\n",
        "print(f' Tweet 중 단어가 가장 적은 tweet의 단어 수 : {np.min(word_count)}')\n",
        "print(f' 평균 tweet 의 길이 : {np.mean(word_count)}')\n",
        "print(f' tweet 의 길이의 중간값 : {np.median(word_count)}')\n",
        "print('\\n')\n",
        "plt.hist(word_count, bins=30)\n",
        "plt.show()"
      ],
      "execution_count": 186,
      "outputs": [
        {
          "output_type": "stream",
          "text": [
            " Tweet 중 단어가 가장 많은 tweet의 단어 수 : 30\n",
            " Tweet 중 단어가 가장 적은 tweet의 단어 수 : 1\n",
            " 평균 tweet 의 길이 : 16.9214\n",
            " tweet 의 길이의 중간값 : 17.0\n",
            "\n",
            "\n"
          ],
          "name": "stdout"
        },
        {
          "output_type": "display_data",
          "data": {
            "image/png": "[encoded data removed]",
            "text/plain": [
              "<Figure size 432x288 with 1 Axes>"
            ]
          },
          "metadata": {
            "tags": [],
            "needs_background": "light"
          }
        }
      ]
    },
    {
      "cell_type": "markdown",
      "metadata": {
        "id": "Ibwp-5vmPNpW"
      },
      "source": [
        "## 텍스트 클렌징"
      ]
    },
    {
      "cell_type": "code",
      "metadata": {
        "id": "DJMeOtejPOwi"
      },
      "source": [
        "stop = stopwords.words('english')\n",
        "def word_lemmatizer(text):\n",
        "    lem_text = [WordNetLemmatizer().lemmatize(i) for i in text]\n",
        "    return lem_text\n",
        "def  clean_text(df, text_field='Tweet', new_text_field_name='clean_tweet'):\n",
        "    df[new_text_field_name] = df[text_field].str.lower()\n",
        "    df[new_text_field_name] = df[new_text_field_name].apply(lambda x : x.lower())\n",
        "    df[new_text_field_name] = df[new_text_field_name].apply(lambda x : x.replace('corona','covid'))\n",
        "    df[new_text_field_name] = df[new_text_field_name].apply(lambda x : x.replace('coronavirus','virus'))\n",
        "    df[new_text_field_name] = df[new_text_field_name].apply(lambda elem: re.sub(r\"(@[A-Za-z0-9]+)|([^0-9A-Za-z \\t])|(\\w+:\\/\\/\\S+)|^rt|http.+?\", \"\", elem))  \n",
        "    df[new_text_field_name] = df[new_text_field_name].apply(lambda elem: re.sub(r\"\\d+\", \"\", elem))\n",
        "    df[new_text_field_name] = df[new_text_field_name].apply(lambda x: ' '.join([word for word in x.split() if word not in (stop)]))\n",
        "    df[new_text_field_name] = df[new_text_field_name].apply(lambda x: word_tokenize(x))\n",
        "    df[new_text_field_name] = df[new_text_field_name].apply(lambda x: word_lemmatizer(x))\n",
        "    df[new_text_field_name] = df[new_text_field_name].apply(lambda x: ' '.join(x))\n",
        "    return df"
      ],
      "execution_count": 187,
      "outputs": []
    },
    {
      "cell_type": "code",
      "metadata": {
        "id": "QwAkp68dQTq-"
      },
      "source": [
        "def clean_df(df) :\n",
        "    DF = clean_text(df, 'Tweet', 'clean_tweet')\n",
        "    try :\n",
        "        DF = DF[['clean_tweet','0', '1', '2', '3', '4', '5', '6', '7', '8', '9', '10']]\n",
        "        DF.columns = ['Tweet','0', '1', '2', '3', '4', '5', '6', '7', '8', '9', '10']\n",
        "    except :\n",
        "        DF = DF[['ID','clean_tweet']]\n",
        "        DF.columns = ['ID','Tweet']\n",
        "    \n",
        "    return DF\n",
        "    \n",
        "def one(x) :\n",
        "    if x > 2 :\n",
        "        return 1\n",
        "    else :\n",
        "        return 0"
      ],
      "execution_count": 188,
      "outputs": []
    },
    {
      "cell_type": "code",
      "metadata": {
        "id": "gn7c1-luTde4"
      },
      "source": [
        "train_df = clean_df(train_df)\n",
        "test_df = clean_df(test_df)"
      ],
      "execution_count": 189,
      "outputs": []
    },
    {
      "cell_type": "code",
      "metadata": {
        "colab": {
          "base_uri": "https://localhost:8080/",
          "height": 110
        },
        "id": "FxESk9JaSVpE",
        "outputId": "4a5879c4-7d8e-4f69-c6e1-ae5f780d551f"
      },
      "source": [
        "train_df.head(2)"
      ],
      "execution_count": 190,
      "outputs": [
        {
          "output_type": "execute_result",
          "data": {
            "text/html": [
              "<div>\n",
              "<style scoped>\n",
              "    .dataframe tbody tr th:only-of-type {\n",
              "        vertical-align: middle;\n",
              "    }\n",
              "\n",
              "    .dataframe tbody tr th {\n",
              "        vertical-align: top;\n",
              "    }\n",
              "\n",
              "    .dataframe thead th {\n",
              "        text-align: right;\n",
              "    }\n",
              "</style>\n",
              "<table border=\"1\" class=\"dataframe\">\n",
              "  <thead>\n",
              "    <tr style=\"text-align: right;\">\n",
              "      <th></th>\n",
              "      <th>Tweet</th>\n",
              "      <th>0</th>\n",
              "      <th>1</th>\n",
              "      <th>2</th>\n",
              "      <th>3</th>\n",
              "      <th>4</th>\n",
              "      <th>5</th>\n",
              "      <th>6</th>\n",
              "      <th>7</th>\n",
              "      <th>8</th>\n",
              "      <th>9</th>\n",
              "      <th>10</th>\n",
              "    </tr>\n",
              "  </thead>\n",
              "  <tbody>\n",
              "    <tr>\n",
              "      <th>0</th>\n",
              "      <td>joke hop plane rn well covid lol</td>\n",
              "      <td>1.0</td>\n",
              "      <td>0.0</td>\n",
              "      <td>0.0</td>\n",
              "      <td>0.0</td>\n",
              "      <td>0.0</td>\n",
              "      <td>0.0</td>\n",
              "      <td>0.0</td>\n",
              "      <td>0.0</td>\n",
              "      <td>0.0</td>\n",
              "      <td>0.0</td>\n",
              "      <td>1.0</td>\n",
              "    </tr>\n",
              "    <tr>\n",
              "      <th>1</th>\n",
              "      <td>banmediahouse whose responsible spreading fake...</td>\n",
              "      <td>0.0</td>\n",
              "      <td>0.0</td>\n",
              "      <td>0.0</td>\n",
              "      <td>0.0</td>\n",
              "      <td>0.0</td>\n",
              "      <td>0.0</td>\n",
              "      <td>1.0</td>\n",
              "      <td>0.0</td>\n",
              "      <td>0.0</td>\n",
              "      <td>0.0</td>\n",
              "      <td>0.0</td>\n",
              "    </tr>\n",
              "  </tbody>\n",
              "</table>\n",
              "</div>"
            ],
            "text/plain": [
              "                                               Tweet    0    1  ...    8    9   10\n",
              "0                   joke hop plane rn well covid lol  1.0  0.0  ...  0.0  0.0  1.0\n",
              "1  banmediahouse whose responsible spreading fake...  0.0  0.0  ...  0.0  0.0  0.0\n",
              "\n",
              "[2 rows x 12 columns]"
            ]
          },
          "metadata": {
            "tags": []
          },
          "execution_count": 190
        }
      ]
    },
    {
      "cell_type": "code",
      "metadata": {
        "colab": {
          "base_uri": "https://localhost:8080/",
          "height": 110
        },
        "id": "HzKoXr0DSXmk",
        "outputId": "b5646878-a7b7-4fbc-eb90-6364cf0cf29e"
      },
      "source": [
        "test_df.head(2)"
      ],
      "execution_count": 191,
      "outputs": [
        {
          "output_type": "execute_result",
          "data": {
            "text/html": [
              "<div>\n",
              "<style scoped>\n",
              "    .dataframe tbody tr th:only-of-type {\n",
              "        vertical-align: middle;\n",
              "    }\n",
              "\n",
              "    .dataframe tbody tr th {\n",
              "        vertical-align: top;\n",
              "    }\n",
              "\n",
              "    .dataframe thead th {\n",
              "        text-align: right;\n",
              "    }\n",
              "</style>\n",
              "<table border=\"1\" class=\"dataframe\">\n",
              "  <thead>\n",
              "    <tr style=\"text-align: right;\">\n",
              "      <th></th>\n",
              "      <th>ID</th>\n",
              "      <th>Tweet</th>\n",
              "    </tr>\n",
              "  </thead>\n",
              "  <tbody>\n",
              "    <tr>\n",
              "      <th>0</th>\n",
              "      <td>5001</td>\n",
              "      <td>forgot math test failing teacher opening back ...</td>\n",
              "    </tr>\n",
              "    <tr>\n",
              "      <th>1</th>\n",
              "      <td>5002</td>\n",
              "      <td>covid effected came delhi bihar lakhisarai dis...</td>\n",
              "    </tr>\n",
              "  </tbody>\n",
              "</table>\n",
              "</div>"
            ],
            "text/plain": [
              "     ID                                              Tweet\n",
              "0  5001  forgot math test failing teacher opening back ...\n",
              "1  5002  covid effected came delhi bihar lakhisarai dis..."
            ]
          },
          "metadata": {
            "tags": []
          },
          "execution_count": 191
        }
      ]
    },
    {
      "cell_type": "code",
      "metadata": {
        "id": "sxR_mDz7o_UW",
        "colab": {
          "base_uri": "https://localhost:8080/"
        },
        "outputId": "6fd4df9f-8ad4-4ad7-f042-015cd44bef66"
      },
      "source": [
        "# 단어수 \n",
        "print(len(set([word for words in train_tweet for word in words.split()])))"
      ],
      "execution_count": 192,
      "outputs": [
        {
          "output_type": "stream",
          "text": [
            "8517\n"
          ],
          "name": "stdout"
        }
      ]
    },
    {
      "cell_type": "code",
      "metadata": {
        "colab": {
          "base_uri": "https://localhost:8080/",
          "height": 375
        },
        "id": "4Cw84A7IdKdO",
        "outputId": "eff99da7-47a6-4bf7-cd87-70bef62b4dc9"
      },
      "source": [
        "word_count = train_df['Tweet'].apply(lambda x : len(x.split(' ')))\n",
        "print(f' Tweet 중 단어가 가장 많은 tweet의 단어 수 : {np.max(word_count)}')\n",
        "print(f' Tweet 중 단어가 가장 적은 tweet의 단어 수 : {np.min(word_count)}')\n",
        "print(f' 평균 tweet 의 길이 : {np.mean(word_count)}')\n",
        "print(f' tweet 의 길이의 중간값 : {np.median(word_count)}')\n",
        "print('\\n')\n",
        "plt.hist(word_count, bins=20)\n",
        "plt.show()"
      ],
      "execution_count": 193,
      "outputs": [
        {
          "output_type": "stream",
          "text": [
            " Tweet 중 단어가 가장 많은 tweet의 단어 수 : 21\n",
            " Tweet 중 단어가 가장 적은 tweet의 단어 수 : 1\n",
            " 평균 tweet 의 길이 : 10.1706\n",
            " tweet 의 길이의 중간값 : 10.0\n",
            "\n",
            "\n"
          ],
          "name": "stdout"
        },
        {
          "output_type": "display_data",
          "data": {
            "image/png": "[encoded data removed]",
            "text/plain": [
              "<Figure size 432x288 with 1 Axes>"
            ]
          },
          "metadata": {
            "tags": [],
            "needs_background": "light"
          }
        }
      ]
    },
    {
      "cell_type": "code",
      "metadata": {
        "colab": {
          "base_uri": "https://localhost:8080/"
        },
        "id": "-qLuMqwTeXTl",
        "outputId": "d74efec1-ce46-49ab-c706-fae125cf2dfb"
      },
      "source": [
        "np.quantile(word_count, 0.025)"
      ],
      "execution_count": 194,
      "outputs": [
        {
          "output_type": "execute_result",
          "data": {
            "text/plain": [
              "6.0"
            ]
          },
          "metadata": {
            "tags": []
          },
          "execution_count": 194
        }
      ]
    },
    {
      "cell_type": "code",
      "metadata": {
        "id": "nT_Nn8ObsALP",
        "colab": {
          "base_uri": "https://localhost:8080/",
          "height": 375
        },
        "outputId": "178cf7e5-b020-4000-85d2-ff26f187f728"
      },
      "source": [
        "word_count = test_df['Tweet'].apply(lambda x : len(x.split(' ')))\n",
        "print(f' Tweet 중 단어가 가장 많은 tweet의 단어 수 : {np.max(word_count)}')\n",
        "print(f' Tweet 중 단어가 가장 적은 tweet의 단어 수 : {np.min(word_count)}')\n",
        "print(f' 평균 tweet 의 길이 : {np.mean(word_count)}')\n",
        "print(f' tweet 의 길이의 중간값 : {np.median(word_count)}')\n",
        "print('\\n')\n",
        "plt.hist(word_count, bins=20)\n",
        "plt.show()"
      ],
      "execution_count": 195,
      "outputs": [
        {
          "output_type": "stream",
          "text": [
            " Tweet 중 단어가 가장 많은 tweet의 단어 수 : 20\n",
            " Tweet 중 단어가 가장 적은 tweet의 단어 수 : 1\n",
            " 평균 tweet 의 길이 : 10.1968\n",
            " tweet 의 길이의 중간값 : 10.0\n",
            "\n",
            "\n"
          ],
          "name": "stdout"
        },
        {
          "output_type": "display_data",
          "data": {
            "image/png": "[encoded data removed]",
            "text/plain": [
              "<Figure size 432x288 with 1 Axes>"
            ]
          },
          "metadata": {
            "tags": [],
            "needs_background": "light"
          }
        }
      ]
    },
    {
      "cell_type": "markdown",
      "metadata": {
        "id": "7QSy5IaiVJHg"
      },
      "source": [
        "## 토큰화 및 패딩"
      ]
    },
    {
      "cell_type": "code",
      "metadata": {
        "id": "lsxgF4IWe3qD"
      },
      "source": [
        "train_tweet = train_df['Tweet'].values\n",
        "test_tweet = test_df['Tweet'].values"
      ],
      "execution_count": 196,
      "outputs": []
    },
    {
      "cell_type": "code",
      "metadata": {
        "colab": {
          "base_uri": "https://localhost:8080/"
        },
        "id": "PqRWJK3lVyVX",
        "outputId": "97d6675a-4cfb-44b0-86e9-531bc693bf91"
      },
      "source": [
        "train_tweet[:2]"
      ],
      "execution_count": 197,
      "outputs": [
        {
          "output_type": "execute_result",
          "data": {
            "text/plain": [
              "array(['joke hop plane rn well covid lol',\n",
              "       'banmediahouse whose responsible spreading fake communal story pandemic covid situation'],\n",
              "      dtype=object)"
            ]
          },
          "metadata": {
            "tags": []
          },
          "execution_count": 197
        }
      ]
    },
    {
      "cell_type": "code",
      "metadata": {
        "colab": {
          "base_uri": "https://localhost:8080/"
        },
        "id": "ILyIIMMkV1O7",
        "outputId": "ed96cdf4-9b7f-4a59-ed06-2b876af9eac8"
      },
      "source": [
        "tokenizer = Tokenizer()\n",
        "tokenizer.fit_on_texts(train_tweet)\n",
        "\n",
        "train_token = tokenizer.texts_to_sequences(train_tweet)\n",
        "train_token[0]"
      ],
      "execution_count": 198,
      "outputs": [
        {
          "output_type": "execute_result",
          "data": {
            "text/plain": [
              "[8, 1838, 2382, 357, 96, 1, 133]"
            ]
          },
          "metadata": {
            "tags": []
          },
          "execution_count": 198
        }
      ]
    },
    {
      "cell_type": "code",
      "metadata": {
        "colab": {
          "base_uri": "https://localhost:8080/"
        },
        "id": "uLXXTXGzfbFe",
        "outputId": "3f566c51-15fe-478b-f1cc-434f60f849c7"
      },
      "source": [
        "print(train_tweet[0])\n",
        "print(train_token[0])"
      ],
      "execution_count": 199,
      "outputs": [
        {
          "output_type": "stream",
          "text": [
            "joke hop plane rn well covid lol\n",
            "[8, 1838, 2382, 357, 96, 1, 133]\n"
          ],
          "name": "stdout"
        }
      ]
    },
    {
      "cell_type": "code",
      "metadata": {
        "id": "5-AL-elvfKpe"
      },
      "source": [
        "word_vocab = tokenizer.word_index\n",
        "#print(word_vocab)"
      ],
      "execution_count": 200,
      "outputs": []
    },
    {
      "cell_type": "code",
      "metadata": {
        "colab": {
          "base_uri": "https://localhost:8080/"
        },
        "id": "B-iJjY8xfp_o",
        "outputId": "4139d69e-4589-485b-8841-fb85b5e5ea05"
      },
      "source": [
        "print(f'단어 전체의 갯수 {len(word_vocab)}')"
      ],
      "execution_count": 201,
      "outputs": [
        {
          "output_type": "stream",
          "text": [
            "단어 전체의 갯수 8517\n"
          ],
          "name": "stdout"
        }
      ]
    },
    {
      "cell_type": "code",
      "metadata": {
        "colab": {
          "base_uri": "https://localhost:8080/"
        },
        "id": "lPK1C7GVgn-6",
        "outputId": "76988ca2-2947-49ee-bafb-e1d70487f009"
      },
      "source": [
        "maxlen = 21 # 전처리 후 최댓값\n",
        "train_pad = pad_sequences(train_token, maxlen = maxlen, padding = 'pre')\n",
        "print(train_tweet[0])\n",
        "print(train_token[0])\n",
        "print(train_pad[0])"
      ],
      "execution_count": 202,
      "outputs": [
        {
          "output_type": "stream",
          "text": [
            "joke hop plane rn well covid lol\n",
            "[8, 1838, 2382, 357, 96, 1, 133]\n",
            "[   0    0    0    0    0    0    0    0    0    0    0    0    0    0\n",
            "    8 1838 2382  357   96    1  133]\n"
          ],
          "name": "stdout"
        }
      ]
    },
    {
      "cell_type": "code",
      "metadata": {
        "colab": {
          "base_uri": "https://localhost:8080/"
        },
        "id": "SwYnKqaNjP4S",
        "outputId": "bf94eb2a-efcd-446c-c9d2-4bd0665c2c8e"
      },
      "source": [
        "print(type(train_pad))\n",
        "print(train_pad.shape)\n",
        "print(train_pad[0].shape)"
      ],
      "execution_count": 203,
      "outputs": [
        {
          "output_type": "stream",
          "text": [
            "<class 'numpy.ndarray'>\n",
            "(5000, 21)\n",
            "(21,)\n"
          ],
          "name": "stdout"
        }
      ]
    },
    {
      "cell_type": "markdown",
      "metadata": {
        "id": "mi5YQmUDl4yY"
      },
      "source": [
        "## 벡터화\n"
      ]
    },
    {
      "cell_type": "markdown",
      "metadata": {
        "id": "PQbIaO8Ua_tx"
      },
      "source": [
        "### SENTENCEPIECE"
      ]
    },
    {
      "cell_type": "code",
      "metadata": {
        "id": "6SR80m7FiEUx",
        "colab": {
          "base_uri": "https://localhost:8080/"
        },
        "outputId": "509c35cf-16c8-4b52-b9fb-493bd0fc04b2"
      },
      "source": [
        "!pip install sentencepiece\n",
        "import sentencepiece as spm"
      ],
      "execution_count": 204,
      "outputs": [
        {
          "output_type": "stream",
          "text": [
            "Requirement already satisfied: sentencepiece in /usr/local/lib/python3.7/dist-packages (0.1.95)\n"
          ],
          "name": "stdout"
        }
      ]
    },
    {
      "cell_type": "code",
      "metadata": {
        "id": "ioKYc6Gyn-Y2",
        "colab": {
          "base_uri": "https://localhost:8080/"
        },
        "outputId": "2872f374-eb50-49f5-ec3d-2d89ced33656"
      },
      "source": [
        "train_tweet.shape"
      ],
      "execution_count": 205,
      "outputs": [
        {
          "output_type": "execute_result",
          "data": {
            "text/plain": [
              "(5000,)"
            ]
          },
          "metadata": {
            "tags": []
          },
          "execution_count": 205
        }
      ]
    },
    {
      "cell_type": "code",
      "metadata": {
        "id": "ggvBUHV5n-Wn"
      },
      "source": [
        "with open('./full_tweet.txt', 'w', encoding='utf-8') as f:\n",
        "    for line in train_tweet :\n",
        "        if len(str(line).strip()) == 0 : continue\n",
        "        try : \n",
        "            f.write(line + '\\n')\n",
        "        except : continue"
      ],
      "execution_count": 206,
      "outputs": []
    },
    {
      "cell_type": "code",
      "metadata": {
        "id": "gn73Ce5Ln-UA",
        "colab": {
          "base_uri": "https://localhost:8080/"
        },
        "outputId": "a9436bdd-282a-47c4-8af0-4af170e2ba0e"
      },
      "source": [
        "!cat full_tweet.txt | head -n2"
      ],
      "execution_count": 207,
      "outputs": [
        {
          "output_type": "stream",
          "text": [
            "joke hop plane rn well covid lol\n",
            "banmediahouse whose responsible spreading fake communal story pandemic covid situation\n"
          ],
          "name": "stdout"
        }
      ]
    },
    {
      "cell_type": "code",
      "metadata": {
        "id": "fZcdrecLouCP"
      },
      "source": [
        "spm.SentencePieceTrainer.train('--input=full_tweet.txt --model_prefix=m --vocab_size=5000')"
      ],
      "execution_count": 208,
      "outputs": []
    },
    {
      "cell_type": "code",
      "metadata": {
        "id": "19LuFXvkpbFX",
        "colab": {
          "base_uri": "https://localhost:8080/"
        },
        "outputId": "b6f5f557-c103-4084-af2e-5f295f62ede2"
      },
      "source": [
        "sp = spm.SentencePieceProcessor()\n",
        "sp.load('m.model')"
      ],
      "execution_count": 209,
      "outputs": [
        {
          "output_type": "execute_result",
          "data": {
            "text/plain": [
              "True"
            ]
          },
          "metadata": {
            "tags": []
          },
          "execution_count": 209
        }
      ]
    },
    {
      "cell_type": "code",
      "metadata": {
        "id": "_ofl7UH9peYQ"
      },
      "source": [
        "train_df['bow'] = train_df['Tweet'].apply(lambda x : sp.encode_as_ids(str(x)))\n",
        "test_df['bow'] = test_df['Tweet'].apply(lambda x : sp.encode_as_ids(str(x)))"
      ],
      "execution_count": 210,
      "outputs": []
    },
    {
      "cell_type": "code",
      "metadata": {
        "id": "L-uhd-KFpeWK",
        "colab": {
          "base_uri": "https://localhost:8080/",
          "height": 194
        },
        "outputId": "c530392c-2a1c-4d7c-9e29-5a6e5af9dd63"
      },
      "source": [
        "train_df.head(2)"
      ],
      "execution_count": 211,
      "outputs": [
        {
          "output_type": "execute_result",
          "data": {
            "text/html": [
              "<div>\n",
              "<style scoped>\n",
              "    .dataframe tbody tr th:only-of-type {\n",
              "        vertical-align: middle;\n",
              "    }\n",
              "\n",
              "    .dataframe tbody tr th {\n",
              "        vertical-align: top;\n",
              "    }\n",
              "\n",
              "    .dataframe thead th {\n",
              "        text-align: right;\n",
              "    }\n",
              "</style>\n",
              "<table border=\"1\" class=\"dataframe\">\n",
              "  <thead>\n",
              "    <tr style=\"text-align: right;\">\n",
              "      <th></th>\n",
              "      <th>Tweet</th>\n",
              "      <th>0</th>\n",
              "      <th>1</th>\n",
              "      <th>2</th>\n",
              "      <th>3</th>\n",
              "      <th>4</th>\n",
              "      <th>5</th>\n",
              "      <th>6</th>\n",
              "      <th>7</th>\n",
              "      <th>8</th>\n",
              "      <th>9</th>\n",
              "      <th>10</th>\n",
              "      <th>bow</th>\n",
              "    </tr>\n",
              "  </thead>\n",
              "  <tbody>\n",
              "    <tr>\n",
              "      <th>0</th>\n",
              "      <td>joke hop plane rn well covid lol</td>\n",
              "      <td>1.0</td>\n",
              "      <td>0.0</td>\n",
              "      <td>0.0</td>\n",
              "      <td>0.0</td>\n",
              "      <td>0.0</td>\n",
              "      <td>0.0</td>\n",
              "      <td>0.0</td>\n",
              "      <td>0.0</td>\n",
              "      <td>0.0</td>\n",
              "      <td>0.0</td>\n",
              "      <td>1.0</td>\n",
              "      <td>[22, 369, 2018, 542, 164, 3, 222]</td>\n",
              "    </tr>\n",
              "    <tr>\n",
              "      <th>1</th>\n",
              "      <td>banmediahouse whose responsible spreading fake...</td>\n",
              "      <td>0.0</td>\n",
              "      <td>0.0</td>\n",
              "      <td>0.0</td>\n",
              "      <td>0.0</td>\n",
              "      <td>0.0</td>\n",
              "      <td>0.0</td>\n",
              "      <td>1.0</td>\n",
              "      <td>0.0</td>\n",
              "      <td>0.0</td>\n",
              "      <td>0.0</td>\n",
              "      <td>0.0</td>\n",
              "      <td>[1055, 2401, 2059, 148, 458, 1402, 58, 98, 4, ...</td>\n",
              "    </tr>\n",
              "  </tbody>\n",
              "</table>\n",
              "</div>"
            ],
            "text/plain": [
              "                                               Tweet  ...                                                bow\n",
              "0                   joke hop plane rn well covid lol  ...                  [22, 369, 2018, 542, 164, 3, 222]\n",
              "1  banmediahouse whose responsible spreading fake...  ...  [1055, 2401, 2059, 148, 458, 1402, 58, 98, 4, ...\n",
              "\n",
              "[2 rows x 13 columns]"
            ]
          },
          "metadata": {
            "tags": []
          },
          "execution_count": 211
        }
      ]
    },
    {
      "cell_type": "code",
      "metadata": {
        "id": "MtyrlYnnpeRI",
        "colab": {
          "base_uri": "https://localhost:8080/",
          "height": 110
        },
        "outputId": "f0f6502a-2ae2-4e4a-ffb7-c31f3cbf82d5"
      },
      "source": [
        "test_df.head(2)"
      ],
      "execution_count": 212,
      "outputs": [
        {
          "output_type": "execute_result",
          "data": {
            "text/html": [
              "<div>\n",
              "<style scoped>\n",
              "    .dataframe tbody tr th:only-of-type {\n",
              "        vertical-align: middle;\n",
              "    }\n",
              "\n",
              "    .dataframe tbody tr th {\n",
              "        vertical-align: top;\n",
              "    }\n",
              "\n",
              "    .dataframe thead th {\n",
              "        text-align: right;\n",
              "    }\n",
              "</style>\n",
              "<table border=\"1\" class=\"dataframe\">\n",
              "  <thead>\n",
              "    <tr style=\"text-align: right;\">\n",
              "      <th></th>\n",
              "      <th>ID</th>\n",
              "      <th>Tweet</th>\n",
              "      <th>bow</th>\n",
              "    </tr>\n",
              "  </thead>\n",
              "  <tbody>\n",
              "    <tr>\n",
              "      <th>0</th>\n",
              "      <td>5001</td>\n",
              "      <td>forgot math test failing teacher opening back ...</td>\n",
              "      <td>[1465, 4023, 42, 828, 4, 5, 1353, 412, 4, 85, ...</td>\n",
              "    </tr>\n",
              "    <tr>\n",
              "      <th>1</th>\n",
              "      <td>5002</td>\n",
              "      <td>covid effected came delhi bihar lakhisarai dis...</td>\n",
              "      <td>[3, 2761, 7, 379, 718, 2801, 233, 1929, 1562, ...</td>\n",
              "    </tr>\n",
              "  </tbody>\n",
              "</table>\n",
              "</div>"
            ],
            "text/plain": [
              "     ID  ...                                                bow\n",
              "0  5001  ...  [1465, 4023, 42, 828, 4, 5, 1353, 412, 4, 85, ...\n",
              "1  5002  ...  [3, 2761, 7, 379, 718, 2801, 233, 1929, 1562, ...\n",
              "\n",
              "[2 rows x 3 columns]"
            ]
          },
          "metadata": {
            "tags": []
          },
          "execution_count": 212
        }
      ]
    },
    {
      "cell_type": "code",
      "metadata": {
        "id": "eYPgy4CcpeFu"
      },
      "source": [
        "train_pad = pad_sequences(train_df['bow'].values, maxlen=28)\n",
        "test_pad = pad_sequences(test_df['bow'].values, maxlen=28)"
      ],
      "execution_count": 213,
      "outputs": []
    },
    {
      "cell_type": "code",
      "metadata": {
        "id": "HSdwN5M6sG_m",
        "colab": {
          "base_uri": "https://localhost:8080/"
        },
        "outputId": "b3a33108-33e7-48ca-9b88-b21e0e57370d"
      },
      "source": [
        "train_pad.shape"
      ],
      "execution_count": 214,
      "outputs": [
        {
          "output_type": "execute_result",
          "data": {
            "text/plain": [
              "(5000, 28)"
            ]
          },
          "metadata": {
            "tags": []
          },
          "execution_count": 214
        }
      ]
    },
    {
      "cell_type": "code",
      "metadata": {
        "colab": {
          "base_uri": "https://localhost:8080/"
        },
        "id": "P0Az1LRuvr0h",
        "outputId": "41605281-7b5a-47ef-c788-b2be31d7b084"
      },
      "source": [
        "!pip install scikit-multilearn"
      ],
      "execution_count": 215,
      "outputs": [
        {
          "output_type": "stream",
          "text": [
            "Requirement already satisfied: scikit-multilearn in /usr/local/lib/python3.7/dist-packages (0.2.0)\n"
          ],
          "name": "stdout"
        }
      ]
    },
    {
      "cell_type": "code",
      "metadata": {
        "id": "t5oJf3l3zukb",
        "outputId": "f1d1d46e-f7cd-4a66-cc48-04999c511fba",
        "colab": {
          "base_uri": "https://localhost:8080/",
          "height": 658
        }
      },
      "source": [
        "from skmultilearn.adapt import MLkNN\n",
        "from sklearn.metrics import accuracy_score, f1_score\n",
        "\n",
        "\n",
        "for i in range(1,12) :\n",
        "    classifier = MLkNN(k = i)\n",
        "    classifier.fit(train_pad[:4000],\n",
        "                np.array(train_df[:4000][cols_target]))\n",
        "\n",
        "    predictions = classifier.predict(train_pad[4000:])\n",
        "    predictions.toarray()\n",
        "\n",
        "    print(accuracy_score(train_df[4000:][cols_target], predictions))\n",
        "    print(f1_score(train_df[4000:][cols_target], predictions,average = 'macro'))"
      ],
      "execution_count": 279,
      "outputs": [
        {
          "output_type": "stream",
          "text": [
            "0.047\n",
            "0.19908669516499\n",
            "0.032\n",
            "0.18917773857109435\n",
            "0.06\n",
            "0.1443269255539131\n",
            "0.042\n",
            "0.14061159418297844\n",
            "0.054\n",
            "0.12047534187096896\n",
            "0.048\n",
            "0.10520098543395867\n",
            "0.057\n",
            "0.09549831346815672\n"
          ],
          "name": "stdout"
        },
        {
          "output_type": "error",
          "ename": "KeyboardInterrupt",
          "evalue": "ignored",
          "traceback": [
            "\u001b[0;31m---------------------------------------------------------------------------\u001b[0m",
            "\u001b[0;31mKeyboardInterrupt\u001b[0m                         Traceback (most recent call last)",
            "\u001b[0;32m<ipython-input-279-a8b4111582b1>\u001b[0m in \u001b[0;36m<module>\u001b[0;34m()\u001b[0m\n\u001b[1;32m      6\u001b[0m     \u001b[0mclassifier\u001b[0m \u001b[0;34m=\u001b[0m \u001b[0mMLkNN\u001b[0m\u001b[0;34m(\u001b[0m\u001b[0mk\u001b[0m \u001b[0;34m=\u001b[0m \u001b[0mi\u001b[0m\u001b[0;34m)\u001b[0m\u001b[0;34m\u001b[0m\u001b[0;34m\u001b[0m\u001b[0m\n\u001b[1;32m      7\u001b[0m     classifier.fit(train_pad[:4000],\n\u001b[0;32m----> 8\u001b[0;31m                 np.array(train_df[:4000][cols_target]))\n\u001b[0m\u001b[1;32m      9\u001b[0m \u001b[0;34m\u001b[0m\u001b[0m\n\u001b[1;32m     10\u001b[0m     \u001b[0mpredictions\u001b[0m \u001b[0;34m=\u001b[0m \u001b[0mclassifier\u001b[0m\u001b[0;34m.\u001b[0m\u001b[0mpredict\u001b[0m\u001b[0;34m(\u001b[0m\u001b[0mtrain_pad\u001b[0m\u001b[0;34m[\u001b[0m\u001b[0;36m4000\u001b[0m\u001b[0;34m:\u001b[0m\u001b[0;34m]\u001b[0m\u001b[0;34m)\u001b[0m\u001b[0;34m\u001b[0m\u001b[0;34m\u001b[0m\u001b[0m\n",
            "\u001b[0;32m/usr/local/lib/python3.7/dist-packages/skmultilearn/adapt/mlknn.py\u001b[0m in \u001b[0;36mfit\u001b[0;34m(self, X, y)\u001b[0m\n\u001b[1;32m    216\u001b[0m         \u001b[0mself\u001b[0m\u001b[0;34m.\u001b[0m\u001b[0m_prior_prob_true\u001b[0m\u001b[0;34m,\u001b[0m \u001b[0mself\u001b[0m\u001b[0;34m.\u001b[0m\u001b[0m_prior_prob_false\u001b[0m \u001b[0;34m=\u001b[0m \u001b[0mself\u001b[0m\u001b[0;34m.\u001b[0m\u001b[0m_compute_prior\u001b[0m\u001b[0;34m(\u001b[0m\u001b[0mself\u001b[0m\u001b[0;34m.\u001b[0m\u001b[0m_label_cache\u001b[0m\u001b[0;34m)\u001b[0m\u001b[0;34m\u001b[0m\u001b[0;34m\u001b[0m\u001b[0m\n\u001b[1;32m    217\u001b[0m         \u001b[0;31m# Computing the posterior probabilities\u001b[0m\u001b[0;34m\u001b[0m\u001b[0;34m\u001b[0m\u001b[0;34m\u001b[0m\u001b[0m\n\u001b[0;32m--> 218\u001b[0;31m         \u001b[0mself\u001b[0m\u001b[0;34m.\u001b[0m\u001b[0m_cond_prob_true\u001b[0m\u001b[0;34m,\u001b[0m \u001b[0mself\u001b[0m\u001b[0;34m.\u001b[0m\u001b[0m_cond_prob_false\u001b[0m \u001b[0;34m=\u001b[0m \u001b[0mself\u001b[0m\u001b[0;34m.\u001b[0m\u001b[0m_compute_cond\u001b[0m\u001b[0;34m(\u001b[0m\u001b[0mX\u001b[0m\u001b[0;34m,\u001b[0m \u001b[0mself\u001b[0m\u001b[0;34m.\u001b[0m\u001b[0m_label_cache\u001b[0m\u001b[0;34m)\u001b[0m\u001b[0;34m\u001b[0m\u001b[0;34m\u001b[0m\u001b[0m\n\u001b[0m\u001b[1;32m    219\u001b[0m         \u001b[0;32mreturn\u001b[0m \u001b[0mself\u001b[0m\u001b[0;34m\u001b[0m\u001b[0;34m\u001b[0m\u001b[0m\n\u001b[1;32m    220\u001b[0m \u001b[0;34m\u001b[0m\u001b[0m\n",
            "\u001b[0;32m/usr/local/lib/python3.7/dist-packages/skmultilearn/adapt/mlknn.py\u001b[0m in \u001b[0;36m_compute_cond\u001b[0;34m(self, X, y)\u001b[0m\n\u001b[1;32m    178\u001b[0m                     \u001b[0mc\u001b[0m\u001b[0;34m[\u001b[0m\u001b[0mlabel\u001b[0m\u001b[0;34m,\u001b[0m \u001b[0mdeltas\u001b[0m\u001b[0;34m[\u001b[0m\u001b[0;36m0\u001b[0m\u001b[0;34m,\u001b[0m \u001b[0mlabel\u001b[0m\u001b[0;34m]\u001b[0m\u001b[0;34m]\u001b[0m \u001b[0;34m+=\u001b[0m \u001b[0;36m1\u001b[0m\u001b[0;34m\u001b[0m\u001b[0;34m\u001b[0m\u001b[0m\n\u001b[1;32m    179\u001b[0m                 \u001b[0;32melse\u001b[0m\u001b[0;34m:\u001b[0m\u001b[0;34m\u001b[0m\u001b[0;34m\u001b[0m\u001b[0m\n\u001b[0;32m--> 180\u001b[0;31m                     \u001b[0mcn\u001b[0m\u001b[0;34m[\u001b[0m\u001b[0mlabel\u001b[0m\u001b[0;34m,\u001b[0m \u001b[0mdeltas\u001b[0m\u001b[0;34m[\u001b[0m\u001b[0;36m0\u001b[0m\u001b[0;34m,\u001b[0m \u001b[0mlabel\u001b[0m\u001b[0;34m]\u001b[0m\u001b[0;34m]\u001b[0m \u001b[0;34m+=\u001b[0m \u001b[0;36m1\u001b[0m\u001b[0;34m\u001b[0m\u001b[0;34m\u001b[0m\u001b[0m\n\u001b[0m\u001b[1;32m    181\u001b[0m \u001b[0;34m\u001b[0m\u001b[0m\n\u001b[1;32m    182\u001b[0m         \u001b[0mc_sum\u001b[0m \u001b[0;34m=\u001b[0m \u001b[0mc\u001b[0m\u001b[0;34m.\u001b[0m\u001b[0msum\u001b[0m\u001b[0;34m(\u001b[0m\u001b[0maxis\u001b[0m\u001b[0;34m=\u001b[0m\u001b[0;36m1\u001b[0m\u001b[0;34m)\u001b[0m\u001b[0;34m\u001b[0m\u001b[0;34m\u001b[0m\u001b[0m\n",
            "\u001b[0;32m/usr/local/lib/python3.7/dist-packages/scipy/sparse/lil.py\u001b[0m in \u001b[0;36m__getitem__\u001b[0;34m(self, key)\u001b[0m\n\u001b[1;32m    214\u001b[0m             \u001b[0;32mreturn\u001b[0m \u001b[0mself\u001b[0m\u001b[0;34m.\u001b[0m\u001b[0m_get_intXint\u001b[0m\u001b[0;34m(\u001b[0m\u001b[0;34m*\u001b[0m\u001b[0mkey\u001b[0m\u001b[0;34m)\u001b[0m\u001b[0;34m\u001b[0m\u001b[0;34m\u001b[0m\u001b[0m\n\u001b[1;32m    215\u001b[0m         \u001b[0;31m# Everything else takes the normal path.\u001b[0m\u001b[0;34m\u001b[0m\u001b[0;34m\u001b[0m\u001b[0;34m\u001b[0m\u001b[0m\n\u001b[0;32m--> 216\u001b[0;31m         \u001b[0;32mreturn\u001b[0m \u001b[0mIndexMixin\u001b[0m\u001b[0;34m.\u001b[0m\u001b[0m__getitem__\u001b[0m\u001b[0;34m(\u001b[0m\u001b[0mself\u001b[0m\u001b[0;34m,\u001b[0m \u001b[0mkey\u001b[0m\u001b[0;34m)\u001b[0m\u001b[0;34m\u001b[0m\u001b[0;34m\u001b[0m\u001b[0m\n\u001b[0m\u001b[1;32m    217\u001b[0m \u001b[0;34m\u001b[0m\u001b[0m\n\u001b[1;32m    218\u001b[0m     \u001b[0;32mdef\u001b[0m \u001b[0m_asindices\u001b[0m\u001b[0;34m(\u001b[0m\u001b[0mself\u001b[0m\u001b[0;34m,\u001b[0m \u001b[0midx\u001b[0m\u001b[0;34m,\u001b[0m \u001b[0mN\u001b[0m\u001b[0;34m)\u001b[0m\u001b[0;34m:\u001b[0m\u001b[0;34m\u001b[0m\u001b[0;34m\u001b[0m\u001b[0m\n",
            "\u001b[0;32m/usr/local/lib/python3.7/dist-packages/scipy/sparse/_index.py\u001b[0m in \u001b[0;36m__getitem__\u001b[0;34m(self, key)\u001b[0m\n\u001b[1;32m     33\u001b[0m     \"\"\"\n\u001b[1;32m     34\u001b[0m     \u001b[0;32mdef\u001b[0m \u001b[0m__getitem__\u001b[0m\u001b[0;34m(\u001b[0m\u001b[0mself\u001b[0m\u001b[0;34m,\u001b[0m \u001b[0mkey\u001b[0m\u001b[0;34m)\u001b[0m\u001b[0;34m:\u001b[0m\u001b[0;34m\u001b[0m\u001b[0;34m\u001b[0m\u001b[0m\n\u001b[0;32m---> 35\u001b[0;31m         \u001b[0mrow\u001b[0m\u001b[0;34m,\u001b[0m \u001b[0mcol\u001b[0m \u001b[0;34m=\u001b[0m \u001b[0mself\u001b[0m\u001b[0;34m.\u001b[0m\u001b[0m_validate_indices\u001b[0m\u001b[0;34m(\u001b[0m\u001b[0mkey\u001b[0m\u001b[0;34m)\u001b[0m\u001b[0;34m\u001b[0m\u001b[0;34m\u001b[0m\u001b[0m\n\u001b[0m\u001b[1;32m     36\u001b[0m         \u001b[0;31m# Dispatch to specialized methods.\u001b[0m\u001b[0;34m\u001b[0m\u001b[0;34m\u001b[0m\u001b[0;34m\u001b[0m\u001b[0m\n\u001b[1;32m     37\u001b[0m         \u001b[0;32mif\u001b[0m \u001b[0misinstance\u001b[0m\u001b[0;34m(\u001b[0m\u001b[0mrow\u001b[0m\u001b[0;34m,\u001b[0m \u001b[0mINT_TYPES\u001b[0m\u001b[0;34m)\u001b[0m\u001b[0;34m:\u001b[0m\u001b[0;34m\u001b[0m\u001b[0;34m\u001b[0m\u001b[0m\n",
            "\u001b[0;32m/usr/local/lib/python3.7/dist-packages/scipy/sparse/_index.py\u001b[0m in \u001b[0;36m_validate_indices\u001b[0;34m(self, key)\u001b[0m\n\u001b[1;32m    127\u001b[0m \u001b[0;34m\u001b[0m\u001b[0m\n\u001b[1;32m    128\u001b[0m     \u001b[0;32mdef\u001b[0m \u001b[0m_validate_indices\u001b[0m\u001b[0;34m(\u001b[0m\u001b[0mself\u001b[0m\u001b[0;34m,\u001b[0m \u001b[0mkey\u001b[0m\u001b[0;34m)\u001b[0m\u001b[0;34m:\u001b[0m\u001b[0;34m\u001b[0m\u001b[0;34m\u001b[0m\u001b[0m\n\u001b[0;32m--> 129\u001b[0;31m         \u001b[0mM\u001b[0m\u001b[0;34m,\u001b[0m \u001b[0mN\u001b[0m \u001b[0;34m=\u001b[0m \u001b[0mself\u001b[0m\u001b[0;34m.\u001b[0m\u001b[0mshape\u001b[0m\u001b[0;34m\u001b[0m\u001b[0;34m\u001b[0m\u001b[0m\n\u001b[0m\u001b[1;32m    130\u001b[0m         \u001b[0mrow\u001b[0m\u001b[0;34m,\u001b[0m \u001b[0mcol\u001b[0m \u001b[0;34m=\u001b[0m \u001b[0m_unpack_index\u001b[0m\u001b[0;34m(\u001b[0m\u001b[0mkey\u001b[0m\u001b[0;34m)\u001b[0m\u001b[0;34m\u001b[0m\u001b[0;34m\u001b[0m\u001b[0m\n\u001b[1;32m    131\u001b[0m \u001b[0;34m\u001b[0m\u001b[0m\n",
            "\u001b[0;31mKeyboardInterrupt\u001b[0m: "
          ]
        }
      ]
    },
    {
      "cell_type": "code",
      "metadata": {
        "id": "kCotASshzugA"
      },
      "source": [
        ""
      ],
      "execution_count": null,
      "outputs": []
    },
    {
      "cell_type": "code",
      "metadata": {
        "id": "UBfsYKFuzuce"
      },
      "source": [
        ""
      ],
      "execution_count": null,
      "outputs": []
    },
    {
      "cell_type": "code",
      "metadata": {
        "id": "F87OvWxezuaZ"
      },
      "source": [
        ""
      ],
      "execution_count": null,
      "outputs": []
    },
    {
      "cell_type": "code",
      "metadata": {
        "id": "-M3i7NGuzuXH"
      },
      "source": [
        ""
      ],
      "execution_count": null,
      "outputs": []
    },
    {
      "cell_type": "code",
      "metadata": {
        "id": "gafTh87nzuUp"
      },
      "source": [
        ""
      ],
      "execution_count": null,
      "outputs": []
    },
    {
      "cell_type": "code",
      "metadata": {
        "colab": {
          "base_uri": "https://localhost:8080/"
        },
        "id": "DtuIF70iyyaP",
        "outputId": "6ea19bbd-ced8-47ee-fbf5-bab214583090"
      },
      "source": [
        "print(train_pad[:4000].shape)\n",
        "print(train_pad[4000:].shape)\n",
        "\n",
        "print('*'*30)\n",
        "print(train_df[cols_target][:4000].shape)\n",
        "print(train_df[cols_target][4000:].shape)"
      ],
      "execution_count": 258,
      "outputs": [
        {
          "output_type": "stream",
          "text": [
            "(4000, 28)\n",
            "(1000, 28)\n",
            "******************************\n",
            "(4000, 11)\n",
            "(1000, 11)\n"
          ],
          "name": "stdout"
        }
      ]
    },
    {
      "cell_type": "code",
      "metadata": {
        "colab": {
          "base_uri": "https://localhost:8080/"
        },
        "id": "9rh2ailyvzJ3",
        "outputId": "b0a13e38-a52e-4503-b800-b26f7a07838a"
      },
      "source": [
        "# Label Powerset\n",
        "\n",
        "from skmultilearn.problem_transform import LabelPowerset\n",
        "from sklearn.naive_bayes import GaussianNB\n",
        "from sklearn.metrics import accuracy_score, f1_score\n",
        "\n",
        "classifier = LabelPowerset(GaussianNB())\n",
        "classifier.fit(pd.DataFrame(train_pad[:4000]), train_df[:4000][cols_target])"
      ],
      "execution_count": 256,
      "outputs": [
        {
          "output_type": "execute_result",
          "data": {
            "text/plain": [
              "LabelPowerset(classifier=GaussianNB(priors=None, var_smoothing=1e-09),\n",
              "              require_dense=[True, True])"
            ]
          },
          "metadata": {
            "tags": []
          },
          "execution_count": 256
        }
      ]
    },
    {
      "cell_type": "code",
      "metadata": {
        "colab": {
          "base_uri": "https://localhost:8080/"
        },
        "id": "GhTt7eXQw0tP",
        "outputId": "e5a1a5d8-20d9-42d9-91f6-4985b150366a"
      },
      "source": [
        "predictions = classifier.predict(pd.DataFrame(train_pad[4000:]))\n",
        "predictions.toarray()"
      ],
      "execution_count": 259,
      "outputs": [
        {
          "output_type": "execute_result",
          "data": {
            "text/plain": [
              "array([[0, 1, 1, ..., 0, 0, 0],\n",
              "       [1, 0, 0, ..., 0, 1, 0],\n",
              "       [1, 0, 0, ..., 0, 1, 0],\n",
              "       ...,\n",
              "       [1, 0, 1, ..., 0, 0, 0],\n",
              "       [1, 1, 0, ..., 0, 1, 0],\n",
              "       [1, 0, 0, ..., 0, 1, 0]])"
            ]
          },
          "metadata": {
            "tags": []
          },
          "execution_count": 259
        }
      ]
    },
    {
      "cell_type": "code",
      "metadata": {
        "colab": {
          "base_uri": "https://localhost:8080/"
        },
        "id": "AWKo2iDFx19X",
        "outputId": "c514c802-dc26-49fd-82b2-3960a14ee5a2"
      },
      "source": [
        "print(accuracy_score(train_df[4000:][cols_target], predictions))\n",
        "print(f1_score(train_df[4000:][cols_target], predictions,average = 'macro'))"
      ],
      "execution_count": 262,
      "outputs": [
        {
          "output_type": "stream",
          "text": [
            "0.001\n",
            "0.183141852707612\n"
          ],
          "name": "stdout"
        }
      ]
    }
  ]
}