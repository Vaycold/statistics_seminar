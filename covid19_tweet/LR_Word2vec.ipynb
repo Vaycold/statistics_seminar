{
  "nbformat": 4,
  "nbformat_minor": 0,
  "metadata": {
    "colab": {
      "name": "COVID19_tweet.ipynb",
      "provenance": [],
      "authorship_tag": "ABX9TyPYdrHqc14dumxrqsZd5ce2",
      "include_colab_link": true
    },
    "kernelspec": {
      "name": "python3",
      "display_name": "Python 3"
    },
    "language_info": {
      "name": "python"
    }
  },
  "cells": [
    {
      "cell_type": "markdown",
      "metadata": {
        "id": "view-in-github",
        "colab_type": "text"
      },
      "source": [
        "<a href=\"https://colab.research.google.com/github/Vaycold/statistics_seminar/blob/main/covid19_tweet/LR_Word2vec.ipynb\" target=\"_parent\"><img src=\"https://colab.research.google.com/assets/colab-badge.svg\" alt=\"Open In Colab\"/></a>"
      ]
    },
    {
      "cell_type": "code",
      "metadata": {
        "colab": {
          "base_uri": "https://localhost:8080/"
        },
        "id": "xMZqGwLal7Tq",
        "outputId": "efca198d-ee4a-45cb-ab1d-70510ed97728"
      },
      "source": [
        "import os\n",
        "\n",
        "import numpy as np\n",
        "import pandas as pd\n",
        "import matplotlib.pyplot as plt\n",
        "import warnings \n",
        "import re\n",
        "\n",
        "import nltk\n",
        "from nltk.corpus import stopwords\n",
        "from nltk.tokenize import word_tokenize\n",
        "from nltk.stem import WordNetLemmatizer\n",
        "\n",
        "import tensorflow as tf\n",
        "from tensorflow import keras\n",
        "from keras.preprocessing.sequence import pad_sequences\n",
        "from keras.preprocessing.text import Tokenizer    \n",
        "from google.colab import files\n",
        "\n",
        "from sklearn.feature_extraction.text import TfidfVectorizer\n",
        "from sklearn.model_selection import StratifiedKFold\n",
        "from sklearn.metrics import f1_score, accuracy_score\n",
        "from sklearn.model_selection import train_test_split\n",
        "\n",
        "\n",
        "warnings.filterwarnings('ignore')\n",
        "\n",
        "os.environ['KAGGLE_USERNAME'] = 'kimgodbang'\n",
        "os.environ['KAGGLE_KEY'] = '1c0e1716b23829d4381dcbced37ba49b'\n",
        "\n",
        "!rm *.*\n",
        "!kaggle competitions download -c sentiment-analysis-of-covid-19-related-tweets\n",
        "\n",
        "train_df = pd.read_csv('training.csv')\n",
        "test_df = pd.read_csv('validation.csv')\n",
        "\n",
        "for module in ['stopwords', 'punkt', 'wordnet'] :\n",
        "    nltk.download(module)"
      ],
      "execution_count": 477,
      "outputs": [
        {
          "output_type": "stream",
          "text": [
            "Warning: Looks like you're using an outdated API Version, please consider updating (server 1.5.12 / client 1.5.4)\n",
            "Downloading training.csv to /content\n",
            "  0% 0.00/518k [00:00<?, ?B/s]\n",
            "100% 518k/518k [00:00<00:00, 72.1MB/s]\n",
            "Downloading validation.csv to /content\n",
            "  0% 0.00/254k [00:00<?, ?B/s]\n",
            "100% 254k/254k [00:00<00:00, 60.8MB/s]\n",
            "[nltk_data] Downloading package stopwords to /root/nltk_data...\n",
            "[nltk_data]   Package stopwords is already up-to-date!\n",
            "[nltk_data] Downloading package punkt to /root/nltk_data...\n",
            "[nltk_data]   Package punkt is already up-to-date!\n",
            "[nltk_data] Downloading package wordnet to /root/nltk_data...\n",
            "[nltk_data]   Package wordnet is already up-to-date!\n"
          ],
          "name": "stdout"
        }
      ]
    },
    {
      "cell_type": "code",
      "metadata": {
        "id": "dZE4g20Smd13"
      },
      "source": [
        "def labelsplit(labels) :\n",
        "    \n",
        "    label = labels.replace(' ',',').split(',')\n",
        "    for idx, lab in enumerate(label) :\n",
        "        label[idx] = int(lab)\n",
        "    return label"
      ],
      "execution_count": 478,
      "outputs": []
    },
    {
      "cell_type": "code",
      "metadata": {
        "id": "WDV_duLnTTZI",
        "colab": {
          "base_uri": "https://localhost:8080/",
          "height": 110
        },
        "outputId": "241eb854-7db3-4fff-fe96-d4668817363d"
      },
      "source": [
        "train_df['label']  = train_df['Labels'].apply(lambda x :  labelsplit(x))"
      ],
      "execution_count": 480,
      "outputs": [
        {
          "output_type": "execute_result",
          "data": {
            "text/html": [
              "<div>\n",
              "<style scoped>\n",
              "    .dataframe tbody tr th:only-of-type {\n",
              "        vertical-align: middle;\n",
              "    }\n",
              "\n",
              "    .dataframe tbody tr th {\n",
              "        vertical-align: top;\n",
              "    }\n",
              "\n",
              "    .dataframe thead th {\n",
              "        text-align: right;\n",
              "    }\n",
              "</style>\n",
              "<table border=\"1\" class=\"dataframe\">\n",
              "  <thead>\n",
              "    <tr style=\"text-align: right;\">\n",
              "      <th></th>\n",
              "      <th>ID</th>\n",
              "      <th>Tweet</th>\n",
              "      <th>Labels</th>\n",
              "      <th>label</th>\n",
              "    </tr>\n",
              "  </thead>\n",
              "  <tbody>\n",
              "    <tr>\n",
              "      <th>0</th>\n",
              "      <td>1</td>\n",
              "      <td>NO JOKE I WILL HOP ON A PLANE RN! (Well after ...</td>\n",
              "      <td>0 10</td>\n",
              "      <td>[0, 10]</td>\n",
              "    </tr>\n",
              "    <tr>\n",
              "      <th>1</th>\n",
              "      <td>2</td>\n",
              "      <td>BanMediaHouse whose is responsible for spreadi...</td>\n",
              "      <td>6</td>\n",
              "      <td>[6]</td>\n",
              "    </tr>\n",
              "  </tbody>\n",
              "</table>\n",
              "</div>"
            ],
            "text/plain": [
              "   ID                                              Tweet Labels    label\n",
              "0   1  NO JOKE I WILL HOP ON A PLANE RN! (Well after ...   0 10  [0, 10]\n",
              "1   2  BanMediaHouse whose is responsible for spreadi...      6      [6]"
            ]
          },
          "metadata": {
            "tags": []
          },
          "execution_count": 480
        }
      ]
    },
    {
      "cell_type": "code",
      "metadata": {
        "id": "G1k6WG7kTV7V",
        "colab": {
          "base_uri": "https://localhost:8080/",
          "height": 142
        },
        "outputId": "873be845-7877-455c-f533-e46459c7ce51"
      },
      "source": [
        "onehot = np.zeros((5000,11))\n",
        "for i in range(5000) : # 0~5000 row\n",
        "    for j in train_df.label[i] : # j = value   \n",
        "        onehot[i,j]  = 1\n",
        "cols_target = ['0','1','2','3','4','5','6','7','8','9','10']\n",
        "onehot = pd.DataFrame(onehot, columns=cols_target)"
      ],
      "execution_count": 481,
      "outputs": [
        {
          "output_type": "execute_result",
          "data": {
            "text/html": [
              "<div>\n",
              "<style scoped>\n",
              "    .dataframe tbody tr th:only-of-type {\n",
              "        vertical-align: middle;\n",
              "    }\n",
              "\n",
              "    .dataframe tbody tr th {\n",
              "        vertical-align: top;\n",
              "    }\n",
              "\n",
              "    .dataframe thead th {\n",
              "        text-align: right;\n",
              "    }\n",
              "</style>\n",
              "<table border=\"1\" class=\"dataframe\">\n",
              "  <thead>\n",
              "    <tr style=\"text-align: right;\">\n",
              "      <th></th>\n",
              "      <th>0</th>\n",
              "      <th>1</th>\n",
              "      <th>2</th>\n",
              "      <th>3</th>\n",
              "      <th>4</th>\n",
              "      <th>5</th>\n",
              "      <th>6</th>\n",
              "      <th>7</th>\n",
              "      <th>8</th>\n",
              "      <th>9</th>\n",
              "      <th>10</th>\n",
              "    </tr>\n",
              "  </thead>\n",
              "  <tbody>\n",
              "    <tr>\n",
              "      <th>0</th>\n",
              "      <td>1.0</td>\n",
              "      <td>0.0</td>\n",
              "      <td>0.0</td>\n",
              "      <td>0.0</td>\n",
              "      <td>0.0</td>\n",
              "      <td>0.0</td>\n",
              "      <td>0.0</td>\n",
              "      <td>0.0</td>\n",
              "      <td>0.0</td>\n",
              "      <td>0.0</td>\n",
              "      <td>1.0</td>\n",
              "    </tr>\n",
              "    <tr>\n",
              "      <th>1</th>\n",
              "      <td>0.0</td>\n",
              "      <td>0.0</td>\n",
              "      <td>0.0</td>\n",
              "      <td>0.0</td>\n",
              "      <td>0.0</td>\n",
              "      <td>0.0</td>\n",
              "      <td>1.0</td>\n",
              "      <td>0.0</td>\n",
              "      <td>0.0</td>\n",
              "      <td>0.0</td>\n",
              "      <td>0.0</td>\n",
              "    </tr>\n",
              "    <tr>\n",
              "      <th>2</th>\n",
              "      <td>0.0</td>\n",
              "      <td>0.0</td>\n",
              "      <td>0.0</td>\n",
              "      <td>1.0</td>\n",
              "      <td>1.0</td>\n",
              "      <td>0.0</td>\n",
              "      <td>0.0</td>\n",
              "      <td>0.0</td>\n",
              "      <td>0.0</td>\n",
              "      <td>0.0</td>\n",
              "      <td>0.0</td>\n",
              "    </tr>\n",
              "  </tbody>\n",
              "</table>\n",
              "</div>"
            ],
            "text/plain": [
              "     0    1    2    3    4    5    6    7    8    9   10\n",
              "0  1.0  0.0  0.0  0.0  0.0  0.0  0.0  0.0  0.0  0.0  1.0\n",
              "1  0.0  0.0  0.0  0.0  0.0  0.0  1.0  0.0  0.0  0.0  0.0\n",
              "2  0.0  0.0  0.0  1.0  1.0  0.0  0.0  0.0  0.0  0.0  0.0"
            ]
          },
          "metadata": {
            "tags": []
          },
          "execution_count": 481
        }
      ]
    },
    {
      "cell_type": "code",
      "metadata": {
        "id": "TFikCUrtTYoQ",
        "colab": {
          "base_uri": "https://localhost:8080/",
          "height": 110
        },
        "outputId": "5563db85-c570-4efc-d502-21b586d81434"
      },
      "source": [
        "train_df = pd.concat(\n",
        "    [train_df, onehot], axis=1\n",
        ").drop(['ID','Labels', 'label'],axis=1)"
      ],
      "execution_count": 482,
      "outputs": [
        {
          "output_type": "execute_result",
          "data": {
            "text/html": [
              "<div>\n",
              "<style scoped>\n",
              "    .dataframe tbody tr th:only-of-type {\n",
              "        vertical-align: middle;\n",
              "    }\n",
              "\n",
              "    .dataframe tbody tr th {\n",
              "        vertical-align: top;\n",
              "    }\n",
              "\n",
              "    .dataframe thead th {\n",
              "        text-align: right;\n",
              "    }\n",
              "</style>\n",
              "<table border=\"1\" class=\"dataframe\">\n",
              "  <thead>\n",
              "    <tr style=\"text-align: right;\">\n",
              "      <th></th>\n",
              "      <th>Tweet</th>\n",
              "      <th>0</th>\n",
              "      <th>1</th>\n",
              "      <th>2</th>\n",
              "      <th>3</th>\n",
              "      <th>4</th>\n",
              "      <th>5</th>\n",
              "      <th>6</th>\n",
              "      <th>7</th>\n",
              "      <th>8</th>\n",
              "      <th>9</th>\n",
              "      <th>10</th>\n",
              "    </tr>\n",
              "  </thead>\n",
              "  <tbody>\n",
              "    <tr>\n",
              "      <th>0</th>\n",
              "      <td>NO JOKE I WILL HOP ON A PLANE RN! (Well after ...</td>\n",
              "      <td>1.0</td>\n",
              "      <td>0.0</td>\n",
              "      <td>0.0</td>\n",
              "      <td>0.0</td>\n",
              "      <td>0.0</td>\n",
              "      <td>0.0</td>\n",
              "      <td>0.0</td>\n",
              "      <td>0.0</td>\n",
              "      <td>0.0</td>\n",
              "      <td>0.0</td>\n",
              "      <td>1.0</td>\n",
              "    </tr>\n",
              "    <tr>\n",
              "      <th>1</th>\n",
              "      <td>BanMediaHouse whose is responsible for spreadi...</td>\n",
              "      <td>0.0</td>\n",
              "      <td>0.0</td>\n",
              "      <td>0.0</td>\n",
              "      <td>0.0</td>\n",
              "      <td>0.0</td>\n",
              "      <td>0.0</td>\n",
              "      <td>1.0</td>\n",
              "      <td>0.0</td>\n",
              "      <td>0.0</td>\n",
              "      <td>0.0</td>\n",
              "      <td>0.0</td>\n",
              "    </tr>\n",
              "  </tbody>\n",
              "</table>\n",
              "</div>"
            ],
            "text/plain": [
              "                                               Tweet    0    1  ...    8    9   10\n",
              "0  NO JOKE I WILL HOP ON A PLANE RN! (Well after ...  1.0  0.0  ...  0.0  0.0  1.0\n",
              "1  BanMediaHouse whose is responsible for spreadi...  0.0  0.0  ...  0.0  0.0  0.0\n",
              "\n",
              "[2 rows x 12 columns]"
            ]
          },
          "metadata": {
            "tags": []
          },
          "execution_count": 482
        }
      ]
    },
    {
      "cell_type": "markdown",
      "metadata": {
        "id": "X9iY7aUraIcU"
      },
      "source": [
        "## EDA"
      ]
    },
    {
      "cell_type": "code",
      "metadata": {
        "colab": {
          "base_uri": "https://localhost:8080/"
        },
        "id": "_-V9ztmOaIB1",
        "outputId": "cd215319-ab61-4c1e-c30b-a1bf3f72f50f"
      },
      "source": [
        "# 단어의 갯수\n",
        "\n",
        "word_count = train_df['Tweet'].apply(lambda x : len(x.split(' ')))\n",
        "word_count"
      ],
      "execution_count": 483,
      "outputs": [
        {
          "output_type": "execute_result",
          "data": {
            "text/plain": [
              "0       13\n",
              "1       15\n",
              "2       19\n",
              "3       16\n",
              "4       19\n",
              "        ..\n",
              "4995    14\n",
              "4996    23\n",
              "4997     9\n",
              "4998    23\n",
              "4999    13\n",
              "Name: Tweet, Length: 5000, dtype: int64"
            ]
          },
          "metadata": {
            "tags": []
          },
          "execution_count": 483
        }
      ]
    },
    {
      "cell_type": "code",
      "metadata": {
        "colab": {
          "base_uri": "https://localhost:8080/"
        },
        "id": "vnO6oSJyas1a",
        "outputId": "c3bc45e2-169e-4b22-806c-106ce2086b45"
      },
      "source": [
        "print(f' Tweet 중 단어가 가장 많은 tweet의 단어 수 : {np.max(word_count)}')\n",
        "print(f' Tweet 중 단어가 가장 적은 tweet의 단어 수 : {np.min(word_count)}')\n",
        "print(f' 평균 tweet 의 길이 : {np.mean(word_count)}')\n",
        "print(f' tweet 의 길이의 중간값 : {np.median(word_count)}')"
      ],
      "execution_count": 484,
      "outputs": [
        {
          "output_type": "stream",
          "text": [
            " Tweet 중 단어가 가장 많은 tweet의 단어 수 : 30\n",
            " Tweet 중 단어가 가장 적은 tweet의 단어 수 : 1\n",
            " 평균 tweet 의 길이 : 16.9214\n",
            " tweet 의 길이의 중간값 : 17.0\n"
          ],
          "name": "stdout"
        }
      ]
    },
    {
      "cell_type": "code",
      "metadata": {
        "colab": {
          "base_uri": "https://localhost:8080/",
          "height": 265
        },
        "id": "UPbXZgWmaszC",
        "outputId": "906be2ec-a694-4c94-ca29-51b2f13f9f04"
      },
      "source": [
        "plt.hist(word_count, bins=30)\n",
        "plt.show()"
      ],
      "execution_count": 485,
      "outputs": [
        {
          "output_type": "display_data",
          "data": {
            "image/png": "[encoded data removed]",
            "text/plain": [
              "<Figure size 432x288 with 1 Axes>"
            ]
          },
          "metadata": {
            "tags": [],
            "needs_background": "light"
          }
        }
      ]
    },
    {
      "cell_type": "code",
      "metadata": {
        "id": "86nmaf3easnT"
      },
      "source": [
        ""
      ],
      "execution_count": 485,
      "outputs": []
    },
    {
      "cell_type": "markdown",
      "metadata": {
        "id": "Ibwp-5vmPNpW"
      },
      "source": [
        "## 텍스트 클렌징"
      ]
    },
    {
      "cell_type": "code",
      "metadata": {
        "id": "DJMeOtejPOwi"
      },
      "source": [
        "stop = stopwords.words('english')\n",
        "def word_lemmatizer(text):\n",
        "    lem_text = [WordNetLemmatizer().lemmatize(i) for i in text]\n",
        "    return lem_text\n",
        "def  clean_text(df, text_field='Tweet', new_text_field_name='clean_tweet'):\n",
        "    df[new_text_field_name] = df[text_field].str.lower()\n",
        "    df[new_text_field_name] = df[new_text_field_name].apply(lambda x : x.lower())\n",
        "    df[new_text_field_name] = df[new_text_field_name].apply(lambda x : x.replace('corona','covid'))\n",
        "    df[new_text_field_name] = df[new_text_field_name].apply(lambda x : x.replace('coronavirus','virus'))\n",
        "    df[new_text_field_name] = df[new_text_field_name].apply(lambda elem: re.sub(r\"(@[A-Za-z0-9]+)|([^0-9A-Za-z \\t])|(\\w+:\\/\\/\\S+)|^rt|http.+?\", \"\", elem))  \n",
        "    df[new_text_field_name] = df[new_text_field_name].apply(lambda elem: re.sub(r\"\\d+\", \"\", elem))\n",
        "    df[new_text_field_name] = df[new_text_field_name].apply(lambda x: ' '.join([word for word in x.split() if word not in (stop)]))\n",
        "    df[new_text_field_name] = df[new_text_field_name].apply(lambda x: word_tokenize(x))\n",
        "    df[new_text_field_name] = df[new_text_field_name].apply(lambda x: word_lemmatizer(x))\n",
        "    df[new_text_field_name] = df[new_text_field_name].apply(lambda x: ' '.join(x))\n",
        "    return df"
      ],
      "execution_count": 486,
      "outputs": []
    },
    {
      "cell_type": "code",
      "metadata": {
        "id": "QwAkp68dQTq-"
      },
      "source": [
        "def clean_df(df) :\n",
        "    DF = clean_text(df, 'Tweet', 'clean_tweet')\n",
        "    try :\n",
        "        DF = DF[['clean_tweet','0', '1', '2', '3', '4', '5', '6', '7', '8', '9', '10']]\n",
        "        DF.columns = ['Tweet','0', '1', '2', '3', '4', '5', '6', '7', '8', '9', '10']\n",
        "    except :\n",
        "        DF = DF[['ID','clean_tweet']]\n",
        "        DF.columns = ['ID','Tweet']\n",
        "    \n",
        "    return DF"
      ],
      "execution_count": 487,
      "outputs": []
    },
    {
      "cell_type": "code",
      "metadata": {
        "id": "gn7c1-luTde4"
      },
      "source": [
        "train_df = clean_df(train_df)\n",
        "test_df = clean_df(test_df)"
      ],
      "execution_count": 488,
      "outputs": []
    },
    {
      "cell_type": "code",
      "metadata": {
        "colab": {
          "base_uri": "https://localhost:8080/",
          "height": 110
        },
        "id": "FxESk9JaSVpE",
        "outputId": "683d076c-5d51-40b4-d268-9bc7b5b6aa34"
      },
      "source": [
        "train_df.head(2)"
      ],
      "execution_count": 489,
      "outputs": [
        {
          "output_type": "execute_result",
          "data": {
            "text/html": [
              "<div>\n",
              "<style scoped>\n",
              "    .dataframe tbody tr th:only-of-type {\n",
              "        vertical-align: middle;\n",
              "    }\n",
              "\n",
              "    .dataframe tbody tr th {\n",
              "        vertical-align: top;\n",
              "    }\n",
              "\n",
              "    .dataframe thead th {\n",
              "        text-align: right;\n",
              "    }\n",
              "</style>\n",
              "<table border=\"1\" class=\"dataframe\">\n",
              "  <thead>\n",
              "    <tr style=\"text-align: right;\">\n",
              "      <th></th>\n",
              "      <th>Tweet</th>\n",
              "      <th>0</th>\n",
              "      <th>1</th>\n",
              "      <th>2</th>\n",
              "      <th>3</th>\n",
              "      <th>4</th>\n",
              "      <th>5</th>\n",
              "      <th>6</th>\n",
              "      <th>7</th>\n",
              "      <th>8</th>\n",
              "      <th>9</th>\n",
              "      <th>10</th>\n",
              "    </tr>\n",
              "  </thead>\n",
              "  <tbody>\n",
              "    <tr>\n",
              "      <th>0</th>\n",
              "      <td>joke hop plane rn well covid lol</td>\n",
              "      <td>1.0</td>\n",
              "      <td>0.0</td>\n",
              "      <td>0.0</td>\n",
              "      <td>0.0</td>\n",
              "      <td>0.0</td>\n",
              "      <td>0.0</td>\n",
              "      <td>0.0</td>\n",
              "      <td>0.0</td>\n",
              "      <td>0.0</td>\n",
              "      <td>0.0</td>\n",
              "      <td>1.0</td>\n",
              "    </tr>\n",
              "    <tr>\n",
              "      <th>1</th>\n",
              "      <td>banmediahouse whose responsible spreading fake...</td>\n",
              "      <td>0.0</td>\n",
              "      <td>0.0</td>\n",
              "      <td>0.0</td>\n",
              "      <td>0.0</td>\n",
              "      <td>0.0</td>\n",
              "      <td>0.0</td>\n",
              "      <td>1.0</td>\n",
              "      <td>0.0</td>\n",
              "      <td>0.0</td>\n",
              "      <td>0.0</td>\n",
              "      <td>0.0</td>\n",
              "    </tr>\n",
              "  </tbody>\n",
              "</table>\n",
              "</div>"
            ],
            "text/plain": [
              "                                               Tweet    0    1  ...    8    9   10\n",
              "0                   joke hop plane rn well covid lol  1.0  0.0  ...  0.0  0.0  1.0\n",
              "1  banmediahouse whose responsible spreading fake...  0.0  0.0  ...  0.0  0.0  0.0\n",
              "\n",
              "[2 rows x 12 columns]"
            ]
          },
          "metadata": {
            "tags": []
          },
          "execution_count": 489
        }
      ]
    },
    {
      "cell_type": "code",
      "metadata": {
        "colab": {
          "base_uri": "https://localhost:8080/",
          "height": 110
        },
        "id": "HzKoXr0DSXmk",
        "outputId": "4ac09821-e7b2-4c72-940e-3beec7b0adb3"
      },
      "source": [
        "test_df.head(2)"
      ],
      "execution_count": 490,
      "outputs": [
        {
          "output_type": "execute_result",
          "data": {
            "text/html": [
              "<div>\n",
              "<style scoped>\n",
              "    .dataframe tbody tr th:only-of-type {\n",
              "        vertical-align: middle;\n",
              "    }\n",
              "\n",
              "    .dataframe tbody tr th {\n",
              "        vertical-align: top;\n",
              "    }\n",
              "\n",
              "    .dataframe thead th {\n",
              "        text-align: right;\n",
              "    }\n",
              "</style>\n",
              "<table border=\"1\" class=\"dataframe\">\n",
              "  <thead>\n",
              "    <tr style=\"text-align: right;\">\n",
              "      <th></th>\n",
              "      <th>ID</th>\n",
              "      <th>Tweet</th>\n",
              "    </tr>\n",
              "  </thead>\n",
              "  <tbody>\n",
              "    <tr>\n",
              "      <th>0</th>\n",
              "      <td>5001</td>\n",
              "      <td>forgot math test failing teacher opening back ...</td>\n",
              "    </tr>\n",
              "    <tr>\n",
              "      <th>1</th>\n",
              "      <td>5002</td>\n",
              "      <td>covid effected came delhi bihar lakhisarai dis...</td>\n",
              "    </tr>\n",
              "  </tbody>\n",
              "</table>\n",
              "</div>"
            ],
            "text/plain": [
              "     ID                                              Tweet\n",
              "0  5001  forgot math test failing teacher opening back ...\n",
              "1  5002  covid effected came delhi bihar lakhisarai dis..."
            ]
          },
          "metadata": {
            "tags": []
          },
          "execution_count": 490
        }
      ]
    },
    {
      "cell_type": "code",
      "metadata": {
        "colab": {
          "base_uri": "https://localhost:8080/",
          "height": 338
        },
        "id": "4Cw84A7IdKdO",
        "outputId": "b1dbd298-3dda-4255-c140-6576fddae685"
      },
      "source": [
        "word_count = train_df['Tweet'].apply(lambda x : len(x.split(' ')))\n",
        "print(f' Tweet 중 단어가 가장 많은 tweet의 단어 수 : {np.max(word_count)}')\n",
        "print(f' Tweet 중 단어가 가장 적은 tweet의 단어 수 : {np.min(word_count)}')\n",
        "print(f' 평균 tweet 의 길이 : {np.mean(word_count)}')\n",
        "print(f' tweet 의 길이의 중간값 : {np.median(word_count)}')\n",
        "plt.hist(word_count, bins=20)\n",
        "plt.show()"
      ],
      "execution_count": 491,
      "outputs": [
        {
          "output_type": "stream",
          "text": [
            " Tweet 중 단어가 가장 많은 tweet의 단어 수 : 21\n",
            " Tweet 중 단어가 가장 적은 tweet의 단어 수 : 1\n",
            " 평균 tweet 의 길이 : 10.1706\n",
            " tweet 의 길이의 중간값 : 10.0\n"
          ],
          "name": "stdout"
        },
        {
          "output_type": "display_data",
          "data": {
            "image/png": "[encoded data removed]",
            "text/plain": [
              "<Figure size 432x288 with 1 Axes>"
            ]
          },
          "metadata": {
            "tags": [],
            "needs_background": "light"
          }
        }
      ]
    },
    {
      "cell_type": "code",
      "metadata": {
        "colab": {
          "base_uri": "https://localhost:8080/"
        },
        "id": "-qLuMqwTeXTl",
        "outputId": "469c72ed-2b5e-434a-bc97-f3c352d872ca"
      },
      "source": [
        "np.quantile(word_count, 0.025)"
      ],
      "execution_count": 492,
      "outputs": [
        {
          "output_type": "execute_result",
          "data": {
            "text/plain": [
              "6.0"
            ]
          },
          "metadata": {
            "tags": []
          },
          "execution_count": 492
        }
      ]
    },
    {
      "cell_type": "markdown",
      "metadata": {
        "id": "7QSy5IaiVJHg"
      },
      "source": [
        "## 토큰화 및 패딩"
      ]
    },
    {
      "cell_type": "code",
      "metadata": {
        "id": "lsxgF4IWe3qD"
      },
      "source": [
        "train_tweet = train_df['Tweet'].values\n",
        "test_tweet = test_df['Tweet'].values"
      ],
      "execution_count": 493,
      "outputs": []
    },
    {
      "cell_type": "code",
      "metadata": {
        "colab": {
          "base_uri": "https://localhost:8080/"
        },
        "id": "PqRWJK3lVyVX",
        "outputId": "92c91c8c-466e-4ac8-98ef-1a3674723bd7"
      },
      "source": [
        "train_tweet[:2]"
      ],
      "execution_count": 494,
      "outputs": [
        {
          "output_type": "execute_result",
          "data": {
            "text/plain": [
              "array(['joke hop plane rn well covid lol',\n",
              "       'banmediahouse whose responsible spreading fake communal story pandemic covid situation'],\n",
              "      dtype=object)"
            ]
          },
          "metadata": {
            "tags": []
          },
          "execution_count": 494
        }
      ]
    },
    {
      "cell_type": "code",
      "metadata": {
        "colab": {
          "base_uri": "https://localhost:8080/"
        },
        "id": "ILyIIMMkV1O7",
        "outputId": "cb9387c0-cd85-48ea-8f23-9f0d1ad5aa51"
      },
      "source": [
        "tokenizer = Tokenizer()\n",
        "tokenizer.fit_on_texts(train_tweet)\n",
        "\n",
        "train_token = tokenizer.texts_to_sequences(train_tweet)\n",
        "train_token[0]"
      ],
      "execution_count": 495,
      "outputs": [
        {
          "output_type": "execute_result",
          "data": {
            "text/plain": [
              "[8, 1838, 2382, 357, 96, 1, 133]"
            ]
          },
          "metadata": {
            "tags": []
          },
          "execution_count": 495
        }
      ]
    },
    {
      "cell_type": "code",
      "metadata": {
        "colab": {
          "base_uri": "https://localhost:8080/"
        },
        "id": "uLXXTXGzfbFe",
        "outputId": "87f41f8a-2bda-4584-d12c-a317831de79c"
      },
      "source": [
        "print(train_tweet[0])\n",
        "print(train_token[0])"
      ],
      "execution_count": 496,
      "outputs": [
        {
          "output_type": "stream",
          "text": [
            "joke hop plane rn well covid lol\n",
            "[8, 1838, 2382, 357, 96, 1, 133]\n"
          ],
          "name": "stdout"
        }
      ]
    },
    {
      "cell_type": "code",
      "metadata": {
        "colab": {
          "base_uri": "https://localhost:8080/"
        },
        "id": "5-AL-elvfKpe",
        "outputId": "c3b909d2-a4e4-4407-c214-354db7d49bed"
      },
      "source": [
        "word_vocab = tokenizer.word_index\n",
        "print(word_vocab)"
      ],
      "execution_count": 497,
      "outputs": [
        {
          "output_type": "stream",
          "text": [
            "{'covid': 1, 'covidvirus': 2, 'virus': 3, 'april': 4, 'fool': 5, 'u': 6, 'im': 7, 'joke': 8, 'people': 9, 'get': 10, 'like': 11, 'case': 12, 'day': 13, 'shit': 14, 'na': 15, 'go': 16, 'death': 17, 'new': 18, 'got': 19, 'say': 20, 'one': 21, 'dont': 22, 'time': 23, 'gon': 24, 'today': 25, 'yall': 26, 'really': 27, 'tomorrow': 28, 'please': 29, 'need': 30, 'going': 31, 'know': 32, 'cant': 33, 'thing': 34, 'world': 35, 'think': 36, 'stay': 37, 'make': 38, 'see': 39, 'government': 40, 'trump': 41, 'home': 42, 'positive': 43, 'let': 44, 'fuck': 45, 'would': 46, 'month': 47, 'tell': 48, 'back': 49, 'year': 50, 'good': 51, 'pandemic': 52, 'life': 53, 'away': 54, 'still': 55, 'said': 56, 'come': 57, 'right': 58, 'stop': 59, 'want': 60, 'getting': 61, 'even': 62, 'china': 63, 'prank': 64, 'news': 65, 'whole': 66, 'guy': 67, 'test': 68, 'take': 69, 'india': 70, 'due': 71, 'hope': 72, 'first': 73, 'someone': 74, 'god': 75, 'total': 76, 'way': 77, 'week': 78, 'end': 79, 'already': 80, 'tested': 81, 'could': 82, 'better': 83, 'big': 84, 'anyone': 85, 'everyone': 86, 'quarantine': 87, 'isnt': 88, 'die': 89, 'real': 90, 'every': 91, 'as': 92, 'many': 93, 'house': 94, 'keep': 95, 'well': 96, 'fight': 97, 'aprilfoolsday': 98, 'fucking': 99, 'much': 100, 'friend': 101, 'thats': 102, 'done': 103, 'spread': 104, 'safe': 105, 'last': 106, 'since': 107, 'man': 108, 'bitch': 109, 'help': 110, 'bad': 111, 'work': 112, 'ive': 113, 'happy': 114, 'died': 115, 'aint': 116, 'wait': 117, 'lockdown': 118, 'american': 119, 'may': 120, 'crisis': 121, 'soon': 122, 'give': 123, 'wish': 124, 'making': 125, 'wan': 126, 'cure': 127, 'country': 128, 'thanks': 129, 'cause': 130, 'waiting': 131, 'bc': 132, 'lol': 133, 'st': 134, 'number': 135, 'damn': 136, 'breaking': 137, 'look': 138, 'youre': 139, 'long': 140, 'best': 141, 'confirmed': 142, 'saying': 143, 'love': 144, 'never': 145, 'feel': 146, 'funny': 147, 'thought': 148, 'state': 149, 'coming': 150, 'patient': 151, 'medium': 152, 'job': 153, 'start': 154, 'next': 155, 'sure': 156, 'hand': 157, 'health': 158, 'around': 159, 'place': 160, 'live': 161, 'made': 162, 'everything': 163, 'person': 164, 'summer': 165, 'find': 166, 'two': 167, 'testing': 168, 'family': 169, 'there': 170, 'thank': 171, 'money': 172, 'mom': 173, 'great': 174, 'outbreak': 175, 'lot': 176, 'march': 177, 'usa': 178, 'doesnt': 179, 'didnt': 180, 'might': 181, 'pls': 182, 'hospital': 183, 'miss': 184, 'gone': 185, 'girl': 186, 'watch': 187, 'imagine': 188, 'sick': 189, 'okay': 190, 'social': 191, 'ever': 192, 'something': 193, 'wake': 194, 'working': 195, 'update': 196, 'kill': 197, 'believe': 198, 'care': 199, 'hour': 200, 'enough': 201, 'maybe': 202, 'twitter': 203, 'school': 204, 'fake': 205, 'free': 206, 'also': 207, 'ok': 208, 'must': 209, 'hit': 210, 'hear': 211, 'ill': 212, 'worldwide': 213, 'spreading': 214, 'finally': 215, 'found': 216, 'vaccine': 217, 'toll': 218, 'haha': 219, 'taking': 220, 'show': 221, 'post': 222, 'normal': 223, 'started': 224, 'tweet': 225, 'actually': 226, 'recovered': 227, 'dying': 228, 'whats': 229, 'head': 230, 'crazy': 231, 'serious': 232, 'use': 233, 'stayathome': 234, 'leave': 235, 'report': 236, 'old': 237, 'doctor': 238, 'else': 239, 'seriously': 240, 'dead': 241, 'wont': 242, 'birthday': 243, 'chinese': 244, 'trying': 245, 'came': 246, 'stuff': 247, 'anything': 248, 'hey': 249, 'k': 250, 'infected': 251, 'watching': 252, 'another': 253, 'stupid': 254, 'yet': 255, 'save': 256, 'theyre': 257, 'together': 258, 'call': 259, 'ur': 260, 'remember': 261, 'told': 262, 'th': 263, 'night': 264, 'talking': 265, 'b': 266, 'war': 267, 'oh': 268, 'catch': 269, 'looking': 270, 'far': 271, 'video': 272, 'symptom': 273, 'mask': 274, 'kid': 275, 'put': 276, 'season': 277, 'called': 278, 'hate': 279, 'havent': 280, 'without': 281, 'situation': 282, 'reported': 283, 'wonder': 284, 'ya': 285, 'human': 286, 'jesus': 287, 'fact': 288, 'ppl': 289, 'probably': 290, 'uk': 291, 'nothing': 292, 'mean': 293, 'almost': 294, 'pray': 295, 'break': 296, 'word': 297, 'passed': 298, 'turn': 299, 'yes': 300, 'worst': 301, 'try': 302, 'heard': 303, 'game': 304, 'ready': 305, 'baby': 306, 'scared': 307, 'totaling': 308, 'aprilfools': 309, 'flu': 310, 'global': 311, 'feeling': 312, 'govt': 313, 'food': 314, 'took': 315, 'part': 316, 'hard': 317, 'close': 318, 'outside': 319, 'read': 320, 'tf': 321, 'move': 322, 'president': 323, 'lie': 324, 'fighting': 325, 'order': 326, 'open': 327, 'n': 328, 'announce': 329, 'hot': 330, 'hoping': 331, 'talk': 332, 'force': 333, 'dad': 334, 'dr': 335, 'mf': 336, 'boy': 337, 'america': 338, 'worse': 339, 'change': 340, 'reach': 341, 'related': 342, 'went': 343, 'wrong': 344, 'medical': 345, 'ta': 346, 'business': 347, 'name': 348, 'plan': 349, 'saw': 350, 'least': 351, 'till': 352, 'daily': 353, 'recovery': 354, 'tired': 355, 'anymore': 356, 'rn': 357, 'seeing': 358, 'play': 359, 'set': 360, 'fucked': 361, 'early': 362, 'nigga': 363, 'nobody': 364, 'question': 365, 'second': 366, 'pm': 367, 'he': 368, 'w': 369, 'lmao': 370, 'lost': 371, 'thinking': 372, 'g': 373, 'yo': 374, 'morning': 375, 'id': 376, 'issue': 377, 'face': 378, 'follow': 379, 'rise': 380, 'playing': 381, 'using': 382, 'send': 383, 'ago': 384, 'bout': 385, 'le': 386, 'sir': 387, 'giving': 388, 'sad': 389, 'cough': 390, 'literally': 391, 'bet': 392, 'side': 393, 'religion': 394, 'movie': 395, 'seen': 396, 'smh': 397, 'cardi': 398, 'guess': 399, 'inside': 400, 'buy': 401, 'body': 402, 'drink': 403, 'hell': 404, 'distancing': 405, 'online': 406, 'cuz': 407, 'joe': 408, 'little': 409, 'past': 410, 'dear': 411, 'hasnt': 412, 'killing': 413, 'wine': 414, 'nurse': 415, 'busy': 416, 'muslim': 417, 'earthquake': 418, 'able': 419, 'telling': 420, 'officially': 421, 'earth': 422, 'left': 423, 'mother': 424, 'apparently': 425, 'heart': 426, 'single': 427, 'alright': 428, 'fear': 429, 'wasnt': 430, 'cry': 431, 'million': 432, 'cuomo': 433, 'staying': 434, 'killed': 435, 'problem': 436, 'worker': 437, 'mind': 438, 'yesterday': 439, 'reason': 440, 'woman': 441, 'wouldnt': 442, 'anti': 443, 'jail': 444, 'wtf': 445, 'avoid': 446, 'imma': 447, 'gov': 448, 'fund': 449, 'cancel': 450, 'company': 451, 'hoax': 452, 'january': 453, 'fun': 454, 'always': 455, 'eat': 456, 'song': 457, 'wanted': 458, 'yeah': 459, 'per': 460, 'honestly': 461, 'history': 462, 'sorry': 463, 'covidvirusoutbreak': 464, 'dumb': 465, 'bring': 466, 'everybody': 467, 'conspiracy': 468, 'who': 469, 'party': 470, 'chris': 471, 'cancelled': 472, 'line': 473, 'suck': 474, 'instead': 475, 'r': 476, 'hearing': 477, 'pay': 478, 'immune': 479, 'stayhome': 480, 'york': 481, 'united': 482, 'active': 483, 'tonight': 484, 'bro': 485, 'bored': 486, 'jump': 487, 'wow': 488, 'indian': 489, 'knew': 490, 'point': 491, 'used': 492, 'story': 493, 'understand': 494, 'white': 495, 'italy': 496, 'check': 497, 'listen': 498, 'rate': 499, 'arent': 500, 'delhi': 501, 'ima': 502, 'task': 503, 'sister': 504, 'x': 505, 'system': 506, 'fast': 507, 'dude': 508, 'prayer': 509, 'john': 510, 'alone': 511, 'shut': 512, 'mad': 513, 'joking': 514, 'wuhan': 515, 'different': 516, 'nigeria': 517, 'happened': 518, 'public': 519, 'ventilator': 520, 'economy': 521, 'ask': 522, 'entire': 523, 'folk': 524, 'brain': 525, 'gave': 526, 'given': 527, 'risk': 528, 'mr': 529, 'official': 530, 'cnn': 531, 'though': 532, 'jaejoong': 533, 'bill': 534, 'omg': 535, 'somebody': 536, 'swear': 537, 'eye': 538, 'alert': 539, 'idk': 540, 'elaborate': 541, 'supposed': 542, 'police': 543, 'asked': 544, 'response': 545, 'act': 546, 'bank': 547, 'nice': 548, 'store': 549, 'socialdistancing': 550, 'high': 551, 'car': 552, 'poor': 553, 'easy': 554, 'starting': 555, 'kinda': 556, 'dog': 557, 'record': 558, 'gotten': 559, 'bruh': 560, 'pretty': 561, 'hi': 562, 'forward': 563, 'spring': 564, 'everyday': 565, 'wash': 566, 'idea': 567, 'minute': 568, 'kashmir': 569, 'condition': 570, 'happen': 571, 'happens': 572, 'sleep': 573, 'information': 574, 'hair': 575, 'taste': 576, 'control': 577, 'tho': 578, 'hoe': 579, 'level': 580, 'excuse': 581, 'central': 582, 'happening': 583, 'full': 584, 'biggest': 585, 'city': 586, 'forever': 587, 'forget': 588, 'worried': 589, 'boyfriend': 590, 'alive': 591, 'donald': 592, 'closed': 593, 'ahead': 594, 'stuck': 595, 'running': 596, 'kind': 597, 'infection': 598, 'smoke': 599, 'stand': 600, 'rain': 601, 'class': 602, 'expect': 603, 'bullshit': 604, 'office': 605, 'v': 606, 'impact': 607, 'survive': 608, 'result': 609, 'anybody': 610, 'blame': 611, 'longer': 612, 'sending': 613, 'sike': 614, 'decided': 615, 'brother': 616, 'south': 617, 'da': 618, 'hanging': 619, 'project': 620, 'national': 621, 'paper': 622, 'church': 623, 'young': 624, 'anxiety': 625, 'border': 626, 'win': 627, 'leader': 628, 'briefing': 629, 'dangerous': 630, 'wondering': 631, 'tv': 632, 'self': 633, 'finna': 634, 'tablighijamaat': 635, 'tryna': 636, 'account': 637, 'count': 638, 'area': 639, 'disease': 640, 'blow': 641, 'calling': 642, 'dream': 643, 'released': 644, 'nation': 645, 'blocked': 646, 'lord': 647, 'short': 648, 'low': 649, 'moment': 650, 'worry': 651, 'emergency': 652, 'clear': 653, 'quarantinelife': 654, 'air': 655, 'amid': 656, 'true': 657, 'actual': 658, 'music': 659, 'eating': 660, 'losing': 661, 'race': 662, 'foxnews': 663, 'behind': 664, 'latest': 665, 'create': 666, 'age': 667, 'prevention': 668, 'nose': 669, 'islam': 670, 'florida': 671, 'others': 672, 'letting': 673, 'important': 674, 'rip': 675, 'period': 676, 'dy': 677, 'tiger': 678, 'february': 679, 'idaho': 680, 'top': 681, 'donate': 682, 'cured': 683, 'front': 684, 'ship': 685, 'bit': 686, 'bed': 687, 'healthcare': 688, 'jk': 689, 'caught': 690, 'rent': 691, 'hold': 692, 'beer': 693, 'press': 694, 'fine': 695, 'asking': 696, 'living': 697, 'affected': 698, 'fat': 699, 'covidvirustruth': 700, 'chance': 701, 'community': 702, 'lose': 703, 'half': 704, 'run': 705, 'handle': 706, 'deal': 707, 'lab': 708, 'facebook': 709, 'victim': 710, 'germany': 711, 'phone': 712, 'bat': 713, 'can': 714, 'not': 715, 'book': 716, 'kobe': 717, 'deadly': 718, 'lady': 719, 'everyones': 720, 'ruined': 721, 'app': 722, 'challenge': 723, 'pmkcallscurfewextension': 724, 'sent': 725, 'helping': 726, 'woke': 727, 'citizen': 728, 'seems': 729, 'attention': 730, 'possible': 731, 'support': 732, 'taken': 733, 'voice': 734, 'treatment': 735, 'la': 736, 'stayhomestaysafe': 737, 'personally': 738, 'combat': 739, 'praying': 740, 'itll': 741, 'reporting': 742, 'worth': 743, 'ex': 744, 'vote': 745, 'measure': 746, 'idiot': 747, 'nd': 748, 'thread': 749, 'town': 750, 'drop': 751, 'throwing': 752, 'admit': 753, 'shot': 754, 'blood': 755, 'everywhere': 756, 'bless': 757, 'room': 758, 'negative': 759, 'amen': 760, 'ke': 761, 'minister': 762, 'later': 763, 'healthy': 764, 'pas': 765, 'nail': 766, 'rest': 767, 'return': 768, 'likely': 769, 'danger': 770, 'broke': 771, 'truth': 772, 'kenya': 773, 'mental': 774, 'six': 775, 'tally': 776, 'relief': 777, 'sign': 778, 'water': 779, 'fan': 780, 'moving': 781, 'chill': 782, 'alot': 783, 'definitely': 784, 'internet': 785, 'bday': 786, 'release': 787, 'study': 788, 'men': 789, 'hurry': 790, 'meant': 791, 'trip': 792, 'service': 793, 'protect': 794, 'hindu': 795, 'dis': 796, 'dey': 797, 'highest': 798, 'expert': 799, 'travel': 800, 'county': 801, 'especially': 802, 'peace': 803, 'feed': 804, 'currently': 805, 'e': 806, 'suddenly': 807, 'catching': 808, 'messing': 809, 'created': 810, 'youve': 811, 'republican': 812, 'road': 813, 'excited': 814, 'yellowstone': 815, 'covidindia': 816, 'truly': 817, 'fr': 818, 'mess': 819, 'tl': 820, 'black': 821, 'wear': 822, 'handling': 823, 'glass': 824, 'interesting': 825, 'king': 826, 'child': 827, 'unless': 828, 'known': 829, 'tour': 830, 'despite': 831, 'canceled': 832, 'shoot': 833, 'bringing': 834, 'cruise': 835, 'whatever': 836, 'zero': 837, 'shave': 838, 'kit': 839, 'celebrity': 840, 'essential': 841, 'nizamuddin': 842, 'rona': 843, 'beat': 844, 'raise': 845, 'holding': 846, 'trust': 847, 'whatsapp': 848, 'jus': 849, 'fly': 850, 'immunity': 851, 'except': 852, 'power': 853, 'event': 854, 'explanation': 855, 'queen': 856, 'doll': 857, 'data': 858, 'defeat': 859, 'c': 860, 'according': 861, 'covidvirusupdates': 862, 'el': 863, 'realize': 864, 'greatest': 865, 'three': 866, 'team': 867, 'cell': 868, 'co': 869, 'coughing': 870, 'theorist': 871, 'speak': 872, 'lived': 873, 'regarding': 874, 'here': 875, 'lying': 876, 'drug': 877, 'pull': 878, 'senior': 879, 'finger': 880, 'saving': 881, 'buying': 882, 'alcohol': 883, 'hello': 884, 'stopped': 885, 'relationship': 886, 'figure': 887, 'within': 888, 'via': 889, 'among': 890, 'remain': 891, 'impressed': 892, 'student': 893, 'meet': 894, 'russia': 895, 'acting': 896, 'speed': 897, 'rt': 898, 'beautiful': 899, 'deserve': 900, 'content': 901, 'chicago': 902, 'hurt': 903, 'drive': 904, 'four': 905, 'park': 906, 'build': 907, 'brought': 908, 'predicted': 909, 'goal': 910, 'flight': 911, 'explain': 912, 'loved': 913, 'sound': 914, 'amount': 915, 'sanitizer': 916, 'hopkins': 917, 'university': 918, 'announces': 919, 'tbh': 920, 'population': 921, 'piece': 922, 'japan': 923, 'usual': 924, 'animal': 925, 'pussy': 926, 'cdc': 927, 'tried': 928, 'fuckin': 929, 'theory': 930, 'chain': 931, 'quiet': 932, 'cousin': 933, 'damage': 934, 'track': 935, 'note': 936, 'tuesday': 937, 'crossing': 938, 'fire': 939, 'ha': 940, 'distance': 941, 'conference': 942, 'smart': 943, 'threat': 944, 'rule': 945, 'gun': 946, 'become': 947, 'laugh': 948, 'across': 949, 'wit': 950, 'either': 951, 'cu': 952, 'everytime': 953, 'bought': 954, 'allah': 955, 'mood': 956, 'laid': 957, 'late': 958, 'enjoy': 959, 'special': 960, 'lil': 961, 'couple': 962, 'major': 963, 'nizamuddinmarkaz': 964, 'foot': 965, 'pradesh': 966, 'easter': 967, 'west': 968, 'fauci': 969, 'claim': 970, 'hopefully': 971, 'boris': 972, 'meme': 973, 'club': 974, 'staysafe': 975, 'cat': 976, 'gas': 977, 'terrorism': 978, 'reinfection': 979, 'varients': 980, 'model': 981, 'biden': 982, 'announced': 983, 'promise': 984, 'ight': 985, 'source': 986, 'complete': 987, 'khan': 988, 'carole': 989, 'wed': 990, 'asap': 991, 'curfew': 992, 'wife': 993, 'faith': 994, 'reminder': 995, 'throw': 996, 'door': 997, 'baskin': 998, 'putting': 999, 'opportunity': 1000, 'trending': 1001, 'leaving': 1002, 'campaign': 1003, 'welcome': 1004, 'delivery': 1005, 'group': 1006, 'seem': 1007, 'daddy': 1008, 'texas': 1009, 'allowed': 1010, 'selfish': 1011, 'kick': 1012, 'updated': 1013, 'f': 1014, 'page': 1015, 'headline': 1016, 'sense': 1017, 'ruin': 1018, 'wednesday': 1019, 'trumpvirus': 1020, 'grocery': 1021, 'upon': 1022, 'shall': 1023, 'democrat': 1024, 'spend': 1025, 'kim': 1026, 'lately': 1027, 'walk': 1028, 'album': 1029, 'j': 1030, 'date': 1031, 'scare': 1032, 'impeachment': 1033, 'grow': 1034, 'paying': 1035, 'text': 1036, 'ko': 1037, 'rather': 1038, 'releasing': 1039, 'teacher': 1040, 'fam': 1041, 'quick': 1042, 'scary': 1043, 'cold': 1044, 'shopping': 1045, 'super': 1046, 'future': 1047, 'weve': 1048, 'weapon': 1049, 'guideline': 1050, 'lit': 1051, 'following': 1052, 'tik': 1053, 'mark': 1054, 'cut': 1055, 'asf': 1056, 'step': 1057, 'simple': 1058, 'quarantined': 1059, 'coverage': 1060, 'pakistan': 1061, 'ig': 1062, 'nyc': 1063, 'caused': 1064, 'insensitive': 1065, 'af': 1066, 'accepting': 1067, 'midnight': 1068, 'block': 1069, 'ugh': 1070, 'pass': 1071, 'message': 1072, 'law': 1073, 'quickly': 1074, 'contract': 1075, 'growing': 1076, 'reading': 1077, 'august': 1078, 'turning': 1079, 'thru': 1080, 'experience': 1081, 'ruining': 1082, 'donated': 1083, 'prison': 1084, 'min': 1085, 'planning': 1086, 'ball': 1087, 'covidjihad': 1088, 'gym': 1089, 'shouldnt': 1090, 'sale': 1091, 'hahahaha': 1092, 'depressed': 1093, 'scientist': 1094, 'massive': 1095, 'chief': 1096, 'taught': 1097, 'share': 1098, 'dollar': 1099, 'ab': 1100, 'slow': 1101, 'camera': 1102, 'met': 1103, 'abt': 1104, 'blessed': 1105, 'awareness': 1106, 'responsible': 1107, 'liar': 1108, 'concert': 1109, 'ad': 1110, 'france': 1111, 'pop': 1112, 'strong': 1113, 'wide': 1114, 'illness': 1115, 'parent': 1116, 'lock': 1117, 'novel': 1118, 'card': 1119, 'wipe': 1120, 'trend': 1121, 'gate': 1122, 'weight': 1123, 'australia': 1124, 'evil': 1125, 'washing': 1126, 'africa': 1127, 'weed': 1128, 'hero': 1129, 'ki': 1130, 'estimate': 1131, 'aka': 1132, 'politician': 1133, 'existential': 1134, 'bottle': 1135, 'empty': 1136, 'strategy': 1137, 'fever': 1138, 'gain': 1139, 'bye': 1140, 'mile': 1141, 'judiciary': 1142, 'biased': 1143, 'covidriskforprisoners': 1144, 'pregnant': 1145, 'speaking': 1146, 'prevent': 1147, 'sitting': 1148, 'stress': 1149, 'p': 1150, 'focus': 1151, 'sunday': 1152, 'korea': 1153, 'accepted': 1154, 'attack': 1155, 'huh': 1156, 'false': 1157, 'plague': 1158, 'comment': 1159, 'mum': 1160, 'touching': 1161, 'ny': 1162, 'basically': 1163, 'completely': 1164, 'mexico': 1165, 'netflix': 1166, 'hunger': 1167, 'panel': 1168, 'visit': 1169, 'tweeting': 1170, 'island': 1171, 'ap': 1172, 'industry': 1173, 'mama': 1174, 'annoying': 1175, 'election': 1176, 'exotic': 1177, 'governor': 1178, 'surprised': 1179, 'idc': 1180, 'shame': 1181, 'oneday': 1182, 'fatality': 1183, 'indiafightscovid': 1184, 'request': 1185, 'girlfriend': 1186, 'strike': 1187, 'forgot': 1188, 'fcking': 1189, 'bf': 1190, 'painful': 1191, 'sit': 1192, 'bigger': 1193, 'dealing': 1194, 'grandma': 1195, 'messed': 1196, 'enter': 1197, 'red': 1198, 'psa': 1199, 'loss': 1200, 'breathing': 1201, 'sue': 1202, 'gunna': 1203, 'innocent': 1204, 'fault': 1205, 'warming': 1206, 'somewhere': 1207, 'ac': 1208, 'abeg': 1209, 'tok': 1210, 'member': 1211, 'stfu': 1212, 'science': 1213, 'hotspot': 1214, 'unemployment': 1215, 'proud': 1216, 'absolutely': 1217, 'huge': 1218, 'laughing': 1219, 'tory': 1220, 'including': 1221, 'worked': 1222, 'phase': 1223, 'stg': 1224, 'communist': 1225, 'fox': 1226, 'treat': 1227, 'harder': 1228, 'failed': 1229, 'jihad': 1230, 'wonderful': 1231, 'paid': 1232, 'wouldve': 1233, 'nah': 1234, 'hai': 1235, 'ppe': 1236, 'weird': 1237, 'goodbye': 1238, 'crap': 1239, 'continue': 1240, 'political': 1241, 'medicine': 1242, 'spending': 1243, 'deliver': 1244, 'reveal': 1245, 'ate': 1246, 'iran': 1247, 'general': 1248, 'originated': 1249, 'drunk': 1250, 'viral': 1251, 'wanting': 1252, 'celebrate': 1253, 'diagnosed': 1254, 'light': 1255, 'info': 1256, 'turned': 1257, 'hug': 1258, 'charge': 1259, 'lead': 1260, 'series': 1261, 'gt': 1262, 'dat': 1263, 'hr': 1264, 'stream': 1265, 'born': 1266, 'wearing': 1267, 'ton': 1268, 'recently': 1269, 'based': 1270, 'trumppressconference': 1271, 'football': 1272, 'dick': 1273, 'needed': 1274, 'spreader': 1275, 'none': 1276, 'curve': 1277, 'beyond': 1278, 'resource': 1279, 'aye': 1280, 'lmaooo': 1281, 'salary': 1282, 'converted': 1283, 'exist': 1284, 'weekend': 1285, 'nearly': 1286, 'perfect': 1287, 'apr': 1288, 'ordered': 1289, 'pizza': 1290, 'whenever': 1291, 'kong': 1292, 'extra': 1293, 'covidvirusupdate': 1294, 'fellow': 1295, 'schedule': 1296, 'maharashtra': 1297, 'finish': 1298, 'german': 1299, 'lka': 1300, 'style': 1301, 'remove': 1302, 'boom': 1303, 'ww': 1304, 'meanwhile': 1305, 'sht': 1306, 'smoking': 1307, 'credit': 1308, 'disappear': 1309, 'common': 1310, 'breath': 1311, 'covidviruspandemic': 1312, 'mop': 1313, 'aid': 1314, 'sigh': 1315, 'touch': 1316, 'amazing': 1317, 'celebrating': 1318, 'market': 1319, 'supply': 1320, 'fresh': 1321, 'ministry': 1322, 'deadass': 1323, 'religious': 1324, 'colleague': 1325, 'jamat': 1326, 'oo': 1327, 'wild': 1328, 'careful': 1329, 'disaster': 1330, 'lakh': 1331, 'lucky': 1332, 'beating': 1333, 'donation': 1334, 'expensive': 1335, 'moron': 1336, 'professional': 1337, 'donating': 1338, 'spirit': 1339, 'proper': 1340, 'administration': 1341, 'tiktok': 1342, 'sport': 1343, 'july': 1344, 'reopen': 1345, 'wall': 1346, 'pick': 1347, 'individual': 1348, 'afraid': 1349, 'universe': 1350, 'breathe': 1351, 'glove': 1352, 'generation': 1353, 'christ': 1354, 'directly': 1355, 'reached': 1356, 'canadian': 1357, 'shout': 1358, 'leading': 1359, 'refuse': 1360, 'watched': 1361, 'planned': 1362, 'showing': 1363, 'customer': 1364, 'lo': 1365, 'favorite': 1366, 'plz': 1367, 'recorded': 1368, 'sharing': 1369, 'obviously': 1370, 'cute': 1371, 'epidemic': 1372, 'train': 1373, 'pe': 1374, 'type': 1375, 'sa': 1376, 'horrible': 1377, 'quit': 1378, 'depression': 1379, 'shes': 1380, 'wh': 1381, 'idol': 1382, 'tax': 1383, 'thx': 1384, 'm': 1385, 'covidjihaad': 1386, 'counting': 1387, 'tigerking': 1388, 'nonsense': 1389, 'fit': 1390, 'email': 1391, 'vacation': 1392, 'awful': 1393, 'faster': 1394, 'reply': 1395, 'confirm': 1396, 'rid': 1397, 'missed': 1398, 'coffee': 1399, 'hahaha': 1400, 'extended': 1401, 'pretend': 1402, 'apocalypse': 1403, 'loan': 1404, 'thousand': 1405, 'learn': 1406, 'cool': 1407, 'zone': 1408, 'luck': 1409, 'main': 1410, 'ooo': 1411, 'small': 1412, 'posting': 1413, 'lt': 1414, 'limit': 1415, 'husband': 1416, 'criminal': 1417, 'college': 1418, 'couldnt': 1419, 'discharged': 1420, 'button': 1421, 'spitting': 1422, 'scarf': 1423, 'status': 1424, 'majority': 1425, 'estimated': 1426, 'mosque': 1427, 'hidden': 1428, 'join': 1429, 'useless': 1430, 'thelockdown': 1431, 'pic': 1432, 'anytime': 1433, 'appreciate': 1434, 'land': 1435, 'mass': 1436, 'covidvirususa': 1437, 'dark': 1438, 'added': 1439, 'en': 1440, 'properly': 1441, 'centre': 1442, 'spent': 1443, 'summary': 1444, 'cm': 1445, 'hurting': 1446, 'answer': 1447, 'topic': 1448, 'effort': 1449, 'cmon': 1450, 'cross': 1451, 'uncle': 1452, 'stayhomesavelives': 1453, 'horny': 1454, 'son': 1455, 'prediction': 1456, 'instagram': 1457, 'batman': 1458, 'ah': 1459, 'screaming': 1460, 'disappointed': 1461, 'timeline': 1462, 'isolation': 1463, 'delete': 1464, 'affect': 1465, 'jammu': 1466, 'freaking': 1467, 'lemon': 1468, 'sneeze': 1469, 'pain': 1470, 'decide': 1471, 'returned': 1472, 'earlier': 1473, 'saved': 1474, 'nh': 1475, 'attempt': 1476, 'toilet': 1477, 'clean': 1478, 'youll': 1479, 'pissed': 1480, 'location': 1481, 'woah': 1482, 'window': 1483, 'carrier': 1484, 'whoever': 1485, 'keeping': 1486, 'aware': 1487, 'lowkey': 1488, 'weather': 1489, 'mp': 1490, 'star': 1491, 'website': 1492, 'episode': 1493, 'direct': 1494, 'joked': 1495, 'awhile': 1496, 'street': 1497, 'sanitize': 1498, 'beach': 1499, 'policy': 1500, 'communal': 1501, 'extends': 1502, 'checking': 1503, 'fb': 1504, 'coma': 1505, 'karnataka': 1506, 'staff': 1507, 'cover': 1508, 'changed': 1509, 'begging': 1510, 'hong': 1511, 'twice': 1512, 'hang': 1513, 'grandpa': 1514, 'pollution': 1515, 'learning': 1516, 'orange': 1517, 'racist': 1518, 'advice': 1519, 'feb': 1520, 'detect': 1521, 'contain': 1522, 'increasing': 1523, 'finding': 1524, 'ring': 1525, 'anyway': 1526, 'workfromhome': 1527, 'doubt': 1528, 'certain': 1529, 'flash': 1530, 'item': 1531, 'immediately': 1532, 'mouth': 1533, 'box': 1534, 'bcs': 1535, 'lmfao': 1536, 'trudeau': 1537, 'canada': 1538, 'petition': 1539, 'modern': 1540, 'pen': 1541, 'looked': 1542, 'instruction': 1543, 'lung': 1544, 'til': 1545, 'ground': 1546, 'tablighi': 1547, 'l': 1548, 'funeral': 1549, 'complaining': 1550, 'enjoying': 1551, 'desperate': 1552, 'package': 1553, 'becoming': 1554, 'epic': 1555, 'peak': 1556, 'lifestyle': 1557, 'porn': 1558, 'bus': 1559, 'played': 1560, 'gmb': 1561, 'hundred': 1562, 'asian': 1563, 'channel': 1564, 'camp': 1565, 'form': 1566, 'green': 1567, 'shown': 1568, 'giant': 1569, 'granted': 1570, 'heaven': 1571, 'dating': 1572, 'feelin': 1573, 'refused': 1574, 'battle': 1575, 'mi': 1576, 'me': 1577, 'ignoring': 1578, 'bug': 1579, 'gay': 1580, 'prom': 1581, 'ultimate': 1582, 'stimulus': 1583, 'tattoo': 1584, 'de': 1585, 'agreed': 1586, 'leaf': 1587, 'itd': 1588, 'afford': 1589, 'cost': 1590, 'legal': 1591, 'leadership': 1592, 'eh': 1593, 'freedom': 1594, 'announcement': 1595, 'consider': 1596, 'inspired': 1597, 'shop': 1598, 'illegal': 1599, 'five': 1600, 'arrest': 1601, 'spike': 1602, 'burnt': 1603, 'surprise': 1604, 'wave': 1605, 'mexican': 1606, 'rlly': 1607, 'totally': 1608, 'nun': 1609, 'answered': 1610, 'access': 1611, 'lashay': 1612, 'network': 1613, 'coz': 1614, 'nasty': 1615, 'along': 1616, 'tweeted': 1617, 'michael': 1618, 'covidiot': 1619, 'claiming': 1620, 'heal': 1621, 'portugal': 1622, 'institute': 1623, 'crush': 1624, 'hmu': 1625, 'bag': 1626, 'expected': 1627, 'zoom': 1628, 'underwood': 1629, 'stock': 1630, 'restaurant': 1631, 'exciting': 1632, 'middle': 1633, 'hungary': 1634, 'scale': 1635, 'youd': 1636, 'agree': 1637, 'lack': 1638, 'coincidence': 1639, 'passing': 1640, 'afp': 1641, 'realized': 1642, 'roll': 1643, 'machine': 1644, 'planet': 1645, 'exactly': 1646, 'reality': 1647, 'pride': 1648, 'festival': 1649, 'difference': 1650, 'whether': 1651, 'roommate': 1652, 'value': 1653, 'locked': 1654, 'yada': 1655, 'forcing': 1656, 'nowhere': 1657, 'key': 1658, 'osbourne': 1659, 'professor': 1660, 'ibuprofen': 1661, 'rating': 1662, 'punch': 1663, 'terrorist': 1664, 'pool': 1665, 'glad': 1666, 'neighbor': 1667, 'haircut': 1668, 'covidvirusoutbreakindia': 1669, 'somehow': 1670, 'liquor': 1671, 'prime': 1672, 'prepare': 1673, 'urge': 1674, 'viruse': 1675, 'mayor': 1676, 'covidvirius': 1677, 'devil': 1678, 'etc': 1679, 'statement': 1680, 'signed': 1681, 'sealed': 1682, 'fix': 1683, 'bos': 1684, 'cooking': 1685, 'carry': 1686, 'modi': 1687, 'trynna': 1688, 'bird': 1689, 'contact': 1690, 'carrying': 1691, 'spain': 1692, 'calm': 1693, 'infecting': 1694, 'dropping': 1695, 'restriction': 1696, 'covidvirusindia': 1697, 'officer': 1698, 'rat': 1699, 'hiding': 1700, 'ni': 1701, 'nba': 1702, 'final': 1703, 'several': 1704, 'virtual': 1705, 'aprilst': 1706, 'boutta': 1707, 'listening': 1708, 'awake': 1709, 'weak': 1710, 'mine': 1711, 'december': 1712, 'unknown': 1713, 'spanish': 1714, 'tower': 1715, 'winter': 1716, 'reminds': 1717, 'covidaustralia': 1718, 'missing': 1719, 'ka': 1720, 'tight': 1721, 'airport': 1722, 'yea': 1723, 'tmr': 1724, 'joining': 1725, 'vibe': 1726, 'hitting': 1727, 'solution': 1728, 'postponed': 1729, 'h': 1730, 'facility': 1731, 'returning': 1732, 'emotional': 1733, 'blaming': 1734, 'fed': 1735, 'tear': 1736, 'personal': 1737, 'prepared': 1738, 'energy': 1739, 'enemy': 1740, 'tasteless': 1741, 'sell': 1742, 'insurance': 1743, 'reduces': 1744, 'dawg': 1745, 'fall': 1746, 'speech': 1747, 'heartbreaking': 1748, 'california': 1749, 'jammuandkashmir': 1750, 'november': 1751, 'herd': 1752, 'snap': 1753, 'throughout': 1754, 'sc': 1755, 'juice': 1756, 'contracted': 1757, 'obama': 1758, 'terror': 1759, 'tom': 1760, 'conversation': 1761, 'felt': 1762, 'african': 1763, 'former': 1764, 'covids': 1765, 'croatia': 1766, 'nancy': 1767, 'center': 1768, 'lockdownextension': 1769, 'selling': 1770, 'randomly': 1771, 'avoiding': 1772, 'certificate': 1773, 'rally': 1774, 'em': 1775, 'beginning': 1776, 'fredo': 1777, 'wishing': 1778, 'write': 1779, 'remind': 1780, 'globe': 1781, 'raising': 1782, 'stupidity': 1783, 'outta': 1784, 'offering': 1785, 'sacrifice': 1786, 'ignorance': 1787, 'freak': 1788, 'mar': 1789, 'nonessential': 1790, 'taiwan': 1791, 'yearold': 1792, 'followed': 1793, 'panic': 1794, 'fully': 1795, 'relative': 1796, 'banana': 1797, 'dare': 1798, 'cried': 1799, 'warned': 1800, 'biological': 1801, 'steam': 1802, 'suppose': 1803, 'designer': 1804, 'hadnt': 1805, 'ho': 1806, 'shake': 1807, 'fell': 1808, 'rural': 1809, 'volcano': 1810, 'link': 1811, 'current': 1812, 'shitty': 1813, 'rising': 1814, 'concern': 1815, 'local': 1816, 'underlying': 1817, 'necessary': 1818, 'dirty': 1819, 'jamaat': 1820, 'asymptomatic': 1821, 'french': 1822, 'decade': 1823, 'ft': 1824, 'congratulation': 1825, 'driving': 1826, 'midst': 1827, 'icu': 1828, 'una': 1829, 'list': 1830, 'third': 1831, 'pumprules': 1832, 'ugly': 1833, 'andhra': 1834, 'scariest': 1835, 'allowing': 1836, 'lysol': 1837, 'hop': 1838, 'whose': 1839, 'cook': 1840, 'suffered': 1841, 'critical': 1842, 'effect': 1843, 'pr': 1844, 'cautionyespanicno': 1845, 'baskins': 1846, 'respond': 1847, 'village': 1848, 'pushing': 1849, 'therapy': 1850, 'warning': 1851, 'lip': 1852, 'hole': 1853, 'horror': 1854, 'western': 1855, 'clearly': 1856, 'allergy': 1857, 'apartment': 1858, 'building': 1859, 'arrived': 1860, 'sooo': 1861, 'chriscuomo': 1862, 'implemented': 1863, 'image': 1864, 'hii': 1865, 'decides': 1866, 'blog': 1867, 'changing': 1868, 'lesson': 1869, 'blue': 1870, 'debt': 1871, 'george': 1872, 'soros': 1873, 'partner': 1874, 'chicken': 1875, 'birth': 1876, 'chaos': 1877, 'jan': 1878, 'wildfire': 1879, 'increase': 1880, 'coworker': 1881, 'era': 1882, 'neck': 1883, 'jack': 1884, 'property': 1885, 'competition': 1886, 'environment': 1887, 'europe': 1888, 'june': 1889, 'large': 1890, 'theyll': 1891, 'diary': 1892, 'kpop': 1893, 'enters': 1894, 'detail': 1895, 'ending': 1896, 'nude': 1897, 'yep': 1898, 'fought': 1899, 'searching': 1900, 'kapoor': 1901, 'covidupdate': 1902, 'islamic': 1903, 'scam': 1904, 'dem': 1905, 'waffle': 1906, 'neighborhood': 1907, 'covidus': 1908, 'karma': 1909, 'private': 1910, 'singing': 1911, 'opened': 1912, 'north': 1913, 'covidvirusrelated': 1914, 'walking': 1915, 'bankrupt': 1916, 'closer': 1917, 'mario': 1918, 'cash': 1919, 'frontlines': 1920, 'homemade': 1921, 'fuk': 1922, 'nursing': 1923, 'socialdistance': 1924, 'serving': 1925, 'dinner': 1926, 'postcovid': 1927, 'socially': 1928, 'disney': 1929, 'site': 1930, 'oil': 1931, 'bronx': 1932, 'ramadan': 1933, 'named': 1934, 'available': 1935, 'regime': 1936, 'match': 1937, 'facetime': 1938, 'deliberately': 1939, 'bunch': 1940, 'movement': 1941, 'bleach': 1942, 'mistake': 1943, 'quake': 1944, 'fest': 1945, 'antibody': 1946, 'product': 1947, 'embarrassing': 1948, 'disappears': 1949, 'cutting': 1950, 'tough': 1951, 'rtgnews': 1952, 'blessing': 1953, 'fooling': 1954, 'suffering': 1955, 'ahaha': 1956, 'indoors': 1957, 'became': 1958, 'struggling': 1959, 'pause': 1960, 'token': 1961, 'percent': 1962, 'sam': 1963, 'speedy': 1964, 'kylie': 1965, 'jenner': 1966, 'voted': 1967, 'non': 1968, 'knee': 1969, 'security': 1970, 'blackout': 1971, 'throat': 1972, 'believing': 1973, 'jim': 1974, 'awesome': 1975, 'tmrw': 1976, 'included': 1977, 'accept': 1978, 'comparing': 1979, 'artist': 1980, 'nt': 1981, 'expose': 1982, 'rd': 1983, 'webinar': 1984, 'cast': 1985, 'se': 1986, 'whens': 1987, 'britain': 1988, 'sand': 1989, 'hollywood': 1990, 'sudden': 1991, 'postive': 1992, 'markaz': 1993, 'gaza': 1994, 'greeting': 1995, 'mall': 1996, 'kingdom': 1997, 'declare': 1998, 'invasion': 1999, 'payment': 2000, 'expecting': 2001, 'course': 2002, 'skip': 2003, 'twisted': 2004, 'hilarious': 2005, 'arm': 2006, 'fail': 2007, 'checked': 2008, 'uae': 2009, 'indeed': 2010, 'existing': 2011, 'grew': 2012, 'perhaps': 2013, 'insta': 2014, 'davirus': 2015, 'shelterinplace': 2016, 'georgia': 2017, 'ticket': 2018, 'delay': 2019, 'marcus': 2020, 'comeback': 2021, 'comforting': 2022, 'szn': 2023, 'increased': 2024, 'refund': 2025, 'lied': 2026, 'stage': 2027, 'ups': 2028, 'employee': 2029, 'aprilfool': 2030, 'pulled': 2031, 'prolly': 2032, 'soo': 2033, 'sugar': 2034, 'fyi': 2035, 'unemployed': 2036, 'brilliant': 2037, 'exact': 2038, 'colin': 2039, 'unwitting': 2040, 'highly': 2041, 'hall': 2042, 'peloton': 2043, 'timing': 2044, 'terrified': 2045, 'dance': 2046, 'forced': 2047, 'makeup': 2048, 'stick': 2049, 'plenty': 2050, 'income': 2051, 'hydroxychloroquine': 2052, 'otherwise': 2053, 'hurricane': 2054, 'prisoner': 2055, 'shouting': 2056, 'jah': 2057, 'infested': 2058, 'pretended': 2059, 'jae': 2060, 'joong': 2061, 'agency': 2062, 'cancer': 2063, 'billion': 2064, 'nature': 2065, 'appears': 2066, 'economythat': 2067, 'declaration': 2068, 'seasonal': 2069, 'add': 2070, 'waking': 2071, 'fill': 2072, 'carol': 2073, 'indiathanks': 2074, 'precious': 2075, 'proved': 2076, 'yell': 2077, 'lem': 2078, 'interested': 2079, 'pakistani': 2080, 'bomb': 2081, 'reaction': 2082, 'climate': 2083, 'address': 2084, 'chinesevirus': 2085, 'miserable': 2086, 'exposed': 2087, 'revolution': 2088, 'ozzy': 2089, 'easier': 2090, 'driver': 2091, 'israel': 2092, 'rail': 2093, 'srilanka': 2094, 'banned': 2095, 'sold': 2096, 'vid': 2097, 'began': 2098, 'ban': 2099, 'continues': 2100, 'publish': 2101, 'taco': 2102, 'art': 2103, 'crime': 2104, 'protected': 2105, 'med': 2106, 'needa': 2107, 'skim': 2108, 'apart': 2109, 'asleep': 2110, 'straight': 2111, 'ji': 2112, 'bengal': 2113, 'phish': 2114, 'james': 2115, 'convinced': 2116, 'lime': 2117, 'cali': 2118, 'upto': 2119, 'forgive': 2120, 'knowing': 2121, 'fooled': 2122, 'witness': 2123, 'covidoutbreak': 2124, 'doubling': 2125, 'remedy': 2126, 'minimum': 2127, 'rose': 2128, 'bull': 2129, 'landlord': 2130, 'grim': 2131, 'haryana': 2132, 'drinking': 2133, 'bon': 2134, 'frightening': 2135, 'army': 2136, 'bite': 2137, 'ran': 2138, 'ended': 2139, 'chest': 2140, 'packed': 2141, 'reuters': 2142, 'edition': 2143, 'bloody': 2144, 'blew': 2145, 'bra': 2146, 'upside': 2147, 'ambulance': 2148, 'nfl': 2149, 'agent': 2150, 'considering': 2151, 'choose': 2152, 'afternoon': 2153, 'ne': 2154, 'suspect': 2155, 'held': 2156, 'accountable': 2157, 'dumbass': 2158, 'screw': 2159, 'loving': 2160, 'slide': 2161, 'push': 2162, 'wing': 2163, 'us': 2164, 'stressed': 2165, 'terrible': 2166, 'committed': 2167, 'ability': 2168, 'upset': 2169, 'term': 2170, 'assume': 2171, 'hm': 2172, 'spot': 2173, 'owns': 2174, 'helped': 2175, 'allow': 2176, 'werent': 2177, 'hood': 2178, 'flattened': 2179, 'grad': 2180, 'aunt': 2181, 'recovering': 2182, 'offer': 2183, 'un': 2184, 'shortage': 2185, 'management': 2186, 'protection': 2187, 'sex': 2188, 'recession': 2189, 'mbrx': 2190, 'compound': 2191, 'wp': 2192, 'replication': 2193, 'vitro': 2194, 'photo': 2195, 'grown': 2196, 'communalvirus': 2197, 'drake': 2198, 'routine': 2199, 'um': 2200, 'bottom': 2201, 'someday': 2202, 'riot': 2203, 'fitness': 2204, 'noticed': 2205, 'homies': 2206, 'thanos': 2207, 'covidrelated': 2208, 'stats': 2209, 'sab': 2210, 'father': 2211, 'freely': 2212, 'opening': 2213, 'audacity': 2214, 'kitna': 2215, 'defend': 2216, 'karoge': 2217, 'beemar': 2218, 'insight': 2219, 'mane': 2220, 'halloween': 2221, 'software': 2222, 'dock': 2223, 'higher': 2224, 'anyways': 2225, 'research': 2226, 'economic': 2227, 'accident': 2228, 'honest': 2229, 'nervous': 2230, 'pattern': 2231, 'pant': 2232, 'shirt': 2233, 'reelection': 2234, 'household': 2235, 'covidviruskenya': 2236, 'chilling': 2237, 'liverpool': 2238, 'barber': 2239, 'delayed': 2240, 'capitalism': 2241, 'russian': 2242, 'sooooo': 2243, 'anniversary': 2244, 'burna': 2245, 'clout': 2246, 'yr': 2247, 'leg': 2248, 'madhya': 2249, 'indore': 2250, 'paycheck': 2251, 'david': 2252, 'andhrapradesh': 2253, 'snake': 2254, 'agenda': 2255, 'causing': 2256, 'society': 2257, 'malaysian': 2258, 'urgent': 2259, 'manage': 2260, 'career': 2261, 'kissing': 2262, 'anxious': 2263, 'walked': 2264, 'tank': 2265, 'dayoflockdown': 2266, 'confirms': 2267, 'remains': 2268, 'cup': 2269, 'view': 2270, 'safety': 2271, 'disgusting': 2272, 'spy': 2273, 'realise': 2274, 'immigrant': 2275, 'humanity': 2276, 'goin': 2277, 'neither': 2278, 'financially': 2279, 'bcg': 2280, 'nizamuddinmarkaj': 2281, 'lifetime': 2282, 'towards': 2283, 'tackle': 2284, 'cap': 2285, 'shutdown': 2286, 'asshole': 2287, 'evening': 2288, 'rumour': 2289, 'san': 2290, 'plant': 2291, 'quite': 2292, 'withdrawal': 2293, 'boring': 2294, 'blocking': 2295, 'grandchild': 2296, 'creating': 2297, 'computer': 2298, 'plot': 2299, 'ccp': 2300, 'twenty': 2301, 'retweet': 2302, 'impacted': 2303, 'jannat': 2304, 'heapes': 2305, 'lame': 2306, 'mit': 2307, 'vega': 2308, 'maga': 2309, 'longest': 2310, 'compared': 2311, 'process': 2312, 'journalist': 2313, 'ca': 2314, 'wind': 2315, 'christmas': 2316, 'winning': 2317, 'matter': 2318, 'gtdont': 2319, 'built': 2320, 'switch': 2321, 'golf': 2322, 'continent': 2323, 'ebola': 2324, 'ignore': 2325, 'base': 2326, 'guarantee': 2327, 'sayin': 2328, 'aside': 2329, 'actor': 2330, 'andrew': 2331, 'prove': 2332, 'radio': 2333, 'rich': 2334, 'film': 2335, 'pastor': 2336, 'nsw': 2337, 'philippine': 2338, 'hy': 2339, 'wasted': 2340, 'liver': 2341, 'friday': 2342, 'snapchat': 2343, 'resume': 2344, 'silver': 2345, 'lining': 2346, 'sec': 2347, 'enforcing': 2348, 'approval': 2349, 'tragedy': 2350, 'pre': 2351, 'contagious': 2352, 'spit': 2353, 'program': 2354, 'field': 2355, 'humanitarian': 2356, 'gale': 2357, 'remote': 2358, 'pulling': 2359, 'scenario': 2360, 'log': 2361, 'reminding': 2362, 'habit': 2363, 'downing': 2364, 'chat': 2365, 'although': 2366, 'quality': 2367, 'loser': 2368, 'outfit': 2369, 'thailand': 2370, 'outage': 2371, 'declared': 2372, 'recover': 2373, 'broken': 2374, 'par': 2375, 'stayathomeandstaysafe': 2376, 'paul': 2377, 'fkn': 2378, 'hay': 2379, 'tennis': 2380, 'advise': 2381, 'plane': 2382, 'proven': 2383, 'bno': 2384, 'section': 2385, 'kindly': 2386, 'regard': 2387, 'temperature': 2388, 'cdt': 2389, 'covered': 2390, 'pigeon': 2391, 'arc': 2392, 'inability': 2393, 'arouse': 2394, 'strange': 2395, 'stoped': 2396, 'guessing': 2397, 'washed': 2398, 'obey': 2399, 'nap': 2400, 'walmart': 2401, 'ofcourse': 2402, 'determined': 2403, 'iishe': 2404, 'threw': 2405, 'setup': 2406, 'reliable': 2407, 'fakenews': 2408, 'journalism': 2409, 'arora': 2410, 'bore': 2411, 'appreciated': 2412, 'includes': 2413, 'hah': 2414, 'arguing': 2415, 'boredom': 2416, 'dylan': 2417, 'butt': 2418, 'cheek': 2419, 'predicts': 2420, 'natural': 2421, 'rhyme': 2422, 'filled': 2423, 'punjab': 2424, 'steroid': 2425, 'diagnostics': 2426, 'apple': 2427, 'dang': 2428, 'biblical': 2429, 'grade': 2430, 'endoftimes': 2431, 'idahoearthquake': 2432, 'besafe': 2433, 'thirst': 2434, 'theater': 2435, 'sized': 2436, 'coke': 2437, 'director': 2438, 'fired': 2439, 'screen': 2440, 'ankle': 2441, 'jumiaheroes': 2442, 'depressing': 2443, 'bidens': 2444, 'farting': 2445, 'farmer': 2446, 'produce': 2447, 'survey': 2448, 'austria': 2449, 'classic': 2450, 'meeting': 2451, 'drag': 2452, 'review': 2453, 'tin': 2454, 'experiencing': 2455, 'bestfriend': 2456, 'antivaxxer': 2457, 'microchip': 2458, 'remastered': 2459, 'supplement': 2460, 'newdecade': 2461, 'factsmatter': 2462, 'trumpisavirus': 2463, 'trumpliespeopledie': 2464, 'allinthistogether': 2465, 'sensitive': 2466, 'syria': 2467, 'mo': 2468, 'spoke': 2469, 'confirmation': 2470, 'effective': 2471, 'bar': 2472, 'inflammation': 2473, 'adult': 2474, 'primary': 2475, 'sanitizers': 2476, 'appropriate': 2477, 'cc': 2478, 'concerned': 2479, 'benghazi': 2480, 'nursemedical': 2481, 'hazard': 2482, 'groundhog': 2483, 'famous': 2484, 'plasma': 2485, 'donates': 2486, 'resident': 2487, 'soul': 2488, 'deserves': 2489, 'fart': 2490, 'pound': 2491, 'feeding': 2492, 'aki': 2493, 'raw': 2494, 'footage': 2495, 'acceptable': 2496, 'segment': 2497, 'semester': 2498, 'overseas': 2499, 'crash': 2500, 'female': 2501, 'pinned': 2502, 'documentary': 2503, 'bn': 2504, 'trumped': 2505, 'smell': 2506, 'elite': 2507, 'regular': 2508, 'truther': 2509, 'referring': 2510, 'condom': 2511, 'frowned': 2512, 'complication': 2513, 'brb': 2514, 'nursery': 2515, 'clue': 2516, 'contradicting': 2517, 'covidfree': 2518, 'supervolcano': 2519, 'sanity': 2520, 'herdimmunity': 2521, 'progress': 2522, 'camping': 2523, 'september': 2524, 'harry': 2525, 'regardless': 2526, 'remix': 2527, 'yay': 2528, 'toronto': 2529, 'imran': 2530, 'respect': 2531, 'condolence': 2532, 'warns': 2533, 'anbumani': 2534, 'covidaus': 2535, 'restrict': 2536, 'buddy': 2537, 'pseudo': 2538, 'holiday': 2539, 'diet': 2540, 'showered': 2541, 'teenager': 2542, 'learned': 2543, 'physical': 2544, 'op': 2545, 'pushed': 2546, 'worn': 2547, 'tnt': 2548, 'deep': 2549, 'dab': 2550, 'fortnite': 2551, 'ride': 2552, 'mcconnell': 2553, 'trial': 2554, 'diverted': 2555, 'entered': 2556, 'tmobile': 2557, 'immediate': 2558, 'closure': 2559, 'sharona': 2560, 'mortality': 2561, 'eric': 2562, 'clapton': 2563, 'bonnie': 2564, 'guardian': 2565, 'ahmedabad': 2566, 'covidupdatesinindia': 2567, 'absolute': 2568, 'applied': 2569, 'survived': 2570, 'covering': 2571, 'acosta': 2572, 'covidlockdown': 2573, 'drill': 2574, 'nerve': 2575, 'civic': 2576, 'mouse': 2577, 'pan': 2578, 'dodge': 2579, 'toxic': 2580, 'host': 2581, 'funniest': 2582, 'corrupt': 2583, 'punishment': 2584, 'cop': 2585, 'wewanttoeatout': 2586, 'headed': 2587, 'present': 2588, 'tip': 2589, 'senator': 2590, 'rahe': 2591, 'jay': 2592, 'hind': 2593, 'membership': 2594, 'greece': 2595, 'vigilant': 2596, 'soooo': 2597, 'alex': 2598, 'thursday': 2599, 'scientific': 2600, 'gather': 2601, 'allllll': 2602, 'antivaxxers': 2603, 'kll': 2604, 'nyt': 2605, 'jenrick': 2606, 'cannon': 2607, 'jr': 2608, 'steve': 2609, 'miller': 2610, 'fucken': 2611, 'european': 2612, 'globally': 2613, 'counted': 2614, 'korean': 2615, 'however': 2616, 'israeli': 2617, 'bump': 2618, 'airline': 2619, 'charging': 2620, 'owe': 2621, 'trouble': 2622, 'iced': 2623, 'bowl': 2624, 'influenza': 2625, 'gross': 2626, 'premier': 2627, 'horgan': 2628, 'contagion': 2629, 'admits': 2630, 'cunt': 2631, 'bbi': 2632, 'workout': 2633, 'damnnn': 2634, 'wassup': 2635, 'mute': 2636, 'orthodontist': 2637, 'rant': 2638, 'doc': 2639, 'shanghai': 2640, 'ant': 2641, 'sincerely': 2642, 'wv': 2643, 'swallow': 2644, 'fck': 2645, 'detroit': 2646, 'humor': 2647, 'newyorkcity': 2648, 'caption': 2649, 'enjoyed': 2650, 'champion': 2651, 'marvel': 2652, 'miner': 2653, 'timed': 2654, 'bay': 2655, 'belief': 2656, 'nationwide': 2657, 'tmw': 2658, 'meat': 2659, 'inform': 2660, 'confused': 2661, 'mere': 2662, 'greet': 2663, 'tune': 2664, 'philadelphia': 2665, 'atm': 2666, 'character': 2667, 'culture': 2668, 'nonexistent': 2669, 'craving': 2670, 'stew': 2671, 'thief': 2672, 'jackson': 2673, 'youtube': 2674, 'booking': 2675, 'importance': 2676, 'truck': 2677, 'fair': 2678, 'shameful': 2679, 'ozark': 2680, 'gau': 2681, 'mutra': 2682, 'enterprise': 2683, 'marriage': 2684, 'destroying': 2685, 'roughly': 2686, 'dedicated': 2687, 'education': 2688, 'ufc': 2689, 'buried': 2690, 'zealand': 2691, 'aspiring': 2692, 'influencer': 2693, 'posted': 2694, 'limited': 2695, 'entity': 2696, 'podcast': 2697, 'founder': 2698, 'origin': 2699, 'shell': 2700, 'sat': 2701, 'relieved': 2702, 'uni': 2703, 'providing': 2704, 'frontliners': 2705, 'nrc': 2706, 'marketing': 2707, 'cambodia': 2708, 'shoe': 2709, 'color': 2710, 'trick': 2711, 'factory': 2712, 'trumpplague': 2713, 'covidusa': 2714, 'maleria': 2715, 'contribute': 2716, 'heist': 2717, 'inevitably': 2718, 'stranded': 2719, 'abroad': 2720, 'patrick': 2721, 'lockdowneffect': 2722, 'tissue': 2723, 'bioweapon': 2724, 'wet': 2725, 'disinfectant': 2726, 'fewer': 2727, 'brief': 2728, 'prick': 2729, 'socalled': 2730, 'loud': 2731, 'demand': 2732, 'minority': 2733, 'hashtags': 2734, 'burn': 2735, 'temple': 2736, 'moral': 2737, 'duh': 2738, 'uzbekistan': 2739, 'brutality': 2740, 'kafir': 2741, 'mindset': 2742, 'rarely': 2743, 'likh': 2744, 'lelo': 2745, 'shaban': 2746, 'hmmm': 2747, 'scaring': 2748, 'existed': 2749, 'nvm': 2750, 'amidst': 2751, 'rolling': 2752, 'gag': 2753, 'shouldve': 2754, 'connected': 2755, 'dot': 2756, 'regularly': 2757, 'tie': 2758, 'kenyan': 2759, 'bff': 2760, 'server': 2761, 'understanding': 2762, 'near': 2763, 'mode': 2764, 'traveling': 2765, 'bbq': 2766, 'interview': 2767, 'clock': 2768, 'beg': 2769, 'screened': 2770, 'production': 2771, 'besides': 2772, 'sends': 2773, 'zambia': 2774, 'carnival': 2775, 'nickname': 2776, 'peter': 2777, 'cigarette': 2778, 'clown': 2779, 'hatred': 2780, 'serbia': 2781, 'dranbumani': 2782, 'desantis': 2783, 'stupidest': 2784, 'rob': 2785, 'wat': 2786, 'mankind': 2787, 'joy': 2788, 'fairly': 2789, 'classified': 2790, 'feasible': 2791, 'effectively': 2792, 'tshirts': 2793, 'imported': 2794, 'shii': 2795, 'ahh': 2796, 'fantastic': 2797, 'helpful': 2798, 'unfortunate': 2799, 'mai': 2800, 'celebs': 2801, 'isolated': 2802, 'gud': 2803, 'fee': 2804, 'dig': 2805, 'approach': 2806, 'coviduk': 2807, 'region': 2808, 'silvia': 2809, 'patricia': 2810, 'familia': 2811, 'delaying': 2812, 'isolate': 2813, 'prof': 2814, 'shi': 2815, 'regulation': 2816, 'deceased': 2817, 'commercial': 2818, 'titty': 2819, 'snow': 2820, 'soup': 2821, 'sky': 2822, 'sauce': 2823, 'wo': 2824, 'tracking': 2825, 'voting': 2826, 'kiss': 2827, 'tongue': 2828, 'quoting': 2829, 'military': 2830, 'inshallah': 2831, 'madam': 2832, 'diamond': 2833, 'silk': 2834, 'dm': 2835, 'layoff': 2836, 'politics': 2837, 'flat': 2838, 'troll': 2839, 'ver': 2840, 'davido': 2841, 'ovum': 2842, 'covidviruspakistan': 2843, 'lawful': 2844, 'experiment': 2845, 'nj': 2846, 'exercise': 2847, 'discussing': 2848, 'nth': 2849, 'aku': 2850, 'hyper': 2851, 'ffs': 2852, 'crucial': 2853, 'vomiting': 2854, 'outlook': 2855, 'niece': 2856, 'department': 2857, 'logistics': 2858, 'tat': 2859, 'convid': 2860, 'mid': 2861, 'spare': 2862, 'sunny': 2863, 'jon': 2864, 'jovi': 2865, 'moose': 2866, 'reboot': 2867, 'mentally': 2868, 'digitalhealthcareke': 2869, 'hobby': 2870, 'lobby': 2871, 'noooo': 2872, 'candidate': 2873, 'interest': 2874, 'flattenthecurve': 2875, 'rtrs': 2876, 'creative': 2877, 'simping': 2878, 'bastard': 2879, 'gigi': 2880, 'facing': 2881, 'discovered': 2882, 'ameen': 2883, 'publicly': 2884, 'shaving': 2885, 'smd': 2886, 'euro': 2887, 'statistic': 2888, 'willing': 2889, 'confinement': 2890, 'financial': 2891, 'joint': 2892, 'destroy': 2893, 'killin': 2894, 'radiation': 2895, 'gettin': 2896, 'surely': 2897, 'wrap': 2898, 'forreal': 2899, 'tn': 2900, 'overcome': 2901, 'arizona': 2902, 'healing': 2903, 'pink': 2904, 'beware': 2905, 'informed': 2906, 'sobering': 2907, 'maskwearing': 2908, 'recommendation': 2909, 'consideration': 2910, 'surgery': 2911, 'england': 2912, 'bhi': 2913, 'desh': 2914, 'example': 2915, 'pti': 2916, 'language': 2917, 'punjabi': 2918, 'whew': 2919, 'miley': 2920, 'cyrus': 2921, 'idgaf': 2922, 'spoiled': 2923, 'gujarat': 2924, 'fifth': 2925, 'cope': 2926, 'extinct': 2927, 'spell': 2928, 'introvert': 2929, 'grows': 2930, 'mph': 2931, 'expense': 2932, 'certainly': 2933, 'wen': 2934, 'freed': 2935, 'ethiopia': 2936, 'declares': 2937, 'introduce': 2938, 'filipino': 2939, 'adding': 2940, 'graph': 2941, 'covidpandemic': 2942, 'guilty': 2943, 'swineflu': 2944, 'hating': 2945, 'battling': 2946, 'legit': 2947, 'lowest': 2948, 'terrifying': 2949, 'discipline': 2950, 'stylist': 2951, 'appointment': 2952, 'settle': 2953, 'patent': 2954, 'trail': 2955, 'equivalent': 2956, 'position': 2957, 'texted': 2958, 'cockblock': 2959, 'cleansing': 2960, 'nepal': 2961, 'epicenter': 2962, 'session': 2963, 'led': 2964, 'peaked': 2965, 'storm': 2966, 'todaythe': 2967, 'climb': 2968, 'trucker': 2969, 'tina': 2970, 'salute': 2971, 'shiddd': 2972, 'successful': 2973, 'garbage': 2974, 'collection': 2975, 'congress': 2976, 'bts': 2977, 'fatal': 2978, 'wwgwga': 2979, 'union': 2980, 'hella': 2981, 'approved': 2982, 'abi': 2983, 'emi': 2984, 'tyler': 2985, 'launch': 2986, 'moneycontrol': 2987, 'denier': 2988, 'hater': 2989, 'logic': 2990, 'inn': 2991, 'meltdown': 2992, 'barely': 2993, 'explains': 2994, 'ay': 2995, 'figured': 2996, 'italian': 2997, 'foreal': 2998, 'innovation': 2999, 'noted': 3000, 'netherlands': 3001, 'anywhere': 3002, 'xanax': 3003, 'preoccupied': 3004, 'stayed': 3005, 'tsa': 3006, 'bot': 3007, 'safely': 3008, 'liked': 3009, 'atleast': 3010, 'silly': 3011, 'markaj': 3012, 'pfi': 3013, 'jihadi': 3014, 'tic': 3015, 'crook': 3016, 'colour': 3017, 'primetime': 3018, 'wolf': 3019, 'boomer': 3020, 'democratic': 3021, 'switched': 3022, 'buhari': 3023, 'pissing': 3024, 'license': 3025, 'distraction': 3026, 'presser': 3027, 'withholding': 3028, 'juicy': 3029, 'coochie': 3030, 'cent': 3031, 'anguilla': 3032, 'flying': 3033, 'constant': 3034, 'pelosi': 3035, 'dump': 3036, 'apply': 3037, 'sarscov': 3038, 'thot': 3039, 'berniesanders': 3040, 'themed': 3041, 'dipshit': 3042, 'constitution': 3043, 'maulana': 3044, 'donnie': 3045, 'paranoid': 3046, 'map': 3047, 'indiavscovid': 3048, 'prophet': 3049, 'birx': 3050, 'colitis': 3051, 'tuned': 3052, 'writing': 3053, 'loses': 3054, 'hockey': 3055, 'drank': 3056, 'reopened': 3057, 'amendment': 3058, 'thamendment': 3059, 'kanika': 3060, 'seriousness': 3061, 'responsibility': 3062, 'doomed': 3063, 'resolved': 3064, 'resign': 3065, 'repeat': 3066, 'wa': 3067, 'dye': 3068, 'trippin': 3069, 'correction': 3070, 'falling': 3071, 'reverse': 3072, 'bio': 3073, 'contaminated': 3074, 'specialist': 3075, 'leafyishere': 3076, 'mention': 3077, 'graduate': 3078, 'coughed': 3079, 'metric': 3080, 'doctorsnurses': 3081, 'covidviruscovid': 3082, 'plus': 3083, 'subscription': 3084, 'viewer': 3085, 'genuinely': 3086, 'usually': 3087, 'unbelievable': 3088, 'pillow': 3089, 'mypillow': 3090, 'realised': 3091, 'psych': 3092, 'shoaib': 3093, 'akhtar': 3094, 'proposes': 3095, 'indopak': 3096, 'odi': 3097, 'pocket': 3098, 'tech': 3099, 'amirite': 3100, 'squeeze': 3101, 'killer': 3102, 'bright': 3103, 'ass': 3104, 'surge': 3105, 'exclusive': 3106, 'dontrushchallenge': 3107, 'def': 3108, 'ordering': 3109, 'bundle': 3110, 'purchase': 3111, 'leafy': 3112, 'apologize': 3113, 'sum': 3114, 'ecoli': 3115, 'tdlr': 3116, 'interviewing': 3117, 'fixed': 3118, 'homophobic': 3119, 'virtually': 3120, 'eliminated': 3121, 'substance': 3122, 'spray': 3123, 'jerk': 3124, 'ion': 3125, 'sucking': 3126, 'discharge': 3127, 'observation': 3128, 'aight': 3129, 'multiply': 3130, 'remotely': 3131, 'blast': 3132, 'couldve': 3133, 'preemptively': 3134, 'younger': 3135, 'abortion': 3136, 'wearin': 3137, 'dozen': 3138, 'fourth': 3139, 'smarter': 3140, 'platform': 3141, 'original': 3142, 'role': 3143, 'originally': 3144, 'runny': 3145, 'bass': 3146, 'avenger': 3147, 'unseen': 3148, 'virius': 3149, 'plauge': 3150, 'wheel': 3151, 'knowingly': 3152, 'guest': 3153, 'smile': 3154, 'wood': 3155, 'tha': 3156, 'goodnight': 3157, 'served': 3158, 'spared': 3159, 'gop': 3160, 'invincible': 3161, 'expired': 3162, 'visitor': 3163, 'notice': 3164, 'pathetic': 3165, 'rice': 3166, 'root': 3167, 'decreased': 3168, 'temp': 3169, 'askgovinslee': 3170, 'textin': 3171, 'honey': 3172, 'noncovidvirus': 3173, 'eventually': 3174, 'injury': 3175, 'basis': 3176, 'bread': 3177, 'occasion': 3178, 'congrats': 3179, 'odisha': 3180, 'bath': 3181, 'dish': 3182, 'dc': 3183, 'excellent': 3184, 'bandipora': 3185, 'baramulla': 3186, 'puducherry': 3187, 'spud': 3188, 'wheeler': 3189, 'reduction': 3190, 'blah': 3191, 'wedding': 3192, 'shuts': 3193, 'ngl': 3194, 'mild': 3195, 'madness': 3196, 'covidchan': 3197, 'issa': 3198, 'attend': 3199, 'askdrh': 3200, 'publicize': 3201, 'retarded': 3202, 'stopping': 3203, 'perishable': 3204, 'greedyhoarders': 3205, 'panicbuyers': 3206, 'mandatory': 3207, 'venezuela': 3208, 'disappeared': 3209, 'preparation': 3210, 'capital': 3211, 'maam': 3212, 'appetizer': 3213, 'historical': 3214, 'cheesy': 3215, 'gordita': 3216, 'baki': 3217, 'murder': 3218, 'unmasking': 3219, 'shoo': 3220, 'fm': 3221, 'mod': 3222, 'devastating': 3223, 'domicile': 3224, 'exposing': 3225, 'rajasthan': 3226, 'simulation': 3227, 'andor': 3228, 'hardly': 3229, 'ii': 3230, 'diego': 3231, 'arrival': 3232, 'picking': 3233, 'spotify': 3234, 'bedroom': 3235, 'ole': 3236, 'indoor': 3237, 'trumpgenocide': 3238, 'logical': 3239, 'kicked': 3240, 'litre': 3241, 'substantial': 3242, 'facemasks': 3243, 'permanent': 3244, 'metre': 3245, 'antivirus': 3246, 'rained': 3247, 'electricity': 3248, 'bong': 3249, 'nigerian': 3250, 'dropped': 3251, 'picture': 3252, 'cfr': 3253, 'burger': 3254, 'godavari': 3255, 'century': 3256, 'homework': 3257, 'daughter': 3258, 'length': 3259, 'relevant': 3260, 'wack': 3261, 'paso': 3262, 'basketball': 3263, 'hindumuslim': 3264, 'ashamed': 3265, 'sri': 3266, 'lanka': 3267, 'quran': 3268, 'slowly': 3269, 'prob': 3270, 'cockroach': 3271, 'virgin': 3272, 'pregnancy': 3273, 'wise': 3274, 'uncool': 3275, 'vietnam': 3276, 'thus': 3277, 'federal': 3278, 'transmission': 3279, 'mitchplease': 3280, 'handled': 3281, 'speaker': 3282, 'ep': 3283, 'lane': 3284, 'para': 3285, 'destroys': 3286, 'covidsa': 3287, 'inhale': 3288, 'touched': 3289, 'scum': 3290, 'misinformation': 3291, 'medias': 3292, 'flatten': 3293, 'chelsea': 3294, 'celebration': 3295, 'theyve': 3296, 'chinaoriginatedvirusindecember': 3297, 'clothes': 3298, 'xx': 3299, 'corny': 3300, 'piss': 3301, 'accidentally': 3302, 'explore': 3303, 'nope': 3304, 'ruthless': 3305, 'dose': 3306, 'norway': 3307, 'louisiana': 3308, 'choice': 3309, 'tea': 3310, 'er': 3311, 'slowing': 3312, 'gift': 3313, 'pack': 3314, 'eve': 3315, 'liberal': 3316, 'becomes': 3317, 'secretly': 3318, 'trade': 3319, 'translation': 3320, 'pinch': 3321, 'covidvirusmemes': 3322, 'victory': 3323, 'teaching': 3324, 'ott': 3325, 'eyebrow': 3326, 'covidau': 3327, 'costume': 3328, 'warm': 3329, 'managed': 3330, 'sem': 3331, 'sort': 3332, 'emotion': 3333, 'technology': 3334, 'riddled': 3335, 'bike': 3336, 'ignored': 3337, 'quaratinelife': 3338, 'bone': 3339, 'extend': 3340, 'creator': 3341, 'preparing': 3342, 'dalal': 3343, 'kalma': 3344, 'lethal': 3345, 'breakdown': 3346, 'cave': 3347, 'istg': 3348, 'article': 3349, 'flavor': 3350, 'grandmother': 3351, 'suit': 3352, 'australian': 3353, 'faced': 3354, 'idle': 3355, 'weh': 3356, 'voter': 3357, 'spin': 3358, 'suspicious': 3359, 'periodt': 3360, 'triple': 3361, 'minsik': 3362, 'escape': 3363, 'onion': 3364, 'now': 3365, 'horizon': 3366, 'letsfightcovid': 3367, 'covidngr': 3368, 'tinder': 3369, 'tommorow': 3370, 'pf': 3371, 'shed': 3372, 'discount': 3373, 'que': 3374, 'carne': 3375, 'winner': 3376, 'player': 3377, 'brace': 3378, 'slap': 3379, 'yankee': 3380, 'mets': 3381, 'momma': 3382, 'badly': 3383, 'binge': 3384, 'agreement': 3385, 'shameless': 3386, 'melt': 3387, 'si': 3388, 'warn': 3389, 'quarter': 3390, 'consumed': 3391, 'zee': 3392, 'census': 3393, 'princess': 3394, 'tabligi': 3395, 'baba': 3396, 'critically': 3397, 'smiling': 3398, 'thankful': 3399, 'simply': 3400, 'boise': 3401, 'cage': 3402, 'male': 3403, 'arise': 3404, 'nephew': 3405, 'suspected': 3406, 'curb': 3407, 'kushner': 3408, 'realizing': 3409, 'collect': 3410, 'kia': 3411, 'di': 3412, 'sake': 3413, 'shook': 3414, 'putin': 3415, 'argument': 3416, 'ramadhan': 3417, 'rock': 3418, 'ik': 3419, 'rainbow': 3420, 'pneumonia': 3421, 'confidence': 3422, 'brazil': 3423, 'affecting': 3424, 'consequence': 3425, 'tamil': 3426, 'nadu': 3427, 'tndemandsmasstesting': 3428, 'unfortunately': 3429, 'ghetto': 3430, 'nasal': 3431, 'swab': 3432, 'conducting': 3433, 'bahrain': 3434, 'assault': 3435, 'pig': 3436, 'division': 3437, 'pal': 3438, 'naive': 3439, 'proof': 3440, 'vile': 3441, 'isnotcancelled': 3442, 'holland': 3443, 'og': 3444, 'hanta': 3445, 'parasite': 3446, 'goddamn': 3447, 'protecting': 3448, 'ic': 3449, 'frfr': 3450, 'burundi': 3451, 'ecuador': 3452, 'poll': 3453, 'stone': 3454, 'basement': 3455, 'showed': 3456, 'youtuber': 3457, 'apology': 3458, 'dry': 3459, 'yll': 3460, 'ghost': 3461, 'iraq': 3462, 'snapped': 3463, 'mix': 3464, 'captain': 3465, 'lmaoo': 3466, 'commit': 3467, 'indonesia': 3468, 'amin': 3469, 'stopthespread': 3470, 'hahah': 3471, 'guard': 3472, 'mississippi': 3473, 'seek': 3474, 'cuomoprimetime': 3475, 'valley': 3476, 'heath': 3477, 'select': 3478, 'received': 3479, 'precovid': 3480, 'poppin': 3481, 'stool': 3482, 'pet': 3483, 'physicaldistancing': 3484, 'filmed': 3485, 'brown': 3486, 'mail': 3487, 'mainland': 3488, 'johnson': 3489, 'bbc': 3490, 'fortythree': 3491, 'advanced': 3492, 'perspective': 3493, 'caa': 3494, 'parody': 3495, 'std': 3496, 'shooting': 3497, 'league': 3498, 'chip': 3499, 'east': 3500, 'stasi': 3501, 'restless': 3502, 'covidinsa': 3503, 'lockdownsa': 3504, 'yelled': 3505, 'unproven': 3506, 'tht': 3507, 'transaction': 3508, 'te': 3509, 'coviddk': 3510, 'vacay': 3511, 'diags': 3512, 'vanished': 3513, 'defense': 3514, 'ala': 3515, 'threatening': 3516, 'deserved': 3517, 'closest': 3518, 'refusing': 3519, 'homie': 3520, 'blunt': 3521, 'agrees': 3522, 'stronger': 3523, 'hubei': 3524, 'failing': 3525, 'scene': 3526, 'insanity': 3527, 'playlist': 3528, 'whoop': 3529, 'compare': 3530, 'newsalert': 3531, 'rapid': 3532, 'blamed': 3533, 'international': 3534, 'yah': 3535, 'bud': 3536, 'strip': 3537, 'legend': 3538, 'lagos': 3539, 'spiritually': 3540, 'broadcaster': 3541, 'complain': 3542, 'bhonk': 3543, 'rhi': 3544, 'action': 3545, 'standing': 3546, 'palace': 3547, 'flashing': 3548, 'veteran': 3549, 'ferguson': 3550, 'peep': 3551, 'malaysia': 3552, 'respiratory': 3553, 'cramp': 3554, 'wmd': 3555, 'gratitude': 3556, 'indefinitely': 3557, 'xmas': 3558, 'rosie': 3559, 'cheating': 3560, 'giveaway': 3561, 'rand': 3562, 'switzerland': 3563, 'bawling': 3564, 'fancy': 3565, 'square': 3566, 'indictment': 3567, 'kitchen': 3568, 'extremely': 3569, 'sha': 3570, 'wildlife': 3571, 'maintaining': 3572, 'spammed': 3573, 'toks': 3574, 'tping': 3575, 'toward': 3576, 'bane': 3577, 'chocolate': 3578, 'stash': 3579, 'madagascar': 3580, 'sandwich': 3581, 'typical': 3582, 'pencil': 3583, 'banmediahouse': 3584, 'deadline': 3585, 'underreporting': 3586, 'thoroughly': 3587, 'mtashangaa': 3588, 'sana': 3589, 'wanker': 3590, 'dickhead': 3591, 'oncle': 3592, 'medication': 3593, 'identical': 3594, 'pleasure': 3595, 'policeman': 3596, 'chatter': 3597, 'nightingale': 3598, 'roundup': 3599, 'billionaire': 3600, 'procedure': 3601, 'poverty': 3602, 'envious': 3603, 'poo': 3604, 'allamerican': 3605, 'confusion': 3606, 'thatcouldmeananything': 3607, 'bluish': 3608, 'thatsjustscary': 3609, 'neighbour': 3610, 'unreal': 3611, 'terrorisme': 3612, 'bioweapom': 3613, 'profiting': 3614, 'butterfly': 3615, 'signal': 3616, 'enforcement': 3617, 'dettol': 3618, 'cautious': 3619, 'amir': 3620, 'necessity': 3621, 'elise': 3622, 'oc': 3623, 'weeping': 3624, 'firstresponders': 3625, 'michelle': 3626, 'ptinews': 3627, 'hyperstick': 3628, 'ebay': 3629, 'shipped': 3630, 'swag': 3631, 'coherent': 3632, 'romanian': 3633, 'dramatic': 3634, 'satellite': 3635, 'decline': 3636, 'wacha': 3637, 'sft': 3638, 'apt': 3639, 'dj': 3640, 'disposal': 3641, 'deadbody': 3642, 'collegiate': 3643, 'athome': 3644, 'angry': 3645, 'okeefe': 3646, 'ontheground': 3647, 'bailey': 3648, 'braided': 3649, 'beemari': 3650, 'xwife': 3651, 'butch': 3652, 'thanx': 3653, 'lifetstyle': 3654, 'porfa': 3655, 'proceed': 3656, 'motha': 3657, 'fucka': 3658, 'fsociety': 3659, 'mrrobot': 3660, 'booochet': 3661, 'jp': 3662, 'eugenics': 3663, 'sometimes': 3664, 'minding': 3665, 'semi': 3666, 'snacking': 3667, 'deff': 3668, 'forsee': 3669, 'reconcietised': 3670, 'dalgona': 3671, 'perfectly': 3672, 'dalgonacoffee': 3673, 'revolutionary': 3674, 'bagging': 3675, 'stark': 3676, 'murad': 3677, 'ali': 3678, 'shah': 3679, 'performance': 3680, 'polio': 3681, 'tarah': 3682, 'hocallme': 3683, 'hindustan': 3684, 'lower': 3685, 'beeitch': 3686, 'owes': 3687, 'jeffrey': 3688, 'dahmer': 3689, 'vital': 3690, 'sector': 3691, 'cease': 3692, 'illuminatti': 3693, 'stressful': 3694, 'clicking': 3695, 'dread': 3696, 'hated': 3697, 'advertising': 3698, 'oml': 3699, 'locustinvasion': 3700, 'bluntz': 3701, 'vioce': 3702, 'stake': 3703, 'selfishoelation': 3704, 'ignorant': 3705, 'missled': 3706, 'incompetent': 3707, 'razor': 3708, 'scooter': 3709, 'cavalier': 3710, 'unfettered': 3711, 'bhilwarahasbecomeaglobalrolemodelbybreakingthecovidchainwitheffortsmadebythestategovernment': 3712, 'asuma': 3713, 'digdigdig': 3714, 'fundsfundsfuns': 3715, 'remorse': 3716, 'dime': 3717, 'thisisaterriblegame': 3718, 'bloating': 3719, 'poisoning': 3720, 'ecommerce': 3721, 'curfewinindia': 3722, 'chopper': 3723, 'bumble': 3724, 'covidvirushawaii': 3725, 'qnd': 3726, 'sunset': 3727, 'childrentoo': 3728, 'climatechange': 3729, 'climatejustice': 3730, 'cometaatlas': 3731, 'meif': 3732, 'sleepim': 3733, 'uplifting': 3734, 'stabler': 3735, 'dundun': 3736, 'slightly': 3737, 'alarming': 3738, 'gwt': 3739, 'milemarket': 3740, 'labor': 3741, 'welfare': 3742, 'codvid': 3743, 'enit': 3744, 'cleaner': 3745, 'rupauls': 3746, 'finale': 3747, 'collectively': 3748, 'deviding': 3749, 'rightsbased': 3750, 'fails': 3751, 'reminderkanika': 3752, 'kanya': 3753, 'jehad': 3754, 'tablike': 3755, 'relizius': 3756, 'terurrist': 3757, 'cuomoeconomic': 3758, 'alexis': 3759, 'glick': 3760, 'financialthe': 3761, 'difficulty': 3762, 'rack': 3763, 'explored': 3764, 'fur': 3765, 'implementing': 3766, 'banning': 3767, 'sweetheart': 3768, 'atp': 3769, 'pl': 3770, 'needy': 3771, 'talked': 3772, 'tainted': 3773, 'toilette': 3774, 'sarcastic': 3775, 'employer': 3776, 'footed': 3777, 'greenday': 3778, 'saga': 3779, 'inject': 3780, 'implant': 3781, 'risked': 3782, 'warfare': 3783, 'ausstudy': 3784, 'qualify': 3785, 'fortnight': 3786, 'bent': 3787, 'bebe': 3788, 'granny': 3789, 'yer': 3790, 'twat': 3791, 'roaming': 3792, 'istandwithtabligijamat': 3793, 'islamophobicindianmedia': 3794, 'giliran': 3795, 'harga': 3796, 'hotel': 3797, 'murce': 3798, 'staycations': 3799, 'aing': 3800, 'canva': 3801, 'logo': 3802, 'covidpakistan': 3803, 'ulema': 3804, 'abide': 3805, 'lockdownpakisan': 3806, 'xavier': 3807, 'wulf': 3808, 'titan': 3809, 'tape': 3810, 'initial': 3811, 'pneumoni': 3812, 'easily': 3813, 'double': 3814, 'twang': 3815, 'puzo': 3816, 'tuning': 3817, 'decemberjanuary': 3818, 'peddling': 3819, 'untested': 3820, 'sickmore': 3821, 'complex': 3822, 'yup': 3823, 'ineptness': 3824, 'amaze': 3825, 'gu': 3826, 'hog': 3827, 'pennsylvania': 3828, 'jerusalem': 3829, 'gelfite': 3830, 'fish': 3831, 'outdo': 3832, 'idpol': 3833, 'ravaging': 3834, 'quitplayin': 3835, 'mentioned': 3836, 'infectious': 3837, 'sixfeet': 3838, 'joseph': 3839, 'lowery': 3840, 'fa': 3841, 'smelling': 3842, 'farther': 3843, 'nasa': 3844, 'checkout': 3845, 'quarantinefifteen': 3846, 'jobless': 3847, 'feku': 3848, 'amass': 3849, 'crore': 3850, 'pint': 3851, 'straw': 3852, 'everybodys': 3853, 'feelingsthat': 3854, 'purchasing': 3855, 'monkey': 3856, 'lovehate': 3857, 'staysave': 3858, 'crowded': 3859, 'cheaper': 3860, 'oilprice': 3861, 'oilpricewar': 3862, 'helicopter': 3863, 'los': 3864, 'angeles': 3865, 'q': 3866, 'urgency': 3867, 'restraint': 3868, 'oopsies': 3869, 'lakeland': 3870, 'requested': 3871, 'fouryearold': 3872, 'malayan': 3873, 'zoo': 3874, 'ea': 3875, 'squawk': 3876, 'roboinfo': 3877, 'robotex': 3878, 'funday': 3879, 'tarawihs': 3880, 'merry': 3881, 'singapore': 3882, 'magical': 3883, 'penalizing': 3884, 'shill': 3885, 'murderous': 3886, 'noggas': 3887, 'omo': 3888, 'duru': 3889, 'amand': 3890, 'sloth': 3891, 'slowpoll': 3892, 'aftermath': 3893, 'caleb': 3894, 'finn': 3895, 'installment': 3896, 'degenerate': 3897, 'fcked': 3898, 'mediagovt': 3899, 'plausibility': 3900, 'latex': 3901, 'shoutout': 3902, 'eli': 3903, 'lilly': 3904, 'complicated': 3905, 'thrown': 3906, 'itching': 3907, 'idek': 3908, 'gopdepravity': 3909, 'psalm': 3910, 'pb': 3911, 'prayforphilippines': 3912, 'jeff': 3913, 'grosso': 3914, 'rowdy': 3915, 'ariestaurus': 3916, 'gna': 3917, 'bitchin': 3918, 'ashesashesweallfalldown': 3919, 'quote': 3920, 'load': 3921, 'bollock': 3922, 'ally': 3923, 'nut': 3924, 'upa': 3925, 'threatened': 3926, 'politicizing': 3927, 'erupting': 3928, 'caldera': 3929, 'covidvirusmorethencasesinpakistandoctorsstrikeendnow': 3930, 'clowncosmo': 3931, 'antibodytest': 3932, 'randal': 3933, 'stephenson': 3934, 'ceo': 3935, 'johnsonjohnson': 3936, 'jnj': 3937, 'wsj': 3938, 'inasema': 3939, 'hakuna': 3940, 'haja': 3941, 'kutuumizawe': 3942, 'disorganized': 3943, 'existence': 3944, 'goodwill': 3945, 'waitin': 3946, 'airing': 3947, 'informative': 3948, 'joker': 3949, 'leasure': 3950, 'timemost': 3951, 'countryside': 3952, 'whatit': 3953, 'moop': 3954, 'skyzone': 3955, 'hangout': 3956, 'geekshmeek': 3957, 'todaycases': 3958, 'todaydeaths': 3959, 'encourage': 3960, 'cottage': 3961, 'goddess': 3962, 'draft': 3963, 'liberalslibrandu': 3964, 'secularsleftists': 3965, 'appeasement': 3966, 'erryday': 3967, 'obdurate': 3968, 'headless': 3969, 'bandaid': 3970, 'hysteria': 3971, 'pandemonic': 3972, 'catastropheim': 3973, 'turnaround': 3974, 'consists': 3975, 'nacho': 3976, 'juuls': 3977, 'introduced': 3978, 'weaken': 3979, 'susceptible': 3980, 'shaking': 3981, 'investbox': 3982, 'max': 3983, 'winnall': 3984, 'souvenir': 3985, 'branded': 3986, 'gajagaja': 3987, 'woulda': 3988, 'afraidterrified': 3989, 'worstpresidentever': 3990, 'norespectfordonaldtrump': 3991, 'backthnx': 3992, 'bred': 3993, 'relax': 3994, 'geostorm': 3995, 'yupi': 3996, 'lleg': 3997, 'abril': 3998, 'yael': 3999, 'manishma': 4000, 'binational': 4001, 'operation': 4002, 'itch': 4003, 'helpdr': 4004, 'kumaril': 4005, 'bei': 4006, 'rting': 4007, 'penguin': 4008, 'highkey': 4009, 'virtualcoaching': 4010, 'orifice': 4011, 'renaming': 4012, 'covidvirusinsa': 4013, 'gauteng': 4014, 'edging': 4015, 'raitt': 4016, 'angel': 4017, 'worrisome': 4018, 'arsehole': 4019, 'cycling': 4020, 'salthill': 4021, 'gobshites': 4022, 'wishlist': 4023, 'godi': 4024, 'mediathey': 4025, 'ge': 4026, 'hongkong': 4027, 'tragic': 4028, 'smfh': 4029, 'commentary': 4030, 'covidkodhona': 4031, 'cuddle': 4032, 'encounterpass': 4033, 'domestic': 4034, 'abuse': 4035, 'cabinet': 4036, 'pooped': 4037, 'pot': 4038, 'hantavirus': 4039, 'indiatrustspmmodi': 4040, 'indiafightscovidvirus': 4041, 'mock': 4042, 'truthers': 4043, 'recognize': 4044, 'depends': 4045, 'spitroasted': 4046, 'justsad': 4047, 'redicetv': 4048, 'adrenaline': 4049, 'pickle': 4050, 'ar': 4051, 'zendaya': 4052, 'simps': 4053, 'tiktoks': 4054, 'squad': 4055, 'concentration': 4056, 'nipsey': 4057, 'dre': 4058, 'boyfie': 4059, 'annoyingly': 4060, 'listing': 4061, 'imapcts': 4062, 'hosted': 4063, 'ahmm': 4064, 'covidph': 4065, 'membersofthepresswtf': 4066, 'voteblue': 4067, 'ffr': 4068, 'shipping': 4069, 'continued': 4070, 'bache': 4071, 'gar': 4072, 'harana': 4073, 'inb': 4074, 'diagnosis': 4075, 'jam': 4076, 'onna': 4077, 'xray': 4078, 'jeez': 4079, 'willingly': 4080, 'toughened': 4081, 'hw': 4082, 'jones': 4083, 'blend': 4084, 'zinc': 4085, 'fecesand': 4086, 'jokeshell': 4087, 'traction': 4088, 'nagpositive': 4089, 'bald': 4090, 'piped': 4091, 'unstoppable': 4092, 'development': 4093, 'winch': 4094, 'tracker': 4095, 'indefinite': 4096, 'hahhah': 4097, 'layer': 4098, 'fodder': 4099, 'improve': 4100, 'moved': 4101, 'boarder': 4102, 'delta': 4103, 'bannon': 4104, 'stephen': 4105, 'ludhiana': 4106, 'covidupdatespunjab': 4107, 'outright': 4108, 'psychopathy': 4109, 'bezos': 4110, 'horribly': 4111, 'english': 4112, 'detected': 4113, 'nrcthanks': 4114, 'circus': 4115, 'np': 4116, 'cardiac': 4117, 'madison': 4118, 'slightest': 4119, 'colombia': 4120, 'siege': 4121, 'savegazafromcovid': 4122, 'siegeisepidemic': 4123, 'fist': 4124, 'formal': 4125, 'beard': 4126, 'gang': 4127, 'spill': 4128, 'investment': 4129, 'supermarket': 4130, 'youtubers': 4131, 'tribulation': 4132, 'wednesdaywisdom': 4133, 'jesussaves': 4134, 'visuals': 4135, 'ja': 4136, 'wristwatch': 4137, 'pinpoint': 4138, 'amazon': 4139, 'brake': 4140, 'greedy': 4141, 'mofo': 4142, 'mlb': 4143, 'suspending': 4144, 'chuckie': 4145, 'sou': 4146, 'preorder': 4147, 'beta': 4148, 'pours': 4149, 'whiskey': 4150, 'nimble': 4151, 'comparison': 4152, 'blockhead': 4153, 'victoria': 4154, 'predicting': 4155, 'controlled': 4156, 'negligence': 4157, 'extending': 4158, 'covidcanada': 4159, 'covidbc': 4160, 'covidcrisis': 4161, 'sobers': 4162, 'revisit': 4163, 'tunapanga': 4164, 'minus': 4165, 'purge': 4166, 'tempting': 4167, 'tio': 4168, 'aspen': 4169, 'yeet': 4170, 'cookout': 4171, 'shid': 4172, 'laboratory': 4173, 'deleted': 4174, 'millenial': 4175, 'destroyed': 4176, 'harm': 4177, 'previously': 4178, 'senioryearsucks': 4179, 'selfisolating': 4180, 'musician': 4181, 'smug': 4182, 'pangolin': 4183, 'jokehaha': 4184, 'infestation': 4185, 'disappearing': 4186, 'govjustice': 4187, 'commanderinchief': 4188, 'deathnote': 4189, 'hmmmmmm': 4190, 'expectorating': 4191, 'cyclist': 4192, 'parkville': 4193, 'covidera': 4194, 'laylay': 4195, 'sanitizing': 4196, 'mentor': 4197, 'prouder': 4198, 'calendar': 4199, 'oooo': 4200, 'kilode': 4201, 'graduating': 4202, 'onto': 4203, 'lebanon': 4204, 'wipeout': 4205, 'homepage': 4206, 'losangeles': 4207, 'dusty': 4208, 'wildin': 4209, 'colitaderana': 4210, 'barista': 4211, 'instant': 4212, 'referencing': 4213, 'xyz': 4214, 'mccain': 4215, 'spiderman': 4216, 'verifies': 4217, 'blockchain': 4218, 'verification': 4219, 'poorly': 4220, 'ayt': 4221, 'fuckhead': 4222, 'rosehill': 4223, 'abandoned': 4224, 'heavy': 4225, 'theeylon': 4226, 'contributed': 4227, 'giveth': 4228, 'grantsgivethdecentralizingnonprofitswithcovidco': 4229, 'vomit': 4230, 'egypt': 4231, 'nighttime': 4232, 'counter': 4233, 'alarabiya': 4234, 'newsguru': 4235, 'chemo': 4236, 'chair': 4237, 'daretobe': 4238, 'lautoka': 4239, 'steven': 4240, 'covidinmaharashtra': 4241, 'airborne': 4242, 'chowder': 4243, 'hillsong': 4244, 'spotted': 4245, 'grasshopper': 4246, 'nooo': 4247, 'yikes': 4248, 'horseman': 4249, 'unleashes': 4250, 'settled': 4251, 'eeewww': 4252, 'taimur': 4253, 'chaar': 4254, 'chavanni': 4255, 'ghode': 4256, 'lowde': 4257, 'housing': 4258, 'moratorium': 4259, 'guided': 4260, 'rbi': 4261, 'ariana': 4262, 'grande': 4263, 'hilang': 4264, 'unit': 4265, 'notsosmalloneits': 4266, 'anchor': 4267, 'speaks': 4268, 'gm': 4269, 'potensh': 4270, 'imo': 4271, 'bayfront': 4272, 'rationalizing': 4273, 'absurd': 4274, 'goverment': 4275, 'maintains': 4276, 'presidency': 4277, 'lightening': 4278, 'ayamase': 4279, 'yam': 4280, 'xrp': 4281, 'facebooklive': 4282, 'twitch': 4283, 'loveisblind': 4284, 'claimed': 4285, 'allied': 4286, 'dday': 4287, 'granddad': 4288, 'separate': 4289, 'trans': 4290, 'invisible': 4291, 'unfair': 4292, 'mourning': 4293, 'shimura': 4294, 'ken': 4295, 'minimize': 4296, 'radiologist': 4297, 'exposure': 4298, 'dimiss': 4299, 'municipality': 4300, 'madera': 4301, 'mg': 4302, 'physio': 4303, 'controlling': 4304, 'maturityyou': 4305, 'stayhomeknowgh': 4306, 'mafia': 4307, 'theschemehbo': 4308, 'discover': 4309, 'lewl': 4310, 'gold': 4311, 'modernwarfare': 4312, 'nawaooo': 4313, 'madman': 4314, 'bhubaneswar': 4315, 'conduct': 4316, 'nod': 4317, 'yings': 4318, 'cheektowagan': 4319, 'secular': 4320, 'jamaats': 4321, 'mischief': 4322, 'communalising': 4323, 'messenger': 4324, 'headspace': 4325, 'frustration': 4326, 'overheard': 4327, 'angrier': 4328, 'disla': 4329, 'wanpla': 4330, 'kkk': 4331, 'stret': 4332, 'bein': 4333, 'jokespranks': 4334, 'unveiled': 4335, 'islamicarewa': 4336, 'noise': 4337, 'wahala': 4338, 'basic': 4339, 'nikah': 4340, 'walimah': 4341, 'nsa': 4342, 'edge': 4343, 'precautionary': 4344, 'modis': 4345, 'sneezed': 4346, 'thumped': 4347, 'shocked': 4348, 'enforced': 4349, 'visionary': 4350, 'educator': 4351, 'okaaay': 4352, 'politicise': 4353, 'bbg': 4354, 'cheat': 4355, 'married': 4356, 'kiddos': 4357, 'recommend': 4358, 'kidstogether': 4359, 'noticing': 4360, 'pton': 4361, 'indy': 4362, 'omfg': 4363, 'quoted': 4364, 'morgue': 4365, 'itsreal': 4366, 'texting': 4367, 'kgb': 4368, 'alarmism': 4369, 'savage': 4370, 'supalonely': 4371, 'newzealand': 4372, 'ccpvirus': 4373, 'orchestrating': 4374, 'bounce': 4375, 'yahoo': 4376, 'bismillah': 4377, 'sounding': 4378, 'benefit': 4379, 'socialmediadistancing': 4380, 'dnt': 4381, 'tg': 4382, 'investing': 4383, 'boat': 4384, 'ocean': 4385, 'bearing': 4386, 'extent': 4387, 'serial': 4388, 'muppets': 4389, 'lanez': 4390, 'vicks': 4391, 'vaporub': 4392, 'oman': 4393, 'pardon': 4394, 'foreigner': 4395, 'positiveapril': 4396, 'rofl': 4397, 'peoplenow': 4398, 'rly': 4399, 'tree': 4400, 'resolve': 4401, 'gaddar': 4402, 'profession': 4403, 'bwood': 4404, 'cricketer': 4405, 'yeh': 4406, 'dt': 4407, 'babawi': 4408, 'kami': 4409, 'cr': 4410, 'allotted': 4411, 'npr': 4412, 'divert': 4413, 'autistic': 4414, 'godspeed': 4415, 'hotl': 4416, 'thesis': 4417, 'craaayy': 4418, 'chans': 4419, 'sjdksk': 4420, 'ratingshound': 4421, 'revel': 4422, 'ihy': 4423, 'avoidant': 4424, 'wks': 4425, 'fckin': 4426, 'himmmmmm': 4427, 'disrespect': 4428, 'intended': 4429, 'melinda': 4430, 'setting': 4431, 'disregard': 4432, 'bloodbath': 4433, 'alhamdulilah': 4434, 'mercy': 4435, 'ugandan': 4436, 'nowmofa': 4437, 'mugoya': 4438, 'covidug': 4439, 'sufjan': 4440, 'stevens': 4441, 'moody': 4442, 'electronic': 4443, 'instrumental': 4444, 'haaayman': 4445, 'saluate': 4446, 'bharat': 4447, 'royce': 4448, 'hence': 4449, 'punishing': 4450, 'bullying': 4451, 'fog': 4452, 'choosingstupidity': 4453, 'filming': 4454, 'stranger': 4455, 'fuming': 4456, 'tableeghijamaat': 4457, 'dissent': 4458, 'concerning': 4459, 'privilege': 4460, 'marijuana': 4461, 'lmfaooooo': 4462, 'oomf': 4463, 'bachelor': 4464, 'magnitude': 4465, 'swedish': 4466, 'epidemiologist': 4467, 'standard': 4468, 'fuccking': 4469, 'kg': 4470, 'chili': 4471, 'hinduism': 4472, 'tuh': 4473, 'familiar': 4474, 'hospitalized': 4475, 'hugged': 4476, 'madame': 4477, 'pierced': 4478, 'breakingnews': 4479, 'kuna': 4480, 'kuwait': 4481, 'mt': 4482, 'crawfish': 4483, 'bam': 4484, 'commie': 4485, 'kungflu': 4486, 'msnbc': 4487, 'genghis': 4488, 'trumplegacy': 4489, 'countriesthis': 4490, 'arrivalofimammahdi': 4491, 'icymi': 4492, 'hasta': 4493, 'gikuhaan': 4494, 'gihimong': 4495, 'pyramid': 4496, 'scheme': 4497, 'casulaties': 4498, 'presidential': 4499, 'imwithher': 4500, 'signing': 4501, 'cactus': 4502, 'split': 4503, 'maaaaan': 4504, 'flowin': 4505, 'knocking': 4506, 'feature': 4507, 'somn': 4508, 'newmusic': 4509, 'hiphop': 4510, 'musket': 4511, 'microscope': 4512, 'mathematician': 4513, 'pulmonary': 4514, 'hypertension': 4515, 'yippee': 4516, 'captioning': 4517, 'insane': 4518, 'mutahi': 4519, 'kagwe': 4520, 'aggravating': 4521, 'evolve': 4522, 'unt': 4523, 'accommodating': 4524, 'boob': 4525, 'worsen': 4526, 'southkorea': 4527, 'afterisolation': 4528, 'covidsl': 4529, 'recored': 4530, 'yknow': 4531, 'spectacular': 4532, 'artofthepossible': 4533, 'overapril': 4534, 'tmo': 4535, 'beast': 4536, 'schoolhighschool': 4537, 'disproportionate': 4538, 'onision': 4539, 'stockholm': 4540, 'circadian': 4541, 'board': 4542, 'easterntime': 4543, 'magwinya': 4544, 'fooolllssssss': 4545, 'sleeve': 4546, 'rolled': 4547, 'happennow': 4548, 'visited': 4549, 'phoenixmall': 4550, 'solved': 4551, 'corone': 4552, 'overload': 4553, 'celeb': 4554, 'quarantina': 4555, 'kwarantina': 4556, 'overunder': 4557, 'unfunniest': 4558, 'jarring': 4559, 'addiction': 4560, 'usaid': 4561, 'glovesandmasks': 4562, 'construction': 4563, 'usmexico': 4564, 'proceeds': 4565, 'nowbut': 4566, 'againgirl': 4567, 'swiveling': 4568, 'communalize': 4569, 'patiently': 4570, 'yehtohonahitha': 4571, 'ranchi': 4572, 'upstairs': 4573, 'amateur': 4574, 'pinhead': 4575, 'author': 4576, 'epicentre': 4577, 'marghat': 4578, 'entering': 4579, 'navarro': 4580, 'jaejoongisoverparty': 4581, 'tipping': 4582, 'motherfvcker': 4583, 'herodoing': 4584, 'healthyindia': 4585, 'yelling': 4586, 'fatherofthree': 4587, 'cashapp': 4588, 'paypal': 4589, 'soccer': 4590, 'frick': 4591, 'modimadedisaster': 4592, 'passthedutchie': 4593, 'escalate': 4594, 'rank': 4595, 'mumbai': 4596, 'wary': 4597, 'infrastructure': 4598, 'exhibit': 4599, 'horen': 4600, 'overal': 4601, 'wereld': 4602, 'yolanda': 4603, 'saldivar': 4604, 'paroled': 4605, 'anythingforselenas': 4606, 'ruth': 4607, 'bader': 4608, 'ginsburg': 4609, 'belmonte': 4610, 'literal': 4611, 'plce': 4612, 'tickling': 4613, 'depend': 4614, 'ese': 4615, 'departamento': 4616, 'estamos': 4617, 'pin': 4618, 'warrior': 4619, 'supreme': 4620, 'court': 4621, 'corner': 4622, 'motivational': 4623, 'wih': 4624, 'wipin': 4625, 'wage': 4626, 'subsidy': 4627, 'uttar': 4628, 'srinagar': 4629, 'fortunate': 4630, 'pawty': 4631, 'residue': 4632, 'knw': 4633, 'hed': 4634, 'cannnnnot': 4635, 'parsing': 4636, 'txlege': 4637, 'leadershipmatters': 4638, 'sequel': 4639, 'itjk': 4640, 'required': 4641, 'listens': 4642, 'misconduct': 4643, 'nga': 4644, 'uy': 4645, 'distasteful': 4646, 'paralysis': 4647, 'demon': 4648, 'mandirs': 4649, 'chakkar': 4650, 'ashtmi': 4651, 'chorde': 4652, 'durgaashtami': 4653, 'dislike': 4654, 'ngo': 4655, 'indianprimeminister': 4656, 'impermanent': 4657, 'dharma': 4658, 'trey': 4659, 'forgetting': 4660, 'lyric': 4661, 'thier': 4662, 'satanic': 4663, 'flee': 4664, 'americaand': 4665, 'staythefuckhome': 4666, 'husbandweve': 4667, 'bust': 4668, 'autocorrect': 4669, 'vivid': 4670, 'idiocy': 4671, 'worldwell': 4672, 'isolatetogether': 4673, 'hat': 4674, 'regret': 4675, 'selfquarantine': 4676, 'covidvirussike': 4677, 'tone': 4678, 'bleeding': 4679, 'koi': 4680, 'khel': 4681, 'nehi': 4682, 'musibat': 4683, 'likabih': 4684, 'whateva': 4685, 'followin': 4686, 'orleans': 4687, 'trinidad': 4688, 'baii': 4689, 'goooo': 4690, 'cayman': 4691, 'statsconfirmed': 4692, 'restezchezvous': 4693, 'sixteenth': 4694, 'consecutive': 4695, 'training': 4696, 'weekscovid': 4697, 'coroner': 4698, 'lockdownwithblacklove': 4699, 'losingmymind': 4700, 'pix': 4701, 'increasingly': 4702, 'outofseason': 4703, 'corn': 4704, 'ti': 4705, 'gbo': 4706, 'newsnight': 4707, 'pasta': 4708, 'lunch': 4709, 'yum': 4710, 'driveinvoting': 4711, 'audio': 4712, 'woth': 4713, 'killling': 4714, 'ppls': 4715, 'turkish': 4716, 'aircraft': 4717, 'departs': 4718, 'wrenching': 4719, 'christcuomo': 4720, 'fuckcotonavirus': 4721, 'covidviruspandemicusa': 4722, 'impressive': 4723, 'feat': 4724, 'ramped': 4725, 'heavenly': 4726, 'dibated': 4727, 'ragular': 4728, 'intarest': 4729, 'sutdown': 4730, 'pnb': 4731, 'elementary': 4732, 'sliding': 4733, 'prop': 4734, 'motherfucking': 4735, 'br': 4736, 'skorea': 4737, 'bryant': 4738, 'bbl': 4739, 'defeated': 4740, 'collective': 4741, 'slutshame': 4742, 'appeared': 4743, 'undercover': 4744, 'jehovah': 4745, 'reveluvs': 4746, 'koream': 4747, 'daniel': 4748, 'filmingbc': 4749, 'obo': 4750, 'zenith': 4751, 'inherit': 4752, 'farcical': 4753, 'gaumutra': 4754, 'communalizing': 4755, 'stray': 4756, 'detainee': 4757, 'sibling': 4758, 'spark': 4759, 'ed': 4760, 'americaworkstogether': 4761, 'jolly': 4762, 'recipe': 4763, 'anthem': 4764, 'jin': 4765, 'jokeeee': 4766, 'marah': 4767, 'marahhh': 4768, 'trusting': 4769, 'antivax': 4770, 'cognitive': 4771, 'dissonance': 4772, 'derrick': 4773, 'hurted': 4774, 'scaremonger': 4775, 'spelling': 4776, 'marshal': 4777, 'literacy': 4778, 'assumption': 4779, 'dreaming': 4780, 'gaf': 4781, 'tent': 4782, 'figuring': 4783, 'illtimed': 4784, 'shey': 4785, 'bayii': 4786, 'circulating': 4787, 'whatsup': 4788, 'wetin': 4789, 'lag': 4790, 'purple': 4791, 'catalyst': 4792, 'telemedicine': 4793, 'nephrology': 4794, 'hcldr': 4795, 'upsetting': 4796, 'resistance': 4797, 'boycotthobbylobby': 4798, 'reopening': 4799, 'onlyfans': 4800, 'bihh': 4801, 'zante': 4802, 'preferred': 4803, 'surgeon': 4804, 'coastcoast': 4805, 'concentrate': 4806, 'boogie': 4807, 'stayathomestaysafe': 4808, 'covidnigeria': 4809, 'cnnturk': 4810, 'soar': 4811, 'pirate': 4812, 'executed': 4813, 'liquidity': 4814, 'financing': 4815, 'alcoholic': 4816, 'rollout': 4817, 'lola': 4818, 'septum': 4819, 'contracting': 4820, 'coro': 4821, 'weedle': 4822, 'portrait': 4823, 'painted': 4824, 'mural': 4825, 'tweakin': 4826, 'liesuper': 4827, 'impresscovid': 4828, 'soiled': 4829, 'gush': 4830, 'desperately': 4831, 'bozo': 4832, 'paramedic': 4833, 'structure': 4834, 'outlast': 4835, 'mannn': 4836, 'distracted': 4837, 'nono': 4838, 'alien': 4839, 'wereallbatshit': 4840, 'whereisallthetoiletpaper': 4841, 'screenshots': 4842, 'aur': 4843, 'ek': 4844, 'chapter': 4845, 'pussiesid': 4846, 'qantas': 4847, 'baggage': 4848, 'handler': 4849, 'adelaide': 4850, 'bruhwtflmao': 4851, 'budapest': 4852, 'allcant': 4853, 'hoop': 4854, 'ismael': 4855, 'curious': 4856, 'lockdownstayathome': 4857, 'corna': 4858, 'intro': 4859, 'walle': 4860, 'televangelist': 4861, 'vince': 4862, 'mcmahon': 4863, 'puppet': 4864, 'firefly': 4865, 'funhouse': 4866, 'british': 4867, 'schewpid': 4868, 'innit': 4869, 'venture': 4870, 'scapegoat': 4871, 'listed': 4872, 'renting': 4873, 'exemption': 4874, 'citing': 4875, 'somethin': 4876, 'orgs': 4877, 'tenant': 4878, 'extreme': 4879, 'intricate': 4880, 'con': 4881, 'ploy': 4882, 'peyton': 4883, 'manning': 4884, 'unleashing': 4885, 'certification': 4886, 'bnb': 4887, 'floyd': 4888, 'pinkfloyd': 4889, 'outofstresslevels': 4890, 'orrrr': 4891, 'arriving': 4892, 'ravaged': 4893, 'bother': 4894, 'opinion': 4895, 'har': 4896, 'cheez': 4897, 'dene': 4898, 'wali': 4899, 'diya': 4900, 'derek': 4901, 'acorah': 4902, 'shuffled': 4903, 'congressman': 4904, 'deploys': 4905, 'idris': 4906, 'dyin': 4907, 'uttarpradesh': 4908, 'baaaby': 4909, 'steal': 4910, 'sheet': 4911, 'initiative': 4912, 'constituent': 4913, 'bkt': 4914, 'sweetie': 4915, 'ppeshortage': 4916, 'eight': 4917, 'additional': 4918, 'trumpmcconnell': 4919, 'culpability': 4920, 'lewis': 4921, 'furious': 4922, 'dependent': 4923, 'proclaimed': 4924, 'meal': 4925, 'seagull': 4926, 'qt': 4927, 'cinema': 4928, 'extravert': 4929, 'recharge': 4930, 'inchallah': 4931, 'sexily': 4932, 'echolocation': 4933, 'medicin': 4934, 'cuomos': 4935, 'lmk': 4936, 'jamshedpur': 4937, 'boycottcnn': 4938, 'web': 4939, 'rediscover': 4940, 'math': 4941, 'cremation': 4942, 'compulsory': 4943, 'thereispattern': 4944, 'holy': 4945, 'covidpocolypse': 4946, 'operator': 4947, 'vechiles': 4948, 'servicesask': 4949, 'pornhub': 4950, 'masterbation': 4951, 'newyork': 4952, 'iny': 4953, 'massacre': 4954, 'trumpknew': 4955, 'cooped': 4956, 'millionairebillionaire': 4957, 'communication': 4958, 'reggae': 4959, 'cloud': 4960, 'aftercovidparty': 4961, 'quicker': 4962, 'secure': 4963, 'wellsfargo': 4964, 'civilian': 4965, 'mitis': 4966, 'viruswho': 4967, 'profitthey': 4968, 'groove': 4969, 'obamadoesntcare': 4970, 'widespread': 4971, 'usage': 4972, 'singaporesouth': 4973, 'koreajapanhong': 4974, 'audition': 4975, 'perform': 4976, 'cull': 4977, 'medicare': 4978, 'recipient': 4979, 'aigoo': 4980, 'corruption': 4981, 'noon': 4982, 'copenhagen': 4983, 'posed': 4984, 'identified': 4985, 'chinarussia': 4986, 'underway': 4987, 'sneaking': 4988, 'reggie': 4989, 'brutalized': 4990, 'saynotocurfew': 4991, 'terrifies': 4992, 'brings': 4993, 'bolt': 4994, 'price': 4995, 'anaa': 4996, 'erh': 4997, 'exaggerating': 4998, 'supplied': 4999, 'citizenship': 5000, 'drmario': 5001, 'covis': 5002, 'getcha': 5003, 'youknowwhere': 5004, 'shortness': 5005, 'fomo': 5006, 'finanstwitter': 5007, 'museum': 5008, 'supported': 5009, 'inthe': 5010, 'nadler': 5011, 'retire': 5012, 'jumpstart': 5013, 'pataverns': 5014, 'inspiring': 5015, 'devoted': 5016, 'robin': 5017, 'ajitdoval': 5018, 'invent': 5019, 'bitter': 5020, 'babymom': 5021, 'typs': 5022, 'previous': 5023, 'recent': 5024, 'locust': 5025, 'purpose': 5026, 'grey': 5027, 'shorter': 5028, 'ipl': 5029, 'organization': 5030, 'heera': 5031, 'baa': 5032, 'debacle': 5033, 'criticising': 5034, 'halfies': 5035, 'castiron': 5036, 'governance': 5037, 'sabko': 5038, 'shamshan': 5039, 'pahuchayegi': 5040, 'btsartmy': 5041, 'coolskooloutnow': 5042, 'facemask': 5043, 'somegoodnews': 5044, 'leoseasoniscoming': 5045, 'fajr': 5046, 'duas': 5047, 'msm': 5048, 'filmyourhospital': 5049, 'mehdi': 5050, 'connecticut': 5051, 'grace': 5052, 'mortgage': 5053, 'ensure': 5054, 'slack': 5055, 'mister': 5056, 'fiend': 5057, 'equipment': 5058, 'scotty': 5059, 'ski': 5060, 'questionoftheday': 5061, 'puppy': 5062, 'reliance': 5063, 'foster': 5064, 'viruscovid': 5065, 'deduct': 5066, 'resolution': 5067, 'android': 5068, 'holed': 5069, 'prankokay': 5070, 'offender': 5071, 'explanatory': 5072, 'kfc': 5073, 'crave': 5074, 'vaxers': 5075, 'looming': 5076, 'eradicated': 5077, 'minimal': 5078, 'dailyand': 5079, 'sob': 5080, 'dome': 5081, 'stressing': 5082, 'housewarming': 5083, 'et': 5084, 'association': 5085, 'burst': 5086, 'entrepreneurship': 5087, 'romaine': 5088, 'newswire': 5089, 'chaina': 5090, 'fightagainstcovid': 5091, 'unlike': 5092, 'swamys': 5093, 'confined': 5094, 'sexy': 5095, 'kevin': 5096, 'durant': 5097, 'victorville': 5098, 'chew': 5099, 'solitary': 5100, 'nonhumans': 5101, 'dimple': 5102, 'denying': 5103, 'eaten': 5104, 'chinex': 5105, 'argh': 5106, 'happly': 5107, 'leo': 5108, 'redick': 5109, 'replayed': 5110, 'rators': 5111, 'vacationing': 5112, 'scandinavia': 5113, 'piercing': 5114, 'nipple': 5115, 'necessarily': 5116, 'happing': 5117, 'deflect': 5118, 'salockdown': 5119, 'vinegar': 5120, 'shortie': 5121, 'saheen': 5122, 'bagh': 5123, 'funded': 5124, 'simi': 5125, 'utah': 5126, 'jazz': 5127, 'attached': 5128, 'nizamudin': 5129, 'gatheringcovid': 5130, 'hosting': 5131, 'offensive': 5132, 'obsessively': 5133, 'mostly': 5134, 'nov': 5135, 'royal': 5136, 'russell': 5137, 'creek': 5138, 'lumber': 5139, 'mill': 5140, 'josephine': 5141, 'oregon': 5142, 'deathly': 5143, 'devn': 5144, 'ambition': 5145, 'nepa': 5146, 'circulated': 5147, 'heb': 5148, 'adeyemi': 5149, 'itfc': 5150, 'plugged': 5151, 'ethernet': 5152, 'ping': 5153, 'teeth': 5154, 'skin': 5155, 'hammy': 5156, 'asteroid': 5157, 'ope': 5158, 'fi': 5159, 'felling': 5160, 'accomplishedgot': 5161, 'dressed': 5162, 'retiredlife': 5163, 'scrumptious': 5164, 'parade': 5165, 'so': 5166, 'trended': 5167, 'kii': 5168, 'pesin': 5169, 'shape': 5170, 'abiansstayathome': 5171, 'acknowledged': 5172, 'classmate': 5173, 'covidvirusproof': 5174, 'reversed': 5175, 'hitler': 5176, 'yasser': 5177, 'alhazimi': 5178, 'sewing': 5179, 'bandana': 5180, 'metaphor': 5181, 'simile': 5182, 'karantina': 5183, 'diri': 5184, 'sendiri': 5185, 'beijing': 5186, 'closeby': 5187, 'cruel': 5188, 'hornyvirus': 5189, 'reminiscing': 5190, 'station': 5191, 'navajonation': 5192, 'nativetwitter': 5193, 'jeffpulver': 5194, 'jessemckinley': 5195, 'nygovcuomo': 5196, 'unity': 5197, 'dynamo': 5198, 'validation': 5199, 'farm': 5200, 'plannedemic': 5201, 'ionlikedat': 5202, 'exhausted': 5203, 'celentra': 5204, 'cornelwest': 5205, 'loop': 5206, 'sooooooo': 5207, 'invite': 5208, 'tw': 5209, 'interrupt': 5210, 'emmett': 5211, 'toiletpapercrisis': 5212, 'mwaaah': 5213, 'snatch': 5214, 'fuckn': 5215, 'shove': 5216, 'brand': 5217, 'honor': 5218, 'babyfather': 5219, 'greatly': 5220, 'blacklist': 5221, 'reddington': 5222, 'casually': 5223, 'kennedy': 5224, 'coworkers': 5225, 'alyssas': 5226, 'enact': 5227, 'statewide': 5228, 'stern': 5229, 'constantly': 5230, 'emerge': 5231, 'emerging': 5232, 'prophesied': 5233, 'gonedead': 5234, 'rogan': 5235, 'coast': 5236, 'lockdownnigeria': 5237, 'edit': 5238, 'spongebob': 5239, 'featuring': 5240, 'prep': 5241, 'bracket': 5242, 'racialjustice': 5243, 'lens': 5244, 'philanthropy': 5245, 'nonprofit': 5246, 'truthful': 5247, 'bedford': 5248, 'mahasabha': 5249, 'accountant': 5250, 'federation': 5251, 'abuja': 5252, 'thumping': 5253, 'ptv': 5254, 'uwi': 5255, 'afro': 5256, 'rome': 5257, 'london': 5258, 'iceland': 5259, 'bali': 5260, 'phuket': 5261, 'workin': 5262, 'aftershock': 5263, 'prefer': 5264, 'touchdown': 5265, 'invoked': 5266, 'moroninchief': 5267, 'fakeschool': 5268, 'relenting': 5269, 'appb': 5270, 'pennystock': 5271, 'breakout': 5272, 'chineseviruscovid': 5273, 'ilamic': 5274, 'irresponsibility': 5275, 'outrageous': 5276, 'dutton': 5277, 'covidvirusshy': 5278, 'candy': 5279, 'docovid': 5280, 'brighter': 5281, 'cad': 5282, 'similarly': 5283, 'genome': 5284, 'chineseexpert': 5285, 'kamran': 5286, 'azim': 5287, 'floating': 5288, 'blowjob': 5289, 'clinton': 5290, 'bappin': 5291, 'rare': 5292, 'lmfaoo': 5293, 'skimmed': 5294, 'hsdgsdfghsfh': 5295, 'nightly': 5296, 'edited': 5297, 'assembling': 5298, 'strategic': 5299, 'stockpile': 5300, 'seh': 5301, 'cancelledso': 5302, 'unnu': 5303, 'nuh': 5304, 'badda': 5305, 'foolishness': 5306, 'augustine': 5307, 'durban': 5308, 'deliberate': 5309, 'invistigated': 5310, 'weaponhow': 5311, 'washedup': 5312, 'lucifer': 5313, 'hank': 5314, 'blehs': 5315, 'betcha': 5316, 'methamphetamine': 5317, 'dinald': 5318, 'bikini': 5319, 't': 5320, 'exnyc': 5321, 'newspaper': 5322, 'delight': 5323, 'publishing': 5324, 'srry': 5325, 'rooftop': 5326, 'ahhh': 5327, 'coded': 5328, 'hinge': 5329, 'somemany': 5330, 'raymond': 5331, 'quarentinelife': 5332, 'requirement': 5333, 'recovers': 5334, 'factored': 5335, 'refers': 5336, 'cabrona': 5337, 'answering': 5338, 'perk': 5339, 'jewish': 5340, 'passover': 5341, 'favourite': 5342, 'denna': 5343, 'yday': 5344, 'garri': 5345, 'virusaside': 5346, 'uswe': 5347, 'crackin': 5348, 'smother': 5349, 'mypillowguy': 5350, 'quotecomment': 5351, 'avalanche': 5352, 'begin': 5353, 'pacer': 5354, 'equal': 5355, 'consent': 5356, 'surveillance': 5357, 'hulu': 5358, 'lethargic': 5359, 'hawaiian': 5360, 'cleanhouse': 5361, 'laundry': 5362, 'comedy': 5363, 'fruit': 5364, 'paano': 5365, 'ang': 5366, 'tamang': 5367, 'pag': 5368, 'ng': 5369, 'amelioration': 5370, 'wehealasone': 5371, 'dswd': 5372, 'gona': 5373, 'tithe': 5374, 'shaaaa': 5375, 'torture': 5376, 'nugget': 5377, 'sofia': 5378, 'holocaust': 5379, 'shawty': 5380, 'solidarity': 5381, 'fate': 5382, 'pendeja': 5383, 'eastern': 5384, 'positivetweetskarona': 5385, 'magically': 5386, 'ounce': 5387, 'covidmds': 5388, 'covidnurses': 5389, 'massachusetts': 5390, 'gear': 5391, 'chulbuli': 5392, 'salman': 5393, 'silently': 5394, 'slept': 5395, 'aasarm': 5396, 'baapu': 5397, 'jodhpur': 5398, 'comedian': 5399, 'hellogood': 5400, 'tukubuke': 5401, 'kusanitize': 5402, 'coviding': 5403, 'litttt': 5404, 'realistically': 5405, 'cuter': 5406, 'bible': 5407, 'bun': 5408, 'yessirrrrr': 5409, 'welas': 5410, 'fc': 5411, 'replaces': 5412, 'haraa': 5413, 'chuka': 5414, 'himher': 5415, 'thannggg': 5416, 'cookin': 5417, 'covidlime': 5418, 'ayecovid': 5419, 'arnt': 5420, 'inaction': 5421, 'cononavirus': 5422, 'covidots': 5423, 'dumber': 5424, 'relaxing': 5425, 'focusing': 5426, 'meditation': 5427, 'yoga': 5428, 'virusbut': 5429, 'rapture': 5430, 'punk': 5431, 'persistent': 5432, 'infectionprevention': 5433, 'bmt': 5434, 'tfl': 5435, 'crumble': 5436, 'communicate': 5437, 'ditch': 5438, 'boast': 5439, 'phased': 5440, 'screenshot': 5441, 'justsaying': 5442, 'havin': 5443, 'dammmn': 5444, 'tm': 5445, 'unexpected': 5446, 'sink': 5447, 'aaaand': 5448, 'confess': 5449, 'quarantinequarantine': 5450, 'wax': 5451, 'globalaist': 5452, 'gooooooooooo': 5453, 'boycottmuslims': 5454, 'timeneeds': 5455, 'simplytired': 5456, 'tearing': 5457, 'particularly': 5458, 'reveled': 5459, 'orunmila': 5460, 'ooni': 5461, 'drawn': 5462, 'elpaso': 5463, 'kimberly': 5464, 'remotework': 5465, 'vape': 5466, 'rishi': 5467, 'sunak': 5468, 'accomplishing': 5469, 'cringing': 5470, 'uneccesary': 5471, 'discovery': 5472, 'happynewmonth': 5473, 'mardi': 5474, 'paris': 5475, 'kneecap': 5476, 'fia': 5477, 'germanaustria': 5478, 'ticketmaster': 5479, 'lmfaooooooo': 5480, 'sturgeon': 5481, 'scottish': 5482, 'hide': 5483, 'alcoholism': 5484, 'covidvirusunit': 5485, 'com': 5486, 'indvspak': 5487, 'wea': 5488, 'revolve': 5489, 'connect': 5490, 'fined': 5491, 'heavily': 5492, 'gaia': 5493, 'karunago': 5494, 'treated': 5495, 'brd': 5496, 'gorakhpur': 5497, 'native': 5498, 'basti': 5499, 'restart': 5500, 'sickness': 5501, 'postcovidvirus': 5502, 'similar': 5503, 'postblip': 5504, 'endgame': 5505, 'warzone': 5506, 'heeeeh': 5507, 'dobrik': 5508, 'shutting': 5509, 'matrix': 5510, 'seemed': 5511, 'willfully': 5512, 'propogating': 5513, 'patriotism': 5514, 'revised': 5515, 'criterion': 5516, 'sheriff': 5517, 'sheetz': 5518, 'snack': 5519, 'quarantinekush': 5520, 'differentiate': 5521, 'sirsa': 5522, 'notification': 5523, 'reagent': 5524, 'gove': 5525, 'sorta': 5526, 'covidvirusaus': 5527, 'tenor': 5528, 'stubborn': 5529, 'worldwidedata': 5530, 'asshats': 5531, 'rewrite': 5532, 'minimized': 5533, 'mindboggling': 5534, 'taika': 5535, 'untill': 5536, 'mac': 5537, 'reminisce': 5538, 'guap': 5539, 'ipo': 5540, 'asapington': 5541, 'trash': 5542, 'socialintensional': 5543, 'linda': 5544, 'lusardi': 5545, 'fading': 5546, 'historian': 5547, 'judge': 5548, 'overreaction': 5549, 'powerful': 5550, 'carley': 5551, 'packing': 5552, 'idahoquake': 5553, 'bop': 5554, 'comfort': 5555, 'enhance': 5556, 'hd': 5557, 'unfamiliar': 5558, 'inappropriate': 5559, 'antic': 5560, 'sirrrr': 5561, 'allllllll': 5562, 'wieler': 5563, 'dlf': 5564, 'inmate': 5565, 'being': 5566, 'fooolsss': 5567, 'sinus': 5568, 'dune': 5569, 'nigeriano': 5570, 'waterno': 5571, 'equipped': 5572, 'massesetc': 5573, 'montreal': 5574, 'rnkind': 5575, 'irresponsible': 5576, 'gathering': 5577, 'kung': 5578, 'fu': 5579, 'detention': 5580, 'adventurously': 5581, 'griffin': 5582, 'fearmongering': 5583, 'frontlinehero': 5584, 'wohoo': 5585, 'jumped': 5586, 'herera': 5587, 'halftime': 5588, 'tradersedge': 5589, 'bunny': 5590, 'cumbria': 5591, 'unfit': 5592, 'munching': 5593, 'cooker': 5594, 'utkal': 5595, 'sthapana': 5596, 'dibas': 5597, 'nehru': 5598, 'finance': 5599, 'suicide': 5600, 'passenger': 5601, 'hose': 5602, 'soap': 5603, 'bbqsparties': 5604, 'noida': 5605, 'prepping': 5606, 'overstay': 5607, 'tourist': 5608, 'visa': 5609, 'destabilizes': 5610, 'knock': 5611, 'kana': 5612, 'ikele': 5613, 'ngakeng': 5614, 'economics': 5615, 'stimulusplan': 5616, 'stimuluscheck': 5617, 'caresact': 5618, 'gloria': 5619, 'script': 5620, 'snippet': 5621, 'quiiiiickkkkk': 5622, 'neill': 5623, 'anyhow': 5624, 'psyched': 5625, 'nickfoles': 5626, 'chicagobears': 5627, 'emiway': 5628, 'bantai': 5629, 'teach': 5630, 'conquer': 5631, 'ausecon': 5632, 'analysis': 5633, 'rebecca': 5634, 'christthats': 5635, 'penis': 5636, 'utility': 5637, 'regulated': 5638, 'appropriately': 5639, 'internetforall': 5640, 'loyal': 5641, 'kanikakapoor': 5642, 'tormenting': 5643, 'experimental': 5644, 'error': 5645, 'okoto': 5646, 'februarygod': 5647, 'vagary': 5648, 'partly': 5649, 'stem': 5650, 'tuition': 5651, 'charged': 5652, 'woodfin': 5653, 'pertaining': 5654, 'peel': 5655, 'ontario': 5656, 'postpone': 5657, 'intelligence': 5658, 'reportedly': 5659, 'cataclysmic': 5660, 'hill': 5661, 'humour': 5662, 'eco': 5663, 'clonmel': 5664, 'deserted': 5665, 'competent': 5666, 'nz': 5667, 'subject': 5668, 'dicking': 5669, 'footstep': 5670, 'trumplies': 5671, 'protectourhealthworkers': 5672, 'screening': 5673, 'multiple': 5674, 'loosing': 5675, 'overthink': 5676, 'hilary': 5677, 'everyoure': 5678, 'sync': 5679, 'tweeps': 5680, 'homesick': 5681, 'halted': 5682, 'privatisation': 5683, 'crib': 5684, 'stealth': 5685, 'seva': 5686, 'bharati': 5687, 'tia': 5688, 'jacket': 5689, 'haram': 5690, 'purposely': 5691, 'tighten': 5692, 'firing': 5693, 'untouchable': 5694, 'biter': 5695, 'glenis': 5696, 'scadding': 5697, 'allergic': 5698, 'rhinitis': 5699, 'explainer': 5700, 'planing': 5701, 'withold': 5702, 'futile': 5703, 'intubation': 5704, 'believed': 5705, 'prophetic': 5706, 'trumpliesamericansdie': 5707, 'hpb': 5708, 'api': 5709, 'tabliqi': 5710, 'maaaan': 5711, 'sparsh': 5712, 'jaha': 5713, 'khatm': 5714, 'wha': 5715, 'feverdetectioncamera': 5716, 'doe': 5717, 'hoot': 5718, 'moscomitchs': 5719, 'bogus': 5720, 'alibi': 5721, 'overwhelmed': 5722, 'measurement': 5723, 'sus': 5724, 'mucus': 5725, 'forsaken': 5726, 'muthafucka': 5727, 'harmed': 5728, 'yeahme': 5729, 'represent': 5730, 'batch': 5731, 'standby': 5732, 'sy': 5733, 'maximum': 5734, 'precautionsasymptomatic': 5735, 'banded': 5736, 'miraculously': 5737, 'tuberculosis': 5738, 'potential': 5739, 'combatting': 5740, 'curved': 5741, 'bell': 5742, 'risking': 5743, 'moh': 5744, 'ventilated': 5745, 'migraine': 5746, 'mold': 5747, 'katoken': 5748, 'wrote': 5749, 'tendous': 5750, 'oree': 5751, 'nani': 5752, 'dayoooo': 5753, 'mn': 5754, 'entitled': 5755, 'filed': 5756, 'darkhumour': 5757, 'healer': 5758, 'curing': 5759, 'cuminsa': 5760, 'ansha': 5761, 'nan': 5762, 'preemptive': 5763, 'dashboard': 5764, 'lyk': 5765, 'debut': 5766, 'powerfull': 5767, 'hansrajanmeena': 5768, 'earthquakeidaho': 5769, 'meth': 5770, 'eff': 5771, 'casual': 5772, 'induced': 5773, 'airplane': 5774, 'km': 5775, 'bibiks': 5776, 'ada': 5777, 'pak': 5778, 'swimsuit': 5779, 'marie': 5780, 'antoinette': 5781, 'meeeeehhhhh': 5782, 'googled': 5783, 'dealer': 5784, 'treasure': 5785, 'sincere': 5786, 'roney': 5787, 'wallaceroney': 5788, 'riparadise': 5789, 'aunty': 5790, 'kehva': 5791, 'follower': 5792, 'happynewmontt': 5793, 'asx': 5794, 'theoffice': 5795, 'jimhalpert': 5796, 'kaitlin': 5797, 'bennett': 5798, 'sparkys': 5799, 'frightened': 5800, 'admin': 5801, 'define': 5802, 'jogger': 5803, 'fning': 5804, 'bryants': 5805, 'downloaded': 5806, 'fascist': 5807, 'demographic': 5808, 'antisocial': 5809, 'affiliation': 5810, 'stuffy': 5811, 'conflicting': 5812, 'viet': 5813, 'nam': 5814, 'stey': 5815, 'evolution': 5816, 'revolt': 5817, 'revoltagainstcovid': 5818, 'humko': 5819, 'deewana': 5820, 'kar': 5821, 'gaye': 5822, 'reignited': 5823, 'bollywood': 5824, 'trim': 5825, 'dismissed': 5826, 'itv': 5827, 'specially': 5828, 'punished': 5829, 'yalls': 5830, 'termed': 5831, 'hygiene': 5832, 'blursday': 5833, 'forteenteenth': 5834, 'maypril': 5835, 'isolationlife': 5836, 'waah': 5837, 'kama': 5838, 'hiyo': 5839, 'chem': 5840, 'hatukufika': 5841, 'convention': 5842, 'homeless': 5843, 'baseball': 5844, 'feline': 5845, 'kitty': 5846, 'zak': 5847, 'rab': 5848, 'ashan': 5849, 'ana': 5850, 'ayza': 5851, 'amoot': 5852, 'tmmrw': 5853, 'staffed': 5854, 'fracking': 5855, 'dyson': 5856, 'nicely': 5857, 'casa': 5858, 'bonita': 5859, 'mme': 5860, 'ghouche': 5861, 'assured': 5862, 'mopfuck': 5863, 'breaksit': 5864, 'crossed': 5865, 'oring': 5866, 'awaited': 5867, 'ivanka': 5868, 'produced': 5869, 'defence': 5870, 'gem': 5871, 'nizammudin': 5872, 'suar': 5873, 'faila': 5874, 'hain': 5875, 'mmmmmmmmyyyyy': 5876, 'gender': 5877, 'blogger': 5878, 'communism': 5879, 'thwarting': 5880, 'filling': 5881, 'itsthelittlethings': 5882, 'disband': 5883, 'clutch': 5884, 'clorox': 5885, 'require': 5886, 'evidence': 5887, 'annoyed': 5888, 'traes': 5889, 'skinny': 5890, 'mysteriously': 5891, 'thermometer': 5892, 'medicaldevice': 5893, 'unite': 5894, 'diseazes': 5895, 'mrmic': 5896, 'fullday': 5897, 'daylockdown': 5898, 'frnzand': 5899, 'entry': 5900, 'insert': 5901, 'crappy': 5902, 'dv': 5903, 'jalsa': 5904, 'tonighttomorrow': 5905, 'dammit': 5906, 'covidvirusiswack': 5907, 'bih': 5908, 'abusing': 5909, 'syrup': 5910, 'raining': 5911, 'hopeful': 5912, 'suposed': 5913, 'amish': 5914, 'heals': 5915, 'tequila': 5916, 'marcos': 5917, 'aprilfoolsisoverparty': 5918, 'alartam': 5919, 'poornigerians': 5920, 'utahearthquake': 5921, 'firstgetting': 5922, 'abstain': 5923, 'vodka': 5924, 'chaser': 5925, 'scheduled': 5926, 'awayyyy': 5927, 'nizzaw': 5928, 'passfrom': 5929, 'niggs': 5930, 'hahahahaha': 5931, 'sia': 5932, 'coping': 5933, 'mentalhealth': 5934, 'unchanged': 5935, 'lifelesson': 5936, 'chaseyourdreams': 5937, 'yessir': 5938, 'teen': 5939, 'moleculin': 5940, 'aspirin': 5941, 'nate': 5942, 'justify': 5943, 'transmitted': 5944, 'dudehow': 5945, 'publichealth': 5946, 'wym': 5947, 'kk': 5948, 'covidvirusera': 5949, 'startup': 5950, 'practiced': 5951, 'registered': 5952, 'bitchhh': 5953, 'synthetic': 5954, 'manmade': 5955, 'velvet': 5956, 'urgently': 5957, 'tomorrowisapril': 5958, 'bushleague': 5959, 'hitter': 5960, 'slowdown': 5961, 'virginity': 5962, 'passbook': 5963, 'inspire': 5964, 'jeannie': 5965, 'danker': 5966, 'asu': 5967, 'swapping': 5968, 'tangatanga': 5969, 'livin': 5970, 'grandparent': 5971, 'bum': 5972, 'valued': 5973, 'championship': 5974, 'undefeated': 5975, 'ptsd': 5976, 'clap': 5977, 'advantage': 5978, 'covidvirusgame': 5979, 'throne': 5980, 'blown': 5981, 'hermit': 5982, 'eitheror': 5983, 'digital': 5984, 'maralago': 5985, 'kurt': 5986, 'cobain': 5987, 'lrt': 5988, 'annoucements': 5989, 'bp': 5990, 'reshaping': 5991, 'fanfics': 5992, 'ao': 5993, 'tag': 5994, 'revealed': 5995, 'enjoyfromhome': 5996, 'allen': 5997, 'robinson': 5998, 'ahgase': 5999, 'trigger': 6000, 'vcr': 6001, 'alaska': 6002, 'nbcmsnbc': 6003, 'pretending': 6004, 'saigon': 6005, 'hanoi': 6006, 'researcher': 6007, 'debunked': 6008, 'locater': 6009, 'fortunately': 6010, 'scoop': 6011, 'promotion': 6012, 'robbins': 6013, 'bingo': 6014, 'bulk': 6015, 'bangladesh': 6016, 'kelly': 6017, 'molest': 6018, 'cornwall': 6019, 'regional': 6020, 'improvise': 6021, 'instacart': 6022, 'vladimir': 6023, 'covidiotinchief': 6024, 'gary': 6025, 'combine': 6026, 'attorney': 6027, 'strength': 6028, 'undercooked': 6029, 'crown': 6030, 'dubbed': 6031, 'keen': 6032, 'eniola': 6033, 'badmus': 6034, 'befitting': 6035, 'covidbillion': 6036, 'decent': 6037, 'leftism': 6038, 'exploitable': 6039, 'shift': 6040, 'penny': 6041, 'iphonesrich': 6042, 'extensive': 6043, 'florence': 6044, 'pughs': 6045, 'megastroll': 6046, 'pseudoscience': 6047, 'nodebateeducate': 6048, 'kyrsten': 6049, 'educational': 6050, 'picaron': 6051, 'estoy': 6052, 'lista': 6053, 'desmadre': 6054, 'sober': 6055, 'railing': 6056, 'hougie': 6057, 'tiddie': 6058, 'extract': 6059, 'automatically': 6060, 'aired': 6061, 'prince': 6062, 'rapidly': 6063, 'covidkenya': 6064, 'caseswe': 6065, 'focused': 6066, 'cramping': 6067, 'irritating': 6068, 'rug': 6069, 'hoyle': 6070, 'pst': 6071, 'buckle': 6072, 'fella': 6073, 'symptomsi': 6074, 'hittin': 6075, 'bruhhhhhh': 6076, 'outcan': 6077, 'ano': 6078, 'dunn': 6079, 'welp': 6080, 'dailyexercise': 6081, 'talent': 6082, 'pres': 6083, 'flopping': 6084, 'repeatedly': 6085, 'wonderingbc': 6086, 'sympathy': 6087, 'lindsay': 6088, 'lohan': 6089, 'athens': 6090, 'downplay': 6091, 'therona': 6092, 'thismuthafucka': 6093, 'govern': 6094, 'accordingly': 6095, 'tail': 6096, 'cappin': 6097, 'defo': 6098, 'killie': 6099, 'stationburns': 6100, 'brotherly': 6101, 'ian': 6102, 'brainless': 6103, 'retard': 6104, 'cracked': 6105, 'formula': 6106, 'chemistry': 6107, 'solvay': 6108, 'wewe': 6109, 'download': 6110, 'sneaker': 6111, 'bool': 6112, 'snuggle': 6113, 'rudy': 6114, 'gobert': 6115, 'simpler': 6116, 'lone': 6117, 'admk': 6118, 'shd': 6119, 'do': 6120, 'jaejoon': 6121, 'nogizaka': 6122, 'travis': 6123, 'grammy': 6124, 'raptor': 6125, 'philly': 6126, 'playoff': 6127, 'thatd': 6128, 'nine': 6129, 'inch': 6130, 'grammar': 6131, 'rapist': 6132, 'murderer': 6133, 'days': 6134, 'sail': 6135, 'mightily': 6136, 'drinkinggrapefruitwhite': 6137, 'claw': 6138, 'cabin': 6139, 'nightclub': 6140, 'entrepreneur': 6141, 'popup': 6142, 'clinic': 6143, 'succumb': 6144, 'pharma': 6145, 'glead': 6146, 'corp': 6147, 'northcarolina': 6148, 'partiality': 6149, 'equality': 6150, 'dayslockdownindia': 6151, 'sogod': 6152, 'micrometer': 6153, 'muting': 6154, 'biojihad': 6155, 'jehadmedieval': 6156, 'mindsetvery': 6157, 'kdrama': 6158, 'loslos': 6159, 'practice': 6160, 'vanish': 6161, 'elysium': 6162, 'exponentially': 6163, 'scifi': 6164, 'exponentialcurves': 6165, 'crenshaw': 6166, 'hookn': 6167, 'speculative': 6168, 'deny': 6169, 'bookshop': 6170, 'delivers': 6171, 'katniss': 6172, 'everdeen': 6173, 'tasmania': 6174, 'politas': 6175, 'covidtas': 6176, 'staysafeathome': 6177, 'czech': 6178, 'republic': 6179, 'commendable': 6180, 'commission': 6181, 'fuckaritxs': 6182, 'eu': 6183, 'resigns': 6184, 'dl': 6185, 'seokjinnies': 6186, 'inforce': 6187, 'domecile': 6188, 'valve': 6189, 'annual': 6190, 'cv': 6191, 'decoration': 6192, 'discrimination': 6193, 'declaring': 6194, 'shocking': 6195, 'redneck': 6196, 'mullet': 6197, 'manufactured': 6198, 'martin': 6199, 'skreili': 6200, 'wu': 6201, 'technically': 6202, 'stewart': 6203, 'icecream': 6204, 'hesitation': 6205, 'prankster': 6206, 'caput': 6207, 'rampage': 6208, 'despicable': 6209, 'unsurprising': 6210, 'enlist': 6211, 'manufacturer': 6212, 'telepresence': 6213, 'robot': 6214, 'operated': 6215, 'dam': 6216, 'yal': 6217, 'yeetzzz': 6218, 'congratulating': 6219, 'animexpo': 6220, 'powered': 6221, 'rocket': 6222, 'overdose': 6223, 'droplet': 6224, 'potato': 6225, 'sin': 6226, 'azab': 6227, 'indiai': 6228, 'tak': 6229, 'sabse': 6230, 'assigned': 6231, 'hourly': 6232, 'brodie': 6233, 'developed': 6234, 'knowledge': 6235, 'attracted': 6236, 'cavity': 6237, 'aap': 6238, 'kab': 6239, 'krege': 6240, 'panicgogy': 6241, 'onlinelearning': 6242, 'teachingonline': 6243, 'oklahomatexas': 6244, 'eagle': 6245, 'indiana': 6246, 'unpopular': 6247, 'violating': 6248, 'roulette': 6249, 'mukbang': 6250, 'refrigerator': 6251, 'unprecedented': 6252, 'foul': 6253, 'workplace': 6254, 'attire': 6255, 'stoner': 6256, 'prc': 6257, 'detection': 6258, 'hiv': 6259, 'lolllllll': 6260, 'wut': 6261, 'kthx': 6262, 'virusmany': 6263, 'vietnamleavesnoonebehind': 6264, 'vn': 6265, 'todaycovid': 6266, 'traffic': 6267, 'mayleigh': 6268, 'bhajia': 6269, 'saltwater': 6270, 'uthiru': 6271, 'todaydays': 6272, 'kplccustomercare': 6273, 'aparently': 6274, 'amplified': 6275, 'advil': 6276, 'tylenol': 6277, 'causality': 6278, 'jealous': 6279, 'impeached': 6280, 'rick': 6281, 'mercer': 6282, 'universally': 6283, 'soonim': 6284, 'trumppandemic': 6285, 'funky': 6286, 'phlegm': 6287, 'unusual': 6288, 'bood': 6289, 'faa': 6290, 'izzah': 6291, 'dah': 6292, 'hapus': 6293, 'orrrrr': 6294, 'mintobwakire': 6295, 'minto': 6296, 'semeria': 6297, 'amangana': 6298, 'ngonchenchi': 6299, 'combo': 6300, 'topilungi': 6301, 'heh': 6302, 'ltig': 6303, 'messy': 6304, 'noisy': 6305, 'guilt': 6306, 'cleaning': 6307, 'irritated': 6308, 'outsidei': 6309, 'preference': 6310, 'reminded': 6311, 'forgotten': 6312, 'neckbeard': 6313, 'constraintsnot': 6314, 'covidalert': 6315, 'skipping': 6316, 'stayathomeplease': 6317, 'uddhav': 6318, 'thackeray': 6319, 'brilliantly': 6320, 'signature': 6321, 'fastest': 6322, 'drama': 6323, 'runner': 6324, 'spur': 6325, 'ohlawdhecomin': 6326, 'sharp': 6327, 'appoint': 6328, 'aub': 6329, 'assignment': 6330, 'apriwill': 6331, 'swimo': 6332, 'jii': 6333, 'solar': 6334, 'nayo': 6335, 'kwa': 6336, 'hio': 6337, 'netork': 6338, 'restore': 6339, 'somthing': 6340, 'thoight': 6341, 'growupdonald': 6342, 'overblown': 6343, 'covidiots': 6344, 'masturbated': 6345, 'depreciating': 6346, 'academic': 6347, 'suggests': 6348, 'opponent': 6349, 'onmyradar': 6350, 'premium': 6351, 'motor': 6352, 'pmspetrol': 6353, 'influencers': 6354, 'darwin': 6355, 'culling': 6356, 'bdays': 6357, 'yooo': 6358, 'lu': 6359, 'eleven': 6360, 'reseda': 6361, 'encino': 6362, 'gtto': 6363, 'skjsksjjsj': 6364, 'lick': 6365, 'manner': 6366, 'koreaboo': 6367, 'cursed': 6368, 'covaid': 6369, 'risen': 6370, 'attended': 6371, 'covidboomers': 6372, 'caribbean': 6373, 'conjure': 6374, 'bathing': 6375, 'swim': 6376, 'hostage': 6377, 'limpopo': 6378, 'hesitate': 6379, 'tooive': 6380, 'barley': 6381, 'budget': 6382, 'sane': 6383, 'ehn': 6384, 'hunny': 6385, 'rx': 6386, 'medicatetheory': 6387, 'deadman': 6388, 'theme': 6389, 'dunno': 6390, 'sg': 6391, 'challenging': 6392, 'syd': 6393, 'casino': 6394, 'ilanga': 6395, 'lami': 6396, 'lokucala': 6397, 'emsebenzini': 6398, 'callshere': 6399, 'disrespectful': 6400, 'roach': 6401, 'omen': 6402, 'pakistsn': 6403, 'hub': 6404, 'boston': 6405, 'honorable': 6406, 'lookintothat': 6407, 'haikusenryu': 6408, 'sidewalk': 6409, 'opposite': 6410, 'hypochondriac': 6411, 'bermuda': 6412, 'realest': 6413, 'lef': 6414, 'deh': 6415, 'registration': 6416, 'mailin': 6417, 'noid': 6418, 'balloting': 6419, 'landslide': 6420, 'essay': 6421, 'professorsteachers': 6422, 'steering': 6423, 'bypass': 6424, 'lay': 6425, 'lee': 6426, 'sub': 6427, 'kee': 6428, 'cozing': 6429, 'lawernce': 6430, 'phillups': 6431, 'sweet': 6432, 'cooperating': 6433, 'cult': 6434, 'toothbrush': 6435, 'desposable': 6436, 'petty': 6437, 'behavior': 6438, 'stair': 6439, 'wreck': 6440, 'trish': 6441, 'regan': 6442, 'emphasis': 6443, 'precaution': 6444, 'lionel': 6445, 'richie': 6446, 'cinderella': 6447, 'colleaguesthe': 6448, 'azithromycin': 6449, 'stepping': 6450, 'skiti': 6451, 'tucson': 6452, 'sooner': 6453, 'mex': 6454, 'sip': 6455, 'buchanan': 6456, 'sea': 6457, 'puta': 6458, 'sorrymy': 6459, 'quarrel': 6460, 'artiste': 6461, 'hsn': 6462, 'subtle': 6463, 'hint': 6464, 'entertaining': 6465, 'blasted': 6466, 'arrive': 6467, 'dogg': 6468, 'treason': 6469, 'wicked': 6470, 'vilest': 6471, 'exalted': 6472, 'judgement': 6473, 'caravan': 6474, 'cork': 6475, 'brittas': 6476, 'quebec': 6477, 'pentagon': 6478, 'installation': 6479, 'militarylinked': 6480, 'eclipse': 6481, 'idiotic': 6482, 'housearrest': 6483, 'epf': 6484, 'commissioner': 6485, 'mommy': 6486, 'jodan': 6487, 'foolson': 6488, 'stipper': 6489, 'abuelito': 6490, 'asada': 6491, 'adamant': 6492, 'emoji': 6493, 'round': 6494, 'entertainment': 6495, 'zorb': 6496, 'sars': 6497, 'metal': 6498, 'tackling': 6499, 'vr': 6500, 'anime': 6501, 'waifus': 6502, 'shredded': 6503, 'carer': 6504, 'electric': 6505, 'soaker': 6506, 'soldier': 6507, 'varsity': 6508, 'wore': 6509, 'daio': 6510, 'grasa': 6511, 'authoritarian': 6512, 'grab': 6513, 'cede': 6514, 'written': 6515, 'plate': 6516, 'cameroon': 6517, 'wi': 6518, 'milwaukee': 6519, 'flipped': 6520, 'typically': 6521, 'asda': 6522, 'dayisolation': 6523, 'nastiest': 6524, 'applauded': 6525, 'silence': 6526, 'jordan': 6527, 'thu': 6528, 'thirsty': 6529, 'dancer': 6530, 'hatter': 6531, 'bomboclaat': 6532, 'suffers': 6533, 'contributes': 6534, 'indiafightscornona': 6535, 'nhc': 6536, 'disclose': 6537, 'sticking': 6538, 'boogaloo': 6539, 'takeout': 6540, 'cider': 6541, 'exit': 6542, 'covidvirusin': 6543, 'sickei': 6544, 'ghana': 6545, 'jameelajamil': 6546, 'fountain': 6547, 'minded': 6548, 'shad': 6549, 'ward': 6550, 'seamstress': 6551, 'briton': 6552, 'mainstream': 6553, 'jokingly': 6554, 'invented': 6555, 'accurate': 6556, 'bear': 6557, 'lasting': 6558, 'meill': 6559, 'lucille': 6560, 'crashed': 6561, 'onlineclasses': 6562, 'abc': 6563, 'karvelas': 6564, 'ag': 6565, 'ruby': 6566, 'elbow': 6567, 'zairen': 6568, 'fuss': 6569, 'burnin': 6570, 'recklessness': 6571, 'bummer': 6572, 'fling': 6573, 'davis': 6574, 'lyin': 6575, 'tds': 6576, 'liberalismisamentaldisease': 6577, 'blind': 6578, 'sierra': 6579, 'leone': 6580, 'oi': 6581, 'videosits': 6582, 'chart': 6583, 'blade': 6584, 'al': 6585, 'afebrile': 6586, 'nycovidvirus': 6587, 'chosen': 6588, 'introvertproblems': 6589, 'rider': 6590, 'rusty': 6591, 'bang': 6592, 'deleting': 6593, 'bw': 6594, 'refer': 6595, 'ridiculousness': 6596, 'dyrdek': 6597, 'environmentalist': 6598, 'hail': 6599, 'shelter': 6600, 'paige': 6601, 'godbless': 6602, 'thatskinda': 6603, 'checkin': 6604, 'miamidade': 6605, 'broward': 6606, 'fla': 6607, 'bt': 6608, 'youngboy': 6609, 'tidepods': 6610, 'farmy': 6611, 'fortune': 6612, 'nahhhhhhhhhhh': 6613, 'interaction': 6614, 'beneficial': 6615, 'accelerate': 6616, 'destruction': 6617, 'mouthwash': 6618, 'showerthoughts': 6619, 'lift': 6620, 'unto': 6621, 'hears': 6622, 'defending': 6623, 'homestead': 6624, 'zombie': 6625, 'kickback': 6626, 'worrying': 6627, 'nyo': 6628, 'twan': 6629, 'awng': 6630, 'drnyotwanawng': 6631, 'shrink': 6632, 'kardashian': 6633, 'kr': 6634, 'rahi': 6635, 'zumedari': 6636, 'krne': 6637, 'righteous': 6638, 'scourge': 6639, 'genesis': 6640, 'hapi': 6641, 'nu': 6642, 'unsung': 6643, 'waiving': 6644, 'copays': 6645, 'newhere': 6646, 'ull': 6647, 'shelica': 6648, 'sang': 6649, 'deterioration': 6650, 'anticipated': 6651, 'goodmorning': 6652, 'thingy': 6653, 'inconsiderate': 6654, 'wyoming': 6655, 'shutdownusa': 6656, 'profederalism': 6657, 'kuku': 6658, 'belong': 6659, 'matthew': 6660, 'boycotttrumpbriefings': 6661, 'propogand': 6662, 'clapped': 6663, 'pmcares': 6664, 'socializing': 6665, 'howan': 6666, 'fe': 6667, 'nagaland': 6668, 'eden': 6669, 'ibprophen': 6670, 'uterus': 6671, 'memory': 6672, 'succumbed': 6673, 'boosie': 6674, 'arvind': 6675, 'kej': 6676, 'appeal': 6677, 'thiss': 6678, 'dz': 6679, 'crunch': 6680, 'achieving': 6681, 'distancinganswer': 6682, 'concluded': 6683, 'baqwaas': 6684, 'seoul': 6685, 'daegu': 6686, 'preventative': 6687, 'viable': 6688, 'unnatural': 6689, 'boosted': 6690, 'investor': 6691, 'crackheads': 6692, 'span': 6693, 'knitwear': 6694, 'boxelder': 6695, 'cowurine': 6696, 'jihadist': 6697, 'jihadivirus': 6698, 'islamicrepublicvirus': 6699, 'bloodline': 6700, 'fianc': 6701, 'ijn': 6702, 'tripped': 6703, 'ayo': 6704, 'deeper': 6705, 'camilla': 6706, 'cabello': 6707, 'shawn': 6708, 'mendes': 6709, 'jumping': 6710, 'vem': 6711, 'aqui': 6712, 'pra': 6713, 'forum': 6714, 'cuzero': 6715, 'maine': 6716, 'sexually': 6717, 'reg': 6718, 'alley': 6719, 'thedrum': 6720, 'covidvirusltlt': 6721, 'involve': 6722, 'irb': 6723, 'ina': 6724, 'bubble': 6725, 'promising': 6726, 'relatable': 6727, 'prosperity': 6728, 'garage': 6729, 'offline': 6730, 'tekken': 6731, 'strictly': 6732, 'decreasing': 6733, 'shipment': 6734, 'ambassador': 6735, 'jose': 6736, 'laurel': 6737, 'egirls': 6738, 'incredible': 6739, 'wager': 6740, 'clusterfuck': 6741, 'fubar': 6742, 'walton': 6743, 'retail': 6744, 'success': 6745, 'gully': 6746, 'hawa': 6747, 'polisi': 6748, 'kwani': 6749, 'wako': 6750, 'wanahandle': 6751, 'watu': 6752, 'nkama': 6753, 'tourshutdown': 6754, 'everywherenobody': 6755, 'badderwe': 6756, 'gree': 6757, 'nooya': 6758, 'undertaker': 6759, 'biker': 6760, 'guiana': 6761, 'frenchguiana': 6762, 'engineered': 6763, 'lion': 6764, 'clapping': 6765, 'noisemaking': 6766, 'boyfies': 6767, 'accent': 6768, 'uuuuuuuggggggghhhhhhhhhhhhhh': 6769, 'staaaappphhh': 6770, 'srsly': 6771, 'yatoo': 6772, 'mbuae': 6773, 'mxm': 6774, 'oba': 6775, 'tukubewo': 6776, 'endobo': 6777, 'yassanyalaza': 6778, 'buli': 6779, 'kimu': 6780, 'dressup': 6781, 'nothin': 6782, 'happi': 6783, 'badaday': 6784, 'keta': 6785, 'brust': 6786, 'kidney': 6787, 'presence': 6788, 'ragweed': 6789, 'queensland': 6790, 'hashtag': 6791, 'perris': 6792, 'knackering': 6793, 'cnting': 6794, 'basterdin': 6795, 'wankerin': 6796, 'trmp': 6797, 'yolk': 6798, 'faded': 6799, 'sonoma': 6800, 'jive': 6801, 'xd': 6802, 'bernie': 6803, 'dnc': 6804, 'rigging': 6805, 'chinavirus': 6806, 'naughty': 6807, 'debaterspundits': 6808, 'hugh': 6809, 'conservatismisdead': 6810, 'discus': 6811, 'unattended': 6812, 'delivered': 6813, 'plain': 6814, 'rm': 6815, 'nowplaying': 6816, 'pred': 6817, 'du': 6818, 'contre': 6819, 'tbch': 6820, 'happiness': 6821, 'mannequin': 6822, 'kacey': 6823, 'bshe': 6824, 'penedamic': 6825, 'demography': 6826, 'werejectdomicile': 6827, 'depopulation': 6828, 'flashback': 6829, 'expands': 6830, 'cheer': 6831, 'television': 6832, 'jackass': 6833, 'nonworking': 6834, 'defective': 6835, 'condo': 6836, 'breeding': 6837, 'creativity': 6838, 'cuttingedge': 6839, 'resourceful': 6840, 'stemi': 6841, 'rtcomment': 6842, 'shoved': 6843, 'belonging': 6844, 'questioning': 6845, 'doubting': 6846, 'severity': 6847, 'deplatforming': 6848, 'rod': 6849, 'clowned': 6850, 'haiti': 6851, 'dakun': 6852, 'forego': 6853, 'azz': 6854, 'accuracy': 6855, 'attacked': 6856, 'tabrighi': 6857, 'markazi': 6858, 'bihar': 6859, 'islamist': 6860, 'shampoo': 6861, 'greasy': 6862, 'participant': 6863, 'specific': 6864, 'amwriting': 6865, 'writer': 6866, 'writingcommunity': 6867, 'broadcast': 6868, 'handshake': 6869, 'ongole': 6870, 'luckily': 6871, 'toyota': 6872, 'corolla': 6873, 'couch': 6874, 'larrydavid': 6875, 'whisperer': 6876, 'acted': 6877, 'chlamydia': 6878, 'gyno': 6879, 'moisturise': 6880, 'ncov': 6881, 'hcov': 6882, 'whoa': 6883, 'listeningheard': 6884, 'tooo': 6885, 'impotus': 6886, 'accepts': 6887, 'unprepared': 6888, 'slavery': 6889, 'reparation': 6890, 'pending': 6891, 'mal': 6892, 'mw': 6893, 'invade': 6894, 'doritos': 6895, 'gastro': 6896, 'tphoarders': 6897, 'potso': 6898, 'gore': 6899, 'intend': 6900, 'battery': 6901, 'mmr': 6902, 'theodore': 6903, 'roosevelt': 6904, 'pleads': 6905, 'onboard': 6906, 'nic': 6907, 'dvd': 6908, 'askingforafriend': 6909, 'pandemicrules': 6910, 'proposition': 6911, 'cusp': 6912, 'minor': 6913, 'grape': 6914, 'babygorl': 6915, 'pedophile': 6916, 'aprilfoolday': 6917, 'mummy': 6918, 'bhai': 6919, 'shaaaaaaring': 6920, 'judging': 6921, 'junejuly': 6922, 'experienced': 6923, 'dissemination': 6924, 'tr': 6925, 'giggling': 6926, 'btch': 6927, 'bizarro': 6928, 'lamb': 6929, 'dragon': 6930, 'halitosis': 6931, 'itchy': 6932, 'scalp': 6933, 'gaping': 6934, 'senseless': 6935, 'afflicted': 6936, 'scraping': 6937, 're': 6938, 'psychological': 6939, 'dhani': 6940, 'covidhold': 6941, 'entlik': 6942, 'duty': 6943, 'dstv': 6944, 'gala': 6945, 'covidinduced': 6946, 'jimmy': 6947, 'buffett': 6948, 'shiggty': 6949, 'breakup': 6950, 'angle': 6951, 'tampon': 6952, 'horrendous': 6953, 'mixtapes': 6954, 'thinkning': 6955, 'copy': 6956, 'milk': 6957, 'reaper': 6958, 'akdkdkd': 6959, 'bpak': 6960, 'isa': 6961, 'kehidupan': 6962, 'asmarane': 6963, 'ra': 6964, 'iki': 6965, 'shitt': 6966, 'franklin': 6967, 'assist': 6968, 'prezz': 6969, 'bestcase': 6970, 'twitterng': 6971, 'mhmmm': 6972, 'betty': 6973, 'fo': 6974, 'mustache': 6975, 'collecting': 6976, 'babygirl': 6977, 'waha': 6978, 'tum': 6979, 'bhar': 6980, 'aa': 6981, 'sakte': 6982, 'bhakt': 6983, 'develops': 6984, 'degree': 6985, 'democracy': 6986, 'thad': 6987, 'pedicure': 6988, 'emily': 6989, 'breathin': 6990, 'pupil': 6991, 'fom': 6992, 'function': 6993, 'restarting': 6994, 'reset': 6995, 'hawaii': 6996, 'capchat': 6997, 'pathchat': 6998, 'geeked': 6999, 'cuomovirus': 7000, 'manifest': 7001, 'appalled': 7002, 'covidgotta': 7003, 'sh': 7004, 'lasered': 7005, 'gamedev': 7006, 'yoinked': 7007, 'roof': 7008, 'hiccup': 7009, 'hudson': 7010, 'jersey': 7011, 'thinkin': 7012, 'friendsfamily': 7013, 'throwin': 7014, 'renewed': 7015, 'tuskegeerys': 7016, 'provision': 7017, 'sba': 7018, 'exicited': 7019, 'fvcking': 7020, 'taxesphone': 7021, 'billrentcar': 7022, 'paymentno': 7023, 'jobno': 7024, 'pulte': 7025, 'reckon': 7026, 'seven': 7027, 'ussr': 7028, 'covidrusaia': 7029, 'sonnnnnnnn': 7030, 'dominican': 7031, 'lmfaoooooooo': 7032, 'pinche': 7033, 'chingada': 7034, 'gua': 7035, 'bingung': 7036, 'sama': 7037, 'charles': 7038, 'maennya': 7039, 'dimane': 7040, 'emang': 7041, 'slower': 7042, 'miserably': 7043, 'cake': 7044, 'orchestrated': 7045, 'fightingggggggggg': 7046, 'railway': 7047, 'modify': 7048, 'coach': 7049, 'accommodate': 7050, 'gf': 7051, 'shutup': 7052, 'stresssed': 7053, 'approaching': 7054, 'infinity': 7055, 'covidcation': 7056, 'pity': 7057, 'covidvirushehe': 7058, 'greater': 7059, 'inc': 7060, 'desensitized': 7061, 'convert': 7062, 'lightning': 7063, 'phe': 7064, 'judged': 7065, 'moderate': 7066, 'row': 7067, 'posing': 7068, 'alertstay': 7069, 'pharmacy': 7070, 'breakthrough': 7071, 'dystopian': 7072, 'jovis': 7073, 'badlt': 7074, 'moronic': 7075, 'pouring': 7076, 'threaten': 7077, 'amsterdam': 7078, 'wendys': 7079, 'breakfast': 7080, 'quitting': 7081, 's': 7082, 'nausea': 7083, 'loose': 7084, 'edward': 7085, 'nervousscared': 7086, 'isaac': 7087, 'usuing': 7088, 'dayforever': 7089, 'commot': 7090, 'jo': 7091, 'gosh': 7092, 'refreshing': 7093, 'intelligent': 7094, 'cranking': 7095, 'healthier': 7096, 'unforgettable': 7097, 'witnessed': 7098, 'belize': 7099, 'chit': 7100, 'kaia': 7101, 'justin': 7102, 'remaining': 7103, 'soft': 7104, 'develop': 7105, 'mitigation': 7106, 'covidsmesurvivial': 7107, 'intime': 7108, 'reduce': 7109, 'description': 7110, 'abused': 7111, 'enduring': 7112, 'pengen': 7113, 'gunting': 7114, 'rambut': 7115, 'tapi': 7116, 'takut': 7117, 'blockstream': 7118, 'sims': 7119, 'stun': 7120, 'kirk': 7121, 'sux': 7122, 'gita': 7123, 'ramjee': 7124, 'linked': 7125, 'crushing': 7126, 'commercialism': 7127, 'boul': 7128, 'coat': 7129, 'disown': 7130, 'specie': 7131, 'sto': 7132, 'dairy': 7133, 'coupon': 7134, 'expire': 7135, 'compensation': 7136, 'dairyqueen': 7137, 'boes': 7138, 'blizzard': 7139, 'jfkdiedforyoursins': 7140, 'staffand': 7141, 'volunteer': 7142, 'medic': 7143, 'multitaskers': 7144, 'lunchtime': 7145, 'smes': 7146, 'irelandlockdown': 7147, 'hatsune': 7148, 'miku': 7149, 'niw': 7150, 'ftfy': 7151, 'manager': 7152, 'corporate': 7153, 'forecast': 7154, 'exceptional': 7155, 'surgar': 7156, 'lastresortpromotion': 7157, 'doom': 7158, 'gloom': 7159, 'lizzie': 7160, 'mcguire': 7161, 'chefboyardee': 7162, 'palmie': 7163, 'jarred': 7164, 'kelenic': 7165, 'irelandtate': 7166, 'prize': 7167, 'strict': 7168, 'aboard': 7169, 'covidvirushit': 7170, 'heading': 7171, 'gal': 7172, 'gascovid': 7173, 'prolonged': 7174, 'implememt': 7175, 'ye': 7176, 'gandagi': 7177, 'hamesha': 7178, 'liye': 7179, 'chali': 7180, 'jaye': 7181, 'rap': 7182, 'exists': 7183, 'sleepless': 7184, 'honky': 7185, 'lastword': 7186, 'msnbclive': 7187, 'universal': 7188, 'testandtrace': 7189, 'typa': 7190, 'mfers': 7191, 'sentence': 7192, 'describe': 7193, 'lackadaisical': 7194, 'potus': 7195, 'injured': 7196, 'loool': 7197, 'tighter': 7198, 'dhdhdhdh': 7199, 'possibly': 7200, 'stink': 7201, 'starks': 7202, 'quarantineseason': 7203, 'springishere': 7204, 'fuckitmaskoff': 7205, 'potent': 7206, 'dan': 7207, 'craig': 7208, 'fran': 7209, 'applying': 7210, 'pharmacometrics': 7211, 'susan': 7212, 'schooling': 7213, 'tndemandsmasstest': 7214, 'tntogetheragainstcovid': 7215, 'thicc': 7216, 'luscious': 7217, 'plentiful': 7218, 'cooky': 7219, 'thingken': 7220, 'massad': 7221, 'ayoob': 7222, 'covidd': 7223, 'maternity': 7224, 'shower': 7225, 'endure': 7226, 'quarentine': 7227, 'verge': 7228, 'rightly': 7229, 'wey': 7230, 'why': 7231, 'butifull': 7232, 'vairus': 7233, 'device': 7234, 'mower': 7235, 'fieldwork': 7236, 'preferring': 7237, 'scrapping': 7238, 'bursary': 7239, 'whod': 7240, 'genius': 7241, 'christy': 7242, 'rockpaperscissors': 7243, 'mcdonalds': 7244, 'sprite': 7245, 'caribana': 7246, 'crimsoncontagion': 7247, 'dreadful': 7248, 'retaliate': 7249, 'behalf': 7250, 'hopeless': 7251, 'helpless': 7252, 'speechless': 7253, 'domacilelaw': 7254, 'ugghhh': 7255, 'isabel': 7256, 'yeye': 7257, 'wntu': 7258, 'fster': 7259, 'plug': 7260, 'wished': 7261, 'forgiven': 7262, 'aden': 7263, 'requesting': 7264, 'az': 7265, 'aca': 7266, 'protectingtheuninsured': 7267, 'humble': 7268, 'dans': 7269, 'unexpectedly': 7270, 'deserving': 7271, 'alternate': 7272, 'potentially': 7273, 'harmful': 7274, 'booty': 7275, 'suicidal': 7276, 'brutal': 7277, 'faeroe': 7278, 'faeroeislands': 7279, 'somecunt': 7280, 'maki': 7281, 'rude': 7282, 'overyhooo': 7283, 'prayforamerica': 7284, 'gambling': 7285, 'greg': 7286, 'kenny': 7287, 'intubated': 7288, 'grieve': 7289, 'undocumented': 7290, 'seeking': 7291, 'ting': 7292, 'gig': 7293, 'pup': 7294, 'mont': 7295, 'explained': 7296, 'lushiciously': 7297, 'positively': 7298, 'coweed': 7299, 'greysloan': 7300, 'memorial': 7301, 'boooyyyy': 7302, 'crop': 7303, 'heat': 7304, 'gamers': 7305, 'playin': 7306, 'retweets': 7307, 'unnecessary': 7308, 'normality': 7309, 'balance': 7310, 'hahahah': 7311, 'entertained': 7312, 'boredgayboy': 7313, 'papasito': 7314, 'papi': 7315, 'tengo': 7316, 'hambre': 7317, 'attackpearl': 7318, 'harbor': 7319, 'americatime': 7320, 'zoooligist': 7321, 'wht': 7322, 'abput': 7323, 'teresa': 7324, 'institutional': 7325, 'mcpride': 7326, 'survival': 7327, 'caraccidents': 7328, 'somone': 7329, 'wordsmithing': 7330, 'ct': 7331, 'presented': 7332, 'expertise': 7333, 'donaldtrump': 7334, 'chump': 7335, 'acute': 7336, 'personsfriends': 7337, 'hooked': 7338, 'toenail': 7339, 'stayhomemn': 7340, 'administered': 7341, 'nocontact': 7342, 'introvertslife': 7343, 'doordash': 7344, 'ubereats': 7345, 'column': 7346, 'excruciating': 7347, 'denzel': 7348, 'guisada': 7349, 'oreo': 7350, 'collector': 7351, 'grounded': 7352, 'historycovid': 7353, 'lml': 7354, 'talkin': 7355, 'routinely': 7356, 'letter': 7357, 'sneezing': 7358, 'envelope': 7359, 'whitehousebriefing': 7360, 'wwiii': 7361, 'cow': 7362, 'dung': 7363, 'stcovid': 7364, 'sample': 7365, 'covidcorn': 7366, 'optional': 7367, 'chaotic': 7368, 'negatively': 7369, 'impacting': 7370, 'countless': 7371, 'scotland': 7372, 'mbps': 7373, 'unlimited': 7374, 'boycott': 7375, 'lockdownuk': 7376, 'herdimmunityismurder': 7377, 'gene': 7378, 'thick': 7379, 'urm': 7380, 'missus': 7381, 'weedbizisboomin': 7382, 'arfa': 7383, 'khanum': 7384, 'sherwani': 7385, 'venomous': 7386, 'fridge': 7387, 'firm': 7388, 'promised': 7389, 'lovely': 7390, 'ut': 7391, 'txst': 7392, 'chose': 7393, 'retool': 7394, 'tool': 7395, 'naval': 7396, 'usstheodoreroosevelt': 7397, 'statswe': 7398, 'dictator': 7399, 'imbecile': 7400, 'commander': 7401, 'millennias': 7402, 'skid': 7403, 'bame': 7404, 'messaging': 7405, 'authority': 7406, 'bully': 7407, 'attacking': 7408, 'failure': 7409, 'nomo': 7410, 'technician': 7411, 'upgrade': 7412, 'lieslieslies': 7413, 'covidviruspeopleofwuhanallowedtoleaveafterdayslockdownchina': 7414, 'especiale': 7415, 'lover': 7416, 'locate': 7417, 'exude': 7418, 'copay': 7419, 'band': 7420, 'catholic': 7421, 'jisas': 7422, 'readily': 7423, 'sal': 7424, 'astros': 7425, 'eternally': 7426, 'grateful': 7427, 'nightmare': 7428, 'orlando': 7429, 'superheroes': 7430, 'odissa': 7431, 'abour': 7432, 'subratbagchi': 7433, 'cocky': 7434, 'makeshift': 7435, 'glamping': 7436, 'stayin': 7437, 'coronovirusupdate': 7438, 'hitherto': 7439, 'longterm': 7440, 'gwarzo': 7441, 'mu': 7442, 'ai': 7443, 'daman': 7444, 'chan': 7445, 'cikin': 7446, 'muke': 7447, 'strategery': 7448, 'gaslighting': 7449, 'leftist': 7450, 'filthy': 7451, 'tolerate': 7452, 'remainder': 7453, 'socialism': 7454, 'dormant': 7455, 'stimulated': 7456, 'marin': 7457, 'howling': 7458, 'birthmonth': 7459, 'communalstay': 7460, 'mediocre': 7461, 'solve': 7462, 'selfserve': 7463, 'landed': 7464, 'ncdc': 7465, 'sm': 7466, 'brotherhood': 7467, 'reviewed': 7468, 'difficult': 7469, 'excitement': 7470, 'antiasian': 7471, 'racism': 7472, 'humbled': 7473, 'towel': 7474, 'studio': 7475, 'backtowork': 7476, 'skill': 7477, 'wfh': 7478, 'academiclife': 7479, 'expand': 7480, 'revenge': 7481, 'narendramodi': 7482, 'ocd': 7483, 'branding': 7484, 'bcos': 7485, 'manslaughter': 7486, 'advance': 7487, 'crock': 7488, 'competing': 7489, 'domination': 7490, 'protest': 7491, 'belgium': 7492, 'whining': 7493, 'licked': 7494, 'omar': 7495, 'rajdeep': 7496, 'antichrist': 7497, 'foole': 7498, 'punched': 7499, 'dprinting': 7500, 'frontline': 7501, 'miracle': 7502, 'laughteristhebestmedicine': 7503, 'arrange': 7504, 'kiya': 7505, 'skincare': 7506, 'ulta': 7507, 'spam': 7508, 'trademark': 7509, 'kept': 7510, 'stanley': 7511, 'kissed': 7512, 'contibutions': 7513, 'terrorsm': 7514, 'inka': 7515, 'majhab': 7516, 'bhari': 7517, 'corina': 7518, 'battaglia': 7519, 'surpass': 7520, 'eats': 7521, 'gentle': 7522, 'crystal': 7523, 'kerala': 7524, 'exploding': 7525, 'dedecated': 7526, 'laker': 7527, 'pore': 7528, 'genuine': 7529, 'memo': 7530, 'bathroom': 7531, 'theyd': 7532, 'numb': 7533, 'jaejng': 7534, 'homefest': 7535, 'manchester': 7536, 'magic': 7537, 'karev': 7538, 'justice': 7539, 'izzy': 7540, 'skype': 7541, 'hearted': 7542, 'lesmis': 7543, 'stayhomestaystrong': 7544, 'physically': 7545, 'fricken': 7546, 'photoshoot': 7547, 'mj': 7548, 'theend': 7549, 'ez': 7550, 'wtflolez': 7551, 'guitar': 7552, 'obsession': 7553, 'demonstrating': 7554, 'bladee': 7555, 'updating': 7556, 'copying': 7557, 'masha': 7558, 'modia': 7559, 'swimming': 7560, 'crude': 7561, 'lake': 7562, 'temporary': 7563, 'taylor': 7564, 'distracts': 7565, 'numpty': 7566, 'antarctica': 7567, 'rewatching': 7568, 'housewife': 7569, 'quarantime': 7570, 'bahut': 7571, 'thi': 7572, 'nahin': 7573, 'murdered': 7574, 'alberta': 7575, 'hunting': 7576, 'yawn': 7577, 'shitting': 7578, 'frnds': 7579, 'folded': 7580, 'prine': 7581, 'boiseearthquake': 7582, 'ismarchoveryet': 7583, 'lmfaooooooooooo': 7584, 'crisistake': 7585, 'describing': 7586, 'preventing': 7587, 'oni': 7588, 'rey': 7589, 'guillotine': 7590, 'usedgod': 7591, 'salesman': 7592, 'careerbuilder': 7593, 'kano': 7594, 'covidontario': 7595, 'personnel': 7596, 'monthly': 7597, 'chear': 7598, 'unmatched': 7599, 'physician': 7600, 'horrifying': 7601, 'golfed': 7602, 'rallied': 7603, 'ostracized': 7604, 'viruso': 7605, 'laughed': 7606, 'cleveland': 7607, 'paywalls': 7608, 'healingenergy': 7609, 'friedgreentomatoes': 7610, 'econmic': 7611, 'dna': 7612, 'bigotry': 7613, 'bated': 7614, 'mannnn': 7615, 'aprilbirthdays': 7616, 'pocono': 7617, 'champagne': 7618, 'suite': 7619, 'umoja': 7620, 'pple': 7621, 'eligible': 7622, 'economist': 7623, 'cbs': 7624, 'crew': 7625, 'buisness': 7626, 'sr': 7627, 'editor': 7628, 'nip': 7629, 'chanting': 7630, 'babye': 7631, 'namin': 7632, 'countryfile': 7633, 'acquitted': 7634, 'travelling': 7635, 'godimedia': 7636, 'ridden': 7637, 'resulting': 7638, 'sidelined': 7639, 'obnoxious': 7640, 'trillion': 7641, 'washington': 7642, 'struggle': 7643, 'timothe': 7644, 'chalamet': 7645, 'oscar': 7646, 'cmbym': 7647, 'scott': 7648, 'pollen': 7649, 'explainyoursneeze': 7650, 'khabib': 7651, 'usman': 7652, 'masvidal': 7653, 'gaethje': 7654, 'outchea': 7655, 'insightful': 7656, 'den': 7657, 'nhl': 7658, 'io': 7659, 'quarantineandchill': 7660, 'xbox': 7661, 'hardest': 7662, 'caring': 7663, 'click': 7664, 'cancelledfuck': 7665, 'rah': 7666, 'readjustment': 7667, 'peepshow': 7668, 'lockdowntv': 7669, 'anywhereespecially': 7670, 'covidi': 7671, 'sinusitis': 7672, 'bare': 7673, 'ordinary': 7674, 'azzz': 7675, 'craziest': 7676, 'takin': 7677, 'meningitis': 7678, 'textcall': 7679, 'prepaired': 7680, 'draw': 7681, 'dinosaur': 7682, 'remembers': 7683, 'deltopia': 7684, 'salon': 7685, 'spa': 7686, 'flower': 7687, 'restricting': 7688, 'dicked': 7689, 'muted': 7690, 'lethality': 7691, 'therapist': 7692, 'drs': 7693, 'rts': 7694, 'fitch': 7695, 'downgrade': 7696, 'bb': 7697, 'ukgob': 7698, 'factthat': 7699, 'declined': 7700, 'adjusting': 7701, 'undiagnosed': 7702, 'mtn': 7703, 'measage': 7704, 'patience': 7705, 'slim': 7706, 'aleve': 7707, 'patriot': 7708, 'choke': 7709, 'ingrahamangle': 7710, 'lecturer': 7711, 'bd': 7712, 'misogynist': 7713, 'projected': 7714, 'partying': 7715, 'cuba': 7716, 'mightve': 7717, 'follows': 7718, 'elusive': 7719, 'kosom': 7720, 'geish': 7721, 'preschool': 7722, 'profile': 7723, 'lokesh': 7724, 'jai': 7725, 'seperate': 7726, 'sponsered': 7727, 'infectiously': 7728, 'boyyyy': 7729, 'breakingnewscovidvirus': 7730, 'hybrid': 7731, 'stadium': 7732, 'surpassed': 7733, 'chyna': 7734, 'rehumanization': 7735, 'dems': 7736, 'fishy': 7737, 'jj': 7738, 'effing': 7739, 'aha': 7740, 'clamping': 7741, 'athe': 7742, 'comapin': 7743, 'maker': 7744, 'remembered': 7745, 'rumor': 7746, 'relying': 7747, 'trusted': 7748, 'redone': 7749, 'contactless': 7750, 'etiquette': 7751, 'asset': 7752, 'equity': 7753, 'reax': 7754, 'lts': 7755, 'chk': 7756, 'civilization': 7757, 'bloomingflowers': 7758, 'william': 7759, 'murrell': 7760, 'exiled': 7761, 'nerd': 7762, 'gftws': 7763, 'cyril': 7764, 'snd': 7765, 'yra': 7766, 'wefighttogether': 7767, 'wegotthis': 7768, 'streamer': 7769, 'chase': 7770, 'ttwo': 7771, 'revenue': 7772, 'releif': 7773, 'noage': 7774, 'rama': 7775, 'arrow': 7776, 'brag': 7777, 'shorties': 7778, 'oouchie': 7779, 'gram': 7780, 'disgrace': 7781, 'coop': 7782, 'distant': 7783, 'globalpandemic': 7784, 'thug': 7785, 'lonley': 7786, 'lease': 7787, 'commercialrealestate': 7788, 'cre': 7789, 'acknowledge': 7790, 'slice': 7791, 'illnessgod': 7792, 'allll': 7793, 'highlight': 7794, 'lounge': 7795, 'christmascard': 7796, 'dingdingding': 7797, 'capacity': 7798, 'constrained': 7799, 'braid': 7800, 'floor': 7801, 'riddance': 7802, 'movingonfrommarch': 7803, 'dubai': 7804, 'covidvirusnigeria': 7805, 'walker': 7806, 'summerknew': 7807, 'jair': 7808, 'bolsonaro': 7809, 'secretary': 7810, 'quarantining': 7811, 'ttfn': 7812, 'reflex': 7813, 'xing': 7814, 'wrestlemania': 7815, 'personality': 7816, 'ajoke': 7817, 'aprank': 7818, 'aprilmop': 7819, 'rabuambyar': 7820, 'drunkordered': 7821, 'panda': 7822, 'underwear': 7823, 'subbed': 7824, 'guam': 7825, 'disc': 7826, 'grinder': 7827, 'livesapril': 7828, 'twist': 7829, 'hamilton': 7830, 'jaishriram': 7831, 'shameonyuvibhajji': 7832, 'promoting': 7833, 'afridis': 7834, 'freebird': 7835, 'shatta': 7836, 'wale': 7837, 'ajiee': 7838, 'simon': 7839, 'dethrone': 7840, 'occupation': 7841, 'jinu': 7842, 'gassers': 7843, 'nowstay': 7844, 'thisits': 7845, 'bestwe': 7846, 'sokor': 7847, 'relate': 7848, 'retrenchment': 7849, 'tile': 7850, 'sotega': 7851, 'cheatersneverwin': 7852, 'moth': 7853, 'saver': 7854, 'bonespuravirus': 7855, 'eastersundaymassacre': 7856, 'eventsprograms': 7857, 'formed': 7858, 'prosper': 7859, 'issued': 7860, 'deferring': 7861, 'employeesin': 7862, 'outbreaknationwide': 7863, 'ani': 7864, 'humanly': 7865, 'backspace': 7866, 'hbu': 7867, 'tokyo': 7868, 'ksksksks': 7869, 'ampota': 7870, 'ballet': 7871, 'recital': 7872, 'wivesand': 7873, 'canberra': 7874, 'liaoning': 7875, 'province': 7876, 'vacationand': 7877, 'tube': 7878, 'zinger': 7879, 'mountain': 7880, 'ale': 7881, 'desire': 7882, 'hereapril': 7883, 'edgar': 7884, 'hoover': 7885, 'tomb': 7886, 'dana': 7887, 'milbank': 7888, 'strung': 7889, 'array': 7890, 'mercury': 7891, 'retrograde': 7892, 'hungover': 7893, 'independent': 7894, 'reflection': 7895, 'mirror': 7896, 'seaworld': 7897, 'codnxksnoxsndk': 7898, 'offense': 7899, 'sickest': 7900, 'dip': 7901, 'caannntttt': 7902, 'stupidd': 7903, 'borough': 7904, 'tucker': 7905, 'hannity': 7906, 'traded': 7907, 'freshman': 7908, 'fifteen': 7909, 'nineteen': 7910, 'fraud': 7911, 'eerr': 7912, 'lmaoooo': 7913, 'larry': 7914, 'hernandez': 7915, 'germx': 7916, 'lollllllll': 7917, 'touted': 7918, 'option': 7919, 'trumpsaymodiobey': 7920, 'akka': 7921, 'spraying': 7922, 'thar': 7923, 'tabli': 7924, 'encounter': 7925, 'criminalizing': 7926, 'irrespective': 7927, 'rehab': 7928, 'biting': 7929, 'table': 7930, 'sportsgambling': 7931, 'whopped': 7932, 'ltltltlt': 7933, 'waxing': 7934, 'shtunnnning': 7935, 'parkinson': 7936, 'sharon': 7937, 'heartbroken': 7938, 'seize': 7939, 'emerged': 7940, 'temporal': 7941, 'rift': 7942, 'cuomobrothers': 7943, 'takeouttuesday': 7944, 'wuflu': 7945, 'covidhoax': 7946, 'debate': 7947, 'auntie': 7948, 'groupchat': 7949, 'capable': 7950, 'getwellsoonchris': 7951, 'newsoms': 7952, 'playbook': 7953, 'overthinking': 7954, 'gotmefuckedup': 7955, 'suspecting': 7956, 'supposedly': 7957, 'dope': 7958, 'excludes': 7959, 'disabled': 7960, 'rely': 7961, 'jason': 7962, 'celtic': 7963, 'canceling': 7964, 'pecent': 7965, 'madicin': 7966, 'gawwdds': 7967, 'microscopoc': 7968, 'published': 7969, 'attempted': 7970, 'iii': 7971, 'merci': 7972, 'newly': 7973, 'freakin': 7974, 'awaythe': 7975, 'staggering': 7976, 'notbetreuung': 7977, 'twlz': 7978, 'ughhh': 7979, 'baja': 7980, 'whack': 7981, 'tp': 7982, 'ranked': 7983, 'kule': 7984, 'persona': 7985, 'woow': 7986, 'shameevil': 7987, 'design': 7988, 'modeling': 7989, 'mike': 7990, 'covidviruse': 7991, 'garu': 7992, 'wewillstayathome': 7993, 'eachother': 7994, 'hom': 7995, 'dpot': 7996, 'papa': 7997, 'freepapajohn': 7998, 'outif': 7999, 'lostthat': 8000, 'seb': 8001, 'burning': 8002, 'urination': 8003, 'urethral': 8004, 'spreaded': 8005, 'chuck': 8006, 'norris': 8007, 'rash': 8008, 'cytokine': 8009, 'syndrome': 8010, 'associated': 8011, 'enabling': 8012, 'nook': 8013, 'oppenheimer': 8014, 'mmmmmmmmmmmmh': 8015, 'veiled': 8016, 'gake': 8017, 'galle': 8018, 'ebile': 8019, 'batla': 8020, 'savanna': 8021, 'trader': 8022, 'jaripeo': 8023, 'baile': 8024, 'mamones': 8025, 'staystrongkimjaejoong': 8026, 'cleared': 8027, 'stassis': 8028, 'huntington': 8029, 'wwhl': 8030, 'meh': 8031, 'boo': 8032, 'crewwww': 8033, 'mainly': 8034, 'uptick': 8035, 'av': 8036, 'impulsive': 8037, 'unintelligent': 8038, 'fuelling': 8039, 'madhyapradesh': 8040, 'alec': 8041, 'proudly': 8042, 'vix': 8043, 'memorable': 8044, 'bggest': 8045, 'advisor': 8046, 'rainy': 8047, 'sleepy': 8048, 'jt': 8049, 'finished': 8050, 'tahajjud': 8051, 'allahmake': 8052, 'dua': 8053, 'ummah': 8054, 'yoda': 8055, 'consortium': 8056, 'supercomputing': 8057, 'search': 8058, 'mourn': 8059, 'tayk': 8060, 'delhiburning': 8061, 'kya': 8062, 'raha': 8063, 'emperor': 8064, 'nero': 8065, 'winston': 8066, 'churchill': 8067, 'rooting': 8068, 'birz': 8069, 'truthfully': 8070, 'fuckkkk': 8071, 'mockery': 8072, 'highinfected': 8073, 'daunting': 8074, 'begs': 8075, 'chinayou': 8076, 'knowyes': 8077, 'coys': 8078, 'playstation': 8079, 'differently': 8080, 'survives': 8081, 'lightly': 8082, 'proximity': 8083, 'brexit': 8084, 'valentine': 8085, 'todaythese': 8086, 'yeyebrities': 8087, 'gmt': 8088, 'revealing': 8089, 'rocky': 8090, 'involved': 8091, 'safeguard': 8092, 'letusprayforcovidfighters': 8093, 'organ': 8094, 'leavingmybodytoscience': 8095, 'crack': 8096, 'rustie': 8097, 'dessert': 8098, 'pokemon': 8099, 'covidcrown': 8100, 'commemoration': 8101, 'royalty': 8102, 'alabamalouisianatexas': 8103, 'risingsoon': 8104, 'laughsforquarantine': 8105, 'stillbroke': 8106, 'rki': 8107, 'openly': 8108, 'transphobic': 8109, 'popular': 8110, 'andrewjack': 8111, 'starwarssequeltrilogy': 8112, 'starwarsthelastjedi': 8113, 'ttime': 8114, 'palestine': 8115, 'slt': 8116, 'designate': 8117, 'czar': 8118, 'deodorant': 8119, 'remarkable': 8120, 'thefinal': 8121, 'recommending': 8122, 'faq': 8123, 'jeffgrosso': 8124, 'skateboard': 8125, 'apologist': 8126, 'abayaas': 8127, 'cmrf': 8128, 'robert': 8129, 'udensi': 8130, 'celestine': 8131, 'ifeanyi': 8132, 'umuabaconnectcovidgiveaway': 8133, 'evisu': 8134, 'collab': 8135, 'meps': 8136, 'boot': 8137, 'jaejoongs': 8138, 'introverted': 8139, 'smoked': 8140, 'coviduana': 8141, 'confront': 8142, 'proceeding': 8143, 'placed': 8144, 'fatass': 8145, 'rubikaliyaquat': 8146, 'mam': 8147, 'parentshaving': 8148, 'virusmarch': 8149, 'nick': 8150, 'centineo': 8151, 'scruffy': 8152, 'spew': 8153, 'proamerica': 8154, 'propaganda': 8155, 'lbr': 8156, 'neyo': 8157, 'meg': 8158, 'thee': 8159, 'stallion': 8160, 'banger': 8161, 'siddhartha': 8162, 'mukherjee': 8163, 'google': 8164, 'miami': 8165, 'score': 8166, 'vaccinate': 8167, 'ghen': 8168, 'ded': 8169, 'correctlyso': 8170, 'worldly': 8171, 'distract': 8172, 'stayhealthy': 8173, 'unsettled': 8174, 'fosho': 8175, 'workshop': 8176, 'mombasa': 8177, 'combating': 8178, 'governerofthemoment': 8179, 'notenice': 8180, 'armed': 8181, 'woo': 8182, 'singer': 8183, 'yallmy': 8184, 'corporation': 8185, 'familiesfirst': 8186, 'lantern': 8187, 'mytheory': 8188, 'mate': 8189, 'covidviruspositive': 8190, 'sleeping': 8191, 'coronvirusitalia': 8192, 'ponderosa': 8193, 'fda': 8194, 'authorises': 8195, 'malaria': 8196, 'twominute': 8197, 'src': 8198, 'toi': 8199, 'friendly': 8200, 'dallas': 8201, 'direction': 8202, 'kelvin': 8203, 'naw': 8204, 'wheelbarrow': 8205, 'sweat': 8206, 'downplayed': 8207, 'congratulated': 8208, 'covidvirusnewyork': 8209, 'cashtag': 8210, 'buck': 8211, 'lacrosse': 8212, 'beside': 8213, 'bcpoli': 8214, 'covidvirusbc': 8215, 'boiling': 8216, 'citrus': 8217, 'vernors': 8218, 'peddled': 8219, 'disappointment': 8220, 'stockmarket': 8221, 'endthefed': 8222, 'celebrated': 8223, 'chloe': 8224, 'iykyk': 8225, 'blaines': 8226, 'stunt': 8227, 'reservoir': 8228, 'sarslike': 8229, 'indifferent': 8230, 'westerner': 8231, 'disclosure': 8232, 'eluru': 8233, 'grant': 8234, 'aviation': 8235, 'oagwebinar': 8236, 'talm': 8237, 'bou': 8238, 'comprehensive': 8239, 'maddow': 8240, 'coachella': 8241, 'viva': 8242, 'freaked': 8243, 'luckybitch': 8244, 'shithead': 8245, 'compensate': 8246, 'afected': 8247, 'poorers': 8248, 'roasting': 8249, 'cod': 8250, 'fullblown': 8251, 'kicking': 8252, 'specifically': 8253, 'privileged': 8254, 'trained': 8255, 'attitude': 8256, 'clow': 8257, 'aasf': 8258, 'imessagemadness': 8259, 'lele': 8260, 'pons': 8261, 'desrve': 8262, 'virushins': 8263, 'pun': 8264, 'bob': 8265, 'ballad': 8266, 'assassination': 8267, 'jfk': 8268, 'trumpisfired': 8269, 'weareinthistogether': 8270, 'sandoval': 8271, 'jaxs': 8272, 'triggering': 8273, 'purchased': 8274, 'itamen': 8275, 'babyface': 8276, 'madsexycool': 8277, 'lynda': 8278, 'shock': 8279, 'growth': 8280, 'sp': 8281, 'alt': 8282, 'accused': 8283, 'ummm': 8284, 'karen': 8285, 'gtdoom': 8286, 'eternal': 8287, 'gtanimal': 8288, 'gtcovidvirus': 8289, 'sanjeevani': 8290, 'popeyes': 8291, 'port': 8292, 'migrant': 8293, 'refugee': 8294, 'crackedhands': 8295, 'dryasshands': 8296, 'messfart': 8297, 'sun': 8298, 'subjected': 8299, 'lackies': 8300, 'timbs': 8301, 'espn': 8302, 'mcenroe': 8303, 'indication': 8304, 'designed': 8305, 'smack': 8306, 'geesus': 8307, 'surname': 8308, 'nationality': 8309, 'nicknamecovid': 8310, 'kin': 8311, 'satc': 8312, 'miranda': 8313, 'craptacular': 8314, 'spooked': 8315, 'lac': 8316, 'myasu': 8317, 'respectfully': 8318, 'pursuing': 8319, 'kcalhusband': 8320, 'covidwife': 8321, 'immunosuppressant': 8322, 'immunosuppressed': 8323, 'transferring': 8324, 'dub': 8325, 'implement': 8326, 'passfail': 8327, 'nvax': 8328, 'identifies': 8329, 'accelerates': 8330, 'initiation': 8331, 'firstinhuman': 8332, 'midmay': 8333, 'qanon': 8334, 'drumpf': 8335, 'erasing': 8336, 'lad': 8337, 'burpees': 8338, 'divide': 8339, 'spooky': 8340, 'entertain': 8341, 'stooge': 8342, 'natasha': 8343, 'otts': 8344, 'grand': 8345, 'gray': 8346, 'inspect': 8347, 'decaying': 8348, 'pundit': 8349, 'postponing': 8350, 'oppressive': 8351, 'paw': 8352, 'patrol': 8353, 'unsafe': 8354, 'gangif': 8355, 'bingemode': 8356, 'mosh': 8357, 'pit': 8358, 'covidrussia': 8359, 'insist': 8360, 'norsegael': 8361, 'mercenary': 8362, 'sickening': 8363, 'behzinga': 8364, 'vikkstar': 8365, 'zerkaahd': 8366, 'possibility': 8367, 'erupt': 8368, 'monday': 8369, 'marching': 8370, 'sweaty': 8371, 'sounded': 8372, 'xan': 8373, 'chillin': 8374, 'cheese': 8375, 'veggie': 8376, 'hometown': 8377, 'charleston': 8378, 'wiped': 8379, 'outand': 8380, 'goldmacher': 8381, 'clinician': 8382, 'supporting': 8383, 'disability': 8384, 'petras': 8385, 'subpar': 8386, 'repeating': 8387, 'californian': 8388, 'fleeing': 8389, 'algorithm': 8390, 'kag': 8391, 'lockthemallup': 8392, 'ignition': 8393, 'seltzer': 8394, 'mango': 8395, 'consistency': 8396, 'pace': 8397, 'wisconsin': 8398, 'shine': 8399, 'disastrous': 8400, 'rerun': 8401, 'balancing': 8402, 'farleft': 8403, 'spends': 8404, 'gouge': 8405, 'gouging': 8406, 'maze': 8407, 'mansion': 8408, 'impossible': 8409, 'abhi': 8410, 'tweetsjokes': 8411, 'laidoff': 8412, 'wallace': 8413, 'quarintine': 8414, 'vre': 8415, 'mrsa': 8416, 'esbl': 8417, 'ecq': 8418, 'gotcha': 8419, 'robbed': 8420, 'violated': 8421, 'dentist': 8422, 'aprilfoolsbaby': 8423, 'fez': 8424, 'morgan': 8425, 'asks': 8426, 'lookin': 8427, 'tiny': 8428, 'sausage': 8429, 'slippen': 8430, 'completes': 8431, 'casesanother': 8432, 'surprising': 8433, 'stat': 8434, 'parenthood': 8435, 'cock': 8436, 'poetic': 8437, 'comienza': 8438, 'engine': 8439, 'votaciones': 8440, 'positivo': 8441, 'sothat': 8442, 'jyj': 8443, 'jaeyoon': 8444, 'aaaaaa': 8445, 'youcanneverrelyon': 8446, 'bzy': 8447, 'wilford': 8448, 'brimley': 8449, 'wilfordbrimley': 8450, 'diabetes': 8451, 'hairline': 8452, 'wrld': 8453, 'inscrutable': 8454, 'developing': 8455, 'asia': 8456, 'yearly': 8457, 'bushfires': 8458, 'cree': 8459, 'mami': 8460, 'ughhhh': 8461, 'lotion': 8462, 'wasting': 8463, 'fuckkkkin': 8464, 'rotation': 8465, 'graduation': 8466, 'eid': 8467, 'teased': 8468, 'masterbate': 8469, 'stole': 8470, 'donut': 8471, 'wingit': 8472, 'dire': 8473, 'continental': 8474, 'thermal': 8475, 'beauty': 8476, 'covidmalaysia': 8477, 'tellin': 8478, 'spotlight': 8479, 'joeexotic': 8480, 'tigerkingnetflix': 8481, 'khaddam': 8482, 'temporarily': 8483, 'blair': 8484, 'cameron': 8485, 'sincerelyamerica': 8486, 'file': 8487, 'abundance': 8488, 'caution': 8489, 'inspiration': 8490, 'carona': 8491, 'btw': 8492, 'producer': 8493, 'louckdown': 8494, 'humunity': 8495, 'covidrhymes': 8496, 'jas': 8497, 'curtis': 8498, 'pritchard': 8499, 'applauding': 8500, 'nabha': 8501, 'favouring': 8502, 'authoritarianism': 8503, 'grandpapa': 8504, 'escalating': 8505, 'fuccck': 8506, 'offff': 8507, 'serrriousllyyaaaa': 8508, 'annnoyinngguhhh': 8509, 'delighted': 8510, 'vow': 8511, 'jokestbh': 8512, 'shud': 8513, 'watchimg': 8514, 'hebrew': 8515, 'del': 8516, 'fbi': 8517}\n"
          ],
          "name": "stdout"
        }
      ]
    },
    {
      "cell_type": "code",
      "metadata": {
        "colab": {
          "base_uri": "https://localhost:8080/"
        },
        "id": "B-iJjY8xfp_o",
        "outputId": "0c9eae1d-2bbf-4959-df3d-4600ceca2fb6"
      },
      "source": [
        "print(f'단어 전체의 갯수 {len(word_vocab)}')"
      ],
      "execution_count": 498,
      "outputs": [
        {
          "output_type": "stream",
          "text": [
            "단어 전체의 갯수 8517\n"
          ],
          "name": "stdout"
        }
      ]
    },
    {
      "cell_type": "code",
      "metadata": {
        "colab": {
          "base_uri": "https://localhost:8080/"
        },
        "id": "lPK1C7GVgn-6",
        "outputId": "7bf7b5d7-b72c-4975-d8da-60888845d62b"
      },
      "source": [
        "maxlen = 21 # 전처리 후 최댓값\n",
        "train_pad = pad_sequences(train_token, maxlen = maxlen, padding = 'pre')\n",
        "print(train_tweet[0])\n",
        "print(train_token[0])\n",
        "print(train_pad[0])"
      ],
      "execution_count": 499,
      "outputs": [
        {
          "output_type": "stream",
          "text": [
            "joke hop plane rn well covid lol\n",
            "[8, 1838, 2382, 357, 96, 1, 133]\n",
            "[   0    0    0    0    0    0    0    0    0    0    0    0    0    0\n",
            "    8 1838 2382  357   96    1  133]\n"
          ],
          "name": "stdout"
        }
      ]
    },
    {
      "cell_type": "code",
      "metadata": {
        "colab": {
          "base_uri": "https://localhost:8080/"
        },
        "id": "SwYnKqaNjP4S",
        "outputId": "ef0a6ba0-1e2b-450e-9678-4ccb8e1f0af6"
      },
      "source": [
        "print(type(train_pad))\n",
        "print(train_pad.shape)\n",
        "print(train_pad[0].shape)"
      ],
      "execution_count": 500,
      "outputs": [
        {
          "output_type": "stream",
          "text": [
            "<class 'numpy.ndarray'>\n",
            "(5000, 21)\n",
            "(21,)\n"
          ],
          "name": "stdout"
        }
      ]
    },
    {
      "cell_type": "markdown",
      "metadata": {
        "id": "mi5YQmUDl4yY"
      },
      "source": [
        "# 벡터화\n",
        "  - TF-IDF\n",
        "  - WORD2VEC"
      ]
    },
    {
      "cell_type": "markdown",
      "metadata": {
        "id": "PiZBCC9Ga5RL"
      },
      "source": [
        "### TF-IDF"
      ]
    },
    {
      "cell_type": "code",
      "metadata": {
        "colab": {
          "base_uri": "https://localhost:8080/"
        },
        "id": "zpfmlUbTlddh",
        "outputId": "fc2530ce-7d05-4438-fd5a-6c619328019f"
      },
      "source": [
        "\n",
        "Tfvec = TfidfVectorizer(ngram_range = (1,3), max_features = 500, stop_words='english')\n",
        "\n",
        "x = Tfvec.fit_transform(train_tweet)\n",
        "x.shape"
      ],
      "execution_count": 502,
      "outputs": [
        {
          "output_type": "execute_result",
          "data": {
            "text/plain": [
              "(5000, 500)"
            ]
          },
          "metadata": {
            "tags": []
          },
          "execution_count": 502
        }
      ]
    },
    {
      "cell_type": "code",
      "metadata": {
        "colab": {
          "base_uri": "https://localhost:8080/"
        },
        "id": "i_DbXtk7onpd",
        "outputId": "202fddee-c722-4c41-e7e1-00084f9b06ac"
      },
      "source": [
        "y = np.array(train_label)\n",
        "y.shape"
      ],
      "execution_count": 503,
      "outputs": [
        {
          "output_type": "execute_result",
          "data": {
            "text/plain": [
              "(5000,)"
            ]
          },
          "metadata": {
            "tags": []
          },
          "execution_count": 503
        }
      ]
    },
    {
      "cell_type": "code",
      "metadata": {
        "colab": {
          "base_uri": "https://localhost:8080/"
        },
        "id": "LdfUPwWK9ptq",
        "outputId": "b9b10c44-e8d4-4e54-ea12-12c3474ae678"
      },
      "source": [
        "x.shape"
      ],
      "execution_count": 504,
      "outputs": [
        {
          "output_type": "execute_result",
          "data": {
            "text/plain": [
              "(5000, 500)"
            ]
          },
          "metadata": {
            "tags": []
          },
          "execution_count": 504
        }
      ]
    },
    {
      "cell_type": "code",
      "metadata": {
        "colab": {
          "base_uri": "https://localhost:8080/"
        },
        "id": "vcoPihF89qnU",
        "outputId": "42df55a6-ce17-41b9-fd38-e9f669bb444e"
      },
      "source": [
        "y.shape"
      ],
      "execution_count": 505,
      "outputs": [
        {
          "output_type": "execute_result",
          "data": {
            "text/plain": [
              "(5000,)"
            ]
          },
          "metadata": {
            "tags": []
          },
          "execution_count": 505
        }
      ]
    },
    {
      "cell_type": "code",
      "metadata": {
        "colab": {
          "base_uri": "https://localhost:8080/"
        },
        "id": "06DKMFobMver",
        "outputId": "c76eb006-5c5b-4c48-8435-b2309d952ca7"
      },
      "source": [
        "# test 데이터\n",
        "x_test = Tfvec.transform(test_tweet)\n",
        "x_test.shape"
      ],
      "execution_count": 506,
      "outputs": [
        {
          "output_type": "execute_result",
          "data": {
            "text/plain": [
              "(2500, 500)"
            ]
          },
          "metadata": {
            "tags": []
          },
          "execution_count": 506
        }
      ]
    },
    {
      "cell_type": "markdown",
      "metadata": {
        "id": "PQbIaO8Ua_tx"
      },
      "source": [
        "### WORD2VEC"
      ]
    },
    {
      "cell_type": "code",
      "metadata": {
        "id": "Up5IZsdea9Ue"
      },
      "source": [
        ""
      ],
      "execution_count": null,
      "outputs": []
    },
    {
      "cell_type": "markdown",
      "metadata": {
        "id": "XegLf-YpqfKv"
      },
      "source": [
        "## 데이터셋 나누기"
      ]
    },
    {
      "cell_type": "code",
      "metadata": {
        "id": "wCyTxP-e5IyY"
      },
      "source": [
        "def one(x) :\n",
        "    if x > 2 :\n",
        "        return 1\n",
        "    else :\n",
        "        return 0"
      ],
      "execution_count": 508,
      "outputs": []
    },
    {
      "cell_type": "code",
      "metadata": {
        "colab": {
          "base_uri": "https://localhost:8080/"
        },
        "id": "-KkBmQVJqenW",
        "outputId": "6aa4db54-1796-4ad6-8331-598da51e4b0f"
      },
      "source": [
        "x_train, x_val, y_train, y_val = train_test_split(x,y, test_size = 0.3)\n",
        "\n",
        "print(x_train.shape, y_train.shape)\n",
        "print(x_val.shape, y_val.shape)"
      ],
      "execution_count": 195,
      "outputs": [
        {
          "output_type": "stream",
          "text": [
            "(4000, 500) (4000,)\n",
            "(1000, 500) (1000,)\n"
          ],
          "name": "stdout"
        }
      ]
    },
    {
      "cell_type": "markdown",
      "metadata": {
        "id": "DyjIIsZjq8z7"
      },
      "source": [
        "# MODEL \n",
        "  - LR"
      ]
    },
    {
      "cell_type": "code",
      "metadata": {
        "colab": {
          "base_uri": "https://localhost:8080/"
        },
        "id": "u2g9xzumpjq7",
        "outputId": "467e7479-d25a-4b2c-d719-e1fc695d46d9"
      },
      "source": [
        "from sklearn.linear_model import LogisticRegression\n",
        "lr = LogisticRegression(class_weight  = \n",
        "                        {0 : 0.58,\n",
        "                         1 : 0.42})\n",
        "lr.fit(x_train, y_train)"
      ],
      "execution_count": 196,
      "outputs": [
        {
          "output_type": "execute_result",
          "data": {
            "text/plain": [
              "LogisticRegression(C=1.0, class_weight={0: 0.58, 1: 0.42}, dual=False,\n",
              "                   fit_intercept=True, intercept_scaling=1, l1_ratio=None,\n",
              "                   max_iter=100, multi_class='auto', n_jobs=None, penalty='l2',\n",
              "                   random_state=None, solver='lbfgs', tol=0.0001, verbose=0,\n",
              "                   warm_start=False)"
            ]
          },
          "metadata": {
            "tags": []
          },
          "execution_count": 196
        }
      ]
    },
    {
      "cell_type": "code",
      "metadata": {
        "id": "ZNezXSjS6nb-"
      },
      "source": [
        "\n",
        "x = Tfvec.fit_transform(train_tweet) # 벡터화된 training value\n",
        "x_test = Tfvec.transform(test_tweet) # 벡터화된 test value\n",
        "sfk = StratifiedKFold(n_splits = 5, shuffle=True) # Stratifie Kfold \n",
        "\n",
        "\n",
        "# Logit Reg\n",
        "\n",
        "def auto(*filename) :\n",
        "    answer = pd.DataFrame()\n",
        "    answer_p = pd.DataFrame()\n",
        "    submission = test_df.drop(['Tweet'], axis=1)\n",
        "    submission['Labels'] = 0\n",
        "\n",
        "\n",
        "    for label in cols_target :\n",
        "        y = np.array(train_df[label].values)\n",
        "        y0 = len(train_df[train_df[label]==0]) / len(train_df)\n",
        "        y1 = len(train_df[train_df[label]==1]) / len(train_df)\n",
        "        weight_list = {0 : y1, \n",
        "                       1 : y0}\n",
        "    \n",
        "        y_onehot = to_categorical(y)\n",
        "        p = pd.DataFrame()\n",
        "        p2 = pd.DataFrame()\n",
        "        idx = 0\n",
        "\n",
        "        for train_index, val_index in sfk.split(x,y) :\n",
        "\n",
        "            x_train, x_val = x[train_index], x[val_index]\n",
        "            y_train, y_val = y[train_index], y[val_index]\n",
        "\n",
        "            lr = LogisticRegression(C=40,\n",
        "                                    class_weight = weight_list) # 분류기 : 로지스틱 회귀\n",
        "            lr.fit(x_train, y_train)\n",
        "            pred = lr.predict(x_test)\n",
        "            prob = lr.predict_proba(x_test)[:,1]\n",
        "            \n",
        "            p[idx] = pred\n",
        "            p2[idx] = prob\n",
        "            idx += 1\n",
        "    \n",
        "            answer[label] = [one(sum(p.loc[i].tolist())) for i in range(pred.shape[0])]\n",
        "            answer_p[label] = [np.sum(p2.loc[i].tolist()) for i in range(pred.shape[0])]\n",
        "\n",
        "\n",
        "    Answer = np.array(answer)\n",
        "    Answer_p = np.array(answer_p)\n",
        "    submis = onehot[:pred.shape[0]]\n",
        "\n",
        "    for row in range(pred.shape[0]) :\n",
        "        if Answer_p[row].max() <= 0.5 :\n",
        "            for idx, value in enumerate(Answer[row]) :\n",
        "                if value == Answer[row].max() :\n",
        "                    submis[row][idx] = 1\n",
        "    \n",
        "    for i in range(pred.shape[0]) :\n",
        "        one_row = []\n",
        "        for cat in cols_target :\n",
        "            if int(submis[i:i+1][cat].values) == 1 :\n",
        "                one_row.append(str(cat))\n",
        "        submission['Labels'][i] = ' '.join(one_row)\n",
        "\n",
        "    name = 'model_'  + str(filename)+ '.csv'\n",
        "    submission.to_csv(name, index=False)\n",
        "    files.download(name)"
      ],
      "execution_count": 522,
      "outputs": []
    },
    {
      "cell_type": "code",
      "metadata": {
        "colab": {
          "base_uri": "https://localhost:8080/",
          "height": 17
        },
        "id": "BLBzPNFaOZwr",
        "outputId": "07f74432-53b4-422a-d5e6-b3ba8702b073"
      },
      "source": [
        "auto('로지스틱회귀:C=40')"
      ],
      "execution_count": 524,
      "outputs": [
        {
          "output_type": "display_data",
          "data": {
            "application/javascript": [
              "\n",
              "    async function download(id, filename, size) {\n",
              "      if (!google.colab.kernel.accessAllowed) {\n",
              "        return;\n",
              "      }\n",
              "      const div = document.createElement('div');\n",
              "      const label = document.createElement('label');\n",
              "      label.textContent = `Downloading \"${filename}\": `;\n",
              "      div.appendChild(label);\n",
              "      const progress = document.createElement('progress');\n",
              "      progress.max = size;\n",
              "      div.appendChild(progress);\n",
              "      document.body.appendChild(div);\n",
              "\n",
              "      const buffers = [];\n",
              "      let downloaded = 0;\n",
              "\n",
              "      const channel = await google.colab.kernel.comms.open(id);\n",
              "      // Send a message to notify the kernel that we're ready.\n",
              "      channel.send({})\n",
              "\n",
              "      for await (const message of channel.messages) {\n",
              "        // Send a message to notify the kernel that we're ready.\n",
              "        channel.send({})\n",
              "        if (message.buffers) {\n",
              "          for (const buffer of message.buffers) {\n",
              "            buffers.push(buffer);\n",
              "            downloaded += buffer.byteLength;\n",
              "            progress.value = downloaded;\n",
              "          }\n",
              "        }\n",
              "      }\n",
              "      const blob = new Blob(buffers, {type: 'application/binary'});\n",
              "      const a = document.createElement('a');\n",
              "      a.href = window.URL.createObjectURL(blob);\n",
              "      a.download = filename;\n",
              "      div.appendChild(a);\n",
              "      a.click();\n",
              "      div.remove();\n",
              "    }\n",
              "  "
            ],
            "text/plain": [
              "<IPython.core.display.Javascript object>"
            ]
          },
          "metadata": {
            "tags": []
          }
        },
        {
          "output_type": "display_data",
          "data": {
            "application/javascript": [
              "download(\"download_c77026eb-8353-4344-8699-facf655cb5d6\", \"model_('\\ub85c\\uc9c0\\uc2a4\\ud2f1\\ud68c\\uadc0:C=40',).csv\", 23689)"
            ],
            "text/plain": [
              "<IPython.core.display.Javascript object>"
            ]
          },
          "metadata": {
            "tags": []
          }
        }
      ]
    }
  ]
}