{
  "nbformat": 4,
  "nbformat_minor": 0,
  "metadata": {
    "colab": {
      "name": "COVID19_tweet.ipynb",
      "provenance": [],
      "authorship_tag": "ABX9TyOp0/S46YSTKdloClyShw3r",
      "include_colab_link": true
    },
    "kernelspec": {
      "name": "python3",
      "display_name": "Python 3"
    },
    "language_info": {
      "name": "python"
    }
  },
  "cells": [
    {
      "cell_type": "markdown",
      "metadata": {
        "id": "view-in-github",
        "colab_type": "text"
      },
      "source": [
        "<a href=\"https://colab.research.google.com/github/Vaycold/statistics_seminar/blob/main/covid19_tweet/Loaded_data.ipynb\" target=\"_parent\"><img src=\"https://colab.research.google.com/assets/colab-badge.svg\" alt=\"Open In Colab\"/></a>"
      ]
    },
    {
      "cell_type": "code",
      "metadata": {
        "colab": {
          "base_uri": "https://localhost:8080/"
        },
        "id": "xMZqGwLal7Tq",
        "outputId": "3b107c8b-545b-4183-fe5a-38481b59faf0"
      },
      "source": [
        "import os\n",
        "import tensorflow as tf\n",
        "from tensorflow import keras\n",
        "import numpy as np\n",
        "import pandas as pd\n",
        "import matplotlib.pyplot as plt\n",
        "import warnings \n",
        "import re\n",
        "\n",
        "warnings.filterwarnings('ignore')\n",
        "\n",
        "os.environ['KAGGLE_USERNAME'] = 'kimgodbang'\n",
        "os.environ['KAGGLE_KEY'] = '1c0e1716b23829d4381dcbced37ba49b'\n",
        "\n",
        "!rm *.*\n",
        "!kaggle competitions download -c sentiment-analysis-of-covid-19-related-tweets\n",
        "\n",
        "train_df = pd.read_csv('training.csv')\n",
        "test_df = pd.read_csv('validation.csv')"
      ],
      "execution_count": 1,
      "outputs": [
        {
          "output_type": "stream",
          "text": [
            "rm: cannot remove '*.*': No such file or directory\n",
            "Warning: Looks like you're using an outdated API Version, please consider updating (server 1.5.12 / client 1.5.4)\n",
            "Downloading validation.csv to /content\n",
            "  0% 0.00/254k [00:00<?, ?B/s]\n",
            "100% 254k/254k [00:00<00:00, 36.7MB/s]\n",
            "Downloading training.csv to /content\n",
            "  0% 0.00/518k [00:00<?, ?B/s]\n",
            "100% 518k/518k [00:00<00:00, 55.2MB/s]\n"
          ],
          "name": "stdout"
        }
      ]
    },
    {
      "cell_type": "code",
      "metadata": {
        "id": "pu81AyUomc6P"
      },
      "source": [
        ""
      ],
      "execution_count": null,
      "outputs": []
    },
    {
      "cell_type": "code",
      "metadata": {
        "id": "dZE4g20Smd13"
      },
      "source": [
        ""
      ],
      "execution_count": null,
      "outputs": []
    }
  ]
}