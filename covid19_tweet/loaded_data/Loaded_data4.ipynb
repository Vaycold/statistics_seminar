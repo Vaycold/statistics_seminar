{
  "nbformat": 4,
  "nbformat_minor": 0,
  "metadata": {
    "colab": {
      "name": "Untitled40.ipynb",
      "provenance": [],
      "authorship_tag": "ABX9TyOSeXzvDI5nN96SzmJAC2mE",
      "include_colab_link": true
    },
    "kernelspec": {
      "name": "python3",
      "display_name": "Python 3"
    },
    "language_info": {
      "name": "python"
    }
  },
  "cells": [
    {
      "cell_type": "markdown",
      "metadata": {
        "id": "view-in-github",
        "colab_type": "text"
      },
      "source": [
        "<a href=\"https://colab.research.google.com/github/Vaycold/statistics_seminar/blob/main/Loaded_data4.ipynb\" target=\"_parent\"><img src=\"https://colab.research.google.com/assets/colab-badge.svg\" alt=\"Open In Colab\"/></a>"
      ]
    },
    {
      "cell_type": "code",
      "metadata": {
        "id": "7mnsV52y3ZHZ"
      },
      "source": [
        ""
      ],
      "execution_count": null,
      "outputs": []
    },
    {
      "cell_type": "code",
      "metadata": {
        "colab": {
          "base_uri": "https://localhost:8080/"
        },
        "id": "xMZqGwLal7Tq",
        "outputId": "c0f496bc-06bc-49d1-c76b-daf3a57a477a"
      },
      "source": [
        "import os\n",
        "\n",
        "import numpy as np\n",
        "import pandas as pd\n",
        "import matplotlib.pyplot as plt\n",
        "import warnings \n",
        "import re\n",
        "\n",
        "import nltk\n",
        "from nltk.corpus import stopwords\n",
        "from nltk.tokenize import word_tokenize\n",
        "from nltk.stem import WordNetLemmatizer\n",
        "\n",
        "import tensorflow as tf\n",
        "from tensorflow import keras\n",
        "from keras.preprocessing.sequence import pad_sequences\n",
        "from keras.preprocessing.text import Tokenizer    \n",
        "from google.colab import files\n",
        "\n",
        "from sklearn.feature_extraction.text import TfidfVectorizer\n",
        "from sklearn.model_selection import StratifiedKFold\n",
        "from sklearn.metrics import f1_score, accuracy_score\n",
        "from sklearn.model_selection import train_test_split\n",
        "\n",
        "\n",
        "warnings.filterwarnings('ignore')\n",
        "\n",
        "os.environ['KAGGLE_USERNAME'] = 'kimgodbang'\n",
        "os.environ['KAGGLE_KEY'] = '1c0e1716b23829d4381dcbced37ba49b'\n",
        "\n",
        "!rm *.*\n",
        "!kaggle competitions download -c sentiment-analysis-of-covid-19-related-tweets\n",
        "\n",
        "train_df = pd.read_csv('training.csv')\n",
        "test_df = pd.read_csv('validation.csv')\n",
        "\n",
        "for module in ['stopwords', 'punkt', 'wordnet'] :\n",
        "    nltk.download(module)"
      ],
      "execution_count": null,
      "outputs": [
        {
          "output_type": "stream",
          "text": [
            "rm: cannot remove '*.*': No such file or directory\n",
            "Warning: Looks like you're using an outdated API Version, please consider updating (server 1.5.12 / client 1.5.4)\n",
            "Downloading validation.csv to /content\n",
            "  0% 0.00/254k [00:00<?, ?B/s]\n",
            "100% 254k/254k [00:00<00:00, 35.2MB/s]\n",
            "Downloading training.csv to /content\n",
            "  0% 0.00/518k [00:00<?, ?B/s]\n",
            "100% 518k/518k [00:00<00:00, 73.2MB/s]\n",
            "[nltk_data] Downloading package stopwords to /root/nltk_data...\n",
            "[nltk_data]   Unzipping corpora/stopwords.zip.\n",
            "[nltk_data] Downloading package punkt to /root/nltk_data...\n",
            "[nltk_data]   Unzipping tokenizers/punkt.zip.\n",
            "[nltk_data] Downloading package wordnet to /root/nltk_data...\n",
            "[nltk_data]   Unzipping corpora/wordnet.zip.\n"
          ],
          "name": "stdout"
        }
      ]
    },
    {
      "cell_type": "code",
      "metadata": {
        "id": "dZE4g20Smd13"
      },
      "source": [
        "def labelsplit(labels) :\n",
        "    \n",
        "    label = labels.replace(' ',',').split(',')\n",
        "    for idx, lab in enumerate(label) :\n",
        "        label[idx] = int(lab)\n",
        "    return label"
      ],
      "execution_count": null,
      "outputs": []
    },
    {
      "cell_type": "code",
      "metadata": {
        "id": "WDV_duLnTTZI"
      },
      "source": [
        "train_df['label']  = train_df['Labels'].apply(lambda x :  labelsplit(x))"
      ],
      "execution_count": null,
      "outputs": []
    },
    {
      "cell_type": "code",
      "metadata": {
        "id": "G1k6WG7kTV7V"
      },
      "source": [
        "onehot = np.zeros((5000,11))\n",
        "for i in range(5000) : # 0~5000 row\n",
        "    for j in train_df.label[i] : # j = value   \n",
        "        onehot[i,j]  = 1\n",
        "cols_target = ['0','1','2','3','4','5','6','7','8','9','10']\n",
        "onehot = pd.DataFrame(onehot, columns=cols_target)"
      ],
      "execution_count": null,
      "outputs": []
    },
    {
      "cell_type": "code",
      "metadata": {
        "id": "TFikCUrtTYoQ"
      },
      "source": [
        "train_df = pd.concat(\n",
        "    [train_df, onehot], axis=1\n",
        ").drop(['ID','Labels', 'label'],axis=1)"
      ],
      "execution_count": null,
      "outputs": []
    },
    {
      "cell_type": "markdown",
      "metadata": {
        "id": "X9iY7aUraIcU"
      },
      "source": [
        "## EDA"
      ]
    },
    {
      "cell_type": "code",
      "metadata": {
        "colab": {
          "base_uri": "https://localhost:8080/",
          "height": 375
        },
        "id": "_-V9ztmOaIB1",
        "outputId": "2e856a2f-46a5-48fa-9c2a-b548b253f231"
      },
      "source": [
        "# 단어의 갯수\n",
        "\n",
        "word_count = train_df['Tweet'].apply(lambda x : len(x.split(' ')))\n",
        "print(f' Tweet 중 단어가 가장 많은 tweet의 단어 수 : {np.max(word_count)}')\n",
        "print(f' Tweet 중 단어가 가장 적은 tweet의 단어 수 : {np.min(word_count)}')\n",
        "print(f' 평균 tweet 의 길이 : {np.mean(word_count)}')\n",
        "print(f' tweet 의 길이의 중간값 : {np.median(word_count)}')\n",
        "print('\\n')\n",
        "plt.hist(word_count, bins=30)\n",
        "plt.show()"
      ],
      "execution_count": null,
      "outputs": [
        {
          "output_type": "stream",
          "text": [
            " Tweet 중 단어가 가장 많은 tweet의 단어 수 : 30\n",
            " Tweet 중 단어가 가장 적은 tweet의 단어 수 : 1\n",
            " 평균 tweet 의 길이 : 16.9214\n",
            " tweet 의 길이의 중간값 : 17.0\n",
            "\n",
            "\n"
          ],
          "name": "stdout"
        },
        {
          "output_type": "display_data",
          "data": {
            "image/png": "[encoded data removed]",
            "text/plain": [
              "<Figure size 432x288 with 1 Axes>"
            ]
          },
          "metadata": {
            "tags": [],
            "needs_background": "light"
          }
        }
      ]
    },
    {
      "cell_type": "markdown",
      "metadata": {
        "id": "Ibwp-5vmPNpW"
      },
      "source": [
        "## 텍스트 클렌징"
      ]
    },
    {
      "cell_type": "code",
      "metadata": {
        "id": "DJMeOtejPOwi"
      },
      "source": [
        "stop = stopwords.words('english')\n",
        "def word_lemmatizer(text):\n",
        "    lem_text = [WordNetLemmatizer().lemmatize(i) for i in text]\n",
        "    return lem_text\n",
        "def  clean_text(df, text_field='Tweet', new_text_field_name='clean_tweet'):\n",
        "    df[new_text_field_name] = df[text_field].str.lower()\n",
        "    df[new_text_field_name] = df[new_text_field_name].apply(lambda x : x.lower())\n",
        "    df[new_text_field_name] = df[new_text_field_name].apply(lambda x : x.replace('corona','covid'))\n",
        "    df[new_text_field_name] = df[new_text_field_name].apply(lambda x : x.replace('coronavirus','virus'))\n",
        "    df[new_text_field_name] = df[new_text_field_name].apply(lambda elem: re.sub(r\"(@[A-Za-z0-9]+)|([^0-9A-Za-z \\t])|(\\w+:\\/\\/\\S+)|^rt|http.+?\", \"\", elem))  \n",
        "    df[new_text_field_name] = df[new_text_field_name].apply(lambda elem: re.sub(r\"\\d+\", \"\", elem))\n",
        "    df[new_text_field_name] = df[new_text_field_name].apply(lambda x: ' '.join([word for word in x.split() if word not in (stop)]))\n",
        "    df[new_text_field_name] = df[new_text_field_name].apply(lambda x: word_tokenize(x))\n",
        "    df[new_text_field_name] = df[new_text_field_name].apply(lambda x: word_lemmatizer(x))\n",
        "    df[new_text_field_name] = df[new_text_field_name].apply(lambda x: ' '.join(x))\n",
        "    return df"
      ],
      "execution_count": null,
      "outputs": []
    },
    {
      "cell_type": "code",
      "metadata": {
        "id": "QwAkp68dQTq-"
      },
      "source": [
        "def clean_df(df) :\n",
        "    DF = clean_text(df, 'Tweet', 'clean_tweet')\n",
        "    try :\n",
        "        DF = DF[['clean_tweet','0', '1', '2', '3', '4', '5', '6', '7', '8', '9', '10']]\n",
        "        DF.columns = ['Tweet','0', '1', '2', '3', '4', '5', '6', '7', '8', '9', '10']\n",
        "    except :\n",
        "        DF = DF[['ID','clean_tweet']]\n",
        "        DF.columns = ['ID','Tweet']\n",
        "    \n",
        "    return DF\n",
        "    \n",
        "def one(x) :\n",
        "    if x > 2 :\n",
        "        return 1\n",
        "    else :\n",
        "        return 0"
      ],
      "execution_count": null,
      "outputs": []
    },
    {
      "cell_type": "code",
      "metadata": {
        "id": "gn7c1-luTde4"
      },
      "source": [
        "train_df = clean_df(train_df)\n",
        "test_df = clean_df(test_df)"
      ],
      "execution_count": null,
      "outputs": []
    },
    {
      "cell_type": "code",
      "metadata": {
        "colab": {
          "base_uri": "https://localhost:8080/",
          "height": 110
        },
        "id": "FxESk9JaSVpE",
        "outputId": "0786c1a9-4600-49a3-d05d-1ee3c4b3d726"
      },
      "source": [
        "train_df.head(2)"
      ],
      "execution_count": null,
      "outputs": [
        {
          "output_type": "execute_result",
          "data": {
            "text/html": [
              "<div>\n",
              "<style scoped>\n",
              "    .dataframe tbody tr th:only-of-type {\n",
              "        vertical-align: middle;\n",
              "    }\n",
              "\n",
              "    .dataframe tbody tr th {\n",
              "        vertical-align: top;\n",
              "    }\n",
              "\n",
              "    .dataframe thead th {\n",
              "        text-align: right;\n",
              "    }\n",
              "</style>\n",
              "<table border=\"1\" class=\"dataframe\">\n",
              "  <thead>\n",
              "    <tr style=\"text-align: right;\">\n",
              "      <th></th>\n",
              "      <th>Tweet</th>\n",
              "      <th>0</th>\n",
              "      <th>1</th>\n",
              "      <th>2</th>\n",
              "      <th>3</th>\n",
              "      <th>4</th>\n",
              "      <th>5</th>\n",
              "      <th>6</th>\n",
              "      <th>7</th>\n",
              "      <th>8</th>\n",
              "      <th>9</th>\n",
              "      <th>10</th>\n",
              "    </tr>\n",
              "  </thead>\n",
              "  <tbody>\n",
              "    <tr>\n",
              "      <th>0</th>\n",
              "      <td>joke hop plane rn well covid lol</td>\n",
              "      <td>1.0</td>\n",
              "      <td>0.0</td>\n",
              "      <td>0.0</td>\n",
              "      <td>0.0</td>\n",
              "      <td>0.0</td>\n",
              "      <td>0.0</td>\n",
              "      <td>0.0</td>\n",
              "      <td>0.0</td>\n",
              "      <td>0.0</td>\n",
              "      <td>0.0</td>\n",
              "      <td>1.0</td>\n",
              "    </tr>\n",
              "    <tr>\n",
              "      <th>1</th>\n",
              "      <td>banmediahouse whose responsible spreading fake...</td>\n",
              "      <td>0.0</td>\n",
              "      <td>0.0</td>\n",
              "      <td>0.0</td>\n",
              "      <td>0.0</td>\n",
              "      <td>0.0</td>\n",
              "      <td>0.0</td>\n",
              "      <td>1.0</td>\n",
              "      <td>0.0</td>\n",
              "      <td>0.0</td>\n",
              "      <td>0.0</td>\n",
              "      <td>0.0</td>\n",
              "    </tr>\n",
              "  </tbody>\n",
              "</table>\n",
              "</div>"
            ],
            "text/plain": [
              "                                               Tweet    0    1  ...    8    9   10\n",
              "0                   joke hop plane rn well covid lol  1.0  0.0  ...  0.0  0.0  1.0\n",
              "1  banmediahouse whose responsible spreading fake...  0.0  0.0  ...  0.0  0.0  0.0\n",
              "\n",
              "[2 rows x 12 columns]"
            ]
          },
          "metadata": {
            "tags": []
          },
          "execution_count": 13
        }
      ]
    },
    {
      "cell_type": "code",
      "metadata": {
        "colab": {
          "base_uri": "https://localhost:8080/",
          "height": 110
        },
        "id": "HzKoXr0DSXmk",
        "outputId": "1d0fa5e5-9a51-4b9d-e6dc-7be12035ac40"
      },
      "source": [
        "test_df.head(2)"
      ],
      "execution_count": null,
      "outputs": [
        {
          "output_type": "execute_result",
          "data": {
            "text/html": [
              "<div>\n",
              "<style scoped>\n",
              "    .dataframe tbody tr th:only-of-type {\n",
              "        vertical-align: middle;\n",
              "    }\n",
              "\n",
              "    .dataframe tbody tr th {\n",
              "        vertical-align: top;\n",
              "    }\n",
              "\n",
              "    .dataframe thead th {\n",
              "        text-align: right;\n",
              "    }\n",
              "</style>\n",
              "<table border=\"1\" class=\"dataframe\">\n",
              "  <thead>\n",
              "    <tr style=\"text-align: right;\">\n",
              "      <th></th>\n",
              "      <th>ID</th>\n",
              "      <th>Tweet</th>\n",
              "    </tr>\n",
              "  </thead>\n",
              "  <tbody>\n",
              "    <tr>\n",
              "      <th>0</th>\n",
              "      <td>5001</td>\n",
              "      <td>forgot math test failing teacher opening back ...</td>\n",
              "    </tr>\n",
              "    <tr>\n",
              "      <th>1</th>\n",
              "      <td>5002</td>\n",
              "      <td>covid effected came delhi bihar lakhisarai dis...</td>\n",
              "    </tr>\n",
              "  </tbody>\n",
              "</table>\n",
              "</div>"
            ],
            "text/plain": [
              "     ID                                              Tweet\n",
              "0  5001  forgot math test failing teacher opening back ...\n",
              "1  5002  covid effected came delhi bihar lakhisarai dis..."
            ]
          },
          "metadata": {
            "tags": []
          },
          "execution_count": 14
        }
      ]
    },
    {
      "cell_type": "code",
      "metadata": {
        "id": "sxR_mDz7o_UW",
        "colab": {
          "base_uri": "https://localhost:8080/"
        },
        "outputId": "310aeceb-f02c-44cb-ef14-66c77f188278"
      },
      "source": [
        "# 단어수 \n",
        "print(len(set([word for words in train_tweet for word in words.split()])))"
      ],
      "execution_count": null,
      "outputs": [
        {
          "output_type": "stream",
          "text": [
            "8517\n"
          ],
          "name": "stdout"
        }
      ]
    },
    {
      "cell_type": "code",
      "metadata": {
        "colab": {
          "base_uri": "https://localhost:8080/",
          "height": 375
        },
        "id": "4Cw84A7IdKdO",
        "outputId": "0c93a168-1a5a-49f2-c0c7-25328316ebb3"
      },
      "source": [
        "word_count = train_df['Tweet'].apply(lambda x : len(x.split(' ')))\n",
        "print(f' Tweet 중 단어가 가장 많은 tweet의 단어 수 : {np.max(word_count)}')\n",
        "print(f' Tweet 중 단어가 가장 적은 tweet의 단어 수 : {np.min(word_count)}')\n",
        "print(f' 평균 tweet 의 길이 : {np.mean(word_count)}')\n",
        "print(f' tweet 의 길이의 중간값 : {np.median(word_count)}')\n",
        "print('\\n')\n",
        "plt.hist(word_count, bins=20)\n",
        "plt.show()"
      ],
      "execution_count": null,
      "outputs": [
        {
          "output_type": "stream",
          "text": [
            " Tweet 중 단어가 가장 많은 tweet의 단어 수 : 21\n",
            " Tweet 중 단어가 가장 적은 tweet의 단어 수 : 1\n",
            " 평균 tweet 의 길이 : 10.1706\n",
            " tweet 의 길이의 중간값 : 10.0\n",
            "\n",
            "\n"
          ],
          "name": "stdout"
        },
        {
          "output_type": "display_data",
          "data": {
            "image/png": "[encoded data removed]",
            "text/plain": [
              "<Figure size 432x288 with 1 Axes>"
            ]
          },
          "metadata": {
            "tags": [],
            "needs_background": "light"
          }
        }
      ]
    },
    {
      "cell_type": "code",
      "metadata": {
        "colab": {
          "base_uri": "https://localhost:8080/"
        },
        "id": "-qLuMqwTeXTl",
        "outputId": "469c72ed-2b5e-434a-bc97-f3c352d872ca"
      },
      "source": [
        "np.quantile(word_count, 0.025)"
      ],
      "execution_count": null,
      "outputs": [
        {
          "output_type": "execute_result",
          "data": {
            "text/plain": [
              "6.0"
            ]
          },
          "metadata": {
            "tags": []
          },
          "execution_count": 492
        }
      ]
    },
    {
      "cell_type": "code",
      "metadata": {
        "id": "nT_Nn8ObsALP",
        "colab": {
          "base_uri": "https://localhost:8080/",
          "height": 375
        },
        "outputId": "21afc6a3-dd17-4558-ae31-6b315bbd4749"
      },
      "source": [
        "word_count = test_df['Tweet'].apply(lambda x : len(x.split(' ')))\n",
        "print(f' Tweet 중 단어가 가장 많은 tweet의 단어 수 : {np.max(word_count)}')\n",
        "print(f' Tweet 중 단어가 가장 적은 tweet의 단어 수 : {np.min(word_count)}')\n",
        "print(f' 평균 tweet 의 길이 : {np.mean(word_count)}')\n",
        "print(f' tweet 의 길이의 중간값 : {np.median(word_count)}')\n",
        "print('\\n')\n",
        "plt.hist(word_count, bins=20)\n",
        "plt.show()"
      ],
      "execution_count": null,
      "outputs": [
        {
          "output_type": "stream",
          "text": [
            " Tweet 중 단어가 가장 많은 tweet의 단어 수 : 20\n",
            " Tweet 중 단어가 가장 적은 tweet의 단어 수 : 1\n",
            " 평균 tweet 의 길이 : 10.1968\n",
            " tweet 의 길이의 중간값 : 10.0\n",
            "\n",
            "\n"
          ],
          "name": "stdout"
        },
        {
          "output_type": "display_data",
          "data": {
            "image/png": "[encoded data removed]",
            "text/plain": [
              "<Figure size 432x288 with 1 Axes>"
            ]
          },
          "metadata": {
            "tags": [],
            "needs_background": "light"
          }
        }
      ]
    },
    {
      "cell_type": "markdown",
      "metadata": {
        "id": "7QSy5IaiVJHg"
      },
      "source": [
        "## 토큰화 및 패딩"
      ]
    },
    {
      "cell_type": "code",
      "metadata": {
        "id": "lsxgF4IWe3qD"
      },
      "source": [
        "train_tweet = train_df['Tweet'].values\n",
        "test_tweet = test_df['Tweet'].values"
      ],
      "execution_count": null,
      "outputs": []
    },
    {
      "cell_type": "code",
      "metadata": {
        "colab": {
          "base_uri": "https://localhost:8080/"
        },
        "id": "PqRWJK3lVyVX",
        "outputId": "f1e6d71e-947d-4c91-967f-91dd4806881d"
      },
      "source": [
        "train_tweet[:2]"
      ],
      "execution_count": null,
      "outputs": [
        {
          "output_type": "execute_result",
          "data": {
            "text/plain": [
              "array(['joke hop plane rn well covid lol',\n",
              "       'banmediahouse whose responsible spreading fake communal story pandemic covid situation'],\n",
              "      dtype=object)"
            ]
          },
          "metadata": {
            "tags": []
          },
          "execution_count": 17
        }
      ]
    },
    {
      "cell_type": "code",
      "metadata": {
        "colab": {
          "base_uri": "https://localhost:8080/"
        },
        "id": "ILyIIMMkV1O7",
        "outputId": "5d9809a1-8074-43fb-d9d8-a6f1d5600d6e"
      },
      "source": [
        "tokenizer = Tokenizer()\n",
        "tokenizer.fit_on_texts(train_tweet)\n",
        "\n",
        "train_token = tokenizer.texts_to_sequences(train_tweet)\n",
        "train_token[0]"
      ],
      "execution_count": null,
      "outputs": [
        {
          "output_type": "execute_result",
          "data": {
            "text/plain": [
              "[8, 1838, 2382, 357, 96, 1, 133]"
            ]
          },
          "metadata": {
            "tags": []
          },
          "execution_count": 18
        }
      ]
    },
    {
      "cell_type": "code",
      "metadata": {
        "colab": {
          "base_uri": "https://localhost:8080/"
        },
        "id": "uLXXTXGzfbFe",
        "outputId": "f966623d-6d2c-4856-a636-7895599e6a34"
      },
      "source": [
        "print(train_tweet[0])\n",
        "print(train_token[0])"
      ],
      "execution_count": null,
      "outputs": [
        {
          "output_type": "stream",
          "text": [
            "joke hop plane rn well covid lol\n",
            "[8, 1838, 2382, 357, 96, 1, 133]\n"
          ],
          "name": "stdout"
        }
      ]
    },
    {
      "cell_type": "code",
      "metadata": {
        "id": "5-AL-elvfKpe"
      },
      "source": [
        "word_vocab = tokenizer.word_index\n",
        "#print(word_vocab)"
      ],
      "execution_count": null,
      "outputs": []
    },
    {
      "cell_type": "code",
      "metadata": {
        "colab": {
          "base_uri": "https://localhost:8080/"
        },
        "id": "B-iJjY8xfp_o",
        "outputId": "905779b2-a1f3-431b-9fd8-bbd7e45dd47d"
      },
      "source": [
        "print(f'단어 전체의 갯수 {len(word_vocab)}')"
      ],
      "execution_count": null,
      "outputs": [
        {
          "output_type": "stream",
          "text": [
            "단어 전체의 갯수 8517\n"
          ],
          "name": "stdout"
        }
      ]
    },
    {
      "cell_type": "code",
      "metadata": {
        "colab": {
          "base_uri": "https://localhost:8080/"
        },
        "id": "lPK1C7GVgn-6",
        "outputId": "f8068bae-8969-4f20-f993-370d3ba4c62b"
      },
      "source": [
        "maxlen = 21 # 전처리 후 최댓값\n",
        "train_pad = pad_sequences(train_token, maxlen = maxlen, padding = 'pre')\n",
        "print(train_tweet[0])\n",
        "print(train_token[0])\n",
        "print(train_pad[0])"
      ],
      "execution_count": null,
      "outputs": [
        {
          "output_type": "stream",
          "text": [
            "joke hop plane rn well covid lol\n",
            "[8, 1838, 2382, 357, 96, 1, 133]\n",
            "[   0    0    0    0    0    0    0    0    0    0    0    0    0    0\n",
            "    8 1838 2382  357   96    1  133]\n"
          ],
          "name": "stdout"
        }
      ]
    },
    {
      "cell_type": "code",
      "metadata": {
        "colab": {
          "base_uri": "https://localhost:8080/"
        },
        "id": "SwYnKqaNjP4S",
        "outputId": "29166cf9-f189-461c-faab-d7645a0aef7e"
      },
      "source": [
        "print(type(train_pad))\n",
        "print(train_pad.shape)\n",
        "print(train_pad[0].shape)"
      ],
      "execution_count": null,
      "outputs": [
        {
          "output_type": "stream",
          "text": [
            "<class 'numpy.ndarray'>\n",
            "(5000, 21)\n",
            "(21,)\n"
          ],
          "name": "stdout"
        }
      ]
    },
    {
      "cell_type": "markdown",
      "metadata": {
        "id": "mi5YQmUDl4yY"
      },
      "source": [
        "## 벡터화\n"
      ]
    },
    {
      "cell_type": "markdown",
      "metadata": {
        "id": "PQbIaO8Ua_tx"
      },
      "source": [
        "### SENTENCEPIECE"
      ]
    },
    {
      "cell_type": "code",
      "metadata": {
        "id": "6SR80m7FiEUx",
        "colab": {
          "base_uri": "https://localhost:8080/"
        },
        "outputId": "4de2a0dd-49b7-4e1e-b503-df499ad3befd"
      },
      "source": [
        "!pip install sentencepiece\n",
        "import sentencepiece as spm"
      ],
      "execution_count": null,
      "outputs": [
        {
          "output_type": "stream",
          "text": [
            "Collecting sentencepiece\n",
            "\u001b[?25l  Downloading https://files.pythonhosted.org/packages/f5/99/e0808cb947ba10f575839c43e8fafc9cc44e4a7a2c8f79c60db48220a577/sentencepiece-0.1.95-cp37-cp37m-manylinux2014_x86_64.whl (1.2MB)\n",
            "\u001b[K     |████████████████████████████████| 1.2MB 12.6MB/s \n",
            "\u001b[?25hInstalling collected packages: sentencepiece\n",
            "Successfully installed sentencepiece-0.1.95\n"
          ],
          "name": "stdout"
        }
      ]
    },
    {
      "cell_type": "code",
      "metadata": {
        "id": "ioKYc6Gyn-Y2",
        "colab": {
          "base_uri": "https://localhost:8080/"
        },
        "outputId": "8ffabb9c-ac07-4c51-c09d-32c340d7d1d5"
      },
      "source": [
        "train_tweet.shape"
      ],
      "execution_count": null,
      "outputs": [
        {
          "output_type": "execute_result",
          "data": {
            "text/plain": [
              "(5000,)"
            ]
          },
          "metadata": {
            "tags": []
          },
          "execution_count": 60
        }
      ]
    },
    {
      "cell_type": "code",
      "metadata": {
        "id": "ggvBUHV5n-Wn"
      },
      "source": [
        "with open('./full_tweet.txt', 'w', encoding='utf-8') as f:\n",
        "    for line in train_tweet :\n",
        "        if len(str(line).strip()) == 0 : continue\n",
        "        try : \n",
        "            f.write(line + '\\n')\n",
        "        except : continue"
      ],
      "execution_count": null,
      "outputs": []
    },
    {
      "cell_type": "code",
      "metadata": {
        "id": "gn73Ce5Ln-UA",
        "colab": {
          "base_uri": "https://localhost:8080/"
        },
        "outputId": "ee60f3fe-69d7-4e07-b13d-c001ba52e438"
      },
      "source": [
        "!cat full_tweet.txt | head -n2"
      ],
      "execution_count": null,
      "outputs": [
        {
          "output_type": "stream",
          "text": [
            "joke hop plane rn well covid lol\n",
            "banmediahouse whose responsible spreading fake communal story pandemic covid situation\n"
          ],
          "name": "stdout"
        }
      ]
    },
    {
      "cell_type": "code",
      "metadata": {
        "id": "fZcdrecLouCP"
      },
      "source": [
        "spm.SentencePieceTrainer.train('--input=full_tweet.txt --model_prefix=m --vocab_size=5000')"
      ],
      "execution_count": null,
      "outputs": []
    },
    {
      "cell_type": "code",
      "metadata": {
        "id": "19LuFXvkpbFX",
        "colab": {
          "base_uri": "https://localhost:8080/"
        },
        "outputId": "a40e9e0f-0f83-4438-8319-6cf8c450ad62"
      },
      "source": [
        "sp = spm.SentencePieceProcessor()\n",
        "sp.load('m.model')"
      ],
      "execution_count": null,
      "outputs": [
        {
          "output_type": "execute_result",
          "data": {
            "text/plain": [
              "True"
            ]
          },
          "metadata": {
            "tags": []
          },
          "execution_count": 72
        }
      ]
    },
    {
      "cell_type": "code",
      "metadata": {
        "id": "_ofl7UH9peYQ"
      },
      "source": [
        "train_df['bow'] = train_df['Tweet'].apply(lambda x : sp.encode_as_ids(str(x)))\n",
        "test_df['bow'] = test_df['Tweet'].apply(lambda x : sp.encode_as_ids(str(x)))"
      ],
      "execution_count": null,
      "outputs": []
    },
    {
      "cell_type": "code",
      "metadata": {
        "id": "L-uhd-KFpeWK",
        "colab": {
          "base_uri": "https://localhost:8080/",
          "height": 110
        },
        "outputId": "17ce75d1-af04-4d7b-aad5-516b16db00f7"
      },
      "source": [
        "train_df.head(2)"
      ],
      "execution_count": null,
      "outputs": [
        {
          "output_type": "execute_result",
          "data": {
            "text/html": [
              "<div>\n",
              "<style scoped>\n",
              "    .dataframe tbody tr th:only-of-type {\n",
              "        vertical-align: middle;\n",
              "    }\n",
              "\n",
              "    .dataframe tbody tr th {\n",
              "        vertical-align: top;\n",
              "    }\n",
              "\n",
              "    .dataframe thead th {\n",
              "        text-align: right;\n",
              "    }\n",
              "</style>\n",
              "<table border=\"1\" class=\"dataframe\">\n",
              "  <thead>\n",
              "    <tr style=\"text-align: right;\">\n",
              "      <th></th>\n",
              "      <th>Tweet</th>\n",
              "      <th>0</th>\n",
              "      <th>1</th>\n",
              "      <th>2</th>\n",
              "      <th>3</th>\n",
              "      <th>4</th>\n",
              "      <th>5</th>\n",
              "      <th>6</th>\n",
              "      <th>7</th>\n",
              "      <th>8</th>\n",
              "      <th>9</th>\n",
              "      <th>10</th>\n",
              "      <th>bow</th>\n",
              "    </tr>\n",
              "  </thead>\n",
              "  <tbody>\n",
              "    <tr>\n",
              "      <th>0</th>\n",
              "      <td>joke hop plane rn well covid lol</td>\n",
              "      <td>1.0</td>\n",
              "      <td>0.0</td>\n",
              "      <td>0.0</td>\n",
              "      <td>0.0</td>\n",
              "      <td>0.0</td>\n",
              "      <td>0.0</td>\n",
              "      <td>0.0</td>\n",
              "      <td>0.0</td>\n",
              "      <td>0.0</td>\n",
              "      <td>0.0</td>\n",
              "      <td>1.0</td>\n",
              "      <td>[22, 369, 2018, 542, 164, 3, 222]</td>\n",
              "    </tr>\n",
              "    <tr>\n",
              "      <th>1</th>\n",
              "      <td>banmediahouse whose responsible spreading fake...</td>\n",
              "      <td>0.0</td>\n",
              "      <td>0.0</td>\n",
              "      <td>0.0</td>\n",
              "      <td>0.0</td>\n",
              "      <td>0.0</td>\n",
              "      <td>0.0</td>\n",
              "      <td>1.0</td>\n",
              "      <td>0.0</td>\n",
              "      <td>0.0</td>\n",
              "      <td>0.0</td>\n",
              "      <td>0.0</td>\n",
              "      <td>[1055, 2401, 2059, 148, 458, 1402, 58, 98, 4, ...</td>\n",
              "    </tr>\n",
              "  </tbody>\n",
              "</table>\n",
              "</div>"
            ],
            "text/plain": [
              "                                               Tweet  ...                                                bow\n",
              "0                   joke hop plane rn well covid lol  ...                  [22, 369, 2018, 542, 164, 3, 222]\n",
              "1  banmediahouse whose responsible spreading fake...  ...  [1055, 2401, 2059, 148, 458, 1402, 58, 98, 4, ...\n",
              "\n",
              "[2 rows x 13 columns]"
            ]
          },
          "metadata": {
            "tags": []
          },
          "execution_count": 80
        }
      ]
    },
    {
      "cell_type": "code",
      "metadata": {
        "id": "MtyrlYnnpeRI",
        "colab": {
          "base_uri": "https://localhost:8080/",
          "height": 110
        },
        "outputId": "e0aef4bb-0be7-4c71-f111-e8f75bfdf580"
      },
      "source": [
        "test_df.head(2)"
      ],
      "execution_count": null,
      "outputs": [
        {
          "output_type": "execute_result",
          "data": {
            "text/html": [
              "<div>\n",
              "<style scoped>\n",
              "    .dataframe tbody tr th:only-of-type {\n",
              "        vertical-align: middle;\n",
              "    }\n",
              "\n",
              "    .dataframe tbody tr th {\n",
              "        vertical-align: top;\n",
              "    }\n",
              "\n",
              "    .dataframe thead th {\n",
              "        text-align: right;\n",
              "    }\n",
              "</style>\n",
              "<table border=\"1\" class=\"dataframe\">\n",
              "  <thead>\n",
              "    <tr style=\"text-align: right;\">\n",
              "      <th></th>\n",
              "      <th>ID</th>\n",
              "      <th>Tweet</th>\n",
              "      <th>bow</th>\n",
              "    </tr>\n",
              "  </thead>\n",
              "  <tbody>\n",
              "    <tr>\n",
              "      <th>0</th>\n",
              "      <td>5001</td>\n",
              "      <td>forgot math test failing teacher opening back ...</td>\n",
              "      <td>[1465, 4023, 42, 828, 4, 5, 1353, 412, 4, 85, ...</td>\n",
              "    </tr>\n",
              "    <tr>\n",
              "      <th>1</th>\n",
              "      <td>5002</td>\n",
              "      <td>covid effected came delhi bihar lakhisarai dis...</td>\n",
              "      <td>[3, 2761, 7, 379, 718, 2801, 233, 1929, 1562, ...</td>\n",
              "    </tr>\n",
              "  </tbody>\n",
              "</table>\n",
              "</div>"
            ],
            "text/plain": [
              "     ID  ...                                                bow\n",
              "0  5001  ...  [1465, 4023, 42, 828, 4, 5, 1353, 412, 4, 85, ...\n",
              "1  5002  ...  [3, 2761, 7, 379, 718, 2801, 233, 1929, 1562, ...\n",
              "\n",
              "[2 rows x 3 columns]"
            ]
          },
          "metadata": {
            "tags": []
          },
          "execution_count": 81
        }
      ]
    },
    {
      "cell_type": "code",
      "metadata": {
        "id": "eYPgy4CcpeFu"
      },
      "source": [
        "train_pad = pad_sequences(train_df['bow'].values, maxlen=22)\n",
        "test_pad = pad_sequences(test_df['bow'].values, maxlen=22)"
      ],
      "execution_count": null,
      "outputs": []
    },
    {
      "cell_type": "code",
      "metadata": {
        "id": "HSdwN5M6sG_m",
        "colab": {
          "base_uri": "https://localhost:8080/"
        },
        "outputId": "9b96fcc9-dfc4-447e-fa72-24ff48775027"
      },
      "source": [
        "train_pad.shape"
      ],
      "execution_count": null,
      "outputs": [
        {
          "output_type": "execute_result",
          "data": {
            "text/plain": [
              "(5000, 22)"
            ]
          },
          "metadata": {
            "tags": []
          },
          "execution_count": 85
        }
      ]
    }
  ]
}