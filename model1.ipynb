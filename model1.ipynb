{
  "nbformat": 4,
  "nbformat_minor": 0,
  "metadata": {
    "colab": {
      "name": "Untitled33.ipynb",
      "provenance": [],
      "toc_visible": true,
      "authorship_tag": "ABX9TyO6Jh1CpbeyZHq465RuSKK3",
      "include_colab_link": true
    },
    "kernelspec": {
      "name": "python3",
      "display_name": "Python 3"
    },
    "language_info": {
      "name": "python"
    },
    "accelerator": "GPU"
  },
  "cells": [
    {
      "cell_type": "markdown",
      "metadata": {
        "id": "view-in-github",
        "colab_type": "text"
      },
      "source": [
        "<a href=\"https://colab.research.google.com/github/Vaycold/statistics_seminar/blob/main/model1.ipynb\" target=\"_parent\"><img src=\"https://colab.research.google.com/assets/colab-badge.svg\" alt=\"Open In Colab\"/></a>"
      ]
    },
    {
      "cell_type": "code",
      "metadata": {
        "id": "P_5dlnLJhIKK"
      },
      "source": [
        "import os\n",
        "import tensorflow as tf\n",
        "from tensorflow import keras\n",
        "import numpy as np\n",
        "import pandas as pd\n",
        "import matplotlib.pyplot as plt\n",
        "os.environ['KAGGLE_USERNAME'] = 'kimgodbang'\n",
        "os.environ['KAGGLE_KEY'] = '1c0e1716b23829d4381dcbced37ba49b'"
      ],
      "execution_count": 3,
      "outputs": []
    },
    {
      "cell_type": "code",
      "metadata": {
        "colab": {
          "base_uri": "https://localhost:8080/"
        },
        "id": "qTg2__JqhJe3",
        "outputId": "d8ddadb2-31fa-4487-eb9c-8a4e39bb7872"
      },
      "source": [
        "!rm *.*\n",
        "!kaggle competitions download -c sentiment-analysis-of-covid-19-related-tweets"
      ],
      "execution_count": 4,
      "outputs": [
        {
          "output_type": "stream",
          "text": [
            "Warning: Looks like you're using an outdated API Version, please consider updating (server 1.5.12 / client 1.5.4)\n",
            "Downloading validation.csv to /content\n",
            "  0% 0.00/254k [00:00<?, ?B/s]\n",
            "100% 254k/254k [00:00<00:00, 38.2MB/s]\n",
            "Downloading training.csv to /content\n",
            "  0% 0.00/518k [00:00<?, ?B/s]\n",
            "100% 518k/518k [00:00<00:00, 34.6MB/s]\n"
          ],
          "name": "stdout"
        }
      ]
    },
    {
      "cell_type": "code",
      "metadata": {
        "id": "yXnlElH6hM9f"
      },
      "source": [
        "df = pd.read_csv('training.csv')"
      ],
      "execution_count": 5,
      "outputs": []
    },
    {
      "cell_type": "code",
      "metadata": {
        "colab": {
          "base_uri": "https://localhost:8080/"
        },
        "id": "HZqbvR0KmnQV",
        "outputId": "e1d0ece3-f41e-4258-882b-03001f62fb82"
      },
      "source": [
        "df.shape"
      ],
      "execution_count": 6,
      "outputs": [
        {
          "output_type": "execute_result",
          "data": {
            "text/plain": [
              "(5000, 3)"
            ]
          },
          "metadata": {
            "tags": []
          },
          "execution_count": 6
        }
      ]
    },
    {
      "cell_type": "code",
      "metadata": {
        "colab": {
          "base_uri": "https://localhost:8080/"
        },
        "id": "cuOTSfvChRRo",
        "outputId": "771f81b1-a50d-4de5-9c9d-87e18a00b870"
      },
      "source": [
        "onehot = np.zeros((5000,11))\n",
        "onehot.shape"
      ],
      "execution_count": 7,
      "outputs": [
        {
          "output_type": "execute_result",
          "data": {
            "text/plain": [
              "(5000, 11)"
            ]
          },
          "metadata": {
            "tags": []
          },
          "execution_count": 7
        }
      ]
    },
    {
      "cell_type": "code",
      "metadata": {
        "id": "ka6QmRusj51W"
      },
      "source": [
        "def labelsplit(labels) :\n",
        "    \n",
        "    label = labels.replace(' ',',').split(',')\n",
        "    for idx, lab in enumerate(label) :\n",
        "        label[idx] = int(lab)\n",
        "    return label"
      ],
      "execution_count": 8,
      "outputs": []
    },
    {
      "cell_type": "code",
      "metadata": {
        "id": "EBCnDIhaj7jf"
      },
      "source": [
        "df['label']  = df['Labels'].apply(lambda x :  labelsplit(x))"
      ],
      "execution_count": 9,
      "outputs": []
    },
    {
      "cell_type": "code",
      "metadata": {
        "colab": {
          "base_uri": "https://localhost:8080/",
          "height": 195
        },
        "id": "Lq44VfuOkMX2",
        "outputId": "b6f84ce5-2f82-4b61-b045-cfbe0280386c"
      },
      "source": [
        "df.head()"
      ],
      "execution_count": 10,
      "outputs": [
        {
          "output_type": "execute_result",
          "data": {
            "text/html": [
              "<div>\n",
              "<style scoped>\n",
              "    .dataframe tbody tr th:only-of-type {\n",
              "        vertical-align: middle;\n",
              "    }\n",
              "\n",
              "    .dataframe tbody tr th {\n",
              "        vertical-align: top;\n",
              "    }\n",
              "\n",
              "    .dataframe thead th {\n",
              "        text-align: right;\n",
              "    }\n",
              "</style>\n",
              "<table border=\"1\" class=\"dataframe\">\n",
              "  <thead>\n",
              "    <tr style=\"text-align: right;\">\n",
              "      <th></th>\n",
              "      <th>ID</th>\n",
              "      <th>Tweet</th>\n",
              "      <th>Labels</th>\n",
              "      <th>label</th>\n",
              "    </tr>\n",
              "  </thead>\n",
              "  <tbody>\n",
              "    <tr>\n",
              "      <th>0</th>\n",
              "      <td>1</td>\n",
              "      <td>NO JOKE I WILL HOP ON A PLANE RN! (Well after ...</td>\n",
              "      <td>0 10</td>\n",
              "      <td>[0, 10]</td>\n",
              "    </tr>\n",
              "    <tr>\n",
              "      <th>1</th>\n",
              "      <td>2</td>\n",
              "      <td>BanMediaHouse whose is responsible for spreadi...</td>\n",
              "      <td>6</td>\n",
              "      <td>[6]</td>\n",
              "    </tr>\n",
              "    <tr>\n",
              "      <th>2</th>\n",
              "      <td>3</td>\n",
              "      <td>Im waiting for someone to say to me that all t...</td>\n",
              "      <td>3 4</td>\n",
              "      <td>[3, 4]</td>\n",
              "    </tr>\n",
              "    <tr>\n",
              "      <th>3</th>\n",
              "      <td>4</td>\n",
              "      <td>He is a liar. Proven day night. Time again. Li...</td>\n",
              "      <td>6</td>\n",
              "      <td>[6]</td>\n",
              "    </tr>\n",
              "    <tr>\n",
              "      <th>4</th>\n",
              "      <td>5</td>\n",
              "      <td>NEW: U.S. CoronaVirus death toll reaches 4,000...</td>\n",
              "      <td>8</td>\n",
              "      <td>[8]</td>\n",
              "    </tr>\n",
              "  </tbody>\n",
              "</table>\n",
              "</div>"
            ],
            "text/plain": [
              "   ID                                              Tweet Labels    label\n",
              "0   1  NO JOKE I WILL HOP ON A PLANE RN! (Well after ...   0 10  [0, 10]\n",
              "1   2  BanMediaHouse whose is responsible for spreadi...      6      [6]\n",
              "2   3  Im waiting for someone to say to me that all t...    3 4   [3, 4]\n",
              "3   4  He is a liar. Proven day night. Time again. Li...      6      [6]\n",
              "4   5  NEW: U.S. CoronaVirus death toll reaches 4,000...      8      [8]"
            ]
          },
          "metadata": {
            "tags": []
          },
          "execution_count": 10
        }
      ]
    },
    {
      "cell_type": "code",
      "metadata": {
        "id": "YH0ka-idkXgx"
      },
      "source": [
        "onehot = np.zeros((5000,11))\n",
        "for i in range(5000) : # 0~5000 row\n",
        "    for j in df.label[i] : # j = value   \n",
        "        onehot[i,j]  = 1"
      ],
      "execution_count": 11,
      "outputs": []
    },
    {
      "cell_type": "code",
      "metadata": {
        "id": "l0cLSxaspmPR"
      },
      "source": [
        "all_tweet = np.array(df.Tweet.values)\n",
        "with open('./all_tweet.txt', 'w', encoding='utf-8') as f:\n",
        "    for line in all_tweet : \n",
        "        if len(str(line).strip()) == 0 : continue\n",
        "        try : \n",
        "            f.write(line + '\\n')\n",
        "        except : continue"
      ],
      "execution_count": 12,
      "outputs": []
    },
    {
      "cell_type": "code",
      "metadata": {
        "colab": {
          "base_uri": "https://localhost:8080/"
        },
        "id": "iEECIYiRrdyo",
        "outputId": "1c597d38-2a36-4518-9d54-9dcb1e18ed89"
      },
      "source": [
        "!cat all_tweet.txt |head -n10"
      ],
      "execution_count": 13,
      "outputs": [
        {
          "output_type": "stream",
          "text": [
            "NO JOKE I WILL HOP ON A PLANE RN! (Well after COVID19 lol)\n",
            "BanMediaHouse whose is responsible for spreading Fake and communal Stories in this pandemic Corona situation.\n",
            "Im waiting for someone to say to me that all this corona thing is just an April fools joke\n",
            "He is a liar. Proven day night. Time again. Lies when the truth will do. COVID19\n",
            "NEW: U.S. CoronaVirus death toll reaches 4,000 after nearly 900 new deaths were reported today (BNO News) Covid19 CoronaVirusOutbreak\n",
            "Coronavirus impact Govt extends I-T deadlines related to Sections 80C, 80D\n",
            "42,000 people might have died in China from Covid19 but China was underreporting according to sources.\n",
            "Dear Chinese! Kindly cook your bat thoroughly next time. Regards, COVID19 CoronaVirusUpdates CoronaVirus\n",
            "This is how the govt of kenya is checking the temperatures of COVID19 and saying it is still low. Mtashangaa sana.\n",
            "My mental health hasn't suffered at all under the coronavirus quarantine! Ha-ha, April Fools.\n"
          ],
          "name": "stdout"
        }
      ]
    },
    {
      "cell_type": "code",
      "metadata": {
        "colab": {
          "base_uri": "https://localhost:8080/"
        },
        "id": "W5uJt2_5rfFV",
        "outputId": "c0704ca3-53cc-41c3-b11e-c46e28dab33a"
      },
      "source": [
        "!pip install sentencepiece\n",
        "import sentencepiece as spm"
      ],
      "execution_count": 14,
      "outputs": [
        {
          "output_type": "stream",
          "text": [
            "Collecting sentencepiece\n",
            "\u001b[?25l  Downloading https://files.pythonhosted.org/packages/f5/99/e0808cb947ba10f575839c43e8fafc9cc44e4a7a2c8f79c60db48220a577/sentencepiece-0.1.95-cp37-cp37m-manylinux2014_x86_64.whl (1.2MB)\n",
            "\r\u001b[K     |▎                               | 10kB 14.3MB/s eta 0:00:01\r\u001b[K     |▌                               | 20kB 19.5MB/s eta 0:00:01\r\u001b[K     |▉                               | 30kB 22.1MB/s eta 0:00:01\r\u001b[K     |█                               | 40kB 20.5MB/s eta 0:00:01\r\u001b[K     |█▍                              | 51kB 15.6MB/s eta 0:00:01\r\u001b[K     |█▋                              | 61kB 12.1MB/s eta 0:00:01\r\u001b[K     |██                              | 71kB 13.4MB/s eta 0:00:01\r\u001b[K     |██▏                             | 81kB 13.3MB/s eta 0:00:01\r\u001b[K     |██▌                             | 92kB 14.3MB/s eta 0:00:01\r\u001b[K     |██▊                             | 102kB 15.3MB/s eta 0:00:01\r\u001b[K     |███                             | 112kB 15.3MB/s eta 0:00:01\r\u001b[K     |███▎                            | 122kB 15.3MB/s eta 0:00:01\r\u001b[K     |███▌                            | 133kB 15.3MB/s eta 0:00:01\r\u001b[K     |███▉                            | 143kB 15.3MB/s eta 0:00:01\r\u001b[K     |████                            | 153kB 15.3MB/s eta 0:00:01\r\u001b[K     |████▍                           | 163kB 15.3MB/s eta 0:00:01\r\u001b[K     |████▋                           | 174kB 15.3MB/s eta 0:00:01\r\u001b[K     |█████                           | 184kB 15.3MB/s eta 0:00:01\r\u001b[K     |█████▏                          | 194kB 15.3MB/s eta 0:00:01\r\u001b[K     |█████▌                          | 204kB 15.3MB/s eta 0:00:01\r\u001b[K     |█████▊                          | 215kB 15.3MB/s eta 0:00:01\r\u001b[K     |██████                          | 225kB 15.3MB/s eta 0:00:01\r\u001b[K     |██████▎                         | 235kB 15.3MB/s eta 0:00:01\r\u001b[K     |██████▌                         | 245kB 15.3MB/s eta 0:00:01\r\u001b[K     |██████▉                         | 256kB 15.3MB/s eta 0:00:01\r\u001b[K     |███████                         | 266kB 15.3MB/s eta 0:00:01\r\u001b[K     |███████▍                        | 276kB 15.3MB/s eta 0:00:01\r\u001b[K     |███████▋                        | 286kB 15.3MB/s eta 0:00:01\r\u001b[K     |████████                        | 296kB 15.3MB/s eta 0:00:01\r\u001b[K     |████████▏                       | 307kB 15.3MB/s eta 0:00:01\r\u001b[K     |████████▍                       | 317kB 15.3MB/s eta 0:00:01\r\u001b[K     |████████▊                       | 327kB 15.3MB/s eta 0:00:01\r\u001b[K     |█████████                       | 337kB 15.3MB/s eta 0:00:01\r\u001b[K     |█████████▎                      | 348kB 15.3MB/s eta 0:00:01\r\u001b[K     |█████████▌                      | 358kB 15.3MB/s eta 0:00:01\r\u001b[K     |█████████▉                      | 368kB 15.3MB/s eta 0:00:01\r\u001b[K     |██████████                      | 378kB 15.3MB/s eta 0:00:01\r\u001b[K     |██████████▍                     | 389kB 15.3MB/s eta 0:00:01\r\u001b[K     |██████████▋                     | 399kB 15.3MB/s eta 0:00:01\r\u001b[K     |███████████                     | 409kB 15.3MB/s eta 0:00:01\r\u001b[K     |███████████▏                    | 419kB 15.3MB/s eta 0:00:01\r\u001b[K     |███████████▍                    | 430kB 15.3MB/s eta 0:00:01\r\u001b[K     |███████████▊                    | 440kB 15.3MB/s eta 0:00:01\r\u001b[K     |████████████                    | 450kB 15.3MB/s eta 0:00:01\r\u001b[K     |████████████▎                   | 460kB 15.3MB/s eta 0:00:01\r\u001b[K     |████████████▌                   | 471kB 15.3MB/s eta 0:00:01\r\u001b[K     |████████████▉                   | 481kB 15.3MB/s eta 0:00:01\r\u001b[K     |█████████████                   | 491kB 15.3MB/s eta 0:00:01\r\u001b[K     |█████████████▍                  | 501kB 15.3MB/s eta 0:00:01\r\u001b[K     |█████████████▋                  | 512kB 15.3MB/s eta 0:00:01\r\u001b[K     |█████████████▉                  | 522kB 15.3MB/s eta 0:00:01\r\u001b[K     |██████████████▏                 | 532kB 15.3MB/s eta 0:00:01\r\u001b[K     |██████████████▍                 | 542kB 15.3MB/s eta 0:00:01\r\u001b[K     |██████████████▊                 | 552kB 15.3MB/s eta 0:00:01\r\u001b[K     |███████████████                 | 563kB 15.3MB/s eta 0:00:01\r\u001b[K     |███████████████▎                | 573kB 15.3MB/s eta 0:00:01\r\u001b[K     |███████████████▌                | 583kB 15.3MB/s eta 0:00:01\r\u001b[K     |███████████████▉                | 593kB 15.3MB/s eta 0:00:01\r\u001b[K     |████████████████                | 604kB 15.3MB/s eta 0:00:01\r\u001b[K     |████████████████▍               | 614kB 15.3MB/s eta 0:00:01\r\u001b[K     |████████████████▋               | 624kB 15.3MB/s eta 0:00:01\r\u001b[K     |████████████████▉               | 634kB 15.3MB/s eta 0:00:01\r\u001b[K     |█████████████████▏              | 645kB 15.3MB/s eta 0:00:01\r\u001b[K     |█████████████████▍              | 655kB 15.3MB/s eta 0:00:01\r\u001b[K     |█████████████████▊              | 665kB 15.3MB/s eta 0:00:01\r\u001b[K     |██████████████████              | 675kB 15.3MB/s eta 0:00:01\r\u001b[K     |██████████████████▎             | 686kB 15.3MB/s eta 0:00:01\r\u001b[K     |██████████████████▌             | 696kB 15.3MB/s eta 0:00:01\r\u001b[K     |██████████████████▉             | 706kB 15.3MB/s eta 0:00:01\r\u001b[K     |███████████████████             | 716kB 15.3MB/s eta 0:00:01\r\u001b[K     |███████████████████▎            | 727kB 15.3MB/s eta 0:00:01\r\u001b[K     |███████████████████▋            | 737kB 15.3MB/s eta 0:00:01\r\u001b[K     |███████████████████▉            | 747kB 15.3MB/s eta 0:00:01\r\u001b[K     |████████████████████▏           | 757kB 15.3MB/s eta 0:00:01\r\u001b[K     |████████████████████▍           | 768kB 15.3MB/s eta 0:00:01\r\u001b[K     |████████████████████▊           | 778kB 15.3MB/s eta 0:00:01\r\u001b[K     |█████████████████████           | 788kB 15.3MB/s eta 0:00:01\r\u001b[K     |█████████████████████▎          | 798kB 15.3MB/s eta 0:00:01\r\u001b[K     |█████████████████████▌          | 808kB 15.3MB/s eta 0:00:01\r\u001b[K     |█████████████████████▉          | 819kB 15.3MB/s eta 0:00:01\r\u001b[K     |██████████████████████          | 829kB 15.3MB/s eta 0:00:01\r\u001b[K     |██████████████████████▎         | 839kB 15.3MB/s eta 0:00:01\r\u001b[K     |██████████████████████▋         | 849kB 15.3MB/s eta 0:00:01\r\u001b[K     |██████████████████████▉         | 860kB 15.3MB/s eta 0:00:01\r\u001b[K     |███████████████████████▏        | 870kB 15.3MB/s eta 0:00:01\r\u001b[K     |███████████████████████▍        | 880kB 15.3MB/s eta 0:00:01\r\u001b[K     |███████████████████████▊        | 890kB 15.3MB/s eta 0:00:01\r\u001b[K     |████████████████████████        | 901kB 15.3MB/s eta 0:00:01\r\u001b[K     |████████████████████████▎       | 911kB 15.3MB/s eta 0:00:01\r\u001b[K     |████████████████████████▌       | 921kB 15.3MB/s eta 0:00:01\r\u001b[K     |████████████████████████▊       | 931kB 15.3MB/s eta 0:00:01\r\u001b[K     |█████████████████████████       | 942kB 15.3MB/s eta 0:00:01\r\u001b[K     |█████████████████████████▎      | 952kB 15.3MB/s eta 0:00:01\r\u001b[K     |█████████████████████████▋      | 962kB 15.3MB/s eta 0:00:01\r\u001b[K     |█████████████████████████▉      | 972kB 15.3MB/s eta 0:00:01\r\u001b[K     |██████████████████████████▏     | 983kB 15.3MB/s eta 0:00:01\r\u001b[K     |██████████████████████████▍     | 993kB 15.3MB/s eta 0:00:01\r\u001b[K     |██████████████████████████▊     | 1.0MB 15.3MB/s eta 0:00:01\r\u001b[K     |███████████████████████████     | 1.0MB 15.3MB/s eta 0:00:01\r\u001b[K     |███████████████████████████▎    | 1.0MB 15.3MB/s eta 0:00:01\r\u001b[K     |███████████████████████████▌    | 1.0MB 15.3MB/s eta 0:00:01\r\u001b[K     |███████████████████████████▊    | 1.0MB 15.3MB/s eta 0:00:01\r\u001b[K     |████████████████████████████    | 1.1MB 15.3MB/s eta 0:00:01\r\u001b[K     |████████████████████████████▎   | 1.1MB 15.3MB/s eta 0:00:01\r\u001b[K     |████████████████████████████▋   | 1.1MB 15.3MB/s eta 0:00:01\r\u001b[K     |████████████████████████████▉   | 1.1MB 15.3MB/s eta 0:00:01\r\u001b[K     |█████████████████████████████▏  | 1.1MB 15.3MB/s eta 0:00:01\r\u001b[K     |█████████████████████████████▍  | 1.1MB 15.3MB/s eta 0:00:01\r\u001b[K     |█████████████████████████████▊  | 1.1MB 15.3MB/s eta 0:00:01\r\u001b[K     |██████████████████████████████  | 1.1MB 15.3MB/s eta 0:00:01\r\u001b[K     |██████████████████████████████▏ | 1.1MB 15.3MB/s eta 0:00:01\r\u001b[K     |██████████████████████████████▌ | 1.1MB 15.3MB/s eta 0:00:01\r\u001b[K     |██████████████████████████████▊ | 1.2MB 15.3MB/s eta 0:00:01\r\u001b[K     |███████████████████████████████ | 1.2MB 15.3MB/s eta 0:00:01\r\u001b[K     |███████████████████████████████▎| 1.2MB 15.3MB/s eta 0:00:01\r\u001b[K     |███████████████████████████████▋| 1.2MB 15.3MB/s eta 0:00:01\r\u001b[K     |███████████████████████████████▉| 1.2MB 15.3MB/s eta 0:00:01\r\u001b[K     |████████████████████████████████| 1.2MB 15.3MB/s \n",
            "\u001b[?25hInstalling collected packages: sentencepiece\n",
            "Successfully installed sentencepiece-0.1.95\n"
          ],
          "name": "stdout"
        }
      ]
    },
    {
      "cell_type": "code",
      "metadata": {
        "colab": {
          "base_uri": "https://localhost:8080/"
        },
        "id": "kxwUCtv6rgo_",
        "outputId": "665bdf0e-93c0-4acb-8b84-b421b1c47600"
      },
      "source": [
        "spm.SentencePieceTrainer.train('--input=all_tweet.txt --model_prefix=m --vocab_size=8987')\n",
        "sp =spm.SentencePieceProcessor()\n",
        "sp.load('m.model')"
      ],
      "execution_count": 15,
      "outputs": [
        {
          "output_type": "execute_result",
          "data": {
            "text/plain": [
              "True"
            ]
          },
          "metadata": {
            "tags": []
          },
          "execution_count": 15
        }
      ]
    },
    {
      "cell_type": "code",
      "metadata": {
        "colab": {
          "base_uri": "https://localhost:8080/"
        },
        "id": "V4WktslHrrfV",
        "outputId": "aede729f-5918-4e77-8a58-97b915ccf560"
      },
      "source": [
        "train_df = df[:4000]\n",
        "test_df  = df[4000:]\n",
        "print(train_df.shape, test_df.shape)"
      ],
      "execution_count": 16,
      "outputs": [
        {
          "output_type": "stream",
          "text": [
            "(4000, 4) (1000, 4)\n"
          ],
          "name": "stdout"
        }
      ]
    },
    {
      "cell_type": "code",
      "metadata": {
        "id": "kTS1r18tr6Wp"
      },
      "source": [
        "train_onehot = onehot[:4000]\n",
        "test_onehot = onehot[4000:]"
      ],
      "execution_count": 17,
      "outputs": []
    },
    {
      "cell_type": "code",
      "metadata": {
        "colab": {
          "base_uri": "https://localhost:8080/"
        },
        "id": "CBHLdydDsNvt",
        "outputId": "f35d26b3-3d0b-47b4-e2fd-e11c017b104f"
      },
      "source": [
        "print(train_onehot.shape, test_onehot.shape)"
      ],
      "execution_count": 18,
      "outputs": [
        {
          "output_type": "stream",
          "text": [
            "(4000, 11) (1000, 11)\n"
          ],
          "name": "stdout"
        }
      ]
    },
    {
      "cell_type": "code",
      "metadata": {
        "colab": {
          "base_uri": "https://localhost:8080/"
        },
        "id": "yDltER61sQyQ",
        "outputId": "0e68630c-3224-4e07-b6f1-25af1e706e58"
      },
      "source": [
        "train_df['Tweet']"
      ],
      "execution_count": 19,
      "outputs": [
        {
          "output_type": "execute_result",
          "data": {
            "text/plain": [
              "0       NO JOKE I WILL HOP ON A PLANE RN! (Well after ...\n",
              "1       BanMediaHouse whose is responsible for spreadi...\n",
              "2       Im waiting for someone to say to me that all t...\n",
              "3       He is a liar. Proven day night. Time again. Li...\n",
              "4       NEW: U.S. CoronaVirus death toll reaches 4,000...\n",
              "                              ...                        \n",
              "3995    You wouldnt have to worry about getting the co...\n",
              "3996    i'm gonna go ahead and say it, i fucking hate ...\n",
              "3997    It tells why kerala has exploding case of coro...\n",
              "3998    ready for corona to call it a joke haha you al...\n",
              "3999    is my car loan emi (7/4/2020) dedecated from m...\n",
              "Name: Tweet, Length: 4000, dtype: object"
            ]
          },
          "metadata": {
            "tags": []
          },
          "execution_count": 19
        }
      ]
    },
    {
      "cell_type": "code",
      "metadata": {
        "colab": {
          "base_uri": "https://localhost:8080/"
        },
        "id": "4_q6Qoi0sXRd",
        "outputId": "446b8324-5e88-4be2-9ca3-06518a2bff4a"
      },
      "source": [
        "train_df['bow'] = train_df['Tweet'].apply(lambda x : sp.encode_as_ids(str(x)))\n",
        "test_df['bow'] = test_df['Tweet'].apply(lambda x : sp.encode_as_ids(str(x)))"
      ],
      "execution_count": 20,
      "outputs": [
        {
          "output_type": "stream",
          "text": [
            "/usr/local/lib/python3.7/dist-packages/ipykernel_launcher.py:1: SettingWithCopyWarning: \n",
            "A value is trying to be set on a copy of a slice from a DataFrame.\n",
            "Try using .loc[row_indexer,col_indexer] = value instead\n",
            "\n",
            "See the caveats in the documentation: https://pandas.pydata.org/pandas-docs/stable/user_guide/indexing.html#returning-a-view-versus-a-copy\n",
            "  \"\"\"Entry point for launching an IPython kernel.\n",
            "/usr/local/lib/python3.7/dist-packages/ipykernel_launcher.py:2: SettingWithCopyWarning: \n",
            "A value is trying to be set on a copy of a slice from a DataFrame.\n",
            "Try using .loc[row_indexer,col_indexer] = value instead\n",
            "\n",
            "See the caveats in the documentation: https://pandas.pydata.org/pandas-docs/stable/user_guide/indexing.html#returning-a-view-versus-a-copy\n",
            "  \n"
          ],
          "name": "stderr"
        }
      ]
    },
    {
      "cell_type": "code",
      "metadata": {
        "colab": {
          "base_uri": "https://localhost:8080/",
          "height": 195
        },
        "id": "dcgkyCznslMb",
        "outputId": "d82bbd4f-b332-4ad9-b5d7-0f22b4478d36"
      },
      "source": [
        "train_df.head()"
      ],
      "execution_count": 21,
      "outputs": [
        {
          "output_type": "execute_result",
          "data": {
            "text/html": [
              "<div>\n",
              "<style scoped>\n",
              "    .dataframe tbody tr th:only-of-type {\n",
              "        vertical-align: middle;\n",
              "    }\n",
              "\n",
              "    .dataframe tbody tr th {\n",
              "        vertical-align: top;\n",
              "    }\n",
              "\n",
              "    .dataframe thead th {\n",
              "        text-align: right;\n",
              "    }\n",
              "</style>\n",
              "<table border=\"1\" class=\"dataframe\">\n",
              "  <thead>\n",
              "    <tr style=\"text-align: right;\">\n",
              "      <th></th>\n",
              "      <th>ID</th>\n",
              "      <th>Tweet</th>\n",
              "      <th>Labels</th>\n",
              "      <th>label</th>\n",
              "      <th>bow</th>\n",
              "    </tr>\n",
              "  </thead>\n",
              "  <tbody>\n",
              "    <tr>\n",
              "      <th>0</th>\n",
              "      <td>1</td>\n",
              "      <td>NO JOKE I WILL HOP ON A PLANE RN! (Well after ...</td>\n",
              "      <td>0 10</td>\n",
              "      <td>[0, 10]</td>\n",
              "      <td>[1535, 1582, 10, 1444, 6555, 1481, 77, 4838, 5...</td>\n",
              "    </tr>\n",
              "    <tr>\n",
              "      <th>1</th>\n",
              "      <td>2</td>\n",
              "      <td>BanMediaHouse whose is responsible for spreadi...</td>\n",
              "      <td>6</td>\n",
              "      <td>[6]</td>\n",
              "      <td>[1921, 4543, 4546, 79, 506, 14, 2075, 148, 19,...</td>\n",
              "    </tr>\n",
              "    <tr>\n",
              "      <th>2</th>\n",
              "      <td>3</td>\n",
              "      <td>Im waiting for someone to say to me that all t...</td>\n",
              "      <td>3 4</td>\n",
              "      <td>[3, 4]</td>\n",
              "      <td>[76, 182, 8, 19, 245, 6, 82, 6, 37, 28, 49, 21...</td>\n",
              "    </tr>\n",
              "    <tr>\n",
              "      <th>3</th>\n",
              "      <td>4</td>\n",
              "      <td>He is a liar. Proven day night. Time again. Li...</td>\n",
              "      <td>6</td>\n",
              "      <td>[6]</td>\n",
              "      <td>[360, 14, 9, 2977, 3, 4436, 4293, 102, 552, 3,...</td>\n",
              "    </tr>\n",
              "    <tr>\n",
              "      <th>4</th>\n",
              "      <td>5</td>\n",
              "      <td>NEW: U.S. CoronaVirus death toll reaches 4,000...</td>\n",
              "      <td>8</td>\n",
              "      <td>[8]</td>\n",
              "      <td>[1571, 42, 306, 3, 137, 3, 269, 201, 525, 854,...</td>\n",
              "    </tr>\n",
              "  </tbody>\n",
              "</table>\n",
              "</div>"
            ],
            "text/plain": [
              "   ID  ...                                                bow\n",
              "0   1  ...  [1535, 1582, 10, 1444, 6555, 1481, 77, 4838, 5...\n",
              "1   2  ...  [1921, 4543, 4546, 79, 506, 14, 2075, 148, 19,...\n",
              "2   3  ...  [76, 182, 8, 19, 245, 6, 82, 6, 37, 28, 49, 21...\n",
              "3   4  ...  [360, 14, 9, 2977, 3, 4436, 4293, 102, 552, 3,...\n",
              "4   5  ...  [1571, 42, 306, 3, 137, 3, 269, 201, 525, 854,...\n",
              "\n",
              "[5 rows x 5 columns]"
            ]
          },
          "metadata": {
            "tags": []
          },
          "execution_count": 21
        }
      ]
    },
    {
      "cell_type": "code",
      "metadata": {
        "id": "wp20ntZFsmf-"
      },
      "source": [
        "train_text = train_df['bow'].values\n",
        "test_text = test_df['bow'].values"
      ],
      "execution_count": 22,
      "outputs": []
    },
    {
      "cell_type": "code",
      "metadata": {
        "colab": {
          "base_uri": "https://localhost:8080/"
        },
        "id": "vbJ23131s5KY",
        "outputId": "771729da-04af-4300-c725-66cc601c5005"
      },
      "source": [
        "train_text.shape, test_text.shape"
      ],
      "execution_count": 23,
      "outputs": [
        {
          "output_type": "execute_result",
          "data": {
            "text/plain": [
              "((4000,), (1000,))"
            ]
          },
          "metadata": {
            "tags": []
          },
          "execution_count": 23
        }
      ]
    },
    {
      "cell_type": "code",
      "metadata": {
        "colab": {
          "base_uri": "https://localhost:8080/"
        },
        "id": "hAbrVwgqs7Ob",
        "outputId": "3284930a-0206-4058-e2a9-d52ce7f29a2a"
      },
      "source": [
        "train_text[:2]"
      ],
      "execution_count": 24,
      "outputs": [
        {
          "output_type": "execute_result",
          "data": {
            "text/plain": [
              "array([list([1535, 1582, 10, 1444, 6555, 1481, 77, 4838, 5224, 46, 220, 4549, 193, 20, 17, 369, 160]),\n",
              "       list([1921, 4543, 4546, 79, 506, 14, 2075, 148, 19, 443, 2883, 15, 2588, 157, 8420, 18, 21, 155, 24, 581, 3])],\n",
              "      dtype=object)"
            ]
          },
          "metadata": {
            "tags": []
          },
          "execution_count": 24
        }
      ]
    },
    {
      "cell_type": "code",
      "metadata": {
        "id": "uJxJtQd_s9Eb"
      },
      "source": [
        "train_bow_text = tf.keras.preprocessing.sequence.pad_sequences(train_text)\n",
        "test_bow_text = tf.keras.preprocessing.sequence.pad_sequences(test_text)"
      ],
      "execution_count": 25,
      "outputs": []
    },
    {
      "cell_type": "code",
      "metadata": {
        "colab": {
          "base_uri": "https://localhost:8080/"
        },
        "id": "nwwLweN4uF7R",
        "outputId": "dbef32eb-53e3-40a9-b9bf-ae27df5b922f"
      },
      "source": [
        "train_bow_text[0]"
      ],
      "execution_count": 26,
      "outputs": [
        {
          "output_type": "execute_result",
          "data": {
            "text/plain": [
              "array([   0,    0,    0,    0,    0,    0,    0,    0,    0,    0,    0,\n",
              "          0,    0,    0,    0,    0,    0,    0,    0,    0,    0,    0,\n",
              "          0,    0,    0,    0,    0,    0, 1535, 1582,   10, 1444, 6555,\n",
              "       1481,   77, 4838, 5224,   46,  220, 4549,  193,   20,   17,  369,\n",
              "        160], dtype=int32)"
            ]
          },
          "metadata": {
            "tags": []
          },
          "execution_count": 26
        }
      ]
    },
    {
      "cell_type": "code",
      "metadata": {
        "colab": {
          "base_uri": "https://localhost:8080/"
        },
        "id": "nDcZPrHNuGxU",
        "outputId": "4f9754d1-0623-4ea4-97d9-8fdfde82087b"
      },
      "source": [
        "train_bow_text.shape"
      ],
      "execution_count": 27,
      "outputs": [
        {
          "output_type": "execute_result",
          "data": {
            "text/plain": [
              "(4000, 45)"
            ]
          },
          "metadata": {
            "tags": []
          },
          "execution_count": 27
        }
      ]
    },
    {
      "cell_type": "code",
      "metadata": {
        "colab": {
          "base_uri": "https://localhost:8080/"
        },
        "id": "XR8TYWg1vG0J",
        "outputId": "4c3e1ae5-6ce2-4387-a382-1380bfff9a1a"
      },
      "source": [
        "test_bow_text.shape"
      ],
      "execution_count": 28,
      "outputs": [
        {
          "output_type": "execute_result",
          "data": {
            "text/plain": [
              "(1000, 44)"
            ]
          },
          "metadata": {
            "tags": []
          },
          "execution_count": 28
        }
      ]
    },
    {
      "cell_type": "code",
      "metadata": {
        "id": "tgoYjTAFvIU0"
      },
      "source": [
        "import collections \n",
        "word_counter = collections.Counter()\n",
        "\n",
        "for text in train_text :\n",
        "    word_counter.update(text)\n",
        "for text in test_text :\n",
        "    word_counter.update(text)\n"
      ],
      "execution_count": 29,
      "outputs": []
    },
    {
      "cell_type": "code",
      "metadata": {
        "id": "IkELhN9ovfsx"
      },
      "source": [
        "def n_cut(texts, n) :\n",
        "    return np.array([[word for word in text if word_counter[word] >= n ] for text in texts])"
      ],
      "execution_count": 30,
      "outputs": []
    },
    {
      "cell_type": "code",
      "metadata": {
        "id": "B87kkXdvv-EG"
      },
      "source": [
        "import warnings\n",
        "warnings.filterwarnings('ignore')"
      ],
      "execution_count": 31,
      "outputs": []
    },
    {
      "cell_type": "code",
      "metadata": {
        "colab": {
          "base_uri": "https://localhost:8080/"
        },
        "id": "HFk2-LZVvvqe",
        "outputId": "087dfeab-723d-4f04-bc64-76f3b7a18cb7"
      },
      "source": [
        "train_cut_text = n_cut(train_text,10)\n",
        "test_cut_text = n_cut(test_text,10)\n",
        "\n",
        "train_cut_text.shape, test_cut_text.shape"
      ],
      "execution_count": 32,
      "outputs": [
        {
          "output_type": "execute_result",
          "data": {
            "text/plain": [
              "((4000,), (1000,))"
            ]
          },
          "metadata": {
            "tags": []
          },
          "execution_count": 32
        }
      ]
    },
    {
      "cell_type": "code",
      "metadata": {
        "id": "A2m4xiZHv31k"
      },
      "source": [
        "train_cut_bow_text = tf.keras.preprocessing.sequence.pad_sequences(train_cut_text, maxlen=80)\n",
        "test_cut_bow_text = tf.keras.preprocessing.sequence.pad_sequences(test_cut_text, maxlen=80)"
      ],
      "execution_count": 33,
      "outputs": []
    },
    {
      "cell_type": "code",
      "metadata": {
        "colab": {
          "base_uri": "https://localhost:8080/"
        },
        "id": "jXnrZ4uqws5b",
        "outputId": "7f82979b-5e6b-44c4-9e17-6c6a2b434113"
      },
      "source": [
        "train_cut_bow_text.shape, test_cut_bow_text.shape"
      ],
      "execution_count": 34,
      "outputs": [
        {
          "output_type": "execute_result",
          "data": {
            "text/plain": [
              "((4000, 80), (1000, 80))"
            ]
          },
          "metadata": {
            "tags": []
          },
          "execution_count": 34
        }
      ]
    },
    {
      "cell_type": "code",
      "metadata": {
        "colab": {
          "base_uri": "https://localhost:8080/"
        },
        "id": "Zl9Iiz3bx8QF",
        "outputId": "bf97dee8-7675-4734-c152-9d3746789ee6"
      },
      "source": [
        "train_onehot.shape, test_onehot.shape"
      ],
      "execution_count": 35,
      "outputs": [
        {
          "output_type": "execute_result",
          "data": {
            "text/plain": [
              "((4000, 11), (1000, 11))"
            ]
          },
          "metadata": {
            "tags": []
          },
          "execution_count": 35
        }
      ]
    },
    {
      "cell_type": "code",
      "metadata": {
        "id": "zg95-4vvyAl0"
      },
      "source": [
        "# bow -> text\n",
        "def bow2txt(bow) :\n",
        "    return sp.decode_ids(bow)"
      ],
      "execution_count": 36,
      "outputs": []
    },
    {
      "cell_type": "code",
      "metadata": {
        "colab": {
          "base_uri": "https://localhost:8080/",
          "height": 35
        },
        "id": "fNgfFQsGyIgl",
        "outputId": "34536ab0-cf25-4872-e6aa-e5c050aff901"
      },
      "source": [
        "bow2txt(test_text[2])"
      ],
      "execution_count": 37,
      "outputs": [
        {
          "output_type": "execute_result",
          "data": {
            "application/vnd.google.colaboratory.intrinsic+json": {
              "type": "string"
            },
            "text/plain": [
              "'On the Coronavirus, the dock media is doing Hindu-Muslim, you should make a genuine news on it.'"
            ]
          },
          "metadata": {
            "tags": []
          },
          "execution_count": 37
        }
      ]
    },
    {
      "cell_type": "markdown",
      "metadata": {
        "id": "Q0o21_9HyWBN"
      },
      "source": [
        "## MODELING"
      ]
    },
    {
      "cell_type": "code",
      "metadata": {
        "id": "e7NdCDz6yKyV"
      },
      "source": [
        "from keras.layers import Input, Dense, GRU, Embedding, SimpleRNN\n",
        "from keras.models import Model\n",
        "def seq2seq() :\n",
        "    input_x_bow = Input(shape=(80,))\n",
        "    embedding = Embedding(8987,160)\n",
        "    x = embedding(input_x_bow)\n",
        "    #l1 = SimpleRNN(100, return_sequences = True)(x)\n",
        "    #l2 = SimpleRNN(100)(l1)\n",
        "    #z = GRU(128)(x)\n",
        "    #z = GRU(64)(l2)\n",
        "    z = GRU(64)(x)\n",
        "    #z = GRU()(z)\n",
        "   \n",
        "    #z = GRU(64)(z)\n",
        "\n",
        "\n",
        "    y = Dense(11, activation = 'sigmoid')(z)\n",
        "\n",
        "    model = Model(input_x_bow, y)\n",
        "    model.compile(\n",
        "        loss = 'binary_crossentropy',\n",
        "        optimizer = 'adam',\n",
        "        metrics = ['accuracy']\n",
        "    )\n",
        "\n",
        "    return model"
      ],
      "execution_count": 84,
      "outputs": []
    },
    {
      "cell_type": "code",
      "metadata": {
        "colab": {
          "base_uri": "https://localhost:8080/"
        },
        "id": "5hnHTc8mzNIS",
        "outputId": "3c7988aa-b2cb-448d-ec13-207afddb5d0c"
      },
      "source": [
        "model = seq2seq()\n",
        "model.summary()"
      ],
      "execution_count": 85,
      "outputs": [
        {
          "output_type": "stream",
          "text": [
            "Model: \"model_7\"\n",
            "_________________________________________________________________\n",
            "Layer (type)                 Output Shape              Param #   \n",
            "=================================================================\n",
            "input_12 (InputLayer)        [(None, 80)]              0         \n",
            "_________________________________________________________________\n",
            "embedding_11 (Embedding)     (None, 80, 160)           1437920   \n",
            "_________________________________________________________________\n",
            "gru_14 (GRU)                 (None, 64)                43392     \n",
            "_________________________________________________________________\n",
            "dense_8 (Dense)              (None, 11)                715       \n",
            "=================================================================\n",
            "Total params: 1,482,027\n",
            "Trainable params: 1,482,027\n",
            "Non-trainable params: 0\n",
            "_________________________________________________________________\n"
          ],
          "name": "stdout"
        }
      ]
    },
    {
      "cell_type": "code",
      "metadata": {
        "colab": {
          "base_uri": "https://localhost:8080/"
        },
        "id": "v0s27AbtzON8",
        "outputId": "b6ad0a65-cd26-4bfc-fbfe-fdf4a70fe47f"
      },
      "source": [
        "hist = model.fit(train_cut_bow_text, train_onehot,\n",
        "                 validation_data = (test_cut_bow_text, test_onehot),\n",
        "                 epochs = 20, \n",
        "                 verbose = 1)"
      ],
      "execution_count": 86,
      "outputs": [
        {
          "output_type": "stream",
          "text": [
            "Epoch 1/20\n",
            "125/125 [==============================] - 7s 43ms/step - loss: 0.5410 - accuracy: 0.1086 - val_loss: 0.4168 - val_accuracy: 0.0970\n",
            "Epoch 2/20\n",
            "125/125 [==============================] - 5s 38ms/step - loss: 0.4147 - accuracy: 0.1182 - val_loss: 0.4093 - val_accuracy: 0.1670\n",
            "Epoch 3/20\n",
            "125/125 [==============================] - 5s 38ms/step - loss: 0.3917 - accuracy: 0.1757 - val_loss: 0.3986 - val_accuracy: 0.1760\n",
            "Epoch 4/20\n",
            "125/125 [==============================] - 5s 38ms/step - loss: 0.3597 - accuracy: 0.2220 - val_loss: 0.4002 - val_accuracy: 0.2140\n",
            "Epoch 5/20\n",
            "125/125 [==============================] - 5s 38ms/step - loss: 0.3407 - accuracy: 0.2539 - val_loss: 0.4028 - val_accuracy: 0.2410\n",
            "Epoch 6/20\n",
            "125/125 [==============================] - 5s 38ms/step - loss: 0.3163 - accuracy: 0.2957 - val_loss: 0.4052 - val_accuracy: 0.2790\n",
            "Epoch 7/20\n",
            "125/125 [==============================] - 5s 38ms/step - loss: 0.2963 - accuracy: 0.3485 - val_loss: 0.4160 - val_accuracy: 0.2730\n",
            "Epoch 8/20\n",
            "125/125 [==============================] - 5s 38ms/step - loss: 0.2761 - accuracy: 0.3663 - val_loss: 0.4286 - val_accuracy: 0.2720\n",
            "Epoch 9/20\n",
            "125/125 [==============================] - 5s 38ms/step - loss: 0.2615 - accuracy: 0.3879 - val_loss: 0.4444 - val_accuracy: 0.2930\n",
            "Epoch 10/20\n",
            "125/125 [==============================] - 5s 38ms/step - loss: 0.2442 - accuracy: 0.4064 - val_loss: 0.4598 - val_accuracy: 0.2830\n",
            "Epoch 11/20\n",
            "125/125 [==============================] - 5s 38ms/step - loss: 0.2275 - accuracy: 0.4127 - val_loss: 0.4740 - val_accuracy: 0.2900\n",
            "Epoch 12/20\n",
            "125/125 [==============================] - 5s 38ms/step - loss: 0.2147 - accuracy: 0.4436 - val_loss: 0.5018 - val_accuracy: 0.2770\n",
            "Epoch 13/20\n",
            "125/125 [==============================] - 5s 38ms/step - loss: 0.1981 - accuracy: 0.4615 - val_loss: 0.5196 - val_accuracy: 0.2760\n",
            "Epoch 14/20\n",
            "125/125 [==============================] - 5s 38ms/step - loss: 0.1880 - accuracy: 0.4478 - val_loss: 0.5334 - val_accuracy: 0.2800\n",
            "Epoch 15/20\n",
            "125/125 [==============================] - 5s 38ms/step - loss: 0.1706 - accuracy: 0.4642 - val_loss: 0.5572 - val_accuracy: 0.2850\n",
            "Epoch 16/20\n",
            "125/125 [==============================] - 5s 38ms/step - loss: 0.1633 - accuracy: 0.4772 - val_loss: 0.5874 - val_accuracy: 0.2770\n",
            "Epoch 17/20\n",
            "125/125 [==============================] - 5s 38ms/step - loss: 0.1512 - accuracy: 0.4788 - val_loss: 0.6118 - val_accuracy: 0.2770\n",
            "Epoch 18/20\n",
            "125/125 [==============================] - 5s 38ms/step - loss: 0.1354 - accuracy: 0.4830 - val_loss: 0.6317 - val_accuracy: 0.2630\n",
            "Epoch 19/20\n",
            "125/125 [==============================] - 5s 38ms/step - loss: 0.1276 - accuracy: 0.4831 - val_loss: 0.6576 - val_accuracy: 0.2850\n",
            "Epoch 20/20\n",
            "125/125 [==============================] - 5s 38ms/step - loss: 0.1223 - accuracy: 0.4917 - val_loss: 0.6862 - val_accuracy: 0.2820\n"
          ],
          "name": "stdout"
        }
      ]
    },
    {
      "cell_type": "code",
      "metadata": {
        "id": "I7-tsURtzik0",
        "outputId": "660cad1d-01c3-4bab-8348-35f1124ef431",
        "colab": {
          "base_uri": "https://localhost:8080/"
        }
      },
      "source": [
        "model.predict(test_cut_bow_text[7:8])"
      ],
      "execution_count": 96,
      "outputs": [
        {
          "output_type": "execute_result",
          "data": {
            "text/plain": [
              "array([[2.3848858e-01, 7.6638773e-04, 3.4643221e-03, 4.4506885e-02,\n",
              "        2.6591459e-02, 2.8557388e-02, 9.8970068e-01, 9.2743207e-03,\n",
              "        2.0192641e-04, 1.0155970e-03, 1.0814361e-02]], dtype=float32)"
            ]
          },
          "metadata": {
            "tags": []
          },
          "execution_count": 96
        }
      ]
    },
    {
      "cell_type": "code",
      "metadata": {
        "id": "Pok8oML3FFJj",
        "outputId": "a4636bb2-ffc5-4318-df7c-c066d93a5dbe",
        "colab": {
          "base_uri": "https://localhost:8080/"
        }
      },
      "source": [
        "test_onehot[7]"
      ],
      "execution_count": 95,
      "outputs": [
        {
          "output_type": "execute_result",
          "data": {
            "text/plain": [
              "array([0., 0., 0., 0., 0., 0., 1., 0., 0., 0., 0.])"
            ]
          },
          "metadata": {
            "tags": []
          },
          "execution_count": 95
        }
      ]
    },
    {
      "cell_type": "code",
      "metadata": {
        "id": "LtwLx8mPFqPU",
        "outputId": "f0fe05d8-aa11-4ed4-f3aa-bbeb8b2a505d",
        "colab": {
          "base_uri": "https://localhost:8080/",
          "height": 402
        }
      },
      "source": [
        "pd.read_csv('validation.csv')"
      ],
      "execution_count": 69,
      "outputs": [
        {
          "output_type": "execute_result",
          "data": {
            "text/html": [
              "<div>\n",
              "<style scoped>\n",
              "    .dataframe tbody tr th:only-of-type {\n",
              "        vertical-align: middle;\n",
              "    }\n",
              "\n",
              "    .dataframe tbody tr th {\n",
              "        vertical-align: top;\n",
              "    }\n",
              "\n",
              "    .dataframe thead th {\n",
              "        text-align: right;\n",
              "    }\n",
              "</style>\n",
              "<table border=\"1\" class=\"dataframe\">\n",
              "  <thead>\n",
              "    <tr style=\"text-align: right;\">\n",
              "      <th></th>\n",
              "      <th>ID</th>\n",
              "      <th>Tweet</th>\n",
              "    </tr>\n",
              "  </thead>\n",
              "  <tbody>\n",
              "    <tr>\n",
              "      <th>0</th>\n",
              "      <td>5001</td>\n",
              "      <td>Forgot to a math test and I was failing but my...</td>\n",
              "    </tr>\n",
              "    <tr>\n",
              "      <th>1</th>\n",
              "      <td>5002</td>\n",
              "      <td>Corona effected came from Delhi in Bihar lakhi...</td>\n",
              "    </tr>\n",
              "    <tr>\n",
              "      <th>2</th>\n",
              "      <td>5003</td>\n",
              "      <td>Make CORONA END NA</td>\n",
              "    </tr>\n",
              "    <tr>\n",
              "      <th>3</th>\n",
              "      <td>5004</td>\n",
              "      <td>Imagine if the coronavirus pandemic was a big ...</td>\n",
              "    </tr>\n",
              "    <tr>\n",
              "      <th>4</th>\n",
              "      <td>5005</td>\n",
              "      <td>Howdy Ana. Where can I get married during the ...</td>\n",
              "    </tr>\n",
              "    <tr>\n",
              "      <th>...</th>\n",
              "      <td>...</td>\n",
              "      <td>...</td>\n",
              "    </tr>\n",
              "    <tr>\n",
              "      <th>2495</th>\n",
              "      <td>7496</td>\n",
              "      <td>Ease to re-search - Coronavirus started mainly...</td>\n",
              "    </tr>\n",
              "    <tr>\n",
              "      <th>2496</th>\n",
              "      <td>7497</td>\n",
              "      <td>If J N U is postering in favour of corona clus...</td>\n",
              "    </tr>\n",
              "    <tr>\n",
              "      <th>2497</th>\n",
              "      <td>7498</td>\n",
              "      <td>Gods word is powerful and I promise that if yo...</td>\n",
              "    </tr>\n",
              "    <tr>\n",
              "      <th>2498</th>\n",
              "      <td>7499</td>\n",
              "      <td>My mom just made me drink boiled lemon, garlic...</td>\n",
              "    </tr>\n",
              "    <tr>\n",
              "      <th>2499</th>\n",
              "      <td>7500</td>\n",
              "      <td>Children are calling the coronavirus the longe...</td>\n",
              "    </tr>\n",
              "  </tbody>\n",
              "</table>\n",
              "<p>2500 rows × 2 columns</p>\n",
              "</div>"
            ],
            "text/plain": [
              "        ID                                              Tweet\n",
              "0     5001  Forgot to a math test and I was failing but my...\n",
              "1     5002  Corona effected came from Delhi in Bihar lakhi...\n",
              "2     5003                                 Make CORONA END NA\n",
              "3     5004  Imagine if the coronavirus pandemic was a big ...\n",
              "4     5005  Howdy Ana. Where can I get married during the ...\n",
              "...    ...                                                ...\n",
              "2495  7496  Ease to re-search - Coronavirus started mainly...\n",
              "2496  7497  If J N U is postering in favour of corona clus...\n",
              "2497  7498  Gods word is powerful and I promise that if yo...\n",
              "2498  7499  My mom just made me drink boiled lemon, garlic...\n",
              "2499  7500  Children are calling the coronavirus the longe...\n",
              "\n",
              "[2500 rows x 2 columns]"
            ]
          },
          "metadata": {
            "tags": []
          },
          "execution_count": 69
        }
      ]
    },
    {
      "cell_type": "code",
      "metadata": {
        "id": "IAIrchPLSROp"
      },
      "source": [
        ""
      ],
      "execution_count": null,
      "outputs": []
    }
  ]
}