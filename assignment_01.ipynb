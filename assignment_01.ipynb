{
  "nbformat": 4,
  "nbformat_minor": 0,
  "metadata": {
    "colab": {
      "name": "assignment_01.ipynb",
      "provenance": [],
      "toc_visible": true,
      "authorship_tag": "ABX9TyNhrpXPNOAzr90KvGQTwQy/",
      "include_colab_link": true
    },
    "kernelspec": {
      "name": "ir",
      "display_name": "R"
    },
    "language_info": {
      "name": "R"
    }
  },
  "cells": [
    {
      "cell_type": "markdown",
      "metadata": {
        "id": "view-in-github",
        "colab_type": "text"
      },
      "source": [
        "<a href=\"https://colab.research.google.com/github/moch1996/statistics_seminar/blob/main/assignment_01.ipynb\" target=\"_parent\"><img src=\"https://colab.research.google.com/assets/colab-badge.svg\" alt=\"Open In Colab\"/></a>"
      ]
    },
    {
      "cell_type": "markdown",
      "metadata": {
        "id": "efZDlEPkxeJg"
      },
      "source": [
        "# Assignment"
      ]
    },
    {
      "cell_type": "markdown",
      "metadata": {
        "id": "KGAov0wd3jOQ"
      },
      "source": [
        "## tidyverse package"
      ]
    },
    {
      "cell_type": "code",
      "metadata": {
        "colab": {
          "base_uri": "https://localhost:8080/"
        },
        "id": "3pdKBxRHxal8",
        "outputId": "e48f11ea-547f-4836-f74f-bcbeca9ed447"
      },
      "source": [
        "# Install the package \"tidyverse\"\n",
        "\n",
        "install.packages('tidyverse')\n",
        "library(tidyverse)"
      ],
      "execution_count": 2,
      "outputs": [
        {
          "output_type": "stream",
          "text": [
            "Installing package into ‘/usr/local/lib/R/site-library’\n",
            "(as ‘lib’ is unspecified)\n",
            "\n",
            "Warning message in system(\"timedatectl\", intern = TRUE):\n",
            "“running command 'timedatectl' had status 1”\n",
            "── \u001b[1mAttaching packages\u001b[22m ─────────────────────────────────────── tidyverse 1.3.0 ──\n",
            "\n",
            "\u001b[32m✔\u001b[39m \u001b[34mggplot2\u001b[39m 3.3.3     \u001b[32m✔\u001b[39m \u001b[34mpurrr  \u001b[39m 0.3.4\n",
            "\u001b[32m✔\u001b[39m \u001b[34mtibble \u001b[39m 3.1.0     \u001b[32m✔\u001b[39m \u001b[34mdplyr  \u001b[39m 1.0.5\n",
            "\u001b[32m✔\u001b[39m \u001b[34mtidyr  \u001b[39m 1.1.3     \u001b[32m✔\u001b[39m \u001b[34mstringr\u001b[39m 1.4.0\n",
            "\u001b[32m✔\u001b[39m \u001b[34mreadr  \u001b[39m 1.4.0     \u001b[32m✔\u001b[39m \u001b[34mforcats\u001b[39m 0.5.1\n",
            "\n",
            "── \u001b[1mConflicts\u001b[22m ────────────────────────────────────────── tidyverse_conflicts() ──\n",
            "\u001b[31m✖\u001b[39m \u001b[34mdplyr\u001b[39m::\u001b[32mfilter()\u001b[39m masks \u001b[34mstats\u001b[39m::filter()\n",
            "\u001b[31m✖\u001b[39m \u001b[34mdplyr\u001b[39m::\u001b[32mlag()\u001b[39m    masks \u001b[34mstats\u001b[39m::lag()\n",
            "\n"
          ],
          "name": "stderr"
        }
      ]
    },
    {
      "cell_type": "markdown",
      "metadata": {
        "id": "Tr8ktPiGzx9N"
      },
      "source": [
        "### Pipes(%>%)\n",
        " - Pipes are a powerful tool for for clearly expressing a sequence of multiple operations."
      ]
    },
    {
      "cell_type": "code",
      "metadata": {
        "colab": {
          "base_uri": "https://localhost:8080/",
          "height": 146
        },
        "id": "c1mA7YKdzBOF",
        "outputId": "188a3c3c-44d9-458c-c441-8dfc0278dea8"
      },
      "source": [
        "# cars's quantative information\n",
        "\n",
        "cars %>% summary()"
      ],
      "execution_count": 4,
      "outputs": [
        {
          "output_type": "display_data",
          "data": {
            "text/plain": [
              "     speed           dist       \n",
              " Min.   : 4.0   Min.   :  2.00  \n",
              " 1st Qu.:12.0   1st Qu.: 26.00  \n",
              " Median :15.0   Median : 36.00  \n",
              " Mean   :15.4   Mean   : 42.98  \n",
              " 3rd Qu.:19.0   3rd Qu.: 56.00  \n",
              " Max.   :25.0   Max.   :120.00  "
            ]
          },
          "metadata": {
            "tags": []
          }
        }
      ]
    },
    {
      "cell_type": "code",
      "metadata": {
        "colab": {
          "base_uri": "https://localhost:8080/",
          "height": 437
        },
        "id": "WVfBZfTLzssG",
        "outputId": "43745f76-a01a-4a98-f3d9-c16eaab276be"
      },
      "source": [
        "cars %>% plot()"
      ],
      "execution_count": 5,
      "outputs": [
        {
          "output_type": "display_data",
          "data": {
            "image/png": "[encoded data removed]",
            "text/plain": [
              "plot without title"
            ]
          },
          "metadata": {
            "tags": [],
            "image/png": {
              "width": 420,
              "height": 420
            }
          }
        }
      ]
    },
    {
      "cell_type": "markdown",
      "metadata": {
        "id": "KMJglt0-0Rxm"
      },
      "source": [
        "## nycflights13 package\n",
        " - Dataset on flights Departing New York city in 2013"
      ]
    },
    {
      "cell_type": "code",
      "metadata": {
        "colab": {
          "base_uri": "https://localhost:8080/"
        },
        "id": "2Z3hfWdZ0pkO",
        "outputId": "a27858f2-ba30-422f-cccd-bcf0e5aae69c"
      },
      "source": [
        "install.packages('nycflights13')\n",
        "library(nycflights13)"
      ],
      "execution_count": 7,
      "outputs": [
        {
          "output_type": "stream",
          "text": [
            "Installing package into ‘/usr/local/lib/R/site-library’\n",
            "(as ‘lib’ is unspecified)\n",
            "\n"
          ],
          "name": "stderr"
        }
      ]
    },
    {
      "cell_type": "code",
      "metadata": {
        "colab": {
          "base_uri": "https://localhost:8080/"
        },
        "id": "75MFJl9m0s0U",
        "outputId": "c68f4820-71fd-4619-9d4d-66dbc1e2846b"
      },
      "source": [
        "flights %>% str()"
      ],
      "execution_count": 10,
      "outputs": [
        {
          "output_type": "stream",
          "text": [
            "tibble [336,776 × 19] (S3: tbl_df/tbl/data.frame)\n",
            " $ year          : int [1:336776] 2013 2013 2013 2013 2013 2013 2013 2013 2013 2013 ...\n",
            " $ month         : int [1:336776] 1 1 1 1 1 1 1 1 1 1 ...\n",
            " $ day           : int [1:336776] 1 1 1 1 1 1 1 1 1 1 ...\n",
            " $ dep_time      : int [1:336776] 517 533 542 544 554 554 555 557 557 558 ...\n",
            " $ sched_dep_time: int [1:336776] 515 529 540 545 600 558 600 600 600 600 ...\n",
            " $ dep_delay     : num [1:336776] 2 4 2 -1 -6 -4 -5 -3 -3 -2 ...\n",
            " $ arr_time      : int [1:336776] 830 850 923 1004 812 740 913 709 838 753 ...\n",
            " $ sched_arr_time: int [1:336776] 819 830 850 1022 837 728 854 723 846 745 ...\n",
            " $ arr_delay     : num [1:336776] 11 20 33 -18 -25 12 19 -14 -8 8 ...\n",
            " $ carrier       : chr [1:336776] \"UA\" \"UA\" \"AA\" \"B6\" ...\n",
            " $ flight        : int [1:336776] 1545 1714 1141 725 461 1696 507 5708 79 301 ...\n",
            " $ tailnum       : chr [1:336776] \"N14228\" \"N24211\" \"N619AA\" \"N804JB\" ...\n",
            " $ origin        : chr [1:336776] \"EWR\" \"LGA\" \"JFK\" \"JFK\" ...\n",
            " $ dest          : chr [1:336776] \"IAH\" \"IAH\" \"MIA\" \"BQN\" ...\n",
            " $ air_time      : num [1:336776] 227 227 160 183 116 150 158 53 140 138 ...\n",
            " $ distance      : num [1:336776] 1400 1416 1089 1576 762 ...\n",
            " $ hour          : num [1:336776] 5 5 5 5 6 5 6 6 6 6 ...\n",
            " $ minute        : num [1:336776] 15 29 40 45 0 58 0 0 0 0 ...\n",
            " $ time_hour     : POSIXct[1:336776], format: \"2013-01-01 05:00:00\" \"2013-01-01 05:00:00\" ...\n"
          ],
          "name": "stdout"
        }
      ]
    },
    {
      "cell_type": "code",
      "metadata": {
        "colab": {
          "base_uri": "https://localhost:8080/",
          "height": 493
        },
        "id": "B8m31IaE01_r",
        "outputId": "bfe22f68-4f68-4938-8b03-cf4a57e773f5"
      },
      "source": [
        "flights %>% head()"
      ],
      "execution_count": 11,
      "outputs": [
        {
          "output_type": "display_data",
          "data": {
            "text/plain": [
              "  year month day dep_time sched_dep_time dep_delay arr_time sched_arr_time\n",
              "1 2013 1     1   517      515             2         830      819          \n",
              "2 2013 1     1   533      529             4         850      830          \n",
              "3 2013 1     1   542      540             2         923      850          \n",
              "4 2013 1     1   544      545            -1        1004     1022          \n",
              "5 2013 1     1   554      600            -6         812      837          \n",
              "6 2013 1     1   554      558            -4         740      728          \n",
              "  arr_delay carrier flight tailnum origin dest air_time distance hour minute\n",
              "1  11       UA      1545   N14228  EWR    IAH  227      1400     5    15    \n",
              "2  20       UA      1714   N24211  LGA    IAH  227      1416     5    29    \n",
              "3  33       AA      1141   N619AA  JFK    MIA  160      1089     5    40    \n",
              "4 -18       B6       725   N804JB  JFK    BQN  183      1576     5    45    \n",
              "5 -25       DL       461   N668DN  LGA    ATL  116       762     6     0    \n",
              "6  12       UA      1696   N39463  EWR    ORD  150       719     5    58    \n",
              "  time_hour          \n",
              "1 2013-01-01 05:00:00\n",
              "2 2013-01-01 05:00:00\n",
              "3 2013-01-01 05:00:00\n",
              "4 2013-01-01 05:00:00\n",
              "5 2013-01-01 06:00:00\n",
              "6 2013-01-01 05:00:00"
            ],
            "text/latex": "A tibble: 6 × 19\n\\begin{tabular}{lllllllllllllllllll}\n year & month & day & dep\\_time & sched\\_dep\\_time & dep\\_delay & arr\\_time & sched\\_arr\\_time & arr\\_delay & carrier & flight & tailnum & origin & dest & air\\_time & distance & hour & minute & time\\_hour\\\\\n <int> & <int> & <int> & <int> & <int> & <dbl> & <int> & <int> & <dbl> & <chr> & <int> & <chr> & <chr> & <chr> & <dbl> & <dbl> & <dbl> & <dbl> & <dttm>\\\\\n\\hline\n\t 2013 & 1 & 1 & 517 & 515 &  2 &  830 &  819 &  11 & UA & 1545 & N14228 & EWR & IAH & 227 & 1400 & 5 & 15 & 2013-01-01 05:00:00\\\\\n\t 2013 & 1 & 1 & 533 & 529 &  4 &  850 &  830 &  20 & UA & 1714 & N24211 & LGA & IAH & 227 & 1416 & 5 & 29 & 2013-01-01 05:00:00\\\\\n\t 2013 & 1 & 1 & 542 & 540 &  2 &  923 &  850 &  33 & AA & 1141 & N619AA & JFK & MIA & 160 & 1089 & 5 & 40 & 2013-01-01 05:00:00\\\\\n\t 2013 & 1 & 1 & 544 & 545 & -1 & 1004 & 1022 & -18 & B6 &  725 & N804JB & JFK & BQN & 183 & 1576 & 5 & 45 & 2013-01-01 05:00:00\\\\\n\t 2013 & 1 & 1 & 554 & 600 & -6 &  812 &  837 & -25 & DL &  461 & N668DN & LGA & ATL & 116 &  762 & 6 &  0 & 2013-01-01 06:00:00\\\\\n\t 2013 & 1 & 1 & 554 & 558 & -4 &  740 &  728 &  12 & UA & 1696 & N39463 & EWR & ORD & 150 &  719 & 5 & 58 & 2013-01-01 05:00:00\\\\\n\\end{tabular}\n",
            "text/markdown": "\nA tibble: 6 × 19\n\n| year &lt;int&gt; | month &lt;int&gt; | day &lt;int&gt; | dep_time &lt;int&gt; | sched_dep_time &lt;int&gt; | dep_delay &lt;dbl&gt; | arr_time &lt;int&gt; | sched_arr_time &lt;int&gt; | arr_delay &lt;dbl&gt; | carrier &lt;chr&gt; | flight &lt;int&gt; | tailnum &lt;chr&gt; | origin &lt;chr&gt; | dest &lt;chr&gt; | air_time &lt;dbl&gt; | distance &lt;dbl&gt; | hour &lt;dbl&gt; | minute &lt;dbl&gt; | time_hour &lt;dttm&gt; |\n|---|---|---|---|---|---|---|---|---|---|---|---|---|---|---|---|---|---|---|\n| 2013 | 1 | 1 | 517 | 515 |  2 |  830 |  819 |  11 | UA | 1545 | N14228 | EWR | IAH | 227 | 1400 | 5 | 15 | 2013-01-01 05:00:00 |\n| 2013 | 1 | 1 | 533 | 529 |  4 |  850 |  830 |  20 | UA | 1714 | N24211 | LGA | IAH | 227 | 1416 | 5 | 29 | 2013-01-01 05:00:00 |\n| 2013 | 1 | 1 | 542 | 540 |  2 |  923 |  850 |  33 | AA | 1141 | N619AA | JFK | MIA | 160 | 1089 | 5 | 40 | 2013-01-01 05:00:00 |\n| 2013 | 1 | 1 | 544 | 545 | -1 | 1004 | 1022 | -18 | B6 |  725 | N804JB | JFK | BQN | 183 | 1576 | 5 | 45 | 2013-01-01 05:00:00 |\n| 2013 | 1 | 1 | 554 | 600 | -6 |  812 |  837 | -25 | DL |  461 | N668DN | LGA | ATL | 116 |  762 | 6 |  0 | 2013-01-01 06:00:00 |\n| 2013 | 1 | 1 | 554 | 558 | -4 |  740 |  728 |  12 | UA | 1696 | N39463 | EWR | ORD | 150 |  719 | 5 | 58 | 2013-01-01 05:00:00 |\n\n",
            "text/html": [
              "<table class=\"dataframe\">\n",
              "<caption>A tibble: 6 × 19</caption>\n",
              "<thead>\n",
              "\t<tr><th scope=col>year</th><th scope=col>month</th><th scope=col>day</th><th scope=col>dep_time</th><th scope=col>sched_dep_time</th><th scope=col>dep_delay</th><th scope=col>arr_time</th><th scope=col>sched_arr_time</th><th scope=col>arr_delay</th><th scope=col>carrier</th><th scope=col>flight</th><th scope=col>tailnum</th><th scope=col>origin</th><th scope=col>dest</th><th scope=col>air_time</th><th scope=col>distance</th><th scope=col>hour</th><th scope=col>minute</th><th scope=col>time_hour</th></tr>\n",
              "\t<tr><th scope=col>&lt;int&gt;</th><th scope=col>&lt;int&gt;</th><th scope=col>&lt;int&gt;</th><th scope=col>&lt;int&gt;</th><th scope=col>&lt;int&gt;</th><th scope=col>&lt;dbl&gt;</th><th scope=col>&lt;int&gt;</th><th scope=col>&lt;int&gt;</th><th scope=col>&lt;dbl&gt;</th><th scope=col>&lt;chr&gt;</th><th scope=col>&lt;int&gt;</th><th scope=col>&lt;chr&gt;</th><th scope=col>&lt;chr&gt;</th><th scope=col>&lt;chr&gt;</th><th scope=col>&lt;dbl&gt;</th><th scope=col>&lt;dbl&gt;</th><th scope=col>&lt;dbl&gt;</th><th scope=col>&lt;dbl&gt;</th><th scope=col>&lt;dttm&gt;</th></tr>\n",
              "</thead>\n",
              "<tbody>\n",
              "\t<tr><td>2013</td><td>1</td><td>1</td><td>517</td><td>515</td><td> 2</td><td> 830</td><td> 819</td><td> 11</td><td>UA</td><td>1545</td><td>N14228</td><td>EWR</td><td>IAH</td><td>227</td><td>1400</td><td>5</td><td>15</td><td>2013-01-01 05:00:00</td></tr>\n",
              "\t<tr><td>2013</td><td>1</td><td>1</td><td>533</td><td>529</td><td> 4</td><td> 850</td><td> 830</td><td> 20</td><td>UA</td><td>1714</td><td>N24211</td><td>LGA</td><td>IAH</td><td>227</td><td>1416</td><td>5</td><td>29</td><td>2013-01-01 05:00:00</td></tr>\n",
              "\t<tr><td>2013</td><td>1</td><td>1</td><td>542</td><td>540</td><td> 2</td><td> 923</td><td> 850</td><td> 33</td><td>AA</td><td>1141</td><td>N619AA</td><td>JFK</td><td>MIA</td><td>160</td><td>1089</td><td>5</td><td>40</td><td>2013-01-01 05:00:00</td></tr>\n",
              "\t<tr><td>2013</td><td>1</td><td>1</td><td>544</td><td>545</td><td>-1</td><td>1004</td><td>1022</td><td>-18</td><td>B6</td><td> 725</td><td>N804JB</td><td>JFK</td><td>BQN</td><td>183</td><td>1576</td><td>5</td><td>45</td><td>2013-01-01 05:00:00</td></tr>\n",
              "\t<tr><td>2013</td><td>1</td><td>1</td><td>554</td><td>600</td><td>-6</td><td> 812</td><td> 837</td><td>-25</td><td>DL</td><td> 461</td><td>N668DN</td><td>LGA</td><td>ATL</td><td>116</td><td> 762</td><td>6</td><td> 0</td><td>2013-01-01 06:00:00</td></tr>\n",
              "\t<tr><td>2013</td><td>1</td><td>1</td><td>554</td><td>558</td><td>-4</td><td> 740</td><td> 728</td><td> 12</td><td>UA</td><td>1696</td><td>N39463</td><td>EWR</td><td>ORD</td><td>150</td><td> 719</td><td>5</td><td>58</td><td>2013-01-01 05:00:00</td></tr>\n",
              "</tbody>\n",
              "</table>\n"
            ]
          },
          "metadata": {
            "tags": []
          }
        }
      ]
    },
    {
      "cell_type": "code",
      "metadata": {
        "colab": {
          "base_uri": "https://localhost:8080/",
          "height": 34
        },
        "id": "7qJfEhN31BMy",
        "outputId": "9641ad8d-a926-40c1-d0a4-7fb8fe13cfdb"
      },
      "source": [
        "flights %>% dim()"
      ],
      "execution_count": 12,
      "outputs": [
        {
          "output_type": "display_data",
          "data": {
            "text/plain": [
              "[1] 336776     19"
            ],
            "text/latex": "\\begin{enumerate*}\n\\item 336776\n\\item 19\n\\end{enumerate*}\n",
            "text/markdown": "1. 336776\n2. 19\n\n\n",
            "text/html": [
              "<style>\n",
              ".list-inline {list-style: none; margin:0; padding: 0}\n",
              ".list-inline>li {display: inline-block}\n",
              ".list-inline>li:not(:last-child)::after {content: \"\\00b7\"; padding: 0 .5ex}\n",
              "</style>\n",
              "<ol class=list-inline><li>336776</li><li>19</li></ol>\n"
            ]
          },
          "metadata": {
            "tags": []
          }
        }
      ]
    },
    {
      "cell_type": "markdown",
      "metadata": {
        "id": "jSpGTOZ13uZi"
      },
      "source": [
        "### Filter function"
      ]
    },
    {
      "cell_type": "code",
      "metadata": {
        "colab": {
          "base_uri": "https://localhost:8080/",
          "height": 366
        },
        "id": "BzEn3EXf3_dQ",
        "outputId": "cd8d2631-1801-4a0f-fe27-a6991355ec75"
      },
      "source": [
        "# flights on my birthday\n",
        "birthday_flights = flights %>% filter(month == 12 & day ==27 )\n",
        "birthday_flights %>% head(4)"
      ],
      "execution_count": 41,
      "outputs": [
        {
          "output_type": "display_data",
          "data": {
            "text/plain": [
              "  year month day dep_time sched_dep_time dep_delay arr_time sched_arr_time\n",
              "1 2013 12    27    2      2359             3       439       445          \n",
              "2 2013 12    27    8      2129           159       238        22          \n",
              "3 2013 12    27   40      2005           275       319      2256          \n",
              "4 2013 12    27  102      2359            63       541       437          \n",
              "  arr_delay carrier flight tailnum origin dest air_time distance hour minute\n",
              "1  -6       B6       745   N784JB  JFK    PSE  196      1617     23   59    \n",
              "2 136       B6      2043   N589JB  EWR    PBI  135      1023     21   29    \n",
              "3 263       B6       883   N644JB  JFK    MCO  138       944     20    5    \n",
              "4  64       B6       839   N503JB  JFK    BQN  192      1576     23   59    \n",
              "  time_hour          \n",
              "1 2013-12-27 23:00:00\n",
              "2 2013-12-27 21:00:00\n",
              "3 2013-12-27 20:00:00\n",
              "4 2013-12-27 23:00:00"
            ],
            "text/latex": "A tibble: 4 × 19\n\\begin{tabular}{lllllllllllllllllll}\n year & month & day & dep\\_time & sched\\_dep\\_time & dep\\_delay & arr\\_time & sched\\_arr\\_time & arr\\_delay & carrier & flight & tailnum & origin & dest & air\\_time & distance & hour & minute & time\\_hour\\\\\n <int> & <int> & <int> & <int> & <int> & <dbl> & <int> & <int> & <dbl> & <chr> & <int> & <chr> & <chr> & <chr> & <dbl> & <dbl> & <dbl> & <dbl> & <dttm>\\\\\n\\hline\n\t 2013 & 12 & 27 &   2 & 2359 &   3 & 439 &  445 &  -6 & B6 &  745 & N784JB & JFK & PSE & 196 & 1617 & 23 & 59 & 2013-12-27 23:00:00\\\\\n\t 2013 & 12 & 27 &   8 & 2129 & 159 & 238 &   22 & 136 & B6 & 2043 & N589JB & EWR & PBI & 135 & 1023 & 21 & 29 & 2013-12-27 21:00:00\\\\\n\t 2013 & 12 & 27 &  40 & 2005 & 275 & 319 & 2256 & 263 & B6 &  883 & N644JB & JFK & MCO & 138 &  944 & 20 &  5 & 2013-12-27 20:00:00\\\\\n\t 2013 & 12 & 27 & 102 & 2359 &  63 & 541 &  437 &  64 & B6 &  839 & N503JB & JFK & BQN & 192 & 1576 & 23 & 59 & 2013-12-27 23:00:00\\\\\n\\end{tabular}\n",
            "text/markdown": "\nA tibble: 4 × 19\n\n| year &lt;int&gt; | month &lt;int&gt; | day &lt;int&gt; | dep_time &lt;int&gt; | sched_dep_time &lt;int&gt; | dep_delay &lt;dbl&gt; | arr_time &lt;int&gt; | sched_arr_time &lt;int&gt; | arr_delay &lt;dbl&gt; | carrier &lt;chr&gt; | flight &lt;int&gt; | tailnum &lt;chr&gt; | origin &lt;chr&gt; | dest &lt;chr&gt; | air_time &lt;dbl&gt; | distance &lt;dbl&gt; | hour &lt;dbl&gt; | minute &lt;dbl&gt; | time_hour &lt;dttm&gt; |\n|---|---|---|---|---|---|---|---|---|---|---|---|---|---|---|---|---|---|---|\n| 2013 | 12 | 27 |   2 | 2359 |   3 | 439 |  445 |  -6 | B6 |  745 | N784JB | JFK | PSE | 196 | 1617 | 23 | 59 | 2013-12-27 23:00:00 |\n| 2013 | 12 | 27 |   8 | 2129 | 159 | 238 |   22 | 136 | B6 | 2043 | N589JB | EWR | PBI | 135 | 1023 | 21 | 29 | 2013-12-27 21:00:00 |\n| 2013 | 12 | 27 |  40 | 2005 | 275 | 319 | 2256 | 263 | B6 |  883 | N644JB | JFK | MCO | 138 |  944 | 20 |  5 | 2013-12-27 20:00:00 |\n| 2013 | 12 | 27 | 102 | 2359 |  63 | 541 |  437 |  64 | B6 |  839 | N503JB | JFK | BQN | 192 | 1576 | 23 | 59 | 2013-12-27 23:00:00 |\n\n",
            "text/html": [
              "<table class=\"dataframe\">\n",
              "<caption>A tibble: 4 × 19</caption>\n",
              "<thead>\n",
              "\t<tr><th scope=col>year</th><th scope=col>month</th><th scope=col>day</th><th scope=col>dep_time</th><th scope=col>sched_dep_time</th><th scope=col>dep_delay</th><th scope=col>arr_time</th><th scope=col>sched_arr_time</th><th scope=col>arr_delay</th><th scope=col>carrier</th><th scope=col>flight</th><th scope=col>tailnum</th><th scope=col>origin</th><th scope=col>dest</th><th scope=col>air_time</th><th scope=col>distance</th><th scope=col>hour</th><th scope=col>minute</th><th scope=col>time_hour</th></tr>\n",
              "\t<tr><th scope=col>&lt;int&gt;</th><th scope=col>&lt;int&gt;</th><th scope=col>&lt;int&gt;</th><th scope=col>&lt;int&gt;</th><th scope=col>&lt;int&gt;</th><th scope=col>&lt;dbl&gt;</th><th scope=col>&lt;int&gt;</th><th scope=col>&lt;int&gt;</th><th scope=col>&lt;dbl&gt;</th><th scope=col>&lt;chr&gt;</th><th scope=col>&lt;int&gt;</th><th scope=col>&lt;chr&gt;</th><th scope=col>&lt;chr&gt;</th><th scope=col>&lt;chr&gt;</th><th scope=col>&lt;dbl&gt;</th><th scope=col>&lt;dbl&gt;</th><th scope=col>&lt;dbl&gt;</th><th scope=col>&lt;dbl&gt;</th><th scope=col>&lt;dttm&gt;</th></tr>\n",
              "</thead>\n",
              "<tbody>\n",
              "\t<tr><td>2013</td><td>12</td><td>27</td><td>  2</td><td>2359</td><td>  3</td><td>439</td><td> 445</td><td> -6</td><td>B6</td><td> 745</td><td>N784JB</td><td>JFK</td><td>PSE</td><td>196</td><td>1617</td><td>23</td><td>59</td><td>2013-12-27 23:00:00</td></tr>\n",
              "\t<tr><td>2013</td><td>12</td><td>27</td><td>  8</td><td>2129</td><td>159</td><td>238</td><td>  22</td><td>136</td><td>B6</td><td>2043</td><td>N589JB</td><td>EWR</td><td>PBI</td><td>135</td><td>1023</td><td>21</td><td>29</td><td>2013-12-27 21:00:00</td></tr>\n",
              "\t<tr><td>2013</td><td>12</td><td>27</td><td> 40</td><td>2005</td><td>275</td><td>319</td><td>2256</td><td>263</td><td>B6</td><td> 883</td><td>N644JB</td><td>JFK</td><td>MCO</td><td>138</td><td> 944</td><td>20</td><td> 5</td><td>2013-12-27 20:00:00</td></tr>\n",
              "\t<tr><td>2013</td><td>12</td><td>27</td><td>102</td><td>2359</td><td> 63</td><td>541</td><td> 437</td><td> 64</td><td>B6</td><td> 839</td><td>N503JB</td><td>JFK</td><td>BQN</td><td>192</td><td>1576</td><td>23</td><td>59</td><td>2013-12-27 23:00:00</td></tr>\n",
              "</tbody>\n",
              "</table>\n"
            ]
          },
          "metadata": {
            "tags": []
          }
        }
      ]
    },
    {
      "cell_type": "markdown",
      "metadata": {
        "id": "-xgnMJO_3xeX"
      },
      "source": [
        "### Arrange function"
      ]
    },
    {
      "cell_type": "code",
      "metadata": {
        "colab": {
          "base_uri": "https://localhost:8080/",
          "height": 366
        },
        "id": "EmTqoGOR6RTJ",
        "outputId": "cfe12ada-9e2d-4d73-e90c-55dfb6d5c07b"
      },
      "source": [
        "birthday_flights %>% arrange(desc(flight)) %>% head(4)"
      ],
      "execution_count": 42,
      "outputs": [
        {
          "output_type": "display_data",
          "data": {
            "text/plain": [
              "  year month day dep_time sched_dep_time dep_delay arr_time sched_arr_time\n",
              "1 2013 12    27  1450     1450            0        1603     1612          \n",
              "2 2013 12    27   603      605           -2         723      723          \n",
              "3 2013 12    27  1011     1011            0        1117     1134          \n",
              "4 2013 12    27  1930     1924            6        2048     2047          \n",
              "  arr_delay carrier flight tailnum origin dest air_time distance hour minute\n",
              "1  -9       EV      6181   N11155  EWR    IAD  44       212      14   50    \n",
              "2   0       EV      6177   N14117  EWR    IAD  49       212       6    5    \n",
              "3 -17       EV      6054   N11165  EWR    IAD  44       212      10   11    \n",
              "4   1       EV      6049   N11121  EWR    IAD  42       212      19   24    \n",
              "  time_hour          \n",
              "1 2013-12-27 14:00:00\n",
              "2 2013-12-27 06:00:00\n",
              "3 2013-12-27 10:00:00\n",
              "4 2013-12-27 19:00:00"
            ],
            "text/latex": "A tibble: 4 × 19\n\\begin{tabular}{lllllllllllllllllll}\n year & month & day & dep\\_time & sched\\_dep\\_time & dep\\_delay & arr\\_time & sched\\_arr\\_time & arr\\_delay & carrier & flight & tailnum & origin & dest & air\\_time & distance & hour & minute & time\\_hour\\\\\n <int> & <int> & <int> & <int> & <int> & <dbl> & <int> & <int> & <dbl> & <chr> & <int> & <chr> & <chr> & <chr> & <dbl> & <dbl> & <dbl> & <dbl> & <dttm>\\\\\n\\hline\n\t 2013 & 12 & 27 & 1450 & 1450 &  0 & 1603 & 1612 &  -9 & EV & 6181 & N11155 & EWR & IAD & 44 & 212 & 14 & 50 & 2013-12-27 14:00:00\\\\\n\t 2013 & 12 & 27 &  603 &  605 & -2 &  723 &  723 &   0 & EV & 6177 & N14117 & EWR & IAD & 49 & 212 &  6 &  5 & 2013-12-27 06:00:00\\\\\n\t 2013 & 12 & 27 & 1011 & 1011 &  0 & 1117 & 1134 & -17 & EV & 6054 & N11165 & EWR & IAD & 44 & 212 & 10 & 11 & 2013-12-27 10:00:00\\\\\n\t 2013 & 12 & 27 & 1930 & 1924 &  6 & 2048 & 2047 &   1 & EV & 6049 & N11121 & EWR & IAD & 42 & 212 & 19 & 24 & 2013-12-27 19:00:00\\\\\n\\end{tabular}\n",
            "text/markdown": "\nA tibble: 4 × 19\n\n| year &lt;int&gt; | month &lt;int&gt; | day &lt;int&gt; | dep_time &lt;int&gt; | sched_dep_time &lt;int&gt; | dep_delay &lt;dbl&gt; | arr_time &lt;int&gt; | sched_arr_time &lt;int&gt; | arr_delay &lt;dbl&gt; | carrier &lt;chr&gt; | flight &lt;int&gt; | tailnum &lt;chr&gt; | origin &lt;chr&gt; | dest &lt;chr&gt; | air_time &lt;dbl&gt; | distance &lt;dbl&gt; | hour &lt;dbl&gt; | minute &lt;dbl&gt; | time_hour &lt;dttm&gt; |\n|---|---|---|---|---|---|---|---|---|---|---|---|---|---|---|---|---|---|---|\n| 2013 | 12 | 27 | 1450 | 1450 |  0 | 1603 | 1612 |  -9 | EV | 6181 | N11155 | EWR | IAD | 44 | 212 | 14 | 50 | 2013-12-27 14:00:00 |\n| 2013 | 12 | 27 |  603 |  605 | -2 |  723 |  723 |   0 | EV | 6177 | N14117 | EWR | IAD | 49 | 212 |  6 |  5 | 2013-12-27 06:00:00 |\n| 2013 | 12 | 27 | 1011 | 1011 |  0 | 1117 | 1134 | -17 | EV | 6054 | N11165 | EWR | IAD | 44 | 212 | 10 | 11 | 2013-12-27 10:00:00 |\n| 2013 | 12 | 27 | 1930 | 1924 |  6 | 2048 | 2047 |   1 | EV | 6049 | N11121 | EWR | IAD | 42 | 212 | 19 | 24 | 2013-12-27 19:00:00 |\n\n",
            "text/html": [
              "<table class=\"dataframe\">\n",
              "<caption>A tibble: 4 × 19</caption>\n",
              "<thead>\n",
              "\t<tr><th scope=col>year</th><th scope=col>month</th><th scope=col>day</th><th scope=col>dep_time</th><th scope=col>sched_dep_time</th><th scope=col>dep_delay</th><th scope=col>arr_time</th><th scope=col>sched_arr_time</th><th scope=col>arr_delay</th><th scope=col>carrier</th><th scope=col>flight</th><th scope=col>tailnum</th><th scope=col>origin</th><th scope=col>dest</th><th scope=col>air_time</th><th scope=col>distance</th><th scope=col>hour</th><th scope=col>minute</th><th scope=col>time_hour</th></tr>\n",
              "\t<tr><th scope=col>&lt;int&gt;</th><th scope=col>&lt;int&gt;</th><th scope=col>&lt;int&gt;</th><th scope=col>&lt;int&gt;</th><th scope=col>&lt;int&gt;</th><th scope=col>&lt;dbl&gt;</th><th scope=col>&lt;int&gt;</th><th scope=col>&lt;int&gt;</th><th scope=col>&lt;dbl&gt;</th><th scope=col>&lt;chr&gt;</th><th scope=col>&lt;int&gt;</th><th scope=col>&lt;chr&gt;</th><th scope=col>&lt;chr&gt;</th><th scope=col>&lt;chr&gt;</th><th scope=col>&lt;dbl&gt;</th><th scope=col>&lt;dbl&gt;</th><th scope=col>&lt;dbl&gt;</th><th scope=col>&lt;dbl&gt;</th><th scope=col>&lt;dttm&gt;</th></tr>\n",
              "</thead>\n",
              "<tbody>\n",
              "\t<tr><td>2013</td><td>12</td><td>27</td><td>1450</td><td>1450</td><td> 0</td><td>1603</td><td>1612</td><td> -9</td><td>EV</td><td>6181</td><td>N11155</td><td>EWR</td><td>IAD</td><td>44</td><td>212</td><td>14</td><td>50</td><td>2013-12-27 14:00:00</td></tr>\n",
              "\t<tr><td>2013</td><td>12</td><td>27</td><td> 603</td><td> 605</td><td>-2</td><td> 723</td><td> 723</td><td>  0</td><td>EV</td><td>6177</td><td>N14117</td><td>EWR</td><td>IAD</td><td>49</td><td>212</td><td> 6</td><td> 5</td><td>2013-12-27 06:00:00</td></tr>\n",
              "\t<tr><td>2013</td><td>12</td><td>27</td><td>1011</td><td>1011</td><td> 0</td><td>1117</td><td>1134</td><td>-17</td><td>EV</td><td>6054</td><td>N11165</td><td>EWR</td><td>IAD</td><td>44</td><td>212</td><td>10</td><td>11</td><td>2013-12-27 10:00:00</td></tr>\n",
              "\t<tr><td>2013</td><td>12</td><td>27</td><td>1930</td><td>1924</td><td> 6</td><td>2048</td><td>2047</td><td>  1</td><td>EV</td><td>6049</td><td>N11121</td><td>EWR</td><td>IAD</td><td>42</td><td>212</td><td>19</td><td>24</td><td>2013-12-27 19:00:00</td></tr>\n",
              "</tbody>\n",
              "</table>\n"
            ]
          },
          "metadata": {
            "tags": []
          }
        }
      ]
    },
    {
      "cell_type": "markdown",
      "metadata": {
        "id": "ls4SFu5t3yeH"
      },
      "source": [
        "### Select function"
      ]
    },
    {
      "cell_type": "code",
      "metadata": {
        "colab": {
          "base_uri": "https://localhost:8080/",
          "height": 232
        },
        "id": "CVGFZlM87byK",
        "outputId": "3191217f-9d22-42bc-b94d-f6dd5fa45ce1"
      },
      "source": [
        "birthday_flights %>% select(year:distance) %>% head(4)"
      ],
      "execution_count": 43,
      "outputs": [
        {
          "output_type": "display_data",
          "data": {
            "text/plain": [
              "  year month day dep_time sched_dep_time dep_delay arr_time sched_arr_time\n",
              "1 2013 12    27    2      2359             3       439       445          \n",
              "2 2013 12    27    8      2129           159       238        22          \n",
              "3 2013 12    27   40      2005           275       319      2256          \n",
              "4 2013 12    27  102      2359            63       541       437          \n",
              "  arr_delay carrier flight tailnum origin dest air_time distance\n",
              "1  -6       B6       745   N784JB  JFK    PSE  196      1617    \n",
              "2 136       B6      2043   N589JB  EWR    PBI  135      1023    \n",
              "3 263       B6       883   N644JB  JFK    MCO  138       944    \n",
              "4  64       B6       839   N503JB  JFK    BQN  192      1576    "
            ],
            "text/latex": "A tibble: 4 × 16\n\\begin{tabular}{llllllllllllllll}\n year & month & day & dep\\_time & sched\\_dep\\_time & dep\\_delay & arr\\_time & sched\\_arr\\_time & arr\\_delay & carrier & flight & tailnum & origin & dest & air\\_time & distance\\\\\n <int> & <int> & <int> & <int> & <int> & <dbl> & <int> & <int> & <dbl> & <chr> & <int> & <chr> & <chr> & <chr> & <dbl> & <dbl>\\\\\n\\hline\n\t 2013 & 12 & 27 &   2 & 2359 &   3 & 439 &  445 &  -6 & B6 &  745 & N784JB & JFK & PSE & 196 & 1617\\\\\n\t 2013 & 12 & 27 &   8 & 2129 & 159 & 238 &   22 & 136 & B6 & 2043 & N589JB & EWR & PBI & 135 & 1023\\\\\n\t 2013 & 12 & 27 &  40 & 2005 & 275 & 319 & 2256 & 263 & B6 &  883 & N644JB & JFK & MCO & 138 &  944\\\\\n\t 2013 & 12 & 27 & 102 & 2359 &  63 & 541 &  437 &  64 & B6 &  839 & N503JB & JFK & BQN & 192 & 1576\\\\\n\\end{tabular}\n",
            "text/markdown": "\nA tibble: 4 × 16\n\n| year &lt;int&gt; | month &lt;int&gt; | day &lt;int&gt; | dep_time &lt;int&gt; | sched_dep_time &lt;int&gt; | dep_delay &lt;dbl&gt; | arr_time &lt;int&gt; | sched_arr_time &lt;int&gt; | arr_delay &lt;dbl&gt; | carrier &lt;chr&gt; | flight &lt;int&gt; | tailnum &lt;chr&gt; | origin &lt;chr&gt; | dest &lt;chr&gt; | air_time &lt;dbl&gt; | distance &lt;dbl&gt; |\n|---|---|---|---|---|---|---|---|---|---|---|---|---|---|---|---|\n| 2013 | 12 | 27 |   2 | 2359 |   3 | 439 |  445 |  -6 | B6 |  745 | N784JB | JFK | PSE | 196 | 1617 |\n| 2013 | 12 | 27 |   8 | 2129 | 159 | 238 |   22 | 136 | B6 | 2043 | N589JB | EWR | PBI | 135 | 1023 |\n| 2013 | 12 | 27 |  40 | 2005 | 275 | 319 | 2256 | 263 | B6 |  883 | N644JB | JFK | MCO | 138 |  944 |\n| 2013 | 12 | 27 | 102 | 2359 |  63 | 541 |  437 |  64 | B6 |  839 | N503JB | JFK | BQN | 192 | 1576 |\n\n",
            "text/html": [
              "<table class=\"dataframe\">\n",
              "<caption>A tibble: 4 × 16</caption>\n",
              "<thead>\n",
              "\t<tr><th scope=col>year</th><th scope=col>month</th><th scope=col>day</th><th scope=col>dep_time</th><th scope=col>sched_dep_time</th><th scope=col>dep_delay</th><th scope=col>arr_time</th><th scope=col>sched_arr_time</th><th scope=col>arr_delay</th><th scope=col>carrier</th><th scope=col>flight</th><th scope=col>tailnum</th><th scope=col>origin</th><th scope=col>dest</th><th scope=col>air_time</th><th scope=col>distance</th></tr>\n",
              "\t<tr><th scope=col>&lt;int&gt;</th><th scope=col>&lt;int&gt;</th><th scope=col>&lt;int&gt;</th><th scope=col>&lt;int&gt;</th><th scope=col>&lt;int&gt;</th><th scope=col>&lt;dbl&gt;</th><th scope=col>&lt;int&gt;</th><th scope=col>&lt;int&gt;</th><th scope=col>&lt;dbl&gt;</th><th scope=col>&lt;chr&gt;</th><th scope=col>&lt;int&gt;</th><th scope=col>&lt;chr&gt;</th><th scope=col>&lt;chr&gt;</th><th scope=col>&lt;chr&gt;</th><th scope=col>&lt;dbl&gt;</th><th scope=col>&lt;dbl&gt;</th></tr>\n",
              "</thead>\n",
              "<tbody>\n",
              "\t<tr><td>2013</td><td>12</td><td>27</td><td>  2</td><td>2359</td><td>  3</td><td>439</td><td> 445</td><td> -6</td><td>B6</td><td> 745</td><td>N784JB</td><td>JFK</td><td>PSE</td><td>196</td><td>1617</td></tr>\n",
              "\t<tr><td>2013</td><td>12</td><td>27</td><td>  8</td><td>2129</td><td>159</td><td>238</td><td>  22</td><td>136</td><td>B6</td><td>2043</td><td>N589JB</td><td>EWR</td><td>PBI</td><td>135</td><td>1023</td></tr>\n",
              "\t<tr><td>2013</td><td>12</td><td>27</td><td> 40</td><td>2005</td><td>275</td><td>319</td><td>2256</td><td>263</td><td>B6</td><td> 883</td><td>N644JB</td><td>JFK</td><td>MCO</td><td>138</td><td> 944</td></tr>\n",
              "\t<tr><td>2013</td><td>12</td><td>27</td><td>102</td><td>2359</td><td> 63</td><td>541</td><td> 437</td><td> 64</td><td>B6</td><td> 839</td><td>N503JB</td><td>JFK</td><td>BQN</td><td>192</td><td>1576</td></tr>\n",
              "</tbody>\n",
              "</table>\n"
            ]
          },
          "metadata": {
            "tags": []
          }
        }
      ]
    },
    {
      "cell_type": "code",
      "metadata": {
        "colab": {
          "base_uri": "https://localhost:8080/",
          "height": 182
        },
        "id": "TAcGobj-75TB",
        "outputId": "eb4f99b7-fea0-42b9-8937-f24b62754a51"
      },
      "source": [
        "birthday_flights %>% select(starts_with('sched')) %>% head(3)"
      ],
      "execution_count": 44,
      "outputs": [
        {
          "output_type": "display_data",
          "data": {
            "text/plain": [
              "  sched_dep_time sched_arr_time\n",
              "1 2359            445          \n",
              "2 2129             22          \n",
              "3 2005           2256          "
            ],
            "text/latex": "A tibble: 3 × 2\n\\begin{tabular}{ll}\n sched\\_dep\\_time & sched\\_arr\\_time\\\\\n <int> & <int>\\\\\n\\hline\n\t 2359 &  445\\\\\n\t 2129 &   22\\\\\n\t 2005 & 2256\\\\\n\\end{tabular}\n",
            "text/markdown": "\nA tibble: 3 × 2\n\n| sched_dep_time &lt;int&gt; | sched_arr_time &lt;int&gt; |\n|---|---|\n| 2359 |  445 |\n| 2129 |   22 |\n| 2005 | 2256 |\n\n",
            "text/html": [
              "<table class=\"dataframe\">\n",
              "<caption>A tibble: 3 × 2</caption>\n",
              "<thead>\n",
              "\t<tr><th scope=col>sched_dep_time</th><th scope=col>sched_arr_time</th></tr>\n",
              "\t<tr><th scope=col>&lt;int&gt;</th><th scope=col>&lt;int&gt;</th></tr>\n",
              "</thead>\n",
              "<tbody>\n",
              "\t<tr><td>2359</td><td> 445</td></tr>\n",
              "\t<tr><td>2129</td><td>  22</td></tr>\n",
              "\t<tr><td>2005</td><td>2256</td></tr>\n",
              "</tbody>\n",
              "</table>\n"
            ]
          },
          "metadata": {
            "tags": []
          }
        }
      ]
    },
    {
      "cell_type": "code",
      "metadata": {
        "colab": {
          "base_uri": "https://localhost:8080/",
          "height": 366
        },
        "id": "lAMmH9YV8cwR",
        "outputId": "0d2720e1-9cb9-46c1-8672-17c727f5d545"
      },
      "source": [
        "# To set an interestng features before the after it \n",
        "birthday_flights %>% select(hour, minute, time_hour, everything()) %>% head(4)"
      ],
      "execution_count": 46,
      "outputs": [
        {
          "output_type": "display_data",
          "data": {
            "text/plain": [
              "  hour minute time_hour           year month day dep_time sched_dep_time\n",
              "1 23   59     2013-12-27 23:00:00 2013 12    27    2      2359          \n",
              "2 21   29     2013-12-27 21:00:00 2013 12    27    8      2129          \n",
              "3 20    5     2013-12-27 20:00:00 2013 12    27   40      2005          \n",
              "4 23   59     2013-12-27 23:00:00 2013 12    27  102      2359          \n",
              "  dep_delay arr_time sched_arr_time arr_delay carrier flight tailnum origin\n",
              "1   3       439       445            -6       B6       745   N784JB  JFK   \n",
              "2 159       238        22           136       B6      2043   N589JB  EWR   \n",
              "3 275       319      2256           263       B6       883   N644JB  JFK   \n",
              "4  63       541       437            64       B6       839   N503JB  JFK   \n",
              "  dest air_time distance\n",
              "1 PSE  196      1617    \n",
              "2 PBI  135      1023    \n",
              "3 MCO  138       944    \n",
              "4 BQN  192      1576    "
            ],
            "text/latex": "A tibble: 4 × 19\n\\begin{tabular}{lllllllllllllllllll}\n hour & minute & time\\_hour & year & month & day & dep\\_time & sched\\_dep\\_time & dep\\_delay & arr\\_time & sched\\_arr\\_time & arr\\_delay & carrier & flight & tailnum & origin & dest & air\\_time & distance\\\\\n <dbl> & <dbl> & <dttm> & <int> & <int> & <int> & <int> & <int> & <dbl> & <int> & <int> & <dbl> & <chr> & <int> & <chr> & <chr> & <chr> & <dbl> & <dbl>\\\\\n\\hline\n\t 23 & 59 & 2013-12-27 23:00:00 & 2013 & 12 & 27 &   2 & 2359 &   3 & 439 &  445 &  -6 & B6 &  745 & N784JB & JFK & PSE & 196 & 1617\\\\\n\t 21 & 29 & 2013-12-27 21:00:00 & 2013 & 12 & 27 &   8 & 2129 & 159 & 238 &   22 & 136 & B6 & 2043 & N589JB & EWR & PBI & 135 & 1023\\\\\n\t 20 &  5 & 2013-12-27 20:00:00 & 2013 & 12 & 27 &  40 & 2005 & 275 & 319 & 2256 & 263 & B6 &  883 & N644JB & JFK & MCO & 138 &  944\\\\\n\t 23 & 59 & 2013-12-27 23:00:00 & 2013 & 12 & 27 & 102 & 2359 &  63 & 541 &  437 &  64 & B6 &  839 & N503JB & JFK & BQN & 192 & 1576\\\\\n\\end{tabular}\n",
            "text/markdown": "\nA tibble: 4 × 19\n\n| hour &lt;dbl&gt; | minute &lt;dbl&gt; | time_hour &lt;dttm&gt; | year &lt;int&gt; | month &lt;int&gt; | day &lt;int&gt; | dep_time &lt;int&gt; | sched_dep_time &lt;int&gt; | dep_delay &lt;dbl&gt; | arr_time &lt;int&gt; | sched_arr_time &lt;int&gt; | arr_delay &lt;dbl&gt; | carrier &lt;chr&gt; | flight &lt;int&gt; | tailnum &lt;chr&gt; | origin &lt;chr&gt; | dest &lt;chr&gt; | air_time &lt;dbl&gt; | distance &lt;dbl&gt; |\n|---|---|---|---|---|---|---|---|---|---|---|---|---|---|---|---|---|---|---|\n| 23 | 59 | 2013-12-27 23:00:00 | 2013 | 12 | 27 |   2 | 2359 |   3 | 439 |  445 |  -6 | B6 |  745 | N784JB | JFK | PSE | 196 | 1617 |\n| 21 | 29 | 2013-12-27 21:00:00 | 2013 | 12 | 27 |   8 | 2129 | 159 | 238 |   22 | 136 | B6 | 2043 | N589JB | EWR | PBI | 135 | 1023 |\n| 20 |  5 | 2013-12-27 20:00:00 | 2013 | 12 | 27 |  40 | 2005 | 275 | 319 | 2256 | 263 | B6 |  883 | N644JB | JFK | MCO | 138 |  944 |\n| 23 | 59 | 2013-12-27 23:00:00 | 2013 | 12 | 27 | 102 | 2359 |  63 | 541 |  437 |  64 | B6 |  839 | N503JB | JFK | BQN | 192 | 1576 |\n\n",
            "text/html": [
              "<table class=\"dataframe\">\n",
              "<caption>A tibble: 4 × 19</caption>\n",
              "<thead>\n",
              "\t<tr><th scope=col>hour</th><th scope=col>minute</th><th scope=col>time_hour</th><th scope=col>year</th><th scope=col>month</th><th scope=col>day</th><th scope=col>dep_time</th><th scope=col>sched_dep_time</th><th scope=col>dep_delay</th><th scope=col>arr_time</th><th scope=col>sched_arr_time</th><th scope=col>arr_delay</th><th scope=col>carrier</th><th scope=col>flight</th><th scope=col>tailnum</th><th scope=col>origin</th><th scope=col>dest</th><th scope=col>air_time</th><th scope=col>distance</th></tr>\n",
              "\t<tr><th scope=col>&lt;dbl&gt;</th><th scope=col>&lt;dbl&gt;</th><th scope=col>&lt;dttm&gt;</th><th scope=col>&lt;int&gt;</th><th scope=col>&lt;int&gt;</th><th scope=col>&lt;int&gt;</th><th scope=col>&lt;int&gt;</th><th scope=col>&lt;int&gt;</th><th scope=col>&lt;dbl&gt;</th><th scope=col>&lt;int&gt;</th><th scope=col>&lt;int&gt;</th><th scope=col>&lt;dbl&gt;</th><th scope=col>&lt;chr&gt;</th><th scope=col>&lt;int&gt;</th><th scope=col>&lt;chr&gt;</th><th scope=col>&lt;chr&gt;</th><th scope=col>&lt;chr&gt;</th><th scope=col>&lt;dbl&gt;</th><th scope=col>&lt;dbl&gt;</th></tr>\n",
              "</thead>\n",
              "<tbody>\n",
              "\t<tr><td>23</td><td>59</td><td>2013-12-27 23:00:00</td><td>2013</td><td>12</td><td>27</td><td>  2</td><td>2359</td><td>  3</td><td>439</td><td> 445</td><td> -6</td><td>B6</td><td> 745</td><td>N784JB</td><td>JFK</td><td>PSE</td><td>196</td><td>1617</td></tr>\n",
              "\t<tr><td>21</td><td>29</td><td>2013-12-27 21:00:00</td><td>2013</td><td>12</td><td>27</td><td>  8</td><td>2129</td><td>159</td><td>238</td><td>  22</td><td>136</td><td>B6</td><td>2043</td><td>N589JB</td><td>EWR</td><td>PBI</td><td>135</td><td>1023</td></tr>\n",
              "\t<tr><td>20</td><td> 5</td><td>2013-12-27 20:00:00</td><td>2013</td><td>12</td><td>27</td><td> 40</td><td>2005</td><td>275</td><td>319</td><td>2256</td><td>263</td><td>B6</td><td> 883</td><td>N644JB</td><td>JFK</td><td>MCO</td><td>138</td><td> 944</td></tr>\n",
              "\t<tr><td>23</td><td>59</td><td>2013-12-27 23:00:00</td><td>2013</td><td>12</td><td>27</td><td>102</td><td>2359</td><td> 63</td><td>541</td><td> 437</td><td> 64</td><td>B6</td><td> 839</td><td>N503JB</td><td>JFK</td><td>BQN</td><td>192</td><td>1576</td></tr>\n",
              "</tbody>\n",
              "</table>\n"
            ]
          },
          "metadata": {
            "tags": []
          }
        }
      ]
    },
    {
      "cell_type": "markdown",
      "metadata": {
        "id": "jac7k73H3y_X"
      },
      "source": [
        "### Mutate function\n",
        " - Add new variables with mutate()"
      ]
    },
    {
      "cell_type": "code",
      "metadata": {
        "colab": {
          "base_uri": "https://localhost:8080/",
          "height": 271
        },
        "id": "eQybjoVd9hIy",
        "outputId": "12e3dcf9-2ad4-43e9-d251-1334c86886ea"
      },
      "source": [
        "birthday_flights %>%\n",
        " select(year:day, ends_with('delay'), distance, air_time) %>% \n",
        " mutate(gain = dep_delay - arr_delay,\n",
        "        hours = air_time / 60, \n",
        "        gain_per_hour = gain / hours  ) %>% head()"
      ],
      "execution_count": 54,
      "outputs": [
        {
          "output_type": "display_data",
          "data": {
            "text/plain": [
              "  year month day dep_delay arr_delay distance air_time gain hours   \n",
              "1 2013 12    27    3        -6       1617     196       9   3.266667\n",
              "2 2013 12    27  159       136       1023     135      23   2.250000\n",
              "3 2013 12    27  275       263        944     138      12   2.300000\n",
              "4 2013 12    27   63        64       1576     192      -1   3.200000\n",
              "5 2013 12    27  102        94       1608     194       8   3.233333\n",
              "6 2013 12    27   81        67       1598     188      14   3.133333\n",
              "  gain_per_hour\n",
              "1  2.755102    \n",
              "2 10.222222    \n",
              "3  5.217391    \n",
              "4 -0.312500    \n",
              "5  2.474227    \n",
              "6  4.468085    "
            ],
            "text/latex": "A tibble: 6 × 10\n\\begin{tabular}{llllllllll}\n year & month & day & dep\\_delay & arr\\_delay & distance & air\\_time & gain & hours & gain\\_per\\_hour\\\\\n <int> & <int> & <int> & <dbl> & <dbl> & <dbl> & <dbl> & <dbl> & <dbl> & <dbl>\\\\\n\\hline\n\t 2013 & 12 & 27 &   3 &  -6 & 1617 & 196 &  9 & 3.266667 &  2.755102\\\\\n\t 2013 & 12 & 27 & 159 & 136 & 1023 & 135 & 23 & 2.250000 & 10.222222\\\\\n\t 2013 & 12 & 27 & 275 & 263 &  944 & 138 & 12 & 2.300000 &  5.217391\\\\\n\t 2013 & 12 & 27 &  63 &  64 & 1576 & 192 & -1 & 3.200000 & -0.312500\\\\\n\t 2013 & 12 & 27 & 102 &  94 & 1608 & 194 &  8 & 3.233333 &  2.474227\\\\\n\t 2013 & 12 & 27 &  81 &  67 & 1598 & 188 & 14 & 3.133333 &  4.468085\\\\\n\\end{tabular}\n",
            "text/markdown": "\nA tibble: 6 × 10\n\n| year &lt;int&gt; | month &lt;int&gt; | day &lt;int&gt; | dep_delay &lt;dbl&gt; | arr_delay &lt;dbl&gt; | distance &lt;dbl&gt; | air_time &lt;dbl&gt; | gain &lt;dbl&gt; | hours &lt;dbl&gt; | gain_per_hour &lt;dbl&gt; |\n|---|---|---|---|---|---|---|---|---|---|\n| 2013 | 12 | 27 |   3 |  -6 | 1617 | 196 |  9 | 3.266667 |  2.755102 |\n| 2013 | 12 | 27 | 159 | 136 | 1023 | 135 | 23 | 2.250000 | 10.222222 |\n| 2013 | 12 | 27 | 275 | 263 |  944 | 138 | 12 | 2.300000 |  5.217391 |\n| 2013 | 12 | 27 |  63 |  64 | 1576 | 192 | -1 | 3.200000 | -0.312500 |\n| 2013 | 12 | 27 | 102 |  94 | 1608 | 194 |  8 | 3.233333 |  2.474227 |\n| 2013 | 12 | 27 |  81 |  67 | 1598 | 188 | 14 | 3.133333 |  4.468085 |\n\n",
            "text/html": [
              "<table class=\"dataframe\">\n",
              "<caption>A tibble: 6 × 10</caption>\n",
              "<thead>\n",
              "\t<tr><th scope=col>year</th><th scope=col>month</th><th scope=col>day</th><th scope=col>dep_delay</th><th scope=col>arr_delay</th><th scope=col>distance</th><th scope=col>air_time</th><th scope=col>gain</th><th scope=col>hours</th><th scope=col>gain_per_hour</th></tr>\n",
              "\t<tr><th scope=col>&lt;int&gt;</th><th scope=col>&lt;int&gt;</th><th scope=col>&lt;int&gt;</th><th scope=col>&lt;dbl&gt;</th><th scope=col>&lt;dbl&gt;</th><th scope=col>&lt;dbl&gt;</th><th scope=col>&lt;dbl&gt;</th><th scope=col>&lt;dbl&gt;</th><th scope=col>&lt;dbl&gt;</th><th scope=col>&lt;dbl&gt;</th></tr>\n",
              "</thead>\n",
              "<tbody>\n",
              "\t<tr><td>2013</td><td>12</td><td>27</td><td>  3</td><td> -6</td><td>1617</td><td>196</td><td> 9</td><td>3.266667</td><td> 2.755102</td></tr>\n",
              "\t<tr><td>2013</td><td>12</td><td>27</td><td>159</td><td>136</td><td>1023</td><td>135</td><td>23</td><td>2.250000</td><td>10.222222</td></tr>\n",
              "\t<tr><td>2013</td><td>12</td><td>27</td><td>275</td><td>263</td><td> 944</td><td>138</td><td>12</td><td>2.300000</td><td> 5.217391</td></tr>\n",
              "\t<tr><td>2013</td><td>12</td><td>27</td><td> 63</td><td> 64</td><td>1576</td><td>192</td><td>-1</td><td>3.200000</td><td>-0.312500</td></tr>\n",
              "\t<tr><td>2013</td><td>12</td><td>27</td><td>102</td><td> 94</td><td>1608</td><td>194</td><td> 8</td><td>3.233333</td><td> 2.474227</td></tr>\n",
              "\t<tr><td>2013</td><td>12</td><td>27</td><td> 81</td><td> 67</td><td>1598</td><td>188</td><td>14</td><td>3.133333</td><td> 4.468085</td></tr>\n",
              "</tbody>\n",
              "</table>\n"
            ]
          },
          "metadata": {
            "tags": []
          }
        }
      ]
    },
    {
      "cell_type": "markdown",
      "metadata": {
        "id": "N-IPL4Fc3zhR"
      },
      "source": [
        "### summarise function\n"
      ]
    },
    {
      "cell_type": "code",
      "metadata": {
        "colab": {
          "base_uri": "https://localhost:8080/",
          "height": 182
        },
        "id": "XpRK4Q6d3M-r",
        "outputId": "cc4801e7-1768-4aff-c95b-316b3d6824de"
      },
      "source": [
        "birthday_flights %>% \n",
        " group_by(origin) %>% summarise(delay = mean(dep_delay, na.rm=TRUE)) %>% head()\n",
        "  "
      ],
      "execution_count": 60,
      "outputs": [
        {
          "output_type": "display_data",
          "data": {
            "text/plain": [
              "  origin delay    \n",
              "1 EWR    16.256560\n",
              "2 JFK     9.378549\n",
              "3 LGA     6.533113"
            ],
            "text/latex": "A tibble: 3 × 2\n\\begin{tabular}{ll}\n origin & delay\\\\\n <chr> & <dbl>\\\\\n\\hline\n\t EWR & 16.256560\\\\\n\t JFK &  9.378549\\\\\n\t LGA &  6.533113\\\\\n\\end{tabular}\n",
            "text/markdown": "\nA tibble: 3 × 2\n\n| origin &lt;chr&gt; | delay &lt;dbl&gt; |\n|---|---|\n| EWR | 16.256560 |\n| JFK |  9.378549 |\n| LGA |  6.533113 |\n\n",
            "text/html": [
              "<table class=\"dataframe\">\n",
              "<caption>A tibble: 3 × 2</caption>\n",
              "<thead>\n",
              "\t<tr><th scope=col>origin</th><th scope=col>delay</th></tr>\n",
              "\t<tr><th scope=col>&lt;chr&gt;</th><th scope=col>&lt;dbl&gt;</th></tr>\n",
              "</thead>\n",
              "<tbody>\n",
              "\t<tr><td>EWR</td><td>16.256560</td></tr>\n",
              "\t<tr><td>JFK</td><td> 9.378549</td></tr>\n",
              "\t<tr><td>LGA</td><td> 6.533113</td></tr>\n",
              "</tbody>\n",
              "</table>\n"
            ]
          },
          "metadata": {
            "tags": []
          }
        }
      ]
    },
    {
      "cell_type": "markdown",
      "metadata": {
        "id": "tK1tA_NaFHTF"
      },
      "source": [
        "## Data Visualization"
      ]
    },
    {
      "cell_type": "code",
      "metadata": {
        "id": "6R2TeU4TFeBZ"
      },
      "source": [
        ""
      ],
      "execution_count": null,
      "outputs": []
    }
  ]
}