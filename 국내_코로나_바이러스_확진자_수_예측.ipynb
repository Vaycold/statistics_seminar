{
  "nbformat": 4,
  "nbformat_minor": 0,
  "metadata": {
    "colab": {
      "name": "국내 코로나 바이러스 확진자 수 예측.ipynb",
      "provenance": []
    },
    "kernelspec": {
      "name": "python3",
      "display_name": "Python 3"
    },
    "language_info": {
      "name": "python"
    }
  },
  "cells": [
    {
      "cell_type": "markdown",
      "metadata": {
        "id": "ImsPdieIxJB4"
      },
      "source": [
        "# 국내 코로나 바이러스 확진자 수 예측\n",
        "___"
      ]
    },
    {
      "cell_type": "markdown",
      "metadata": {
        "id": "aPfUbnvAxV8-"
      },
      "source": [
        "## Data\n",
        "    - John Hopkins University의 Covid-19 Data 사용 예정\n",
        "    - 2개의 raw파일 사용\n",
        "       1. RAW_global_confirmed_cases.csv\n",
        "       2. RAW_global_global_deaths.csv\n",
        "    - 데이터는 20년 1월 22일부터 현재까지의 누적된 수를 나타냄.\n",
        "- 출처 : https://www.kaggle.com/antgoldbloom/covid19-data-from-john-hopkins-university"
      ]
    },
    {
      "cell_type": "markdown",
      "metadata": {
        "id": "WrXrTTw00LuG"
      },
      "source": [
        "## 라이브러리 "
      ]
    },
    {
      "cell_type": "code",
      "metadata": {
        "id": "5nb6SzISw9Jf"
      },
      "source": [
        ""
      ],
      "execution_count": null,
      "outputs": []
    }
  ]
}